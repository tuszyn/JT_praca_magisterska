{
 "cells": [
  {
   "cell_type": "code",
   "execution_count": 1,
   "metadata": {
    "collapsed": true,
    "pycharm": {
     "name": "#%%\n"
    }
   },
   "outputs": [],
   "source": [
    "from pathlib import Path\n",
    "\n",
    "import optuna\n",
    "import pandas as pd\n",
    "import numpy as np\n",
    "\n",
    "from sklearn.model_selection import cross_validate\n",
    "\n",
    "from sklearn.metrics import accuracy_score, precision_score, f1_score, recall_score\n",
    "import mlflow\n",
    "from optuna.integration import MLflowCallback\n",
    "\n",
    "from sklearn.tree import DecisionTreeClassifier\n",
    "from sklearn.ensemble import RandomForestClassifier\n",
    "from sklearn.linear_model import LogisticRegression\n",
    "from sklearn.svm import LinearSVC"
   ]
  },
  {
   "cell_type": "code",
   "execution_count": 2,
   "outputs": [],
   "source": [
    "# Set tracking URI\n",
    "MODEL_REGISTRY = Path(\"experiments\")\n",
    "#Path(MODEL_REGISTRY).mkdir(exist_ok=True)  # create experiments dir\n",
    "mlflow.set_tracking_uri(\"file:///\" + str(MODEL_REGISTRY.absolute()))"
   ],
   "metadata": {
    "collapsed": false,
    "pycharm": {
     "name": "#%%\n"
    }
   }
  },
  {
   "cell_type": "code",
   "execution_count": 3,
   "outputs": [],
   "source": [
    "df = pd.read_csv(\"../data/proccessed/globalterrordb_proccesed.csv\", index_col=0)"
   ],
   "metadata": {
    "collapsed": false,
    "pycharm": {
     "name": "#%%\n"
    }
   }
  },
  {
   "cell_type": "markdown",
   "source": [
    "Podział danych"
   ],
   "metadata": {
    "collapsed": false,
    "pycharm": {
     "name": "#%% md\n"
    }
   }
  },
  {
   "cell_type": "code",
   "execution_count": 3,
   "outputs": [],
   "source": [
    "train = pd.read_csv(\"../data/modeling/train.csv\")\n",
    "test = pd.read_csv(\"../data/modeling/test.csv\")"
   ],
   "metadata": {
    "collapsed": false,
    "pycharm": {
     "name": "#%%\n"
    }
   }
  },
  {
   "cell_type": "code",
   "execution_count": 4,
   "outputs": [],
   "source": [
    "X_train = train.drop(\"cas_class\", axis=1)\n",
    "y_train = train[\"cas_class\"]\n",
    "X_test = test.drop(\"cas_class\", axis=1)\n",
    "y_test = test[\"cas_class\"]"
   ],
   "metadata": {
    "collapsed": false,
    "pycharm": {
     "name": "#%%\n"
    }
   }
  },
  {
   "cell_type": "code",
   "execution_count": 4,
   "outputs": [],
   "source": [
    "# df.fillna(value=-9, inplace=True)"
   ],
   "metadata": {
    "collapsed": false,
    "pycharm": {
     "name": "#%%\n"
    }
   }
  },
  {
   "cell_type": "code",
   "execution_count": 5,
   "outputs": [],
   "source": [
    "# df.drop([\"countries_count\", \"group_count\"], axis=1, inplace=True)"
   ],
   "metadata": {
    "collapsed": false,
    "pycharm": {
     "name": "#%%\n"
    }
   }
  },
  {
   "cell_type": "code",
   "execution_count": 6,
   "outputs": [],
   "source": [
    "# y = df[\"cas_class\"]\n",
    "# X = df.drop(\"cas_class\", axis=1)"
   ],
   "metadata": {
    "collapsed": false,
    "pycharm": {
     "name": "#%%\n"
    }
   }
  },
  {
   "cell_type": "code",
   "execution_count": 7,
   "outputs": [],
   "source": [
    "# X_train, X_test, y_train, y_test = train_test_split(X, y, random_state=42, test_size=0.2, stratify=y)"
   ],
   "metadata": {
    "collapsed": false,
    "pycharm": {
     "name": "#%%\n"
    }
   }
  },
  {
   "cell_type": "code",
   "execution_count": 45,
   "outputs": [],
   "source": [
    "# X_train, X_val, y_train, y_val = train_test_split(X, y, random_state=42, test_size=0.2, stratify=y)\n",
    "# X_train, X_test, y_train, y_test = train_test_split(X_train, y_train, random_state=42, test_size=0.25, stratify=y_train)"
   ],
   "metadata": {
    "collapsed": false,
    "pycharm": {
     "name": "#%%\n"
    }
   }
  },
  {
   "cell_type": "markdown",
   "source": [
    "Transformacje danych"
   ],
   "metadata": {
    "collapsed": false,
    "pycharm": {
     "name": "#%% md\n"
    }
   }
  },
  {
   "cell_type": "code",
   "execution_count": 8,
   "outputs": [],
   "source": [
    "# impute_value = -9"
   ],
   "metadata": {
    "collapsed": false,
    "pycharm": {
     "name": "#%%\n"
    }
   }
  },
  {
   "cell_type": "code",
   "execution_count": 9,
   "outputs": [],
   "source": [
    "# pipeline = make_pipeline(SimpleImputer(missing_values=np.nan, strategy=\"constant\", fill_value=impute_value),\n",
    "#                          StandardScaler())"
   ],
   "metadata": {
    "collapsed": false,
    "pycharm": {
     "name": "#%%\n"
    }
   }
  },
  {
   "cell_type": "code",
   "execution_count": 10,
   "outputs": [
    {
     "data": {
      "text/plain": "array([[-0.20454128,  0.96113541,  0.55877667, ...,  0.92544313,\n        -0.14801657,  0.84629142],\n       [-0.20454128, -0.45858041,  0.37822996, ..., -1.01618403,\n        -0.14801657, -1.08281702],\n       [-0.20454128, -1.52336728, -3.19162718, ..., -1.01618403,\n        -0.14801657, -1.08281702],\n       ...,\n       [-0.20454128, -2.2332252 ,  0.96673904, ...,  1.14117949,\n         1.97519523,  1.0606368 ],\n       [-0.20454128, -1.87829624, -0.53769926, ...,  0.92544313,\n        -0.14801657,  0.84629142],\n       [-0.20454128,  0.60620645,  1.48783997, ..., -1.01618403,\n        -0.14801657, -1.08281702]])"
     },
     "execution_count": 10,
     "metadata": {},
     "output_type": "execute_result"
    }
   ],
   "source": [
    "# pipeline.fit_transform(X_train)"
   ],
   "metadata": {
    "collapsed": false,
    "pycharm": {
     "name": "#%%\n"
    }
   }
  },
  {
   "cell_type": "code",
   "execution_count": 11,
   "outputs": [
    {
     "data": {
      "text/plain": "array([[-0.20454128,  0.2512775 ,  1.11346144, ...,  0.92544313,\n        -0.14801657,  0.84629142],\n       [-0.20454128, -1.52336728, -2.05252351, ..., -1.01618403,\n        -0.14801657, -1.08281702],\n       [-0.20454128, -0.45858041,  0.01885846, ..., -1.01618403,\n        -0.14801657, -1.08281702],\n       ...,\n       [-0.20454128,  1.67099332, -3.10661319, ..., -1.01618403,\n        -0.14801657, -1.08281702],\n       [-0.20454128, -1.52336728, -1.18432961, ...,  0.92544313,\n        -0.14801657,  0.84629142],\n       [-0.20454128, -0.45858041,  0.45137931, ..., -1.01618403,\n        -0.14801657, -1.08281702]])"
     },
     "execution_count": 11,
     "metadata": {},
     "output_type": "execute_result"
    }
   ],
   "source": [
    "# pipeline.transform(X_val)\n",
    "# pipeline.transform(X_test)"
   ],
   "metadata": {
    "collapsed": false,
    "pycharm": {
     "name": "#%%\n"
    }
   }
  },
  {
   "cell_type": "markdown",
   "source": [
    "Wyszukiwanie hiperparametrów w regresji logistycznej"
   ],
   "metadata": {
    "collapsed": false,
    "pycharm": {
     "name": "#%% md\n"
    }
   }
  },
  {
   "cell_type": "code",
   "execution_count": 5,
   "outputs": [
    {
     "name": "stderr",
     "output_type": "stream",
     "text": [
      "C:\\Users\\Tuszyn\\AppData\\Local\\Temp\\ipykernel_13884\\3644345758.py:1: ExperimentalWarning: MLflowCallback is experimental (supported from v1.4.0). The interface can change in the future.\n",
      "  mlflow_callback = MLflowCallback(\n"
     ]
    }
   ],
   "source": [
    "mlflow_callback = MLflowCallback(\n",
    "    tracking_uri=mlflow.get_tracking_uri(), metric_name=[\"accuracy\", \"precision\", \"recall\", \"f1\"])"
   ],
   "metadata": {
    "collapsed": false,
    "pycharm": {
     "name": "#%%\n"
    }
   }
  },
  {
   "cell_type": "markdown",
   "source": [
    "Wyszukiwanie hiperparametrów dla maszyn wektorów nośnych"
   ],
   "metadata": {
    "collapsed": false,
    "pycharm": {
     "name": "#%% md\n"
    }
   }
  },
  {
   "cell_type": "code",
   "execution_count": 14,
   "outputs": [],
   "source": [
    "def objective(trial):\n",
    "    params = {\n",
    "        \"C\": trial.suggest_float(\"C\", 0.0001, 0.1),\n",
    "        \"class_weight\": trial.suggest_categorical(\"class_weight\", [\"balanced\"]),\n",
    "        \"dual\": trial.suggest_categorical(\"dual\", [False]),\n",
    "        \"penalty\": trial.suggest_categorical(\"penalty\", [\"l1\"])\n",
    "    }\n",
    "\n",
    "    model = LinearSVC(**params)\n",
    "\n",
    "    scoring = [\"accuracy\", \"precision\", \"recall\", \"f1\"]\n",
    "\n",
    "    preds = cross_validate(model, X_train, y_train, cv=5, n_jobs=-1, scoring=scoring)\n",
    "\n",
    "    accuracy = np.mean(preds[\"test_accuracy\"])\n",
    "    precision = np.mean(preds[\"test_precision\"])\n",
    "    recall = np.mean(preds[\"test_recall\"])\n",
    "    f1 = np.mean(preds[\"test_f1\"])\n",
    "\n",
    "    return accuracy, precision, recall, f1"
   ],
   "metadata": {
    "collapsed": false,
    "pycharm": {
     "name": "#%%\n"
    }
   }
  },
  {
   "cell_type": "code",
   "execution_count": 15,
   "outputs": [
    {
     "name": "stderr",
     "output_type": "stream",
     "text": [
      "\u001B[32m[I 2022-05-31 11:42:38,671]\u001B[0m Trial 92 finished with values: [0.7640555906506632, 0.8230386717771919, 0.7615450095948864, 0.7910969697893417] and parameters: {'C': 0.40202876055721787, 'class_weight': 'balanced', 'dual': False, 'penalty': 'l1'}. \u001B[0m\n",
      "\u001B[32m[I 2022-05-31 11:42:40,708]\u001B[0m Trial 93 finished with values: [0.7640646151069397, 0.8230525019674216, 0.7615450107780452, 0.7911033429851506] and parameters: {'C': 0.30421067375306216, 'class_weight': 'balanced', 'dual': False, 'penalty': 'l2'}. \u001B[0m\n",
      "\u001B[32m[I 2022-05-31 11:42:42,621]\u001B[0m Trial 94 finished with values: [0.7640555906506632, 0.8230495433002503, 0.7615296273460015, 0.7910936824189908] and parameters: {'C': 0.6124182299946374, 'class_weight': 'balanced', 'dual': False, 'penalty': 'l2'}. \u001B[0m\n",
      "\u001B[32m[I 2022-05-31 11:42:49,405]\u001B[0m Trial 95 finished with values: [0.7640916884757694, 0.8230719357298424, 0.7615757776421325, 0.7911289568482511] and parameters: {'C': 0.6675357020811684, 'class_weight': 'balanced', 'dual': False, 'penalty': 'l1'}. \u001B[0m\n",
      "\u001B[32m[I 2022-05-31 11:42:55,851]\u001B[0m Trial 96 finished with values: [0.7640826640194929, 0.8230797899247726, 0.7615450107780453, 0.7911159726267422] and parameters: {'C': 0.08991503290535112, 'class_weight': 'balanced', 'dual': False, 'penalty': 'l1'}. \u001B[0m\n",
      "\u001B[32m[I 2022-05-31 11:43:03,126]\u001B[0m Trial 97 finished with values: [0.7640285172818337, 0.8230408038402028, 0.7614834770498704, 0.7910647170315229] and parameters: {'C': 0.20658609759903937, 'class_weight': 'balanced', 'dual': False, 'penalty': 'l1'}. \u001B[0m\n",
      "\u001B[32m[I 2022-05-31 11:43:08,194]\u001B[0m Trial 98 finished with values: [0.7640826640194929, 0.8231010877705038, 0.7615142439139577, 0.7911092839886106] and parameters: {'C': 0.6081542576659213, 'class_weight': 'balanced', 'dual': False, 'penalty': 'l1'}. \u001B[0m\n",
      "\u001B[32m[I 2022-05-31 11:43:10,094]\u001B[0m Trial 99 finished with values: [0.7640555906506632, 0.8230495433002503, 0.7615296273460015, 0.7910936824189908] and parameters: {'C': 0.6380477154577562, 'class_weight': 'balanced', 'dual': False, 'penalty': 'l2'}. \u001B[0m\n",
      "\u001B[32m[I 2022-05-31 11:43:10,206]\u001B[0m A new study created in memory with name: support_vector_classifier\u001B[0m\n",
      "\u001B[32m[I 2022-05-31 11:43:15,830]\u001B[0m Trial 0 finished with values: [0.7640104683692808, 0.8230241335758635, 0.7614680936178267, 0.7910487032569755] and parameters: {'C': 0.05633914266254885, 'class_weight': 'balanced', 'dual': False, 'penalty': 'l1'}. \u001B[0m\n",
      "\u001B[32m[I 2022-05-31 11:43:20,868]\u001B[0m Trial 1 finished with values: [0.7640375417381102, 0.8230436629992821, 0.7614988604819141, 0.7910742970942908] and parameters: {'C': 0.0527931004663175, 'class_weight': 'balanced', 'dual': False, 'penalty': 'l1'}. \u001B[0m\n",
      "\u001B[32m[I 2022-05-31 11:43:27,768]\u001B[0m Trial 2 finished with values: [0.7640646151069397, 0.8230524067412643, 0.7615450107780452, 0.7911033425170808] and parameters: {'C': 0.08912052220208991, 'class_weight': 'balanced', 'dual': False, 'penalty': 'l1'}. \u001B[0m\n",
      "\u001B[32m[I 2022-05-31 11:43:33,590]\u001B[0m Trial 3 finished with values: [0.7640646151069398, 0.8230630779510468, 0.7615296285291604, 0.7910999493059745] and parameters: {'C': 0.06173938613268743, 'class_weight': 'balanced', 'dual': False, 'penalty': 'l1'}. \u001B[0m\n",
      "\u001B[32m[I 2022-05-31 11:43:40,183]\u001B[0m Trial 4 finished with values: [0.7641007129320458, 0.8231069999756647, 0.7615450095948862, 0.791128415918592] and parameters: {'C': 0.024137902111833816, 'class_weight': 'balanced', 'dual': False, 'penalty': 'l1'}. \u001B[0m\n",
      "\u001B[32m[I 2022-05-31 11:43:46,550]\u001B[0m Trial 5 finished with values: [0.7640194928255573, 0.8230269591544536, 0.7614834770498704, 0.7910582576152934] and parameters: {'C': 0.09057335311049379, 'class_weight': 'balanced', 'dual': False, 'penalty': 'l1'}. \u001B[0m\n",
      "\u001B[32m[I 2022-05-31 11:43:52,094]\u001B[0m Trial 6 finished with values: [0.7640194928255573, 0.8230375290075752, 0.7614680924346678, 0.7910548858196685] and parameters: {'C': 0.04203185039426886, 'class_weight': 'balanced', 'dual': False, 'penalty': 'l1'}. \u001B[0m\n",
      "\u001B[32m[I 2022-05-31 11:43:58,007]\u001B[0m Trial 7 finished with values: [0.7641187618445989, 0.8231127730756734, 0.7615757764589736, 0.791147814576999] and parameters: {'C': 0.03169581078323603, 'class_weight': 'balanced', 'dual': False, 'penalty': 'l1'}. \u001B[0m\n",
      "\u001B[32m[I 2022-05-31 11:44:04,028]\u001B[0m Trial 8 finished with values: [0.7640285172818337, 0.8230407934415173, 0.7614834770498704, 0.7910646436320035] and parameters: {'C': 0.07177337275363631, 'class_weight': 'balanced', 'dual': False, 'penalty': 'l1'}. \u001B[0m\n",
      "\u001B[32m[I 2022-05-31 11:44:10,518]\u001B[0m Trial 9 finished with values: [0.7640375417381102, 0.8230327043534349, 0.7615142427307988, 0.7910775097223757] and parameters: {'C': 0.04374642473674364, 'class_weight': 'balanced', 'dual': False, 'penalty': 'l1'}. \u001B[0m\n",
      "\u001B[32m[I 2022-05-31 11:44:17,050]\u001B[0m Trial 10 finished with values: [0.7640736395632162, 0.8230873775596965, 0.7615142427307988, 0.7911028511054844] and parameters: {'C': 0.03506671956587743, 'class_weight': 'balanced', 'dual': False, 'penalty': 'l1'}. \u001B[0m\n",
      "\u001B[32m[I 2022-05-31 11:44:24,803]\u001B[0m Trial 11 finished with values: [0.7640646151069397, 0.8230416809691672, 0.7615603942100889, 0.7911066735017023] and parameters: {'C': 0.09848203506805069, 'class_weight': 'balanced', 'dual': False, 'penalty': 'l1'}. \u001B[0m\n",
      "\u001B[32m[I 2022-05-31 11:44:32,118]\u001B[0m Trial 12 finished with values: [0.7641458352134284, 0.8231750062034952, 0.7615450119612042, 0.7911598640868392] and parameters: {'C': 0.009401452569283762, 'class_weight': 'balanced', 'dual': False, 'penalty': 'l1'}. \u001B[0m\n",
      "\u001B[32m[I 2022-05-31 11:44:38,510]\u001B[0m Trial 13 finished with values: [0.7640375417381102, 0.8230434649544476, 0.7614988604819142, 0.7910742708934719] and parameters: {'C': 0.08329507038973914, 'class_weight': 'balanced', 'dual': False, 'penalty': 'l1'}. \u001B[0m\n",
      "\u001B[32m[I 2022-05-31 11:44:45,117]\u001B[0m Trial 14 finished with values: [0.7640555906506633, 0.8230599243643562, 0.7615142427307989, 0.7910901844677684] and parameters: {'C': 0.041624635926733614, 'class_weight': 'balanced', 'dual': False, 'penalty': 'l1'}. \u001B[0m\n",
      "\u001B[32m[I 2022-05-31 11:44:50,722]\u001B[0m Trial 15 finished with values: [0.7640646151069397, 0.8230525338247421, 0.7615450107780452, 0.7911032949224425] and parameters: {'C': 0.0512806326791617, 'class_weight': 'balanced', 'dual': False, 'penalty': 'l1'}. \u001B[0m\n",
      "\u001B[32m[I 2022-05-31 11:44:57,520]\u001B[0m Trial 16 finished with values: [0.764172908582258, 0.8231727653890255, 0.7616065397735844, 0.7911919544210138] and parameters: {'C': 0.010508160980748972, 'class_weight': 'balanced', 'dual': False, 'penalty': 'l1'}. \u001B[0m\n",
      "\u001B[32m[I 2022-05-31 11:45:03,726]\u001B[0m Trial 17 finished with values: [0.7640465661943868, 0.8230464226848154, 0.7615142439139577, 0.7910839544940524] and parameters: {'C': 0.06202945909522295, 'class_weight': 'balanced', 'dual': False, 'penalty': 'l1'}. \u001B[0m\n",
      "\u001B[32m[I 2022-05-31 11:45:09,355]\u001B[0m Trial 18 finished with values: [0.7640736395632162, 0.8230444702548052, 0.7615757776421326, 0.7911162708559732] and parameters: {'C': 0.025102340607182465, 'class_weight': 'balanced', 'dual': False, 'penalty': 'l1'}. \u001B[0m\n",
      "\u001B[32m[I 2022-05-31 11:45:13,299]\u001B[0m Trial 19 finished with values: [0.764209006407364, 0.8232710541863948, 0.7615450036790918, 0.7912038929102446] and parameters: {'C': 0.002179356674822228, 'class_weight': 'balanced', 'dual': False, 'penalty': 'l1'}. \u001B[0m\n",
      "\u001B[32m[I 2022-05-31 11:45:20,004]\u001B[0m Trial 20 finished with values: [0.7641097373883224, 0.8230556439592531, 0.7616373101871484, 0.7911545834583402] and parameters: {'C': 0.017640004818823267, 'class_weight': 'balanced', 'dual': False, 'penalty': 'l1'}. \u001B[0m\n",
      "\u001B[32m[I 2022-05-31 11:45:26,150]\u001B[0m Trial 21 finished with values: [0.7640375417381102, 0.8230436222683691, 0.7614988604819141, 0.7910742489022182] and parameters: {'C': 0.04794565829033089, 'class_weight': 'balanced', 'dual': False, 'penalty': 'l1'}. \u001B[0m\n",
      "\u001B[32m[I 2022-05-31 11:45:29,877]\u001B[0m Trial 22 finished with values: [0.764227055319917, 0.823352350777402, 0.7614680936178267, 0.7912001594414322] and parameters: {'C': 0.0018978788916987786, 'class_weight': 'balanced', 'dual': False, 'penalty': 'l1'}. \u001B[0m\n",
      "\u001B[32m[I 2022-05-31 11:45:35,896]\u001B[0m Trial 23 finished with values: [0.7640375417381102, 0.8230435979545409, 0.7614988604819141, 0.7910742670683354] and parameters: {'C': 0.054156854662663144, 'class_weight': 'balanced', 'dual': False, 'penalty': 'l1'}. \u001B[0m\n",
      "\u001B[32m[I 2022-05-31 11:45:42,941]\u001B[0m Trial 24 finished with values: [0.7640465661943867, 0.8230464088408326, 0.7615142439139578, 0.7910839284601365] and parameters: {'C': 0.0673387974435333, 'class_weight': 'balanced', 'dual': False, 'penalty': 'l1'}. \u001B[0m\n",
      "\u001B[32m[I 2022-05-31 11:45:49,742]\u001B[0m Trial 25 finished with values: [0.7643714466203411, 0.8234416495496963, 0.761652681787603, 0.791340879420755] and parameters: {'C': 0.0036775852394361204, 'class_weight': 'balanced', 'dual': False, 'penalty': 'l1'}. \u001B[0m\n",
      "\u001B[32m[I 2022-05-31 11:45:55,774]\u001B[0m Trial 26 finished with values: [0.7640555906506633, 0.8230493213075905, 0.7615296261628426, 0.7910936020293597] and parameters: {'C': 0.06753476701162242, 'class_weight': 'balanced', 'dual': False, 'penalty': 'l1'}. \u001B[0m\n",
      "\u001B[32m[I 2022-05-31 11:46:01,710]\u001B[0m Trial 27 finished with values: [0.7640375417381102, 0.8230541733735789, 0.7614834770498704, 0.7910708968587168] and parameters: {'C': 0.06953615365636341, 'class_weight': 'balanced', 'dual': False, 'penalty': 'l1'}. \u001B[0m\n",
      "\u001B[32m[I 2022-05-31 11:46:08,153]\u001B[0m Trial 28 finished with values: [0.7641187618445989, 0.8231014223880866, 0.7615911587078585, 0.7911506736417095] and parameters: {'C': 0.013690916191703763, 'class_weight': 'balanced', 'dual': False, 'penalty': 'l1'}. \u001B[0m\n",
      "\u001B[32m[I 2022-05-31 11:46:12,890]\u001B[0m Trial 29 finished with values: [0.7640194928255573, 0.8230376821377524, 0.7614680948009857, 0.7910549791955006] and parameters: {'C': 0.041327929641226537, 'class_weight': 'balanced', 'dual': False, 'penalty': 'l1'}. \u001B[0m\n",
      "\u001B[32m[I 2022-05-31 11:46:20,236]\u001B[0m Trial 30 finished with values: [0.7641187618445989, 0.8231021964674665, 0.7615911598910172, 0.7911511377628468] and parameters: {'C': 0.02508028393258097, 'class_weight': 'balanced', 'dual': False, 'penalty': 'l1'}. \u001B[0m\n",
      "\u001B[32m[I 2022-05-31 11:46:26,515]\u001B[0m Trial 31 finished with values: [0.7641277863008754, 0.8231262755920883, 0.7615757752758148, 0.791153921004604] and parameters: {'C': 0.020757727686070985, 'class_weight': 'balanced', 'dual': False, 'penalty': 'l1'}. \u001B[0m\n",
      "\u001B[32m[I 2022-05-31 11:46:32,242]\u001B[0m Trial 32 finished with values: [0.7640194928255573, 0.8230267854765705, 0.7614834782330293, 0.7910582736740859] and parameters: {'C': 0.04291203765552512, 'class_weight': 'balanced', 'dual': False, 'penalty': 'l1'}. \u001B[0m\n",
      "\u001B[32m[I 2022-05-31 11:46:38,310]\u001B[0m Trial 33 finished with values: [0.7640194928255573, 0.8230378983545217, 0.7614680936178267, 0.7910549778666437] and parameters: {'C': 0.07255143249613873, 'class_weight': 'balanced', 'dual': False, 'penalty': 'l1'}. \u001B[0m\n",
      "\u001B[32m[I 2022-05-31 11:46:44,526]\u001B[0m Trial 34 finished with values: [0.7640555906506632, 0.8230710450483624, 0.7614988604819141, 0.791086926608169] and parameters: {'C': 0.05843793164614789, 'class_weight': 'balanced', 'dual': False, 'penalty': 'l1'}. \u001B[0m\n",
      "\u001B[32m[I 2022-05-31 11:46:51,305]\u001B[0m Trial 35 finished with values: [0.7642812020575761, 0.8232732630972738, 0.7616988439153232, 0.7912882152314145] and parameters: {'C': 0.006846613850879597, 'class_weight': 'balanced', 'dual': False, 'penalty': 'l1'}. \u001B[0m\n",
      "\u001B[32m[I 2022-05-31 11:46:57,623]\u001B[0m Trial 36 finished with values: [0.7642270553199169, 0.8232225078232451, 0.7616526900697155, 0.7912399410399074] and parameters: {'C': 0.01086514326975494, 'class_weight': 'balanced', 'dual': False, 'penalty': 'l1'}. \u001B[0m\n",
      "\u001B[32m[I 2022-05-31 11:47:03,882]\u001B[0m Trial 37 finished with values: [0.7641638841259815, 0.8232238544505662, 0.7615142450971167, 0.7911658745031396] and parameters: {'C': 0.009564716663872555, 'class_weight': 'balanced', 'dual': False, 'penalty': 'l1'}. \u001B[0m\n",
      "\u001B[32m[I 2022-05-31 11:47:09,459]\u001B[0m Trial 38 finished with values: [0.7640194928255573, 0.8230270852537229, 0.7614834770498704, 0.7910583057893318] and parameters: {'C': 0.0996129881240078, 'class_weight': 'balanced', 'dual': False, 'penalty': 'l1'}. \u001B[0m\n",
      "\u001B[32m[I 2022-05-31 11:47:15,132]\u001B[0m Trial 39 finished with values: [0.7640465661943867, 0.8230571555277264, 0.7614988604819142, 0.7910806027883354] and parameters: {'C': 0.05571975238470493, 'class_weight': 'balanced', 'dual': False, 'penalty': 'l1'}. \u001B[0m\n",
      "\u001B[32m[I 2022-05-31 11:47:21,661]\u001B[0m Trial 40 finished with values: [0.7641097373883224, 0.8230776346029026, 0.761606543323061, 0.7911482099569822] and parameters: {'C': 0.025034472830364984, 'class_weight': 'balanced', 'dual': False, 'penalty': 'l1'}. \u001B[0m\n",
      "\u001B[32m[I 2022-05-31 11:47:28,126]\u001B[0m Trial 41 finished with values: [0.7640646151069399, 0.8230631827670877, 0.7615296273460015, 0.7911000007372676] and parameters: {'C': 0.08955878832790654, 'class_weight': 'balanced', 'dual': False, 'penalty': 'l1'}. \u001B[0m\n",
      "\u001B[32m[I 2022-05-31 11:47:35,013]\u001B[0m Trial 42 finished with values: [0.7640465661943867, 0.8230679723505065, 0.7614834770498704, 0.7910772441692631] and parameters: {'C': 0.08793651802299451, 'class_weight': 'balanced', 'dual': False, 'penalty': 'l1'}. \u001B[0m\n",
      "\u001B[32m[I 2022-05-31 11:47:41,121]\u001B[0m Trial 43 finished with values: [0.7640555906506633, 0.8230493756102144, 0.7615296273460015, 0.7910936692574023] and parameters: {'C': 0.08030155216874314, 'class_weight': 'balanced', 'dual': False, 'penalty': 'l1'}. \u001B[0m\n",
      "\u001B[32m[I 2022-05-31 11:47:48,537]\u001B[0m Trial 44 finished with values: [0.7641187618445988, 0.8230693122726173, 0.7616373101871484, 0.7911609284387734] and parameters: {'C': 0.02006971505077363, 'class_weight': 'balanced', 'dual': False, 'penalty': 'l1'}. \u001B[0m\n",
      "\u001B[32m[I 2022-05-31 11:47:54,025]\u001B[0m Trial 45 finished with values: [0.7640646151069397, 0.8230736860059913, 0.7615142427307988, 0.7910965225904646] and parameters: {'C': 0.03712280833527694, 'class_weight': 'balanced', 'dual': False, 'penalty': 'l1'}. \u001B[0m\n",
      "\u001B[32m[I 2022-05-31 11:48:00,982]\u001B[0m Trial 46 finished with values: [0.7640194928255573, 0.8230269770798149, 0.7614834770498704, 0.7910582659057531] and parameters: {'C': 0.07788178840189935, 'class_weight': 'balanced', 'dual': False, 'penalty': 'l1'}. \u001B[0m\n",
      "\u001B[32m[I 2022-05-31 11:48:07,733]\u001B[0m Trial 47 finished with values: [0.7640555906506632, 0.8230386754934568, 0.7615450107780453, 0.791096991931528] and parameters: {'C': 0.07282403335031472, 'class_weight': 'balanced', 'dual': False, 'penalty': 'l1'}. \u001B[0m\n",
      "\u001B[32m[I 2022-05-31 11:48:15,068]\u001B[0m Trial 48 finished with values: [0.7640285172818337, 0.8230511800250868, 0.7614680924346678, 0.7910611737972039] and parameters: {'C': 0.040078639043299905, 'class_weight': 'balanced', 'dual': False, 'penalty': 'l1'}. \u001B[0m\n",
      "\u001B[32m[I 2022-05-31 11:48:20,836]\u001B[0m Trial 49 finished with values: [0.7640646151069397, 0.8230736860059913, 0.7615142427307988, 0.7910965225904646] and parameters: {'C': 0.03583406502294442, 'class_weight': 'balanced', 'dual': False, 'penalty': 'l1'}. \u001B[0m\n",
      "\u001B[32m[I 2022-05-31 11:48:27,709]\u001B[0m Trial 50 finished with values: [0.7640465661943867, 0.8230680773637294, 0.7614834770498704, 0.7910772836810642] and parameters: {'C': 0.06202945909522295, 'class_weight': 'balanced', 'dual': False, 'penalty': 'l1'}. \u001B[0m\n",
      "\u001B[32m[I 2022-05-31 11:48:34,800]\u001B[0m Trial 51 finished with values: [0.7640285172818337, 0.8230407700892866, 0.7614834770498704, 0.7910646344657153] and parameters: {'C': 0.07255143249613873, 'class_weight': 'balanced', 'dual': False, 'penalty': 'l1'}. \u001B[0m\n",
      "\u001B[32m[I 2022-05-31 11:48:41,363]\u001B[0m Trial 52 finished with values: [0.7641097373883224, 0.8231098780450937, 0.7615603930269299, 0.7911381504920115] and parameters: {'C': 0.03169581078323603, 'class_weight': 'balanced', 'dual': False, 'penalty': 'l1'}. \u001B[0m\n",
      "\u001B[32m[I 2022-05-31 11:48:47,100]\u001B[0m Trial 53 finished with values: [0.7640375417381102, 0.8230329962909423, 0.7615142439139577, 0.7910776654255655] and parameters: {'C': 0.08793651802299451, 'class_weight': 'balanced', 'dual': False, 'penalty': 'l1'}. \u001B[0m\n",
      "\u001B[32m[I 2022-05-31 11:48:54,165]\u001B[0m Trial 54 finished with values: [0.7643624221640646, 0.8234495075397827, 0.7616219149235157, 0.7913278565146029] and parameters: {'C': 0.0036775852394361204, 'class_weight': 'balanced', 'dual': False, 'penalty': 'l1'}. \u001B[0m\n",
      "\u001B[32m[I 2022-05-31 11:49:00,748]\u001B[0m Trial 55 finished with values: [0.7640916884757692, 0.8231040016026755, 0.7615296261628426, 0.7911188477237621] and parameters: {'C': 0.03169581078323603, 'class_weight': 'balanced', 'dual': False, 'penalty': 'l1'}. \u001B[0m\n",
      "\u001B[32m[I 2022-05-31 11:49:06,753]\u001B[0m Trial 56 finished with values: [0.7640916884757692, 0.8230496163556538, 0.761606543323061, 0.7911352044025437] and parameters: {'C': 0.017640004818823267, 'class_weight': 'balanced', 'dual': False, 'penalty': 'l1'}. \u001B[0m\n",
      "\u001B[32m[I 2022-05-31 11:49:13,881]\u001B[0m Trial 57 finished with values: [0.7640375417381102, 0.823054418183505, 0.7614834770498704, 0.7910709466941849] and parameters: {'C': 0.06953615365636341, 'class_weight': 'balanced', 'dual': False, 'penalty': 'l1'}. \u001B[0m\n",
      "\u001B[32m[I 2022-05-31 11:49:20,378]\u001B[0m Trial 58 finished with values: [0.7640375417381102, 0.8230326345910595, 0.7615142439139578, 0.7910775663774836] and parameters: {'C': 0.07369570342649412, 'class_weight': 'balanced', 'dual': False, 'penalty': 'l1'}. \u001B[0m\n",
      "\u001B[32m[I 2022-05-31 11:49:27,057]\u001B[0m Trial 59 finished with values: [0.7640375417381102, 0.8230650132870398, 0.7614680936178267, 0.7910675845082581] and parameters: {'C': 0.09054390680609814, 'class_weight': 'balanced', 'dual': False, 'penalty': 'l1'}. \u001B[0m\n",
      "\u001B[32m[I 2022-05-31 11:49:34,616]\u001B[0m Trial 60 finished with values: [0.7642902265138526, 0.823276230157205, 0.7617142285305258, 0.7912979049142846] and parameters: {'C': 0.006846613850879597, 'class_weight': 'balanced', 'dual': False, 'penalty': 'l1'}. \u001B[0m\n",
      "\u001B[32m[I 2022-05-31 11:49:41,157]\u001B[0m Trial 61 finished with values: [0.7640285172818337, 0.8230514802060848, 0.7614680936178267, 0.7910612956954172] and parameters: {'C': 0.08912052220208991, 'class_weight': 'balanced', 'dual': False, 'penalty': 'l1'}. \u001B[0m\n",
      "\u001B[32m[I 2022-05-31 11:49:47,565]\u001B[0m Trial 62 finished with values: [0.7640555906506633, 0.8230491922699865, 0.7615296261628426, 0.7910935147087648] and parameters: {'C': 0.0402653048451272, 'class_weight': 'balanced', 'dual': False, 'penalty': 'l1'}. \u001B[0m\n",
      "\u001B[32m[I 2022-05-31 11:49:53,715]\u001B[0m Trial 63 finished with values: [0.7640104683692808, 0.8230241418794394, 0.7614680936178267, 0.7910486117818888] and parameters: {'C': 0.08329507038973914, 'class_weight': 'balanced', 'dual': False, 'penalty': 'l1'}. \u001B[0m\n",
      "\u001B[32m[I 2022-05-31 11:50:00,262]\u001B[0m Trial 64 finished with values: [0.7640555906506632, 0.8230493244742689, 0.7615296273460015, 0.7910936004337393] and parameters: {'C': 0.05571975238470493, 'class_weight': 'balanced', 'dual': False, 'penalty': 'l1'}. \u001B[0m\n",
      "\u001B[32m[I 2022-05-31 11:50:06,149]\u001B[0m Trial 65 finished with values: [0.7640465661943867, 0.8230356552940041, 0.7615296273460015, 0.7910872795430325] and parameters: {'C': 0.07177337275363631, 'class_weight': 'balanced', 'dual': False, 'penalty': 'l1'}. \u001B[0m\n",
      "\u001B[32m[I 2022-05-31 11:50:12,137]\u001B[0m Trial 66 finished with values: [0.7640194928255573, 0.8230377493863419, 0.7614680936178267, 0.7910549213001665] and parameters: {'C': 0.06965010646677204, 'class_weight': 'balanced', 'dual': False, 'penalty': 'l1'}. \u001B[0m\n",
      "\u001B[32m[I 2022-05-31 11:50:18,807]\u001B[0m Trial 67 finished with values: [0.7640646151069397, 0.82306314171123, 0.7615296273460015, 0.7910998893189519] and parameters: {'C': 0.05843793164614789, 'class_weight': 'balanced', 'dual': False, 'penalty': 'l1'}. \u001B[0m\n",
      "\u001B[32m[I 2022-05-31 11:50:25,173]\u001B[0m Trial 68 finished with values: [0.7640375417381102, 0.823032760746614, 0.7615142439139578, 0.791077616231667] and parameters: {'C': 0.06953615365636341, 'class_weight': 'balanced', 'dual': False, 'penalty': 'l1'}. \u001B[0m\n",
      "\u001B[32m[I 2022-05-31 11:50:31,880]\u001B[0m Trial 69 finished with values: [0.7641007129320458, 0.8231068322126285, 0.7615450095948864, 0.7911285171353187] and parameters: {'C': 0.03169581078323603, 'class_weight': 'balanced', 'dual': False, 'penalty': 'l1'}. \u001B[0m\n",
      "\u001B[32m[I 2022-05-31 11:50:38,349]\u001B[0m Trial 70 finished with values: [0.7640104683692808, 0.8230133124391091, 0.7614834770498704, 0.7910519460245515] and parameters: {'C': 0.08293710832205799, 'class_weight': 'balanced', 'dual': False, 'penalty': 'l1'}. \u001B[0m\n",
      "\u001B[32m[I 2022-05-31 11:50:45,510]\u001B[0m Trial 71 finished with values: [0.7640736395632164, 0.8230873565655881, 0.7615142427307988, 0.7911028441190009] and parameters: {'C': 0.035461774316026644, 'class_weight': 'balanced', 'dual': False, 'penalty': 'l1'}. \u001B[0m\n",
      "\u001B[32m[I 2022-05-31 11:50:52,092]\u001B[0m Trial 72 finished with values: [0.7641277863008753, 0.8231156114535929, 0.7615911598910172, 0.7911572762672874] and parameters: {'C': 0.02006971505077363, 'class_weight': 'balanced', 'dual': False, 'penalty': 'l1'}. \u001B[0m\n",
      "\u001B[32m[I 2022-05-31 11:50:58,344]\u001B[0m Trial 73 finished with values: [0.7639924194567278, 0.8229966305040939, 0.7614680948009858, 0.791036053590571] and parameters: {'C': 0.06433188323278885, 'class_weight': 'balanced', 'dual': False, 'penalty': 'l1'}. \u001B[0m\n",
      "\u001B[32m[I 2022-05-31 11:51:04,533]\u001B[0m Trial 74 finished with values: [0.7641007129320458, 0.8230849523739261, 0.7615757764589737, 0.7911348777884365] and parameters: {'C': 0.01995905388842679, 'class_weight': 'balanced', 'dual': False, 'penalty': 'l1'}. \u001B[0m\n",
      "\u001B[32m[I 2022-05-31 11:51:10,679]\u001B[0m Trial 75 finished with values: [0.7641097373883224, 0.8230776346029026, 0.761606543323061, 0.7911482099569822] and parameters: {'C': 0.025102340607182465, 'class_weight': 'balanced', 'dual': False, 'penalty': 'l1'}. \u001B[0m\n",
      "\u001B[32m[I 2022-05-31 11:51:18,446]\u001B[0m Trial 76 finished with values: [0.7640646151069398, 0.8230523346736811, 0.7615450107780453, 0.7911033289184074] and parameters: {'C': 0.07282403335031472, 'class_weight': 'balanced', 'dual': False, 'penalty': 'l1'}. \u001B[0m\n",
      "\u001B[32m[I 2022-05-31 11:51:24,800]\u001B[0m Trial 77 finished with values: [0.7640465661943867, 0.8230680873637699, 0.7614834770498704, 0.7910772675848917] and parameters: {'C': 0.08912052220208991, 'class_weight': 'balanced', 'dual': False, 'penalty': 'l1'}. \u001B[0m\n",
      "\u001B[32m[I 2022-05-31 11:51:31,002]\u001B[0m Trial 78 finished with values: [0.7640646151069397, 0.8230736503184077, 0.7615142427307988, 0.7910965183064071] and parameters: {'C': 0.03799587505610338, 'class_weight': 'balanced', 'dual': False, 'penalty': 'l1'}. \u001B[0m\n",
      "\u001B[32m[I 2022-05-31 11:51:37,341]\u001B[0m Trial 79 finished with values: [0.7640375417381102, 0.8230435830423282, 0.7614988604819141, 0.7910742362053652] and parameters: {'C': 0.05596951497791372, 'class_weight': 'balanced', 'dual': False, 'penalty': 'l1'}. \u001B[0m\n",
      "\u001B[32m[I 2022-05-31 11:51:44,977]\u001B[0m Trial 80 finished with values: [0.7640375417381102, 0.8230544292695111, 0.7614834770498704, 0.7910709714525946] and parameters: {'C': 0.06753476701162242, 'class_weight': 'balanced', 'dual': False, 'penalty': 'l1'}. \u001B[0m\n",
      "\u001B[32m[I 2022-05-31 11:51:50,317]\u001B[0m Trial 81 finished with values: [0.7641007129320458, 0.8231063703448755, 0.7615450095948864, 0.7911280960123611] and parameters: {'C': 0.013690916191703763, 'class_weight': 'balanced', 'dual': False, 'penalty': 'l1'}. \u001B[0m\n",
      "\u001B[32m[I 2022-05-31 11:51:57,979]\u001B[0m Trial 82 finished with values: [0.7641187618445988, 0.8231021012656216, 0.7615911598910172, 0.7911511121356223] and parameters: {'C': 0.020757727686070985, 'class_weight': 'balanced', 'dual': False, 'penalty': 'l1'}. \u001B[0m\n",
      "\u001B[32m[I 2022-05-31 11:52:04,761]\u001B[0m Trial 83 finished with values: [0.7640916884757694, 0.8230827281602057, 0.7615603942100888, 0.7911255658236953] and parameters: {'C': 0.02508028393258097, 'class_weight': 'balanced', 'dual': False, 'penalty': 'l1'}. \u001B[0m\n",
      "\u001B[32m[I 2022-05-31 11:52:09,117]\u001B[0m Trial 84 finished with values: [0.7641999819510874, 0.8232681706569107, 0.761529621430207, 0.7911942852391503] and parameters: {'C': 0.002179356674822228, 'class_weight': 'balanced', 'dual': False, 'penalty': 'l1'}. \u001B[0m\n",
      "\u001B[32m[I 2022-05-31 11:52:15,739]\u001B[0m Trial 85 finished with values: [0.7641187618445989, 0.8231229280069335, 0.7615603918437712, 0.7911440443397803] and parameters: {'C': 0.013690916191703763, 'class_weight': 'balanced', 'dual': False, 'penalty': 'l1'}. \u001B[0m\n",
      "\u001B[32m[I 2022-05-31 11:52:22,743]\u001B[0m Trial 86 finished with values: [0.7640194928255573, 0.8230268683653202, 0.7614834770498704, 0.7910582481474188] and parameters: {'C': 0.041624635926733614, 'class_weight': 'balanced', 'dual': False, 'penalty': 'l1'}. \u001B[0m\n",
      "\u001B[32m[I 2022-05-31 11:52:29,023]\u001B[0m Trial 87 finished with values: [0.7642721776012996, 0.8232702473310732, 0.7616834604832794, 0.7912785021581283] and parameters: {'C': 0.006846613850879597, 'class_weight': 'balanced', 'dual': False, 'penalty': 'l1'}. \u001B[0m\n",
      "\u001B[32m[I 2022-05-31 11:52:35,535]\u001B[0m Trial 88 finished with values: [0.7641007129320458, 0.8230852945750214, 0.7615757764589736, 0.7911351046019387] and parameters: {'C': 0.02508028393258097, 'class_weight': 'balanced', 'dual': False, 'penalty': 'l1'}. \u001B[0m\n",
      "\u001B[32m[I 2022-05-31 11:52:42,785]\u001B[0m Trial 89 finished with values: [0.7641097373883224, 0.8230990297397435, 0.7615757764589737, 0.791141484268951] and parameters: {'C': 0.026372854878448062, 'class_weight': 'balanced', 'dual': False, 'penalty': 'l1'}. \u001B[0m\n",
      "\u001B[32m[I 2022-05-31 11:52:49,967]\u001B[0m Trial 90 finished with values: [0.7640555906506632, 0.8230710975631819, 0.7614988604819141, 0.7910869960695598] and parameters: {'C': 0.08793651802299451, 'class_weight': 'balanced', 'dual': False, 'penalty': 'l1'}. \u001B[0m\n",
      "\u001B[32m[I 2022-05-31 11:52:56,095]\u001B[0m Trial 91 finished with values: [0.7640465661943867, 0.8230466592370751, 0.7615142439139577, 0.791084020156217] and parameters: {'C': 0.09661667733891235, 'class_weight': 'balanced', 'dual': False, 'penalty': 'l1'}. \u001B[0m\n",
      "\u001B[32m[I 2022-05-31 11:53:03,042]\u001B[0m Trial 92 finished with values: [0.7640375417381102, 0.8230437209314404, 0.7614988604819141, 0.7910743099563222] and parameters: {'C': 0.07282403335031472, 'class_weight': 'balanced', 'dual': False, 'penalty': 'l1'}. \u001B[0m\n",
      "\u001B[32m[I 2022-05-31 11:53:09,355]\u001B[0m Trial 93 finished with values: [0.7640104683692808, 0.8230347903228752, 0.7614527101857831, 0.7910452616391616] and parameters: {'C': 0.08912052220208991, 'class_weight': 'balanced', 'dual': False, 'penalty': 'l1'}. \u001B[0m\n",
      "\u001B[32m[I 2022-05-31 11:53:14,663]\u001B[0m Trial 94 finished with values: [0.7640465661943867, 0.8230571529639501, 0.761498861665073, 0.7910806553950086] and parameters: {'C': 0.05633914266254885, 'class_weight': 'balanced', 'dual': False, 'penalty': 'l1'}. \u001B[0m\n",
      "\u001B[32m[I 2022-05-31 11:53:20,082]\u001B[0m Trial 95 finished with values: [0.7641097373883224, 0.8230771702383686, 0.761606543323061, 0.7911479350146807] and parameters: {'C': 0.017640004818823267, 'class_weight': 'balanced', 'dual': False, 'penalty': 'l1'}. \u001B[0m\n",
      "\u001B[32m[I 2022-05-31 11:53:24,846]\u001B[0m Trial 96 finished with values: [0.7640555906506632, 0.823038618002758, 0.7615450107780453, 0.7910969403458669] and parameters: {'C': 0.055691819471418505, 'class_weight': 'balanced', 'dual': False, 'penalty': 'l1'}. \u001B[0m\n",
      "\u001B[32m[I 2022-05-31 11:53:31,769]\u001B[0m Trial 97 finished with values: [0.7641909574948109, 0.8231785679290615, 0.7616373066376718, 0.7912112866784157] and parameters: {'C': 0.01086514326975494, 'class_weight': 'balanced', 'dual': False, 'penalty': 'l1'}. \u001B[0m\n",
      "\u001B[32m[I 2022-05-31 11:53:37,888]\u001B[0m Trial 98 finished with values: [0.7641097373883223, 0.8230993098544328, 0.7615757764589736, 0.7911415198289684] and parameters: {'C': 0.024137902111833816, 'class_weight': 'balanced', 'dual': False, 'penalty': 'l1'}. \u001B[0m\n",
      "\u001B[32m[I 2022-05-31 11:53:45,849]\u001B[0m Trial 99 finished with values: [0.7641187618445989, 0.823069441800909, 0.7616373101871484, 0.7911609777432947] and parameters: {'C': 0.017640004818823267, 'class_weight': 'balanced', 'dual': False, 'penalty': 'l1'}. \u001B[0m\n"
     ]
    }
   ],
   "source": [
    "study = optuna.create_study(study_name=\"support_vector_classifier\",\n",
    "                            directions=[\"maximize\", \"maximize\", \"maximize\", \"maximize\"])\n",
    "study.optimize(objective, n_trials=100, callbacks=[mlflow_callback])"
   ],
   "metadata": {
    "collapsed": false,
    "pycharm": {
     "name": "#%%\n"
    }
   }
  },
  {
   "cell_type": "markdown",
   "source": [
    "Wyszukwianie hiperparametrów dla regresji logistycznej"
   ],
   "metadata": {
    "collapsed": false,
    "pycharm": {
     "name": "#%% md\n"
    }
   }
  },
  {
   "cell_type": "code",
   "execution_count": 10,
   "outputs": [],
   "source": [
    "def objective(trial):\n",
    "    params = {\n",
    "        \"C\": trial.suggest_loguniform(\"C\", 0.1, 10),\n",
    "        \"class_weight\": trial.suggest_categorical(\"class_weight\", [\"balanced\"]),\n",
    "        \"max_iter\": trial.suggest_categorical(\"max_iter\", [500])\n",
    "    }\n",
    "\n",
    "    model = LogisticRegression(**params)\n",
    "\n",
    "    scoring = [\"accuracy\", \"precision\", \"recall\", \"f1\"]\n",
    "\n",
    "    preds = cross_validate(model, X_train, y_train, cv=5, n_jobs=-1, scoring=scoring)\n",
    "\n",
    "    accuracy = np.mean(preds[\"test_accuracy\"])\n",
    "    precision = np.mean(preds[\"test_precision\"])\n",
    "    recall = np.mean(preds[\"test_recall\"])\n",
    "    f1 = np.mean(preds[\"test_f1\"])\n",
    "\n",
    "    return accuracy, precision, recall, f1\n"
   ],
   "metadata": {
    "collapsed": false,
    "pycharm": {
     "name": "#%%\n"
    }
   }
  },
  {
   "cell_type": "code",
   "execution_count": 11,
   "outputs": [
    {
     "name": "stderr",
     "output_type": "stream",
     "text": [
      "\u001B[32m[I 2022-05-31 11:21:34,961]\u001B[0m A new study created in memory with name: logistic_regression\u001B[0m\n",
      "\u001B[32m[I 2022-05-31 11:21:38,228]\u001B[0m Trial 0 finished with values: [0.7640736395632163, 0.8232505310795475, 0.7612834924333025, 0.7910523205943465] and parameters: {'C': 4.127485834816929, 'class_weight': 'balanced', 'max_iter': 500}. \u001B[0m\n",
      "\u001B[32m[I 2022-05-31 11:21:40,722]\u001B[0m Trial 1 finished with values: [0.7640375417381103, 0.8231959627757112, 0.7612834924333025, 0.7910270764201621] and parameters: {'C': 9.035317495964168, 'class_weight': 'balanced', 'max_iter': 500}. \u001B[0m\n",
      "\u001B[32m[I 2022-05-31 11:21:42,449]\u001B[0m Trial 2 finished with values: [0.7640465661943867, 0.823209507391752, 0.7612834924333025, 0.7910333391047828] and parameters: {'C': 0.2758855819905255, 'class_weight': 'balanced', 'max_iter': 500}. \u001B[0m\n",
      "\u001B[32m[I 2022-05-31 11:21:44,069]\u001B[0m Trial 3 finished with values: [0.7640465661943867, 0.8231989133138761, 0.7612988746821873, 0.7910366775184539] and parameters: {'C': 0.14006943293003563, 'class_weight': 'balanced', 'max_iter': 500}. \u001B[0m\n",
      "\u001B[32m[I 2022-05-31 11:21:45,559]\u001B[0m Trial 4 finished with values: [0.7640736395632164, 0.8232398212695662, 0.7612988758653461, 0.7910556856817076] and parameters: {'C': 2.0135047461103786, 'class_weight': 'balanced', 'max_iter': 500}. \u001B[0m\n",
      "\u001B[32m[I 2022-05-31 11:21:47,041]\u001B[0m Trial 5 finished with values: [0.7640555906506633, 0.8232232359879234, 0.7612834924333025, 0.7910396917479192] and parameters: {'C': 1.5225358558323463, 'class_weight': 'balanced', 'max_iter': 500}. \u001B[0m\n",
      "\u001B[32m[I 2022-05-31 11:21:48,483]\u001B[0m Trial 6 finished with values: [0.7640465661943867, 0.8232204366584849, 0.7612681090012587, 0.7910300956514605] and parameters: {'C': 2.684919728485834, 'class_weight': 'balanced', 'max_iter': 500}. \u001B[0m\n",
      "\u001B[32m[I 2022-05-31 11:21:50,132]\u001B[0m Trial 7 finished with values: [0.7640465661943868, 0.8231989161380019, 0.7612988758653461, 0.7910367301795868] and parameters: {'C': 0.3161782666554692, 'class_weight': 'balanced', 'max_iter': 500}. \u001B[0m\n",
      "\u001B[32m[I 2022-05-31 11:21:52,043]\u001B[0m Trial 8 finished with values: [0.7640555906506632, 0.8232339515957314, 0.7612681090012587, 0.7910363717985411] and parameters: {'C': 0.16306075084353952, 'class_weight': 'balanced', 'max_iter': 500}. \u001B[0m\n",
      "\u001B[32m[I 2022-05-31 11:21:53,704]\u001B[0m Trial 9 finished with values: [0.7640465661943868, 0.8232202163140944, 0.7612681090012587, 0.7910299741468447] and parameters: {'C': 3.0089686289953965, 'class_weight': 'balanced', 'max_iter': 500}. \u001B[0m\n",
      "\u001B[32m[I 2022-05-31 11:21:55,472]\u001B[0m Trial 10 finished with values: [0.7640465661943867, 0.8232202708061032, 0.7612681090012587, 0.7910299819716474] and parameters: {'C': 0.12179977238860683, 'class_weight': 'balanced', 'max_iter': 500}. \u001B[0m\n",
      "\u001B[32m[I 2022-05-31 11:21:57,233]\u001B[0m Trial 11 finished with values: [0.7640555906506633, 0.8232340322342215, 0.7612681090012587, 0.7910363215192885] and parameters: {'C': 3.022086961367269, 'class_weight': 'balanced', 'max_iter': 500}. \u001B[0m\n",
      "\u001B[32m[I 2022-05-31 11:21:58,957]\u001B[0m Trial 12 finished with values: [0.7640465661943867, 0.8232203699495887, 0.7612681090012587, 0.791030032717802] and parameters: {'C': 1.1465151332934245, 'class_weight': 'balanced', 'max_iter': 500}. \u001B[0m\n",
      "\u001B[32m[I 2022-05-31 11:22:00,422]\u001B[0m Trial 13 finished with values: [0.7640375417381103, 0.8231959627757112, 0.7612834924333025, 0.7910270764201621] and parameters: {'C': 4.505128974254962, 'class_weight': 'balanced', 'max_iter': 500}. \u001B[0m\n",
      "\u001B[32m[I 2022-05-31 11:22:01,986]\u001B[0m Trial 14 finished with values: [0.7640375417381103, 0.8231959627757112, 0.7612834924333025, 0.7910270764201621] and parameters: {'C': 4.306082834240913, 'class_weight': 'balanced', 'max_iter': 500}. \u001B[0m\n",
      "\u001B[32m[I 2022-05-31 11:22:03,557]\u001B[0m Trial 15 finished with values: [0.7640194928255573, 0.8231900908363476, 0.7612527255692151, 0.79100776203283] and parameters: {'C': 0.2494159799276846, 'class_weight': 'balanced', 'max_iter': 500}. \u001B[0m\n",
      "\u001B[32m[I 2022-05-31 11:22:04,991]\u001B[0m Trial 16 finished with values: [0.7640465661943868, 0.8231989161380019, 0.7612988758653461, 0.7910367301795868] and parameters: {'C': 4.762633526809781, 'class_weight': 'balanced', 'max_iter': 500}. \u001B[0m\n",
      "\u001B[32m[I 2022-05-31 11:22:06,520]\u001B[0m Trial 17 finished with values: [0.7640555906506633, 0.8232340322342215, 0.7612681090012587, 0.7910363215192885] and parameters: {'C': 1.4571240385453819, 'class_weight': 'balanced', 'max_iter': 500}. \u001B[0m\n",
      "\u001B[32m[I 2022-05-31 11:22:08,085]\u001B[0m Trial 18 finished with values: [0.7640375417381102, 0.8232065540294613, 0.7612681090012587, 0.7910236853453583] and parameters: {'C': 1.1191310978038678, 'class_weight': 'balanced', 'max_iter': 500}. \u001B[0m\n",
      "\u001B[32m[I 2022-05-31 11:22:09,660]\u001B[0m Trial 19 finished with values: [0.7640285172818337, 0.8231929422142583, 0.7612681090012587, 0.791017358956289] and parameters: {'C': 8.63990130509848, 'class_weight': 'balanced', 'max_iter': 500}. \u001B[0m\n"
     ]
    }
   ],
   "source": [
    "study = optuna.create_study(study_name=\"logistic_regression\",\n",
    "                            directions=[\"maximize\", \"maximize\", \"maximize\", \"maximize\"])\n",
    "study.optimize(objective, n_trials=20, callbacks=[mlflow_callback])"
   ],
   "metadata": {
    "collapsed": false,
    "pycharm": {
     "name": "#%%\n"
    }
   }
  },
  {
   "cell_type": "markdown",
   "source": [
    "Wyszukiwanie hiperparametrów drzewo decyzyjne"
   ],
   "metadata": {
    "collapsed": false,
    "pycharm": {
     "name": "#%% md\n"
    }
   }
  },
  {
   "cell_type": "code",
   "execution_count": 83,
   "outputs": [],
   "source": [
    "def objective(trial):\n",
    "    params = {\n",
    "        \"max_depth\": trial.suggest_int(\"max_depth\", 15, 50),\n",
    "        \"min_samples_leaf\": trial.suggest_int(\"min_samples_leaf\", 1, 40),\n",
    "        \"class_weight\": trial.suggest_categorical(\"class_weight\", [\"balanced\"]),\n",
    "        \"criterion\": trial.suggest_categorical(\"criterion\", [\"gini\", \"entropy\"])\n",
    "    }\n",
    "\n",
    "    model = DecisionTreeClassifier(**params)\n",
    "\n",
    "    scoring = [\"accuracy\", \"precision\", \"recall\", \"f1\"]\n",
    "\n",
    "    preds = cross_validate(model, X_train, y_train, cv=5, n_jobs=-1, scoring=scoring)\n",
    "\n",
    "    accuracy = np.mean(preds[\"test_accuracy\"])\n",
    "    precision = np.mean(preds[\"test_precision\"])\n",
    "    recall = np.mean(preds[\"test_recall\"])\n",
    "    f1 = np.mean(preds[\"test_f1\"])\n",
    "\n",
    "    return accuracy, precision, recall, f1"
   ],
   "metadata": {
    "collapsed": false,
    "pycharm": {
     "name": "#%%\n"
    }
   }
  },
  {
   "cell_type": "code",
   "execution_count": 84,
   "outputs": [
    {
     "name": "stderr",
     "output_type": "stream",
     "text": [
      "\u001B[32m[I 2022-05-30 22:17:49,184]\u001B[0m A new study created in memory with name: decision_tree\u001B[0m\n",
      "\u001B[32m[I 2022-05-30 22:17:53,309]\u001B[0m Trial 0 finished with values: [0.8379929609241044, 0.8664138853143701, 0.8558132240010412, 0.8610735043123647] and parameters: {'max_depth': 47, 'min_samples_leaf': 3, 'class_weight': 'balanced', 'criterion': 'gini'}. \u001B[0m\n",
      "\u001B[32m[I 2022-05-30 22:17:55,657]\u001B[0m Trial 1 finished with values: [0.8463135096110459, 0.8880286157415048, 0.8445219268041602, 0.8657194570056808] and parameters: {'max_depth': 15, 'min_samples_leaf': 13, 'class_weight': 'balanced', 'criterion': 'gini'}. \u001B[0m\n",
      "\u001B[32m[I 2022-05-30 22:17:57,140]\u001B[0m Trial 2 finished with values: [0.846512047649129, 0.8915249644477559, 0.8406607622495947, 0.8653344094614086] and parameters: {'max_depth': 16, 'min_samples_leaf': 20, 'class_weight': 'balanced', 'criterion': 'gini'}. \u001B[0m\n",
      "\u001B[32m[I 2022-05-30 22:17:59,144]\u001B[0m Trial 3 finished with values: [0.8481003519537949, 0.8872340326220195, 0.848983074793227, 0.8676797324217764] and parameters: {'max_depth': 37, 'min_samples_leaf': 15, 'class_weight': 'balanced', 'criterion': 'entropy'}. \u001B[0m\n",
      "\u001B[32m[I 2022-05-30 22:18:01,091]\u001B[0m Trial 4 finished with values: [0.8383629636314411, 0.8780826548940974, 0.8412915243808646, 0.8592881623014538] and parameters: {'max_depth': 35, 'min_samples_leaf': 4, 'class_weight': 'balanced', 'criterion': 'gini'}. \u001B[0m\n",
      "\u001B[32m[I 2022-05-30 22:18:03,041]\u001B[0m Trial 5 finished with values: [0.8369100261709231, 0.876285105929162, 0.8407070249547406, 0.8581122382080715] and parameters: {'max_depth': 32, 'min_samples_leaf': 4, 'class_weight': 'balanced', 'criterion': 'entropy'}. \u001B[0m\n",
      "\u001B[32m[I 2022-05-30 22:18:05,701]\u001B[0m Trial 6 finished with values: [0.8457810666907319, 0.8874828989134722, 0.844152854590418, 0.8652670943810714] and parameters: {'max_depth': 50, 'min_samples_leaf': 12, 'class_weight': 'balanced', 'criterion': 'entropy'}. \u001B[0m\n",
      "\u001B[32m[I 2022-05-30 22:18:07,844]\u001B[0m Trial 7 finished with values: [0.8310802274162981, 0.8716246239216826, 0.8350613278430539, 0.8529457267145457] and parameters: {'max_depth': 45, 'min_samples_leaf': 2, 'class_weight': 'balanced', 'criterion': 'entropy'}. \u001B[0m\n",
      "\u001B[32m[I 2022-05-30 22:18:09,506]\u001B[0m Trial 8 finished with values: [0.8468820503564661, 0.8912756311867976, 0.8416914912498669, 0.865757561027635] and parameters: {'max_depth': 16, 'min_samples_leaf': 32, 'class_weight': 'balanced', 'criterion': 'gini'}. \u001B[0m\n",
      "\u001B[32m[I 2022-05-30 22:18:11,252]\u001B[0m Trial 9 finished with values: [0.8484342568360257, 0.89090838883281, 0.8451372948540461, 0.8674072753676121] and parameters: {'max_depth': 46, 'min_samples_leaf': 29, 'class_weight': 'balanced', 'criterion': 'entropy'}. \u001B[0m\n",
      "\u001B[32m[I 2022-05-30 22:18:12,894]\u001B[0m Trial 10 finished with values: [0.8479559606533706, 0.8895091373970947, 0.8459064498952824, 0.8671499560696814] and parameters: {'max_depth': 50, 'min_samples_leaf': 27, 'class_weight': 'balanced', 'criterion': 'gini'}. \u001B[0m\n",
      "\u001B[32m[I 2022-05-30 22:18:14,615]\u001B[0m Trial 11 finished with values: [0.8489306019312336, 0.8915312934751587, 0.845352606107936, 0.8678161630863999] and parameters: {'max_depth': 21, 'min_samples_leaf': 38, 'class_weight': 'balanced', 'criterion': 'entropy'}. \u001B[0m\n",
      "\u001B[32m[I 2022-05-30 22:18:16,249]\u001B[0m Trial 12 finished with values: [0.8473332731702914, 0.8892805896819178, 0.8449987859855881, 0.8665528944292472] and parameters: {'max_depth': 15, 'min_samples_leaf': 34, 'class_weight': 'balanced', 'criterion': 'entropy'}. \u001B[0m\n",
      "\u001B[32m[I 2022-05-30 22:18:17,917]\u001B[0m Trial 13 finished with values: [0.8482898655356015, 0.889814134641331, 0.846198703158094, 0.8674398639419566] and parameters: {'max_depth': 18, 'min_samples_leaf': 26, 'class_weight': 'balanced', 'criterion': 'entropy'}. \u001B[0m\n",
      "\u001B[32m[I 2022-05-30 22:18:19,618]\u001B[0m Trial 14 finished with values: [0.8480371807598592, 0.8905050488824505, 0.8448603386461254, 0.867066947852706] and parameters: {'max_depth': 39, 'min_samples_leaf': 28, 'class_weight': 'balanced', 'criterion': 'entropy'}. \u001B[0m\n",
      "\u001B[32m[I 2022-05-30 22:18:21,489]\u001B[0m Trial 15 finished with values: [0.8458713112534969, 0.8842544333185236, 0.8483215789286855, 0.8659083743453888] and parameters: {'max_depth': 24, 'min_samples_leaf': 10, 'class_weight': 'balanced', 'criterion': 'gini'}. \u001B[0m\n",
      "\u001B[32m[I 2022-05-30 22:18:23,171]\u001B[0m Trial 16 finished with values: [0.8416388412598141, 0.8765057860430984, 0.8497983126856223, 0.8629345045024003] and parameters: {'max_depth': 20, 'min_samples_leaf': 3, 'class_weight': 'balanced', 'criterion': 'gini'}. \u001B[0m\n",
      "\u001B[32m[I 2022-05-30 22:18:24,817]\u001B[0m Trial 17 finished with values: [0.8465481454742351, 0.8913380080869298, 0.8409529965804078, 0.8654011943821255] and parameters: {'max_depth': 16, 'min_samples_leaf': 25, 'class_weight': 'balanced', 'criterion': 'gini'}. \u001B[0m\n",
      "\u001B[32m[I 2022-05-30 22:18:26,481]\u001B[0m Trial 18 finished with values: [0.848019131847306, 0.8880726804074003, 0.8477985848331026, 0.8674565083948318] and parameters: {'max_depth': 25, 'min_samples_leaf': 17, 'class_weight': 'balanced', 'criterion': 'entropy'}. \u001B[0m\n",
      "\u001B[32m[I 2022-05-30 22:18:28,263]\u001B[0m Trial 19 finished with values: [0.8471076617633788, 0.886747734497952, 0.8476447647107547, 0.8667480193368979] and parameters: {'max_depth': 22, 'min_samples_leaf': 14, 'class_weight': 'balanced', 'criterion': 'entropy'}. \u001B[0m\n"
     ]
    }
   ],
   "source": [
    "study = optuna.create_study(study_name=\"decision_tree\", directions=[\"maximize\", \"maximize\", \"maximize\", \"maximize\"])\n",
    "study.optimize(objective, n_trials=20, callbacks=[mlflow_callback])"
   ],
   "metadata": {
    "collapsed": false,
    "pycharm": {
     "name": "#%%\n"
    }
   }
  },
  {
   "cell_type": "markdown",
   "source": [
    "Wyszukiwanie hiperparametrów lasu losowego"
   ],
   "metadata": {
    "collapsed": false,
    "pycharm": {
     "name": "#%% md\n"
    }
   }
  },
  {
   "cell_type": "code",
   "execution_count": 17,
   "outputs": [],
   "source": [
    "def objective(trial):\n",
    "    params = {\n",
    "        \"max_depth\": trial.suggest_int(\"max_depth\", 30, 60),\n",
    "        #\"max_depth\": trial.suggest_categorical(\"max_depth\", [None]),\n",
    "        \"min_samples_split\": trial.suggest_int(\"min_samples_split\", 2, 30),\n",
    "        \"class_weight\": trial.suggest_categorical(\"class_weight\", [\"balanced\"]),\n",
    "        \"criterion\": trial.suggest_categorical(\"criterion\", [\"gini\", \"entropy\"]),\n",
    "        \"max_features\": trial.suggest_categorical(\"max_features\", [None, \"sqrt\"]),\n",
    "        \"n_estimators\": trial.suggest_int(\"n_estimators\", 250, 1000)\n",
    "    }\n",
    "\n",
    "    model = RandomForestClassifier(**params)\n",
    "\n",
    "    scoring = [\"accuracy\", \"precision\", \"recall\", \"f1\"]\n",
    "\n",
    "    preds = cross_validate(model, X_train, y_train, cv=5, n_jobs=-2, scoring=scoring)\n",
    "\n",
    "    accuracy = np.mean(preds[\"test_accuracy\"])\n",
    "    precision = np.mean(preds[\"test_precision\"])\n",
    "    recall = np.mean(preds[\"test_recall\"])\n",
    "    f1 = np.mean(preds[\"test_f1\"])\n",
    "\n",
    "    return accuracy, precision, recall, f1"
   ],
   "metadata": {
    "collapsed": false,
    "pycharm": {
     "name": "#%%\n"
    }
   }
  },
  {
   "cell_type": "code",
   "execution_count": null,
   "outputs": [
    {
     "name": "stderr",
     "output_type": "stream",
     "text": [
      "\u001B[32m[I 2022-05-31 10:54:40,987]\u001B[0m A new study created in memory with name: random_forest\u001B[0m\n",
      "\u001B[32m[I 2022-05-31 10:56:18,639]\u001B[0m Trial 0 finished with values: [0.8754534789278946, 0.8934953523811018, 0.8943020179449472, 0.8938958740893144] and parameters: {'max_depth': 51, 'min_samples_split': 8, 'class_weight': 'balanced', 'criterion': 'gini', 'max_features': 'sqrt', 'n_estimators': 821}. \u001B[0m\n",
      "\u001B[32m[I 2022-05-31 11:01:57,781]\u001B[0m Trial 1 finished with values: [0.8697229491923112, 0.8968365132649458, 0.8790573384951716, 0.8878540178450292] and parameters: {'max_depth': 53, 'min_samples_split': 29, 'class_weight': 'balanced', 'criterion': 'entropy', 'max_features': None, 'n_estimators': 710}. \u001B[0m\n",
      "\u001B[32m[I 2022-05-31 11:03:47,059]\u001B[0m Trial 2 finished with values: [0.8732605360527028, 0.8965590105190341, 0.8862104782185118, 0.8913525787491737] and parameters: {'max_depth': 33, 'min_samples_split': 17, 'class_weight': 'balanced', 'criterion': 'gini', 'max_features': 'sqrt', 'n_estimators': 996}. \u001B[0m\n"
     ]
    }
   ],
   "source": [
    "study = optuna.create_study(study_name=\"random_forest\", directions=[\"maximize\", \"maximize\", \"maximize\", \"maximize\"])\n",
    "study.optimize(objective, n_trials=10, callbacks=[mlflow_callback])"
   ],
   "metadata": {
    "collapsed": false,
    "pycharm": {
     "name": "#%%\n",
     "is_executing": true
    }
   }
  },
  {
   "cell_type": "markdown",
   "source": [
    "Wyszukwianie hiperparametrów dla XGBoost"
   ],
   "metadata": {
    "collapsed": false,
    "pycharm": {
     "name": "#%% md\n"
    }
   }
  }
 ],
 "metadata": {
  "kernelspec": {
   "display_name": "Python 3",
   "language": "python",
   "name": "python3"
  },
  "language_info": {
   "codemirror_mode": {
    "name": "ipython",
    "version": 2
   },
   "file_extension": ".py",
   "mimetype": "text/x-python",
   "name": "python",
   "nbconvert_exporter": "python",
   "pygments_lexer": "ipython2",
   "version": "2.7.6"
  }
 },
 "nbformat": 4,
 "nbformat_minor": 0
}