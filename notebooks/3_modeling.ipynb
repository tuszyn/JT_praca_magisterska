{
 "cells": [
  {
   "cell_type": "code",
   "execution_count": 17,
   "metadata": {
    "collapsed": true,
    "pycharm": {
     "name": "#%%\n"
    }
   },
   "outputs": [],
   "source": [
    "from pathlib import Path\n",
    "\n",
    "import optuna\n",
    "import pandas as pd\n",
    "import numpy as np\n",
    "from sklearn.model_selection import train_test_split\n",
    "from sklearn.pipeline import make_pipeline\n",
    "from sklearn.preprocessing import StandardScaler\n",
    "from sklearn.impute import SimpleImputer\n",
    "from sklearn.metrics import accuracy_score, precision_score, f1_score, recall_score\n",
    "import mlflow\n",
    "from optuna.integration import MLflowCallback\n",
    "\n",
    "from sklearn.tree import DecisionTreeClassifier\n",
    "from sklearn.linear_model import LogisticRegression"
   ]
  },
  {
   "cell_type": "code",
   "execution_count": 14,
   "outputs": [],
   "source": [
    "# Set tracking URI\n",
    "MODEL_REGISTRY = Path(\"experiments\")\n",
    "Path(MODEL_REGISTRY).mkdir(exist_ok=True)  # create experiments dir\n",
    "mlflow.set_tracking_uri(\"file:///\" + str(MODEL_REGISTRY.absolute()))"
   ],
   "metadata": {
    "collapsed": false,
    "pycharm": {
     "name": "#%%\n"
    }
   }
  },
  {
   "cell_type": "code",
   "execution_count": 3,
   "outputs": [],
   "source": [
    "df = pd.read_csv(\"../data/proccessed/globalterrordb_proccesed.csv\", index_col=0)"
   ],
   "metadata": {
    "collapsed": false,
    "pycharm": {
     "name": "#%%\n"
    }
   }
  },
  {
   "cell_type": "code",
   "execution_count": 29,
   "outputs": [
    {
     "data": {
      "text/plain": "                    count         mean          std         min          25%  \\\nextended         119687.0     0.040489     0.197104    0.000000     0.000000   \nregion           119687.0     7.296239     2.816560    1.000000     6.000000   \nlatitude         119687.0    23.462759    17.853289  -53.154613    11.649417   \nlongitude        119687.0    33.205837    55.141860 -157.818968    12.490069   \nspecificity      119686.0     1.370570     0.818686    1.000000     1.000000   \nvicinity         119687.0     0.066791     0.249661    0.000000     0.000000   \nmultiple         119687.0     0.159917     0.366531    0.000000     0.000000   \nsuccess          119687.0     1.000000     0.000000    1.000000     1.000000   \nsuicide          119687.0     0.037824     0.190770    0.000000     0.000000   \nattacktype1      119687.0     3.280289     1.828469    1.000000     2.000000   \ntargtype1        119687.0     8.879970     6.716822    1.000000     2.000000   \ntargsubtype1     115085.0    49.467211    32.261693    1.000000    21.000000   \nnatlty1          118844.0   122.140941    86.302895    4.000000    83.000000   \nguncertain1      119461.0     0.093897     0.291686    0.000000     0.000000   \nindividual       119687.0     0.003651     0.060315    0.000000     0.000000   \nnperps            83728.0   -72.320215    89.646739  -99.000000   -99.000000   \nnperpcap          86308.0    -1.377462    12.236043  -99.000000     0.000000   \nclaimed           88133.0     0.174498     0.379539    0.000000     0.000000   \nweaptype1        119687.0     6.356664     1.983789    1.000000     5.000000   \nweapsubtype1     109452.0    11.648805     6.387089    1.000000     5.000000   \nproperty         119687.0    -0.823548     3.476639   -9.000000     0.000000   \nishostkid        119578.0     0.054684     0.466131   -9.000000     0.000000   \nINT_LOG          119687.0    -4.368052     4.541525   -9.000000    -9.000000   \nINT_IDEO         119687.0    -4.285904     4.635482   -9.000000    -9.000000   \nINT_MISC         119687.0     0.070125     0.467556   -9.000000     0.000000   \nINT_ANY          119687.0    -3.945491     4.665319   -9.000000    -9.000000   \ncas_class        119687.0     0.645133     0.478475    0.000000     0.000000   \ncountries_count  119687.0  6999.322683  6566.839993    1.000000  1539.000000   \ngroup_count      119687.0   921.836849  1771.598031   -9.000000    -9.000000   \n\n                         50%           75%           max  \nextended            0.000000      0.000000      1.000000  \nregion              6.000000     10.000000     12.000000  \nlatitude           31.600629     34.437939     74.633553  \nlongitude          44.371771     69.383108    179.366667  \nspecificity         1.000000      1.000000      4.000000  \nvicinity            0.000000      0.000000      1.000000  \nmultiple            0.000000      0.000000      1.000000  \nsuccess             1.000000      1.000000      1.000000  \nsuicide             0.000000      0.000000      1.000000  \nattacktype1         3.000000      3.000000      9.000000  \ntargtype1           8.000000     14.000000     22.000000  \ntargsubtype1       49.000000     75.000000    113.000000  \nnatlty1            96.000000    160.000000   1004.000000  \nguncertain1         0.000000      0.000000      1.000000  \nindividual          0.000000      0.000000      1.000000  \nnperps            -99.000000    -99.000000  20000.000000  \nnperpcap            0.000000      0.000000    406.000000  \nclaimed             0.000000      0.000000      1.000000  \nweaptype1           6.000000      6.000000     13.000000  \nweapsubtype1       14.000000     16.000000     31.000000  \nproperty            1.000000      1.000000      1.000000  \nishostkid           0.000000      0.000000      1.000000  \nINT_LOG             0.000000      0.000000      1.000000  \nINT_IDEO            0.000000      0.000000      1.000000  \nINT_MISC            0.000000      0.000000      1.000000  \nINT_ANY             0.000000      0.000000      1.000000  \ncas_class           1.000000      1.000000      1.000000  \ncountries_count  4272.000000  11101.000000  19518.000000  \ngroup_count        19.000000   1302.000000   6853.000000  ",
      "text/html": "<div>\n<style scoped>\n    .dataframe tbody tr th:only-of-type {\n        vertical-align: middle;\n    }\n\n    .dataframe tbody tr th {\n        vertical-align: top;\n    }\n\n    .dataframe thead th {\n        text-align: right;\n    }\n</style>\n<table border=\"1\" class=\"dataframe\">\n  <thead>\n    <tr style=\"text-align: right;\">\n      <th></th>\n      <th>count</th>\n      <th>mean</th>\n      <th>std</th>\n      <th>min</th>\n      <th>25%</th>\n      <th>50%</th>\n      <th>75%</th>\n      <th>max</th>\n    </tr>\n  </thead>\n  <tbody>\n    <tr>\n      <th>extended</th>\n      <td>119687.0</td>\n      <td>0.040489</td>\n      <td>0.197104</td>\n      <td>0.000000</td>\n      <td>0.000000</td>\n      <td>0.000000</td>\n      <td>0.000000</td>\n      <td>1.000000</td>\n    </tr>\n    <tr>\n      <th>region</th>\n      <td>119687.0</td>\n      <td>7.296239</td>\n      <td>2.816560</td>\n      <td>1.000000</td>\n      <td>6.000000</td>\n      <td>6.000000</td>\n      <td>10.000000</td>\n      <td>12.000000</td>\n    </tr>\n    <tr>\n      <th>latitude</th>\n      <td>119687.0</td>\n      <td>23.462759</td>\n      <td>17.853289</td>\n      <td>-53.154613</td>\n      <td>11.649417</td>\n      <td>31.600629</td>\n      <td>34.437939</td>\n      <td>74.633553</td>\n    </tr>\n    <tr>\n      <th>longitude</th>\n      <td>119687.0</td>\n      <td>33.205837</td>\n      <td>55.141860</td>\n      <td>-157.818968</td>\n      <td>12.490069</td>\n      <td>44.371771</td>\n      <td>69.383108</td>\n      <td>179.366667</td>\n    </tr>\n    <tr>\n      <th>specificity</th>\n      <td>119686.0</td>\n      <td>1.370570</td>\n      <td>0.818686</td>\n      <td>1.000000</td>\n      <td>1.000000</td>\n      <td>1.000000</td>\n      <td>1.000000</td>\n      <td>4.000000</td>\n    </tr>\n    <tr>\n      <th>vicinity</th>\n      <td>119687.0</td>\n      <td>0.066791</td>\n      <td>0.249661</td>\n      <td>0.000000</td>\n      <td>0.000000</td>\n      <td>0.000000</td>\n      <td>0.000000</td>\n      <td>1.000000</td>\n    </tr>\n    <tr>\n      <th>multiple</th>\n      <td>119687.0</td>\n      <td>0.159917</td>\n      <td>0.366531</td>\n      <td>0.000000</td>\n      <td>0.000000</td>\n      <td>0.000000</td>\n      <td>0.000000</td>\n      <td>1.000000</td>\n    </tr>\n    <tr>\n      <th>success</th>\n      <td>119687.0</td>\n      <td>1.000000</td>\n      <td>0.000000</td>\n      <td>1.000000</td>\n      <td>1.000000</td>\n      <td>1.000000</td>\n      <td>1.000000</td>\n      <td>1.000000</td>\n    </tr>\n    <tr>\n      <th>suicide</th>\n      <td>119687.0</td>\n      <td>0.037824</td>\n      <td>0.190770</td>\n      <td>0.000000</td>\n      <td>0.000000</td>\n      <td>0.000000</td>\n      <td>0.000000</td>\n      <td>1.000000</td>\n    </tr>\n    <tr>\n      <th>attacktype1</th>\n      <td>119687.0</td>\n      <td>3.280289</td>\n      <td>1.828469</td>\n      <td>1.000000</td>\n      <td>2.000000</td>\n      <td>3.000000</td>\n      <td>3.000000</td>\n      <td>9.000000</td>\n    </tr>\n    <tr>\n      <th>targtype1</th>\n      <td>119687.0</td>\n      <td>8.879970</td>\n      <td>6.716822</td>\n      <td>1.000000</td>\n      <td>2.000000</td>\n      <td>8.000000</td>\n      <td>14.000000</td>\n      <td>22.000000</td>\n    </tr>\n    <tr>\n      <th>targsubtype1</th>\n      <td>115085.0</td>\n      <td>49.467211</td>\n      <td>32.261693</td>\n      <td>1.000000</td>\n      <td>21.000000</td>\n      <td>49.000000</td>\n      <td>75.000000</td>\n      <td>113.000000</td>\n    </tr>\n    <tr>\n      <th>natlty1</th>\n      <td>118844.0</td>\n      <td>122.140941</td>\n      <td>86.302895</td>\n      <td>4.000000</td>\n      <td>83.000000</td>\n      <td>96.000000</td>\n      <td>160.000000</td>\n      <td>1004.000000</td>\n    </tr>\n    <tr>\n      <th>guncertain1</th>\n      <td>119461.0</td>\n      <td>0.093897</td>\n      <td>0.291686</td>\n      <td>0.000000</td>\n      <td>0.000000</td>\n      <td>0.000000</td>\n      <td>0.000000</td>\n      <td>1.000000</td>\n    </tr>\n    <tr>\n      <th>individual</th>\n      <td>119687.0</td>\n      <td>0.003651</td>\n      <td>0.060315</td>\n      <td>0.000000</td>\n      <td>0.000000</td>\n      <td>0.000000</td>\n      <td>0.000000</td>\n      <td>1.000000</td>\n    </tr>\n    <tr>\n      <th>nperps</th>\n      <td>83728.0</td>\n      <td>-72.320215</td>\n      <td>89.646739</td>\n      <td>-99.000000</td>\n      <td>-99.000000</td>\n      <td>-99.000000</td>\n      <td>-99.000000</td>\n      <td>20000.000000</td>\n    </tr>\n    <tr>\n      <th>nperpcap</th>\n      <td>86308.0</td>\n      <td>-1.377462</td>\n      <td>12.236043</td>\n      <td>-99.000000</td>\n      <td>0.000000</td>\n      <td>0.000000</td>\n      <td>0.000000</td>\n      <td>406.000000</td>\n    </tr>\n    <tr>\n      <th>claimed</th>\n      <td>88133.0</td>\n      <td>0.174498</td>\n      <td>0.379539</td>\n      <td>0.000000</td>\n      <td>0.000000</td>\n      <td>0.000000</td>\n      <td>0.000000</td>\n      <td>1.000000</td>\n    </tr>\n    <tr>\n      <th>weaptype1</th>\n      <td>119687.0</td>\n      <td>6.356664</td>\n      <td>1.983789</td>\n      <td>1.000000</td>\n      <td>5.000000</td>\n      <td>6.000000</td>\n      <td>6.000000</td>\n      <td>13.000000</td>\n    </tr>\n    <tr>\n      <th>weapsubtype1</th>\n      <td>109452.0</td>\n      <td>11.648805</td>\n      <td>6.387089</td>\n      <td>1.000000</td>\n      <td>5.000000</td>\n      <td>14.000000</td>\n      <td>16.000000</td>\n      <td>31.000000</td>\n    </tr>\n    <tr>\n      <th>property</th>\n      <td>119687.0</td>\n      <td>-0.823548</td>\n      <td>3.476639</td>\n      <td>-9.000000</td>\n      <td>0.000000</td>\n      <td>1.000000</td>\n      <td>1.000000</td>\n      <td>1.000000</td>\n    </tr>\n    <tr>\n      <th>ishostkid</th>\n      <td>119578.0</td>\n      <td>0.054684</td>\n      <td>0.466131</td>\n      <td>-9.000000</td>\n      <td>0.000000</td>\n      <td>0.000000</td>\n      <td>0.000000</td>\n      <td>1.000000</td>\n    </tr>\n    <tr>\n      <th>INT_LOG</th>\n      <td>119687.0</td>\n      <td>-4.368052</td>\n      <td>4.541525</td>\n      <td>-9.000000</td>\n      <td>-9.000000</td>\n      <td>0.000000</td>\n      <td>0.000000</td>\n      <td>1.000000</td>\n    </tr>\n    <tr>\n      <th>INT_IDEO</th>\n      <td>119687.0</td>\n      <td>-4.285904</td>\n      <td>4.635482</td>\n      <td>-9.000000</td>\n      <td>-9.000000</td>\n      <td>0.000000</td>\n      <td>0.000000</td>\n      <td>1.000000</td>\n    </tr>\n    <tr>\n      <th>INT_MISC</th>\n      <td>119687.0</td>\n      <td>0.070125</td>\n      <td>0.467556</td>\n      <td>-9.000000</td>\n      <td>0.000000</td>\n      <td>0.000000</td>\n      <td>0.000000</td>\n      <td>1.000000</td>\n    </tr>\n    <tr>\n      <th>INT_ANY</th>\n      <td>119687.0</td>\n      <td>-3.945491</td>\n      <td>4.665319</td>\n      <td>-9.000000</td>\n      <td>-9.000000</td>\n      <td>0.000000</td>\n      <td>0.000000</td>\n      <td>1.000000</td>\n    </tr>\n    <tr>\n      <th>cas_class</th>\n      <td>119687.0</td>\n      <td>0.645133</td>\n      <td>0.478475</td>\n      <td>0.000000</td>\n      <td>0.000000</td>\n      <td>1.000000</td>\n      <td>1.000000</td>\n      <td>1.000000</td>\n    </tr>\n    <tr>\n      <th>countries_count</th>\n      <td>119687.0</td>\n      <td>6999.322683</td>\n      <td>6566.839993</td>\n      <td>1.000000</td>\n      <td>1539.000000</td>\n      <td>4272.000000</td>\n      <td>11101.000000</td>\n      <td>19518.000000</td>\n    </tr>\n    <tr>\n      <th>group_count</th>\n      <td>119687.0</td>\n      <td>921.836849</td>\n      <td>1771.598031</td>\n      <td>-9.000000</td>\n      <td>-9.000000</td>\n      <td>19.000000</td>\n      <td>1302.000000</td>\n      <td>6853.000000</td>\n    </tr>\n  </tbody>\n</table>\n</div>"
     },
     "execution_count": 29,
     "metadata": {},
     "output_type": "execute_result"
    }
   ],
   "source": [
    "df.describe(include=\"all\").T"
   ],
   "metadata": {
    "collapsed": false,
    "pycharm": {
     "name": "#%%\n"
    }
   }
  },
  {
   "cell_type": "code",
   "execution_count": 4,
   "outputs": [],
   "source": [
    "df.fillna(value=-9, inplace=True)"
   ],
   "metadata": {
    "collapsed": false,
    "pycharm": {
     "name": "#%%\n"
    }
   }
  },
  {
   "cell_type": "code",
   "execution_count": 5,
   "outputs": [],
   "source": [
    "y = df[\"cas_class\"]\n",
    "X = df.drop(\"cas_class\", axis=1)"
   ],
   "metadata": {
    "collapsed": false,
    "pycharm": {
     "name": "#%%\n"
    }
   }
  },
  {
   "cell_type": "code",
   "execution_count": 6,
   "outputs": [],
   "source": [
    "X_train, X_val, y_train, y_val = train_test_split(X, y, random_state=42, test_size=0.2, stratify=y)\n",
    "X_train, X_test, y_train, y_test = train_test_split(X_train, y_train, random_state=42, test_size=0.25, stratify=y_train)"
   ],
   "metadata": {
    "collapsed": false,
    "pycharm": {
     "name": "#%%\n"
    }
   }
  },
  {
   "cell_type": "code",
   "execution_count": 7,
   "outputs": [],
   "source": [
    "impute_value = -9"
   ],
   "metadata": {
    "collapsed": false,
    "pycharm": {
     "name": "#%%\n"
    }
   }
  },
  {
   "cell_type": "code",
   "execution_count": 8,
   "outputs": [],
   "source": [
    "pipeline = make_pipeline(SimpleImputer(missing_values=np.nan, strategy=\"constant\", fill_value=impute_value),\n",
    "                         StandardScaler())"
   ],
   "metadata": {
    "collapsed": false,
    "pycharm": {
     "name": "#%%\n"
    }
   }
  },
  {
   "cell_type": "code",
   "execution_count": 9,
   "outputs": [
    {
     "data": {
      "text/plain": "array([[-0.2035149 ,  0.60373644,  1.10873672, ..., -1.08014204,\n        -0.85284415, -0.52435801],\n       [-0.2035149 ,  0.95885428,  0.68576861, ...,  1.06308836,\n         1.90854282,  1.78257866],\n       [-0.2035149 , -0.4616171 , -0.13845736, ..., -1.08014204,\n         0.2747222 ,  0.24575256],\n       ...,\n       [-0.2035149 , -0.81673495, -0.44779573, ..., -1.08014204,\n        -0.34430395, -0.52435801],\n       [-0.2035149 , -0.81673495, -0.94373996, ..., -1.08014204,\n        -0.5943832 , -0.52435801],\n       [-0.2035149 ,  0.95885428,  0.54991043, ..., -1.08014204,\n         1.90854282, -0.52435801]])"
     },
     "execution_count": 9,
     "metadata": {},
     "output_type": "execute_result"
    }
   ],
   "source": [
    "pipeline.fit_transform(X_train)"
   ],
   "metadata": {
    "collapsed": false,
    "pycharm": {
     "name": "#%%\n"
    }
   }
  },
  {
   "cell_type": "code",
   "execution_count": 10,
   "outputs": [
    {
     "data": {
      "text/plain": "array([[-0.2035149 ,  1.31397213, -1.293771  , ...,  1.06308836,\n        -0.96759715, -0.40496541],\n       [-0.2035149 ,  0.95885428,  0.53947394, ..., -1.08014204,\n         1.90854282, -0.52435801],\n       [-0.2035149 ,  0.95885428,  0.54991043, ..., -1.08014204,\n         1.90854282, -0.52435801],\n       ...,\n       [-0.2035149 ,  0.95885428,  0.54991043, ..., -1.08014204,\n         1.90854282, -0.52435801],\n       [-0.2035149 , -0.81673495, -0.93188165, ...,  0.84876532,\n        -0.34430395,  0.52810758],\n       [-0.2035149 , -2.23720633,  1.02973381, ..., -1.08014204,\n        -0.7749706 , -0.51417286]])"
     },
     "execution_count": 10,
     "metadata": {},
     "output_type": "execute_result"
    }
   ],
   "source": [
    "pipeline.transform(X_val)\n",
    "pipeline.transform(X_test)"
   ],
   "metadata": {
    "collapsed": false,
    "pycharm": {
     "name": "#%%\n"
    }
   }
  },
  {
   "cell_type": "code",
   "execution_count": 11,
   "outputs": [],
   "source": [
    "def objective(trial):\n",
    "    params = {\n",
    "        \"C\": trial.suggest_float(\"C\", 1, 50, log=True),\n",
    "\n",
    "    }\n",
    "\n",
    "    model = LogisticRegression(**params)\n",
    "    model.fit(X_train, y_train)\n",
    "    preds = model.predict(X_val)\n",
    "\n",
    "    accuracy = accuracy_score(y_val, preds)\n",
    "    precision = precision_score(y_val, preds)\n",
    "\n",
    "    return accuracy, precision\n"
   ],
   "metadata": {
    "collapsed": false,
    "pycharm": {
     "name": "#%%\n"
    }
   }
  },
  {
   "cell_type": "code",
   "execution_count": 18,
   "outputs": [
    {
     "name": "stderr",
     "output_type": "stream",
     "text": [
      "C:\\Users\\Tuszyn\\AppData\\Local\\Temp\\ipykernel_11300\\3465450225.py:1: ExperimentalWarning: MLflowCallback is experimental (supported from v1.4.0). The interface can change in the future.\n",
      "  mlflow_callback = MLflowCallback(\n"
     ]
    }
   ],
   "source": [
    "mlflow_callback = MLflowCallback(\n",
    "    tracking_uri=mlflow.get_tracking_uri(), metric_name=[\"accuracy\", \"precision\"])"
   ],
   "metadata": {
    "collapsed": false,
    "pycharm": {
     "name": "#%%\n"
    }
   }
  },
  {
   "cell_type": "code",
   "execution_count": 20,
   "outputs": [
    {
     "name": "stdout",
     "output_type": "stream",
     "text": [
      "file:///C:\\Users\\Tuszyn\\Desktop\\JT_praca_magisterska\\notebooks\\experiments\n"
     ]
    }
   ],
   "source": [
    "print(mlflow.get_tracking_uri())"
   ],
   "metadata": {
    "collapsed": false,
    "pycharm": {
     "name": "#%%\n"
    }
   }
  },
  {
   "cell_type": "code",
   "execution_count": 19,
   "outputs": [
    {
     "name": "stderr",
     "output_type": "stream",
     "text": [
      "\u001B[32m[I 2022-05-23 22:55:53,579]\u001B[0m A new study created in memory with name: lr\u001B[0m\n",
      "C:\\Users\\Tuszyn\\.virtualenvs\\JT_praca_magisterska\\lib\\site-packages\\sklearn\\linear_model\\_logistic.py:444: ConvergenceWarning: lbfgs failed to converge (status=1):\n",
      "STOP: TOTAL NO. of ITERATIONS REACHED LIMIT.\n",
      "\n",
      "Increase the number of iterations (max_iter) or scale the data as shown in:\n",
      "    https://scikit-learn.org/stable/modules/preprocessing.html\n",
      "Please also refer to the documentation for alternative solver options:\n",
      "    https://scikit-learn.org/stable/modules/linear_model.html#logistic-regression\n",
      "  n_iter_i = _check_optimize_result(\n",
      "\u001B[32m[I 2022-05-23 22:55:53,964]\u001B[0m Trial 0 finished with values: [0.718689949035007, 0.7454483963699904] and parameters: {'C': 2.1358355544248844}. \u001B[0m\n",
      "2022/05/23 22:55:53 INFO mlflow.tracking.fluent: Experiment with name 'lr' does not exist. Creating a new experiment.\n",
      "C:\\Users\\Tuszyn\\.virtualenvs\\JT_praca_magisterska\\lib\\site-packages\\sklearn\\linear_model\\_logistic.py:444: ConvergenceWarning: lbfgs failed to converge (status=1):\n",
      "STOP: TOTAL NO. of ITERATIONS REACHED LIMIT.\n",
      "\n",
      "Increase the number of iterations (max_iter) or scale the data as shown in:\n",
      "    https://scikit-learn.org/stable/modules/preprocessing.html\n",
      "Please also refer to the documentation for alternative solver options:\n",
      "    https://scikit-learn.org/stable/modules/linear_model.html#logistic-regression\n",
      "  n_iter_i = _check_optimize_result(\n",
      "\u001B[32m[I 2022-05-23 22:55:54,532]\u001B[0m Trial 1 finished with values: [0.7188570473723787, 0.7459215354219588] and parameters: {'C': 6.951881007158161}. \u001B[0m\n",
      "C:\\Users\\Tuszyn\\.virtualenvs\\JT_praca_magisterska\\lib\\site-packages\\sklearn\\linear_model\\_logistic.py:444: ConvergenceWarning: lbfgs failed to converge (status=1):\n",
      "STOP: TOTAL NO. of ITERATIONS REACHED LIMIT.\n",
      "\n",
      "Increase the number of iterations (max_iter) or scale the data as shown in:\n",
      "    https://scikit-learn.org/stable/modules/preprocessing.html\n",
      "Please also refer to the documentation for alternative solver options:\n",
      "    https://scikit-learn.org/stable/modules/linear_model.html#logistic-regression\n",
      "  n_iter_i = _check_optimize_result(\n",
      "\u001B[32m[I 2022-05-23 22:55:54,978]\u001B[0m Trial 2 finished with values: [0.7189823711254073, 0.7460756634669679] and parameters: {'C': 6.613666284380089}. \u001B[0m\n",
      "C:\\Users\\Tuszyn\\.virtualenvs\\JT_praca_magisterska\\lib\\site-packages\\sklearn\\linear_model\\_logistic.py:444: ConvergenceWarning: lbfgs failed to converge (status=1):\n",
      "STOP: TOTAL NO. of ITERATIONS REACHED LIMIT.\n",
      "\n",
      "Increase the number of iterations (max_iter) or scale the data as shown in:\n",
      "    https://scikit-learn.org/stable/modules/preprocessing.html\n",
      "Please also refer to the documentation for alternative solver options:\n",
      "    https://scikit-learn.org/stable/modules/linear_model.html#logistic-regression\n",
      "  n_iter_i = _check_optimize_result(\n",
      "\u001B[32m[I 2022-05-23 22:55:55,342]\u001B[0m Trial 3 finished with values: [0.7190241457097502, 0.7461177932124908] and parameters: {'C': 7.470123774482209}. \u001B[0m\n",
      "C:\\Users\\Tuszyn\\.virtualenvs\\JT_praca_magisterska\\lib\\site-packages\\sklearn\\linear_model\\_logistic.py:444: ConvergenceWarning: lbfgs failed to converge (status=1):\n",
      "STOP: TOTAL NO. of ITERATIONS REACHED LIMIT.\n",
      "\n",
      "Increase the number of iterations (max_iter) or scale the data as shown in:\n",
      "    https://scikit-learn.org/stable/modules/preprocessing.html\n",
      "Please also refer to the documentation for alternative solver options:\n",
      "    https://scikit-learn.org/stable/modules/linear_model.html#logistic-regression\n",
      "  n_iter_i = _check_optimize_result(\n",
      "\u001B[32m[I 2022-05-23 22:55:55,761]\u001B[0m Trial 4 finished with values: [0.7186481744506642, 0.7459331224582015] and parameters: {'C': 3.6852338550673305}. \u001B[0m\n",
      "C:\\Users\\Tuszyn\\.virtualenvs\\JT_praca_magisterska\\lib\\site-packages\\sklearn\\linear_model\\_logistic.py:444: ConvergenceWarning: lbfgs failed to converge (status=1):\n",
      "STOP: TOTAL NO. of ITERATIONS REACHED LIMIT.\n",
      "\n",
      "Increase the number of iterations (max_iter) or scale the data as shown in:\n",
      "    https://scikit-learn.org/stable/modules/preprocessing.html\n",
      "Please also refer to the documentation for alternative solver options:\n",
      "    https://scikit-learn.org/stable/modules/linear_model.html#logistic-regression\n",
      "  n_iter_i = _check_optimize_result(\n",
      "\u001B[32m[I 2022-05-23 22:55:56,120]\u001B[0m Trial 5 finished with values: [0.718689949035007, 0.7460030506751031] and parameters: {'C': 4.182746089707708}. \u001B[0m\n",
      "C:\\Users\\Tuszyn\\.virtualenvs\\JT_praca_magisterska\\lib\\site-packages\\sklearn\\linear_model\\_logistic.py:444: ConvergenceWarning: lbfgs failed to converge (status=1):\n",
      "STOP: TOTAL NO. of ITERATIONS REACHED LIMIT.\n",
      "\n",
      "Increase the number of iterations (max_iter) or scale the data as shown in:\n",
      "    https://scikit-learn.org/stable/modules/preprocessing.html\n",
      "Please also refer to the documentation for alternative solver options:\n",
      "    https://scikit-learn.org/stable/modules/linear_model.html#logistic-regression\n",
      "  n_iter_i = _check_optimize_result(\n",
      "\u001B[32m[I 2022-05-23 22:55:56,487]\u001B[0m Trial 6 finished with values: [0.718689949035007, 0.7461699361184917] and parameters: {'C': 3.0497469543188043}. \u001B[0m\n",
      "C:\\Users\\Tuszyn\\.virtualenvs\\JT_praca_magisterska\\lib\\site-packages\\sklearn\\linear_model\\_logistic.py:444: ConvergenceWarning: lbfgs failed to converge (status=1):\n",
      "STOP: TOTAL NO. of ITERATIONS REACHED LIMIT.\n",
      "\n",
      "Increase the number of iterations (max_iter) or scale the data as shown in:\n",
      "    https://scikit-learn.org/stable/modules/preprocessing.html\n",
      "Please also refer to the documentation for alternative solver options:\n",
      "    https://scikit-learn.org/stable/modules/linear_model.html#logistic-regression\n",
      "  n_iter_i = _check_optimize_result(\n",
      "\u001B[32m[I 2022-05-23 22:55:56,833]\u001B[0m Trial 7 finished with values: [0.7186063998663214, 0.7459187708298028] and parameters: {'C': 3.4636796846595077}. \u001B[0m\n",
      "C:\\Users\\Tuszyn\\.virtualenvs\\JT_praca_magisterska\\lib\\site-packages\\sklearn\\linear_model\\_logistic.py:444: ConvergenceWarning: lbfgs failed to converge (status=1):\n",
      "STOP: TOTAL NO. of ITERATIONS REACHED LIMIT.\n",
      "\n",
      "Increase the number of iterations (max_iter) or scale the data as shown in:\n",
      "    https://scikit-learn.org/stable/modules/preprocessing.html\n",
      "Please also refer to the documentation for alternative solver options:\n",
      "    https://scikit-learn.org/stable/modules/linear_model.html#logistic-regression\n",
      "  n_iter_i = _check_optimize_result(\n",
      "\u001B[32m[I 2022-05-23 22:55:57,180]\u001B[0m Trial 8 finished with values: [0.7188570473723787, 0.7464780763790665] and parameters: {'C': 1.3783759539912495}. \u001B[0m\n",
      "C:\\Users\\Tuszyn\\.virtualenvs\\JT_praca_magisterska\\lib\\site-packages\\sklearn\\linear_model\\_logistic.py:444: ConvergenceWarning: lbfgs failed to converge (status=1):\n",
      "STOP: TOTAL NO. of ITERATIONS REACHED LIMIT.\n",
      "\n",
      "Increase the number of iterations (max_iter) or scale the data as shown in:\n",
      "    https://scikit-learn.org/stable/modules/preprocessing.html\n",
      "Please also refer to the documentation for alternative solver options:\n",
      "    https://scikit-learn.org/stable/modules/linear_model.html#logistic-regression\n",
      "  n_iter_i = _check_optimize_result(\n",
      "\u001B[32m[I 2022-05-23 22:55:57,541]\u001B[0m Trial 9 finished with values: [0.7190241457097502, 0.7463403605945854] and parameters: {'C': 10.78371121283263}. \u001B[0m\n"
     ]
    }
   ],
   "source": [
    "study = optuna.create_study(study_name=\"lr\", directions=[\"maximize\", \"maximize\"])\n",
    "study.optimize(objective, n_trials=10, callbacks=[mlflow_callback])"
   ],
   "metadata": {
    "collapsed": false,
    "pycharm": {
     "name": "#%%\n"
    }
   }
  }
 ],
 "metadata": {
  "kernelspec": {
   "display_name": "Python 3",
   "language": "python",
   "name": "python3"
  },
  "language_info": {
   "codemirror_mode": {
    "name": "ipython",
    "version": 2
   },
   "file_extension": ".py",
   "mimetype": "text/x-python",
   "name": "python",
   "nbconvert_exporter": "python",
   "pygments_lexer": "ipython2",
   "version": "2.7.6"
  }
 },
 "nbformat": 4,
 "nbformat_minor": 0
}