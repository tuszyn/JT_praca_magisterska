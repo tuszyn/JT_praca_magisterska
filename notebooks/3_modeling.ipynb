{
 "cells": [
  {
   "cell_type": "code",
   "execution_count": 8,
   "metadata": {
    "collapsed": true,
    "pycharm": {
     "name": "#%%\n"
    }
   },
   "outputs": [],
   "source": [
    "from pathlib import Path\n",
    "\n",
    "import optuna\n",
    "import pandas as pd\n",
    "import numpy as np\n",
    "from sklearn.model_selection import train_test_split\n",
    "from sklearn.pipeline import make_pipeline\n",
    "from sklearn.preprocessing import StandardScaler\n",
    "from sklearn.impute import SimpleImputer\n",
    "\n",
    "from sklearn.model_selection import cross_validate\n",
    "\n",
    "from sklearn.metrics import accuracy_score, precision_score, f1_score, recall_score\n",
    "import mlflow\n",
    "from optuna.integration import MLflowCallback\n",
    "\n",
    "from sklearn.tree import DecisionTreeClassifier\n",
    "from sklearn.linear_model import LogisticRegression"
   ]
  },
  {
   "cell_type": "code",
   "execution_count": 9,
   "outputs": [],
   "source": [
    "# Set tracking URI\n",
    "MODEL_REGISTRY = Path(\"experiments\")\n",
    "#Path(MODEL_REGISTRY).mkdir(exist_ok=True)  # create experiments dir\n",
    "mlflow.set_tracking_uri(\"file:///\" + str(MODEL_REGISTRY.absolute()))"
   ],
   "metadata": {
    "collapsed": false,
    "pycharm": {
     "name": "#%%\n"
    }
   }
  },
  {
   "cell_type": "code",
   "execution_count": 3,
   "outputs": [],
   "source": [
    "df = pd.read_csv(\"../data/proccessed/globalterrordb_proccesed.csv\", index_col=0)"
   ],
   "metadata": {
    "collapsed": false,
    "pycharm": {
     "name": "#%%\n"
    }
   }
  },
  {
   "cell_type": "code",
   "execution_count": 11,
   "outputs": [],
   "source": [
    "train = pd.read_csv(\"../data/modeling/train.csv\")\n",
    "test = pd.read_csv(\"../data/modeling/test.csv\")"
   ],
   "metadata": {
    "collapsed": false,
    "pycharm": {
     "name": "#%%\n"
    }
   }
  },
  {
   "cell_type": "code",
   "execution_count": 12,
   "outputs": [],
   "source": [
    "X_train = train.drop(\"cas_class\", axis=1)\n",
    "y_train = train[\"cas_class\"]\n",
    "X_test = test.drop(\"cas_class\", axis=1)\n",
    "y_test = test[\"cas_class\"]"
   ],
   "metadata": {
    "collapsed": false,
    "pycharm": {
     "name": "#%%\n"
    }
   }
  },
  {
   "cell_type": "code",
   "execution_count": 4,
   "outputs": [],
   "source": [
    "# df.fillna(value=-9, inplace=True)"
   ],
   "metadata": {
    "collapsed": false,
    "pycharm": {
     "name": "#%%\n"
    }
   }
  },
  {
   "cell_type": "markdown",
   "source": [
    "Podział danych"
   ],
   "metadata": {
    "collapsed": false,
    "pycharm": {
     "name": "#%% md\n"
    }
   }
  },
  {
   "cell_type": "code",
   "execution_count": 5,
   "outputs": [],
   "source": [
    "# df.drop([\"countries_count\", \"group_count\"], axis=1, inplace=True)"
   ],
   "metadata": {
    "collapsed": false,
    "pycharm": {
     "name": "#%%\n"
    }
   }
  },
  {
   "cell_type": "code",
   "execution_count": 6,
   "outputs": [],
   "source": [
    "# y = df[\"cas_class\"]\n",
    "# X = df.drop(\"cas_class\", axis=1)"
   ],
   "metadata": {
    "collapsed": false,
    "pycharm": {
     "name": "#%%\n"
    }
   }
  },
  {
   "cell_type": "code",
   "execution_count": 7,
   "outputs": [],
   "source": [
    "# X_train, X_test, y_train, y_test = train_test_split(X, y, random_state=42, test_size=0.2, stratify=y)"
   ],
   "metadata": {
    "collapsed": false,
    "pycharm": {
     "name": "#%%\n"
    }
   }
  },
  {
   "cell_type": "code",
   "execution_count": 45,
   "outputs": [],
   "source": [
    "# X_train, X_val, y_train, y_val = train_test_split(X, y, random_state=42, test_size=0.2, stratify=y)\n",
    "# X_train, X_test, y_train, y_test = train_test_split(X_train, y_train, random_state=42, test_size=0.25, stratify=y_train)"
   ],
   "metadata": {
    "collapsed": false,
    "pycharm": {
     "name": "#%%\n"
    }
   }
  },
  {
   "cell_type": "markdown",
   "source": [
    "Transformacje danych"
   ],
   "metadata": {
    "collapsed": false,
    "pycharm": {
     "name": "#%% md\n"
    }
   }
  },
  {
   "cell_type": "code",
   "execution_count": 8,
   "outputs": [],
   "source": [
    "# impute_value = -9"
   ],
   "metadata": {
    "collapsed": false,
    "pycharm": {
     "name": "#%%\n"
    }
   }
  },
  {
   "cell_type": "code",
   "execution_count": 9,
   "outputs": [],
   "source": [
    "# pipeline = make_pipeline(SimpleImputer(missing_values=np.nan, strategy=\"constant\", fill_value=impute_value),\n",
    "#                          StandardScaler())"
   ],
   "metadata": {
    "collapsed": false,
    "pycharm": {
     "name": "#%%\n"
    }
   }
  },
  {
   "cell_type": "code",
   "execution_count": 10,
   "outputs": [
    {
     "data": {
      "text/plain": "array([[-0.20454128,  0.96113541,  0.55877667, ...,  0.92544313,\n        -0.14801657,  0.84629142],\n       [-0.20454128, -0.45858041,  0.37822996, ..., -1.01618403,\n        -0.14801657, -1.08281702],\n       [-0.20454128, -1.52336728, -3.19162718, ..., -1.01618403,\n        -0.14801657, -1.08281702],\n       ...,\n       [-0.20454128, -2.2332252 ,  0.96673904, ...,  1.14117949,\n         1.97519523,  1.0606368 ],\n       [-0.20454128, -1.87829624, -0.53769926, ...,  0.92544313,\n        -0.14801657,  0.84629142],\n       [-0.20454128,  0.60620645,  1.48783997, ..., -1.01618403,\n        -0.14801657, -1.08281702]])"
     },
     "execution_count": 10,
     "metadata": {},
     "output_type": "execute_result"
    }
   ],
   "source": [
    "# pipeline.fit_transform(X_train)"
   ],
   "metadata": {
    "collapsed": false,
    "pycharm": {
     "name": "#%%\n"
    }
   }
  },
  {
   "cell_type": "code",
   "execution_count": 11,
   "outputs": [
    {
     "data": {
      "text/plain": "array([[-0.20454128,  0.2512775 ,  1.11346144, ...,  0.92544313,\n        -0.14801657,  0.84629142],\n       [-0.20454128, -1.52336728, -2.05252351, ..., -1.01618403,\n        -0.14801657, -1.08281702],\n       [-0.20454128, -0.45858041,  0.01885846, ..., -1.01618403,\n        -0.14801657, -1.08281702],\n       ...,\n       [-0.20454128,  1.67099332, -3.10661319, ..., -1.01618403,\n        -0.14801657, -1.08281702],\n       [-0.20454128, -1.52336728, -1.18432961, ...,  0.92544313,\n        -0.14801657,  0.84629142],\n       [-0.20454128, -0.45858041,  0.45137931, ..., -1.01618403,\n        -0.14801657, -1.08281702]])"
     },
     "execution_count": 11,
     "metadata": {},
     "output_type": "execute_result"
    }
   ],
   "source": [
    "# pipeline.transform(X_val)\n",
    "# pipeline.transform(X_test)"
   ],
   "metadata": {
    "collapsed": false,
    "pycharm": {
     "name": "#%%\n"
    }
   }
  },
  {
   "cell_type": "markdown",
   "source": [
    "Wyszukiwanie hiperparametrów w regresji logistycznej"
   ],
   "metadata": {
    "collapsed": false,
    "pycharm": {
     "name": "#%% md\n"
    }
   }
  },
  {
   "cell_type": "code",
   "execution_count": 38,
   "outputs": [],
   "source": [
    "def objective(trial):\n",
    "    params = {\n",
    "        \"C\": trial.suggest_loguniform(\"C\", 1e-2, 1),\n",
    "        \"tol\": trial.suggest_uniform(\"tol\", 1e-6, 1e-3),\n",
    "        \"class_weight\": trial.suggest_categorical(\"class_weight\", [\"balanced\"]),\n",
    "        \"max_iter\": trial.suggest_categorical(\"max_iter\", [500])\n",
    "    }\n",
    "\n",
    "    model = LogisticRegression(**params)\n",
    "    # model.fit(X_train, y_train)\n",
    "    # preds = model.predict(X_val)\n",
    "    #\n",
    "    # accuracy = accuracy_score(y_val, preds)\n",
    "    # precision = precision_score(y_val, preds)\n",
    "    # recall = recall_score(y_val, preds)\n",
    "    # f1 = f1_score(y_val, preds)\n",
    "    scoring = [\"accuracy\", \"precision\", \"recall\", \"f1\"]\n",
    "\n",
    "    preds = cross_validate(model, X_train, y_train, cv=5, n_jobs=-1, scoring=scoring)\n",
    "\n",
    "    accuracy = np.mean(preds[\"test_accuracy\"])\n",
    "    precision = np.mean(preds[\"test_precision\"])\n",
    "    recall = np.mean(preds[\"test_recall\"])\n",
    "    f1 = np.mean(preds[\"test_f1\"])\n",
    "\n",
    "    return accuracy, precision, recall, f1\n"
   ],
   "metadata": {
    "collapsed": false,
    "pycharm": {
     "name": "#%%\n"
    }
   }
  },
  {
   "cell_type": "code",
   "execution_count": 39,
   "outputs": [
    {
     "name": "stderr",
     "output_type": "stream",
     "text": [
      "C:\\Users\\Tuszyn\\AppData\\Local\\Temp\\ipykernel_16672\\3644345758.py:1: ExperimentalWarning: MLflowCallback is experimental (supported from v1.4.0). The interface can change in the future.\n",
      "  mlflow_callback = MLflowCallback(\n"
     ]
    }
   ],
   "source": [
    "mlflow_callback = MLflowCallback(\n",
    "    tracking_uri=mlflow.get_tracking_uri(), metric_name=[\"accuracy\", \"precision\", \"recall\", \"f1\"])"
   ],
   "metadata": {
    "collapsed": false,
    "pycharm": {
     "name": "#%%\n"
    }
   }
  },
  {
   "cell_type": "code",
   "execution_count": 40,
   "outputs": [
    {
     "name": "stderr",
     "output_type": "stream",
     "text": [
      "\u001B[32m[I 2022-05-30 20:54:33,857]\u001B[0m A new study created in memory with name: lr\u001B[0m\n",
      "\u001B[32m[I 2022-05-30 20:54:37,120]\u001B[0m Trial 0 finished with values: [0.7640465661943868, 0.8232097786958384, 0.7612834924333025, 0.7910334237926059] and parameters: {'C': 1.0510372293460541, 'class_weight': 'balanced', 'max_iter': 500}. \u001B[0m\n",
      "\u001B[32m[I 2022-05-30 20:54:39,534]\u001B[0m Trial 1 finished with values: [0.7640375417381103, 0.8231959627757112, 0.7612834924333025, 0.7910270764201621] and parameters: {'C': 3.00221789283994, 'class_weight': 'balanced', 'max_iter': 500}. \u001B[0m\n",
      "\u001B[32m[I 2022-05-30 20:54:41,451]\u001B[0m Trial 2 finished with values: [0.7640646151069398, 0.8232263934551382, 0.7612988758653461, 0.7910493664907183] and parameters: {'C': 4.931839361553541, 'class_weight': 'balanced', 'max_iter': 500}. \u001B[0m\n",
      "\u001B[32m[I 2022-05-30 20:54:42,861]\u001B[0m Trial 3 finished with values: [0.7640646151069398, 0.8232261893502141, 0.7612988758653461, 0.7910493455073438] and parameters: {'C': 5.331678115985939, 'class_weight': 'balanced', 'max_iter': 500}. \u001B[0m\n",
      "\u001B[32m[I 2022-05-30 20:54:44,371]\u001B[0m Trial 4 finished with values: [0.7640555906506633, 0.8232233905110415, 0.7612834924333025, 0.7910397501816753] and parameters: {'C': 3.2715022538798015, 'class_weight': 'balanced', 'max_iter': 500}. \u001B[0m\n",
      "\u001B[32m[I 2022-05-30 20:54:45,835]\u001B[0m Trial 5 finished with values: [0.7640555906506633, 0.8232232359879234, 0.7612834924333025, 0.7910396917479192] and parameters: {'C': 1.5493875300152797, 'class_weight': 'balanced', 'max_iter': 500}. \u001B[0m\n",
      "\u001B[32m[I 2022-05-30 20:54:47,329]\u001B[0m Trial 6 finished with values: [0.7640555906506633, 0.8232125279532051, 0.7612988758653461, 0.791043056568656] and parameters: {'C': 2.0506983910074483, 'class_weight': 'balanced', 'max_iter': 500}. \u001B[0m\n",
      "\u001B[32m[I 2022-05-30 20:54:48,851]\u001B[0m Trial 7 finished with values: [0.7640555906506633, 0.8232339176054578, 0.7612681090012587, 0.791036376858737] and parameters: {'C': 1.3321312606236069, 'class_weight': 'balanced', 'max_iter': 500}. \u001B[0m\n",
      "\u001B[32m[I 2022-05-30 20:54:50,319]\u001B[0m Trial 8 finished with values: [0.7640646151069398, 0.8232370737874625, 0.7612834924333025, 0.791046052639033] and parameters: {'C': 2.380326266130396, 'class_weight': 'balanced', 'max_iter': 500}. \u001B[0m\n",
      "\u001B[32m[I 2022-05-30 20:54:51,737]\u001B[0m Trial 9 finished with values: [0.7640375417381103, 0.8231959627757112, 0.7612834924333025, 0.7910270764201621] and parameters: {'C': 9.747971321392287, 'class_weight': 'balanced', 'max_iter': 500}. \u001B[0m\n"
     ]
    }
   ],
   "source": [
    "study = optuna.create_study(study_name=\"lr\", directions=[\"maximize\", \"maximize\", \"maximize\", \"maximize\"])\n",
    "study.optimize(objective, n_trials=10, callbacks=[mlflow_callback])"
   ],
   "metadata": {
    "collapsed": false,
    "pycharm": {
     "name": "#%%\n"
    }
   }
  },
  {
   "cell_type": "markdown",
   "source": [
    "Wyszukiwanie hiperparametrów drzewo decyzyjne"
   ],
   "metadata": {
    "collapsed": false,
    "pycharm": {
     "name": "#%% md\n"
    }
   }
  },
  {
   "cell_type": "code",
   "execution_count": 36,
   "outputs": [],
   "source": [
    "def objective(trial):\n",
    "    params = {\n",
    "        \"max_depth\": trial.suggest_int(\"max_depth\", 10, 40),\n",
    "        \"min_samples_leaf\": trial.suggest_int(\"min_samples_leaf\", 2, 50),\n",
    "        \"max_features\": trial.suggest_categorical(\"max_features\", [None]),\n",
    "        \"class_weight\": trial.suggest_categorical(\"class_weight\", [None, \"balanced\"]),\n",
    "    }\n",
    "\n",
    "    model = DecisionTreeClassifier(**params)\n",
    "    # model.fit(X_train, y_train)\n",
    "    # preds = model.predict(X_val)\n",
    "\n",
    "    scoring = [\"accuracy\", \"precision\", \"recall\", \"f1\"]\n",
    "\n",
    "    preds = cross_validate(model, X_train, y_train, cv=5, n_jobs=-1, scoring=scoring)\n",
    "\n",
    "    accuracy = np.mean(preds[\"test_accuracy\"])\n",
    "    precision = np.mean(preds[\"test_precision\"])\n",
    "    recall = np.mean(preds[\"test_recall\"])\n",
    "    f1 = np.mean(preds[\"test_f1\"])\n",
    "\n",
    "    # accuracy = accuracy_score(y_val, preds)\n",
    "    # precision = precision_score(y_val, preds)\n",
    "    # recall = recall_score(y_val, preds)\n",
    "    # f1 = f1_score(y_val, preds)\n",
    "\n",
    "    return accuracy, precision, recall, f1"
   ],
   "metadata": {
    "collapsed": false,
    "pycharm": {
     "name": "#%%\n"
    }
   }
  },
  {
   "cell_type": "code",
   "execution_count": 37,
   "outputs": [
    {
     "name": "stderr",
     "output_type": "stream",
     "text": [
      "\u001B[32m[I 2022-05-30 20:47:50,643]\u001B[0m A new study created in memory with name: dt\u001B[0m\n",
      "\u001B[32m[I 2022-05-30 20:47:53,456]\u001B[0m Trial 0 finished with values: [0.8497969497337785, 0.8697183309725827, 0.8750423479192098, 0.8497969497337785] and parameters: {'max_depth': 31, 'min_samples_leaf': 15, 'max_features': None, 'class_weight': None}. \u001B[0m\n",
      "\u001B[32m[I 2022-05-30 20:47:55,517]\u001B[0m Trial 1 finished with values: [0.8470986373071021, 0.887302662736327, 0.8469371370282935, 0.8470986373071021] and parameters: {'max_depth': 24, 'min_samples_leaf': 30, 'max_features': None, 'class_weight': 'balanced'}. \u001B[0m\n",
      "\u001B[32m[I 2022-05-30 20:47:57,142]\u001B[0m Trial 2 finished with values: [0.8408627380200343, 0.8878618520335539, 0.8341536043853359, 0.8408627380200343] and parameters: {'max_depth': 13, 'min_samples_leaf': 36, 'max_features': None, 'class_weight': 'balanced'}. \u001B[0m\n",
      "\u001B[32m[I 2022-05-30 20:47:58,172]\u001B[0m Trial 3 finished with values: [0.8488313329121919, 0.8657314563942877, 0.8785804497354995, 0.8488313329121919] and parameters: {'max_depth': 31, 'min_samples_leaf': 49, 'max_features': None, 'class_weight': None}. \u001B[0m\n",
      "\u001B[32m[I 2022-05-30 20:47:59,355]\u001B[0m Trial 4 finished with values: [0.8404927353126974, 0.8755855516910852, 0.8487062802228328, 0.8404927353126974] and parameters: {'max_depth': 28, 'min_samples_leaf': 5, 'max_features': None, 'class_weight': 'balanced'}. \u001B[0m\n",
      "\u001B[32m[I 2022-05-30 20:48:00,481]\u001B[0m Trial 5 finished with values: [0.8504467105856872, 0.8685907101249006, 0.8778882154072349, 0.8504467105856872] and parameters: {'max_depth': 34, 'min_samples_leaf': 19, 'max_features': None, 'class_weight': None}. \u001B[0m\n",
      "\u001B[32m[I 2022-05-30 20:48:02,001]\u001B[0m Trial 6 finished with values: [0.8403032217308907, 0.8811932898014314, 0.8411992659540193, 0.8403032217308907] and parameters: {'max_depth': 35, 'min_samples_leaf': 6, 'max_features': None, 'class_weight': 'balanced'}. \u001B[0m\n",
      "\u001B[32m[I 2022-05-30 20:48:03,157]\u001B[0m Trial 7 finished with values: [0.8457539933219025, 0.8869575756021406, 0.8447527488360349, 0.8457539933219025] and parameters: {'max_depth': 19, 'min_samples_leaf': 18, 'max_features': None, 'class_weight': 'balanced'}. \u001B[0m\n",
      "\u001B[32m[I 2022-05-30 20:48:04,358]\u001B[0m Trial 8 finished with values: [0.843940077610324, 0.8836884128425322, 0.8452295867198742, 0.843940077610324] and parameters: {'max_depth': 28, 'min_samples_leaf': 9, 'max_features': None, 'class_weight': 'balanced'}. \u001B[0m\n",
      "\u001B[32m[I 2022-05-30 20:48:05,509]\u001B[0m Trial 9 finished with values: [0.8468549769876365, 0.887555038775513, 0.8461679618766323, 0.8468549769876365] and parameters: {'max_depth': 27, 'min_samples_leaf': 37, 'max_features': None, 'class_weight': 'balanced'}. \u001B[0m\n",
      "\u001B[32m[I 2022-05-30 20:48:06,605]\u001B[0m Trial 10 finished with values: [0.8492103600758053, 0.8672718763344773, 0.8772267716062355, 0.8492103600758053] and parameters: {'max_depth': 16, 'min_samples_leaf': 45, 'max_features': None, 'class_weight': None}. \u001B[0m\n",
      "\u001B[32m[I 2022-05-30 20:48:07,724]\u001B[0m Trial 11 finished with values: [0.8470535150257199, 0.8879967925629018, 0.8459987808020777, 0.8470535150257199] and parameters: {'max_depth': 40, 'min_samples_leaf': 43, 'max_features': None, 'class_weight': 'balanced'}. \u001B[0m\n",
      "\u001B[32m[I 2022-05-30 20:48:08,931]\u001B[0m Trial 12 finished with values: [0.8515476942514214, 0.869317552505475, 0.8791034237175632, 0.8515476942514214] and parameters: {'max_depth': 36, 'min_samples_leaf': 26, 'max_features': None, 'class_weight': None}. \u001B[0m\n",
      "\u001B[32m[I 2022-05-30 20:48:10,161]\u001B[0m Trial 13 finished with values: [0.8469452215504015, 0.869224133208425, 0.8700119940367372, 0.8469452215504015] and parameters: {'max_depth': 14, 'min_samples_leaf': 4, 'max_features': None, 'class_weight': None}. \u001B[0m\n",
      "\u001B[32m[I 2022-05-30 20:48:11,346]\u001B[0m Trial 14 finished with values: [0.8503654904791986, 0.8666664791733016, 0.8803802095329456, 0.8503654904791986] and parameters: {'max_depth': 26, 'min_samples_leaf': 35, 'max_features': None, 'class_weight': None}. \u001B[0m\n",
      "\u001B[32m[I 2022-05-30 20:48:12,550]\u001B[0m Trial 15 finished with values: [0.8500767078783504, 0.8669197738354464, 0.8794419089151981, 0.8500767078783504] and parameters: {'max_depth': 39, 'min_samples_leaf': 38, 'max_features': None, 'class_weight': None}. \u001B[0m\n",
      "\u001B[32m[I 2022-05-30 20:48:13,827]\u001B[0m Trial 16 finished with values: [0.8374785669163434, 0.8726564526030851, 0.8464911109685801, 0.8374785669163434] and parameters: {'max_depth': 31, 'min_samples_leaf': 4, 'max_features': None, 'class_weight': None}. \u001B[0m\n",
      "\u001B[32m[I 2022-05-30 20:48:15,130]\u001B[0m Trial 17 finished with values: [0.8464939987365762, 0.8882391466657052, 0.8446142600865569, 0.8464939987365762] and parameters: {'max_depth': 36, 'min_samples_leaf': 38, 'max_features': None, 'class_weight': 'balanced'}. \u001B[0m\n",
      "\u001B[32m[I 2022-05-30 20:48:16,328]\u001B[0m Trial 18 finished with values: [0.8502030502662216, 0.8690005417608713, 0.8768421858051433, 0.8502030502662216] and parameters: {'max_depth': 18, 'min_samples_leaf': 19, 'max_features': None, 'class_weight': None}. \u001B[0m\n",
      "\u001B[32m[I 2022-05-30 20:48:17,423]\u001B[0m Trial 19 finished with values: [0.8484613302048551, 0.8706246613396221, 0.871150274538417, 0.8484613302048551] and parameters: {'max_depth': 24, 'min_samples_leaf': 9, 'max_features': None, 'class_weight': None}. \u001B[0m\n",
      "\u001B[32m[I 2022-05-30 20:48:18,672]\u001B[0m Trial 20 finished with values: [0.8473603465391208, 0.8878604307752973, 0.8467679015284295, 0.8473603465391208] and parameters: {'max_depth': 28, 'min_samples_leaf': 32, 'max_features': None, 'class_weight': 'balanced'}. \u001B[0m\n",
      "\u001B[32m[I 2022-05-30 20:48:19,736]\u001B[0m Trial 21 finished with values: [0.8470535150257197, 0.887369376709595, 0.846767919275813, 0.8470535150257197] and parameters: {'max_depth': 32, 'min_samples_leaf': 31, 'max_features': None, 'class_weight': 'balanced'}. \u001B[0m\n",
      "\u001B[32m[I 2022-05-30 20:48:20,705]\u001B[0m Trial 22 finished with values: [0.8496525584333543, 0.8664134916977323, 0.8792880958916216, 0.8496525584333543] and parameters: {'max_depth': 34, 'min_samples_leaf': 47, 'max_features': None, 'class_weight': None}. \u001B[0m\n",
      "\u001B[32m[I 2022-05-30 20:48:21,827]\u001B[0m Trial 23 finished with values: [0.8421532352675751, 0.8704457081056592, 0.8587514957051153, 0.8421532352675751] and parameters: {'max_depth': 38, 'min_samples_leaf': 6, 'max_features': None, 'class_weight': None}. \u001B[0m\n",
      "\u001B[32m[I 2022-05-30 20:48:23,038]\u001B[0m Trial 24 finished with values: [0.8470174172006135, 0.8876625458464504, 0.8463372340544225, 0.8470174172006135] and parameters: {'max_depth': 36, 'min_samples_leaf': 47, 'max_features': None, 'class_weight': 'balanced'}. \u001B[0m\n",
      "\u001B[32m[I 2022-05-30 20:48:24,202]\u001B[0m Trial 25 finished with values: [0.8481544986914539, 0.8699554479609747, 0.8714425526482936, 0.8481544986914539] and parameters: {'max_depth': 37, 'min_samples_leaf': 9, 'max_features': None, 'class_weight': None}. \u001B[0m\n",
      "\u001B[32m[I 2022-05-30 20:48:25,353]\u001B[0m Trial 26 finished with values: [0.8458081400595614, 0.8863132112976903, 0.8456449760629798, 0.8458081400595614] and parameters: {'max_depth': 21, 'min_samples_leaf': 20, 'max_features': None, 'class_weight': 'balanced'}. \u001B[0m\n",
      "\u001B[32m[I 2022-05-30 20:48:26,356]\u001B[0m Trial 27 finished with values: [0.8402039527118491, 0.8851958091470342, 0.836107568831955, 0.8402039527118491] and parameters: {'max_depth': 14, 'min_samples_leaf': 2, 'max_features': None, 'class_weight': 'balanced'}. \u001B[0m\n",
      "\u001B[32m[I 2022-05-30 20:48:27,291]\u001B[0m Trial 28 finished with values: [0.833200974641278, 0.8804537077930972, 0.8282155937006774, 0.833200974641278] and parameters: {'max_depth': 10, 'min_samples_leaf': 32, 'max_features': None, 'class_weight': 'balanced'}. \u001B[0m\n",
      "\u001B[32m[I 2022-05-30 20:48:28,396]\u001B[0m Trial 29 finished with values: [0.851222813825467, 0.868080698566032, 0.8801494687007203, 0.851222813825467] and parameters: {'max_depth': 23, 'min_samples_leaf': 33, 'max_features': None, 'class_weight': None}. \u001B[0m\n",
      "\u001B[32m[I 2022-05-30 20:48:29,438]\u001B[0m Trial 30 finished with values: [0.8512679361068496, 0.8679013363404884, 0.8804879042056815, 0.8512679361068496] and parameters: {'max_depth': 25, 'min_samples_leaf': 33, 'max_features': None, 'class_weight': None}. \u001B[0m\n",
      "\u001B[32m[I 2022-05-30 20:48:30,575]\u001B[0m Trial 31 finished with values: [0.8498781698402672, 0.8663094113909686, 0.8798880461918486, 0.8498781698402672] and parameters: {'max_depth': 23, 'min_samples_leaf': 43, 'max_features': None, 'class_weight': None}. \u001B[0m\n",
      "\u001B[32m[I 2022-05-30 20:48:31,614]\u001B[0m Trial 32 finished with values: [0.8421261618987457, 0.8880485895978889, 0.8363844114507965, 0.8421261618987457] and parameters: {'max_depth': 14, 'min_samples_leaf': 49, 'max_features': None, 'class_weight': 'balanced'}. \u001B[0m\n",
      "\u001B[32m[I 2022-05-30 20:48:32,680]\u001B[0m Trial 33 finished with values: [0.851078422525043, 0.8691383770495674, 0.8784112047703643, 0.851078422525043] and parameters: {'max_depth': 33, 'min_samples_leaf': 21, 'max_features': None, 'class_weight': None}. \u001B[0m\n",
      "\u001B[32m[I 2022-05-30 20:48:33,835]\u001B[0m Trial 34 finished with values: [0.8403754173811027, 0.8813169529829601, 0.8411838683240689, 0.8403754173811027] and parameters: {'max_depth': 33, 'min_samples_leaf': 6, 'max_features': None, 'class_weight': 'balanced'}. \u001B[0m\n",
      "\u001B[32m[I 2022-05-30 20:48:35,017]\u001B[0m Trial 35 finished with values: [0.8465391210179586, 0.8883113560086013, 0.8446142612697157, 0.8465391210179586] and parameters: {'max_depth': 24, 'min_samples_leaf': 38, 'max_features': None, 'class_weight': 'balanced'}. \u001B[0m\n",
      "\u001B[32m[I 2022-05-30 20:48:36,093]\u001B[0m Trial 36 finished with values: [0.8496074361519718, 0.8698205380673801, 0.8745193254276312, 0.8496074361519718] and parameters: {'max_depth': 23, 'min_samples_leaf': 16, 'max_features': None, 'class_weight': None}. \u001B[0m\n",
      "\u001B[32m[I 2022-05-30 20:48:37,103]\u001B[0m Trial 37 finished with values: [0.849679631802184, 0.8672137364448531, 0.8782419870178835, 0.849679631802184] and parameters: {'max_depth': 15, 'min_samples_leaf': 29, 'max_features': None, 'class_weight': None}. \u001B[0m\n",
      "\u001B[32m[I 2022-05-30 20:48:38,342]\u001B[0m Trial 38 finished with values: [0.8452486237704179, 0.8868856183242784, 0.8438451310780929, 0.8452486237704179] and parameters: {'max_depth': 24, 'min_samples_leaf': 21, 'max_features': None, 'class_weight': 'balanced'}. \u001B[0m\n",
      "\u001B[32m[I 2022-05-30 20:48:39,435]\u001B[0m Trial 39 finished with values: [0.8466925367746594, 0.8874691095800271, 0.8459372790191935, 0.8466925367746594] and parameters: {'max_depth': 26, 'min_samples_leaf': 50, 'max_features': None, 'class_weight': 'balanced'}. \u001B[0m\n",
      "\u001B[32m[I 2022-05-30 20:48:40,621]\u001B[0m Trial 40 finished with values: [0.8471347351322083, 0.8879476066202653, 0.8462141843454566, 0.8471347351322083] and parameters: {'max_depth': 34, 'min_samples_leaf': 49, 'max_features': None, 'class_weight': 'balanced'}. \u001B[0m\n",
      "\u001B[32m[I 2022-05-30 20:48:41,645]\u001B[0m Trial 41 finished with values: [0.8471257106759318, 0.8881347036468952, 0.8459680269527384, 0.8471257106759318] and parameters: {'max_depth': 40, 'min_samples_leaf': 44, 'max_features': None, 'class_weight': 'balanced'}. \u001B[0m\n",
      "\u001B[32m[I 2022-05-30 20:48:42,643]\u001B[0m Trial 42 finished with values: [0.8488403573684685, 0.8657666969595098, 0.8785496852377299, 0.8488403573684685] and parameters: {'max_depth': 23, 'min_samples_leaf': 49, 'max_features': None, 'class_weight': None}. \u001B[0m\n",
      "\u001B[32m[I 2022-05-30 20:48:43,807]\u001B[0m Trial 43 finished with values: [0.8465030231928526, 0.8880783345613829, 0.8448296387835986, 0.8465030231928526] and parameters: {'max_depth': 31, 'min_samples_leaf': 39, 'max_features': None, 'class_weight': 'balanced'}. \u001B[0m\n",
      "\u001B[32m[I 2022-05-30 20:48:44,950]\u001B[0m Trial 44 finished with values: [0.8515476942514214, 0.8695089851135865, 0.8788419503328587, 0.8515476942514214] and parameters: {'max_depth': 18, 'min_samples_leaf': 26, 'max_features': None, 'class_weight': None}. \u001B[0m\n",
      "\u001B[32m[I 2022-05-30 20:48:46,103]\u001B[0m Trial 45 finished with values: [0.8469903438317841, 0.8882710781461132, 0.8455372849397206, 0.8469903438317841] and parameters: {'max_depth': 31, 'min_samples_leaf': 33, 'max_features': None, 'class_weight': 'balanced'}. \u001B[0m\n",
      "\u001B[32m[I 2022-05-30 20:48:47,238]\u001B[0m Trial 46 finished with values: [0.8493006046385705, 0.8661798966157763, 0.8789035112736882, 0.8493006046385705] and parameters: {'max_depth': 31, 'min_samples_leaf': 48, 'max_features': None, 'class_weight': None}. \u001B[0m\n",
      "\u001B[32m[I 2022-05-30 20:48:48,401]\u001B[0m Trial 47 finished with values: [0.8496435339770778, 0.8700563321975283, 0.8742731798665021, 0.8496435339770778] and parameters: {'max_depth': 31, 'min_samples_leaf': 16, 'max_features': None, 'class_weight': None}. \u001B[0m\n",
      "\u001B[32m[I 2022-05-30 20:48:49,626]\u001B[0m Trial 48 finished with values: [0.8466564389495532, 0.8877291365383707, 0.8455526506243807, 0.8466564389495532] and parameters: {'max_depth': 33, 'min_samples_leaf': 29, 'max_features': None, 'class_weight': 'balanced'}. \u001B[0m\n",
      "\u001B[32m[I 2022-05-30 20:48:50,801]\u001B[0m Trial 49 finished with values: [0.8471257106759319, 0.8875322982778435, 0.8467063890971149, 0.8471257106759319] and parameters: {'max_depth': 32, 'min_samples_leaf': 31, 'max_features': None, 'class_weight': 'balanced'}. \u001B[0m\n"
     ]
    }
   ],
   "source": [
    "study = optuna.create_study(study_name=\"dt\", directions=[\"maximize\", \"maximize\", \"maximize\", \"maximize\"])\n",
    "study.optimize(objective, n_trials=50, callbacks=[mlflow_callback])"
   ],
   "metadata": {
    "collapsed": false,
    "pycharm": {
     "name": "#%%\n"
    }
   }
  },
  {
   "cell_type": "code",
   "execution_count": 16,
   "outputs": [
    {
     "name": "stdout",
     "output_type": "stream",
     "text": [
      "file:///C:\\Users\\Tuszyn\\Desktop\\JT_praca_magisterska\\notebooks\\experiments\n"
     ]
    }
   ],
   "source": [
    "print(mlflow.get_tracking_uri())"
   ],
   "metadata": {
    "collapsed": false,
    "pycharm": {
     "name": "#%%\n"
    }
   }
  }
 ],
 "metadata": {
  "kernelspec": {
   "display_name": "Python 3",
   "language": "python",
   "name": "python3"
  },
  "language_info": {
   "codemirror_mode": {
    "name": "ipython",
    "version": 2
   },
   "file_extension": ".py",
   "mimetype": "text/x-python",
   "name": "python",
   "nbconvert_exporter": "python",
   "pygments_lexer": "ipython2",
   "version": "2.7.6"
  }
 },
 "nbformat": 4,
 "nbformat_minor": 0
}