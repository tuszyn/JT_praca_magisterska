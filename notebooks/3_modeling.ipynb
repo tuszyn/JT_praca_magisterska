{
 "cells": [
  {
   "cell_type": "code",
   "execution_count": 16,
   "metadata": {
    "collapsed": true,
    "pycharm": {
     "name": "#%%\n"
    }
   },
   "outputs": [],
   "source": [
    "from pathlib import Path\n",
    "\n",
    "import optuna\n",
    "import pandas as pd\n",
    "import numpy as np\n",
    "from sklearn.model_selection import train_test_split\n",
    "from sklearn.pipeline import make_pipeline\n",
    "from sklearn.preprocessing import StandardScaler\n",
    "from sklearn.impute import SimpleImputer\n",
    "\n",
    "from sklearn.model_selection import cross_validate\n",
    "\n",
    "from sklearn.metrics import accuracy_score, precision_score, f1_score, recall_score\n",
    "import mlflow\n",
    "from optuna.integration import MLflowCallback\n",
    "\n",
    "from sklearn.tree import DecisionTreeClassifier\n",
    "from sklearn.linear_model import LogisticRegression"
   ]
  },
  {
   "cell_type": "code",
   "execution_count": 2,
   "outputs": [],
   "source": [
    "# Set tracking URI\n",
    "MODEL_REGISTRY = Path(\"experiments\")\n",
    "#Path(MODEL_REGISTRY).mkdir(exist_ok=True)  # create experiments dir\n",
    "mlflow.set_tracking_uri(\"file:///\" + str(MODEL_REGISTRY.absolute()))"
   ],
   "metadata": {
    "collapsed": false,
    "pycharm": {
     "name": "#%%\n"
    }
   }
  },
  {
   "cell_type": "code",
   "execution_count": 3,
   "outputs": [],
   "source": [
    "df = pd.read_csv(\"../data/proccessed/globalterrordb_proccesed.csv\", index_col=0)"
   ],
   "metadata": {
    "collapsed": false,
    "pycharm": {
     "name": "#%%\n"
    }
   }
  },
  {
   "cell_type": "code",
   "execution_count": 5,
   "outputs": [],
   "source": [
    "df.fillna(value=-9, inplace=True)"
   ],
   "metadata": {
    "collapsed": false,
    "pycharm": {
     "name": "#%%\n"
    }
   }
  },
  {
   "cell_type": "markdown",
   "source": [
    "Podział danych"
   ],
   "metadata": {
    "collapsed": false,
    "pycharm": {
     "name": "#%% md\n"
    }
   }
  },
  {
   "cell_type": "code",
   "execution_count": 44,
   "outputs": [],
   "source": [
    "y = df[\"cas_class\"]\n",
    "X = df.drop(\"cas_class\", axis=1)"
   ],
   "metadata": {
    "collapsed": false,
    "pycharm": {
     "name": "#%%\n"
    }
   }
  },
  {
   "cell_type": "code",
   "execution_count": 8,
   "outputs": [],
   "source": [
    "X_train, X_test, y_train, y_test = train_test_split(X, y, random_state=42, test_size=0.2, stratify=y)"
   ],
   "metadata": {
    "collapsed": false,
    "pycharm": {
     "name": "#%%\n"
    }
   }
  },
  {
   "cell_type": "code",
   "execution_count": 45,
   "outputs": [],
   "source": [
    "# X_train, X_val, y_train, y_val = train_test_split(X, y, random_state=42, test_size=0.2, stratify=y)\n",
    "# X_train, X_test, y_train, y_test = train_test_split(X_train, y_train, random_state=42, test_size=0.25, stratify=y_train)"
   ],
   "metadata": {
    "collapsed": false,
    "pycharm": {
     "name": "#%%\n"
    }
   }
  },
  {
   "cell_type": "markdown",
   "source": [
    "Transformacje danych"
   ],
   "metadata": {
    "collapsed": false,
    "pycharm": {
     "name": "#%% md\n"
    }
   }
  },
  {
   "cell_type": "code",
   "execution_count": 46,
   "outputs": [],
   "source": [
    "impute_value = -9"
   ],
   "metadata": {
    "collapsed": false,
    "pycharm": {
     "name": "#%%\n"
    }
   }
  },
  {
   "cell_type": "code",
   "execution_count": 47,
   "outputs": [],
   "source": [
    "pipeline = make_pipeline(SimpleImputer(missing_values=np.nan, strategy=\"constant\", fill_value=impute_value),\n",
    "                         StandardScaler())"
   ],
   "metadata": {
    "collapsed": false,
    "pycharm": {
     "name": "#%%\n"
    }
   }
  },
  {
   "cell_type": "code",
   "execution_count": 48,
   "outputs": [
    {
     "data": {
      "text/plain": "array([[-0.2035149 ,  0.60373644,  1.10873672, ..., -1.08014204,\n        -0.85284415, -0.52435801],\n       [-0.2035149 ,  0.95885428,  0.68576861, ...,  1.06308836,\n         1.90854282,  1.78257866],\n       [-0.2035149 , -0.4616171 , -0.13845736, ..., -1.08014204,\n         0.2747222 ,  0.24575256],\n       ...,\n       [-0.2035149 , -0.81673495, -0.44779573, ..., -1.08014204,\n        -0.34430395, -0.52435801],\n       [-0.2035149 , -0.81673495, -0.94373996, ..., -1.08014204,\n        -0.5943832 , -0.52435801],\n       [-0.2035149 ,  0.95885428,  0.54991043, ..., -1.08014204,\n         1.90854282, -0.52435801]])"
     },
     "execution_count": 48,
     "metadata": {},
     "output_type": "execute_result"
    }
   ],
   "source": [
    "pipeline.fit_transform(X_train)"
   ],
   "metadata": {
    "collapsed": false,
    "pycharm": {
     "name": "#%%\n"
    }
   }
  },
  {
   "cell_type": "code",
   "execution_count": 49,
   "outputs": [
    {
     "data": {
      "text/plain": "array([[-0.2035149 ,  1.31397213, -1.293771  , ...,  1.06308836,\n        -0.96759715, -0.40496541],\n       [-0.2035149 ,  0.95885428,  0.53947394, ..., -1.08014204,\n         1.90854282, -0.52435801],\n       [-0.2035149 ,  0.95885428,  0.54991043, ..., -1.08014204,\n         1.90854282, -0.52435801],\n       ...,\n       [-0.2035149 ,  0.95885428,  0.54991043, ..., -1.08014204,\n         1.90854282, -0.52435801],\n       [-0.2035149 , -0.81673495, -0.93188165, ...,  0.84876532,\n        -0.34430395,  0.52810758],\n       [-0.2035149 , -2.23720633,  1.02973381, ..., -1.08014204,\n        -0.7749706 , -0.51417286]])"
     },
     "execution_count": 49,
     "metadata": {},
     "output_type": "execute_result"
    }
   ],
   "source": [
    "# pipeline.transform(X_val)\n",
    "pipeline.transform(X_test)"
   ],
   "metadata": {
    "collapsed": false,
    "pycharm": {
     "name": "#%%\n"
    }
   }
  },
  {
   "cell_type": "markdown",
   "source": [
    "Wyszukiwanie hiperparametrów w regresji logistycznej"
   ],
   "metadata": {
    "collapsed": false,
    "pycharm": {
     "name": "#%% md\n"
    }
   }
  },
  {
   "cell_type": "code",
   "execution_count": 48,
   "outputs": [],
   "source": [
    "def objective(trial):\n",
    "    params = {\n",
    "        \"C\": trial.suggest_float(\"C\", 0.5, 20, log=True),\n",
    "        \"class_weight\": trial.suggest_categorical(\"class_weight\", [\"balanced\"]),\n",
    "        \"n_jobs\": trial.suggest_categorical(\"n_jobs\", [-1]),\n",
    "        \"max_iter\": trial.suggest_categorical(\"max_iter\", [250, 500])\n",
    "    }\n",
    "\n",
    "    model = LogisticRegression(**params)\n",
    "    # model.fit(X_train, y_train)\n",
    "    # preds = model.predict(X_val)\n",
    "    #\n",
    "    # accuracy = accuracy_score(y_val, preds)\n",
    "    # precision = precision_score(y_val, preds)\n",
    "    # recall = recall_score(y_val, preds)\n",
    "    # f1 = f1_score(y_val, preds)\n",
    "    scoring = [\"accuracy\", \"precision\", \"recall\", \"f1\"]\n",
    "\n",
    "    preds = cross_validate(model, X_train, y_train, cv=5, n_jobs=-1, scoring=scoring)\n",
    "\n",
    "    accuracy = np.mean(preds[\"test_accuracy\"])\n",
    "    precision = np.mean(preds[\"test_precision\"])\n",
    "    recall = np.mean(preds[\"test_recall\"])\n",
    "    f1 = np.mean(preds[\"test_accuracy\"])\n",
    "\n",
    "    return accuracy, precision, recall, f1\n"
   ],
   "metadata": {
    "collapsed": false,
    "pycharm": {
     "name": "#%%\n"
    }
   }
  },
  {
   "cell_type": "code",
   "execution_count": 42,
   "outputs": [
    {
     "name": "stderr",
     "output_type": "stream",
     "text": [
      "C:\\Users\\Tuszyn\\AppData\\Local\\Temp\\ipykernel_4668\\3644345758.py:1: ExperimentalWarning: MLflowCallback is experimental (supported from v1.4.0). The interface can change in the future.\n",
      "  mlflow_callback = MLflowCallback(\n"
     ]
    }
   ],
   "source": [
    "mlflow_callback = MLflowCallback(\n",
    "    tracking_uri=mlflow.get_tracking_uri(), metric_name=[\"accuracy\", \"precision\", \"recall\", \"f1\"])"
   ],
   "metadata": {
    "collapsed": false,
    "pycharm": {
     "name": "#%%\n"
    }
   }
  },
  {
   "cell_type": "code",
   "execution_count": 49,
   "outputs": [
    {
     "name": "stderr",
     "output_type": "stream",
     "text": [
      "\u001B[32m[I 2022-05-26 17:59:38,694]\u001B[0m A new study created in memory with name: lr\u001B[0m\n",
      "C:\\Users\\Tuszyn\\.virtualenvs\\JT_praca_magisterska\\lib\\site-packages\\optuna\\distributions.py:427: UserWarning: Choices for a categorical distribution should be a tuple of None, bool, int, float and str for persistent storage but contains {0: 0.35, 1: 0.65} which is of type dict.\n",
      "  warnings.warn(message)\n",
      "\u001B[32m[I 2022-05-26 17:59:47,584]\u001B[0m Trial 0 finished with values: [0.7087058233770575, 0.8222002434570906, 0.6997992618014635, 0.7560779375240493] and parameters: {'C': 3.074532702811549, 'class_weight': 'balanced', 'n_jobs': -1, 'max_iter': 250}. \u001B[0m\n",
      "C:\\Users\\Tuszyn\\.virtualenvs\\JT_praca_magisterska\\lib\\site-packages\\optuna\\distributions.py:427: UserWarning: Choices for a categorical distribution should be a tuple of None, bool, int, float and str for persistent storage but contains {0: 0.35, 1: 0.65} which is of type dict.\n",
      "  warnings.warn(message)\n",
      "\u001B[32m[I 2022-05-26 17:59:55,411]\u001B[0m Trial 1 finished with values: [0.6945024647004763, 0.6913841807909604, 0.950916272744933, 0.8006433497805523] and parameters: {'C': 2.035577476255282, 'class_weight': {0: 0.35, 1: 0.65}, 'n_jobs': -1, 'max_iter': 250}. \u001B[0m\n",
      "C:\\Users\\Tuszyn\\.virtualenvs\\JT_praca_magisterska\\lib\\site-packages\\optuna\\distributions.py:427: UserWarning: Choices for a categorical distribution should be a tuple of None, bool, int, float and str for persistent storage but contains {0: 0.35, 1: 0.65} which is of type dict.\n",
      "  warnings.warn(message)\n",
      "\u001B[32m[I 2022-05-26 18:00:10,473]\u001B[0m Trial 2 finished with values: [0.7463447238699975, 0.776937171227614, 0.8511947160525805, 0.8123725356900068] and parameters: {'C': 14.502488026662416, 'class_weight': None, 'n_jobs': -1, 'max_iter': 500}. \u001B[0m\n",
      "C:\\Users\\Tuszyn\\.virtualenvs\\JT_praca_magisterska\\lib\\site-packages\\optuna\\distributions.py:427: UserWarning: Choices for a categorical distribution should be a tuple of None, bool, int, float and str for persistent storage but contains {0: 0.35, 1: 0.65} which is of type dict.\n",
      "  warnings.warn(message)\n",
      "\u001B[32m[I 2022-05-26 18:00:19,272]\u001B[0m Trial 3 finished with values: [0.7244966162586682, 0.7509074410163339, 0.857346370523862, 0.800604686318972] and parameters: {'C': 0.7559778168159638, 'class_weight': None, 'n_jobs': -1, 'max_iter': 250}. \u001B[0m\n",
      "C:\\Users\\Tuszyn\\.virtualenvs\\JT_praca_magisterska\\lib\\site-packages\\optuna\\distributions.py:427: UserWarning: Choices for a categorical distribution should be a tuple of None, bool, int, float and str for persistent storage but contains {0: 0.35, 1: 0.65} which is of type dict.\n",
      "  warnings.warn(message)\n",
      "\u001B[32m[I 2022-05-26 18:00:27,306]\u001B[0m Trial 4 finished with values: [0.705530954966998, 0.8208225042042501, 0.6953312180275854, 0.7528834355828222] and parameters: {'C': 18.571678746645944, 'class_weight': 'balanced', 'n_jobs': -1, 'max_iter': 250}. \u001B[0m\n",
      "C:\\Users\\Tuszyn\\.virtualenvs\\JT_praca_magisterska\\lib\\site-packages\\optuna\\distributions.py:427: UserWarning: Choices for a categorical distribution should be a tuple of None, bool, int, float and str for persistent storage but contains {0: 0.35, 1: 0.65} which is of type dict.\n",
      "  warnings.warn(message)\n",
      "\u001B[32m[I 2022-05-26 18:00:35,619]\u001B[0m Trial 5 finished with values: [0.7030244799064249, 0.6999136442141624, 0.9446998640160591, 0.8040896188717722] and parameters: {'C': 2.1934603387547993, 'class_weight': {0: 0.35, 1: 0.65}, 'n_jobs': -1, 'max_iter': 250}. \u001B[0m\n",
      "C:\\Users\\Tuszyn\\.virtualenvs\\JT_praca_magisterska\\lib\\site-packages\\optuna\\distributions.py:427: UserWarning: Choices for a categorical distribution should be a tuple of None, bool, int, float and str for persistent storage but contains {0: 0.35, 1: 0.65} which is of type dict.\n",
      "  warnings.warn(message)\n",
      "\u001B[32m[I 2022-05-26 18:00:43,842]\u001B[0m Trial 6 finished with values: [0.7054474057983123, 0.82326656394453, 0.6919639966327786, 0.7519262569046194] and parameters: {'C': 5.452609398049617, 'class_weight': 'balanced', 'n_jobs': -1, 'max_iter': 250}. \u001B[0m\n",
      "C:\\Users\\Tuszyn\\.virtualenvs\\JT_praca_magisterska\\lib\\site-packages\\optuna\\distributions.py:427: UserWarning: Choices for a categorical distribution should be a tuple of None, bool, int, float and str for persistent storage but contains {0: 0.35, 1: 0.65} which is of type dict.\n",
      "  warnings.warn(message)\n",
      "\u001B[32m[I 2022-05-26 18:00:59,940]\u001B[0m Trial 7 finished with values: [0.7464700476230262, 0.7757058823529411, 0.8539143948714628, 0.8129334525167216] and parameters: {'C': 5.9453902832444765, 'class_weight': None, 'n_jobs': -1, 'max_iter': 500}. \u001B[0m\n",
      "C:\\Users\\Tuszyn\\.virtualenvs\\JT_praca_magisterska\\lib\\site-packages\\optuna\\distributions.py:427: UserWarning: Choices for a categorical distribution should be a tuple of None, bool, int, float and str for persistent storage but contains {0: 0.35, 1: 0.65} which is of type dict.\n",
      "  warnings.warn(message)\n",
      "\u001B[32m[I 2022-05-26 18:01:13,776]\u001B[0m Trial 8 finished with values: [0.7245383908430111, 0.7193495612513013, 0.9395842776662565, 0.8148480934463975] and parameters: {'C': 0.7350397871958358, 'class_weight': {0: 0.35, 1: 0.65}, 'n_jobs': -1, 'max_iter': 500}. \u001B[0m\n",
      "C:\\Users\\Tuszyn\\.virtualenvs\\JT_praca_magisterska\\lib\\site-packages\\optuna\\distributions.py:427: UserWarning: Choices for a categorical distribution should be a tuple of None, bool, int, float and str for persistent storage but contains {0: 0.35, 1: 0.65} which is of type dict.\n",
      "  warnings.warn(message)\n",
      "\u001B[32m[I 2022-05-26 18:01:21,017]\u001B[0m Trial 9 finished with values: [0.6830562285905255, 0.8116470961599492, 0.6624360551706274, 0.7294897850037436] and parameters: {'C': 17.454998699048822, 'class_weight': 'balanced', 'n_jobs': -1, 'max_iter': 250}. \u001B[0m\n"
     ]
    }
   ],
   "source": [
    "study = optuna.create_study(study_name=\"lr\", directions=[\"maximize\", \"maximize\", \"maximize\", \"maximize\"])\n",
    "study.optimize(objective, n_trials=10, callbacks=[mlflow_callback])"
   ],
   "metadata": {
    "collapsed": false,
    "pycharm": {
     "name": "#%%\n"
    }
   }
  },
  {
   "cell_type": "markdown",
   "source": [
    "Wyszukiwanie hiperparametrów drzewo decyzyjne"
   ],
   "metadata": {
    "collapsed": false,
    "pycharm": {
     "name": "#%% md\n"
    }
   }
  },
  {
   "cell_type": "code",
   "execution_count": 66,
   "outputs": [],
   "source": [
    "def objective(trial):\n",
    "    params = {\n",
    "        \"max_depth\": trial.suggest_int(\"max_depth\", 10, 40),\n",
    "        \"min_samples_leaf\": trial.suggest_int(\"min_samples_leaf\", 2, 50),\n",
    "        \"max_features\": trial.suggest_categorical(\"max_features\", [None]),\n",
    "        \"class_weight\": trial.suggest_categorical(\"class_weight\", [\"balanced\"]),\n",
    "    }\n",
    "\n",
    "    model = DecisionTreeClassifier(**params)\n",
    "    # model.fit(X_train, y_train)\n",
    "    # preds = model.predict(X_val)\n",
    "\n",
    "    scoring = [\"accuracy\", \"precision\", \"recall\", \"f1\"]\n",
    "\n",
    "    preds = cross_validate(model, X_train, y_train, cv=5, n_jobs=-1, scoring=scoring)\n",
    "\n",
    "    accuracy = np.mean(preds[\"test_accuracy\"])\n",
    "    precision = np.mean(preds[\"test_precision\"])\n",
    "    recall = np.mean(preds[\"test_recall\"])\n",
    "    f1 = np.mean(preds[\"test_accuracy\"])\n",
    "\n",
    "    # accuracy = accuracy_score(y_val, preds)\n",
    "    # precision = precision_score(y_val, preds)\n",
    "    # recall = recall_score(y_val, preds)\n",
    "    # f1 = f1_score(y_val, preds)\n",
    "\n",
    "    return accuracy, precision, recall, f1"
   ],
   "metadata": {
    "collapsed": false,
    "pycharm": {
     "name": "#%%\n"
    }
   }
  },
  {
   "cell_type": "code",
   "execution_count": 67,
   "outputs": [
    {
     "name": "stderr",
     "output_type": "stream",
     "text": [
      "\u001B[32m[I 2022-05-26 20:18:01,426]\u001B[0m A new study created in memory with name: dt\u001B[0m\n",
      "\u001B[32m[I 2022-05-26 20:18:04,080]\u001B[0m Trial 0 finished with values: [0.8217126142721753, 0.8975337826218288, 0.8169573307890354, 0.8217126142721753] and parameters: {'max_depth': 10, 'min_samples_leaf': 8, 'max_features': None, 'class_weight': 'balanced'}. \u001B[0m\n",
      "\u001B[32m[I 2022-05-26 20:18:06,079]\u001B[0m Trial 1 finished with values: [0.8286613636907246, 0.904225473340154, 0.8214470115081639, 0.8286613636907246] and parameters: {'max_depth': 29, 'min_samples_leaf': 44, 'max_features': None, 'class_weight': 'balanced'}. \u001B[0m\n",
      "\u001B[32m[I 2022-05-26 20:18:07,805]\u001B[0m Trial 2 finished with values: [0.8304298769419866, 0.9056939169933793, 0.8228714649324068, 0.8304298769419866] and parameters: {'max_depth': 33, 'min_samples_leaf': 33, 'max_features': None, 'class_weight': 'balanced'}. \u001B[0m\n",
      "\u001B[32m[I 2022-05-26 20:18:08,677]\u001B[0m Trial 3 finished with values: [0.8306944436863107, 0.905996203381983, 0.822958018737211, 0.8306944436863107] and parameters: {'max_depth': 17, 'min_samples_leaf': 24, 'max_features': None, 'class_weight': 'balanced'}. \u001B[0m\n",
      "\u001B[32m[I 2022-05-26 20:18:09,619]\u001B[0m Trial 4 finished with values: [0.8296082401144774, 0.9033527025088517, 0.824058712521181, 0.8296082401144774] and parameters: {'max_depth': 40, 'min_samples_leaf': 16, 'max_features': None, 'class_weight': 'balanced'}. \u001B[0m\n",
      "\u001B[32m[I 2022-05-26 20:18:10,459]\u001B[0m Trial 5 finished with values: [0.8266282662432503, 0.9014296210174549, 0.8211876878942437, 0.8266282662432503] and parameters: {'max_depth': 11, 'min_samples_leaf': 31, 'max_features': None, 'class_weight': 'balanced'}. \u001B[0m\n",
      "\u001B[32m[I 2022-05-26 20:18:11,282]\u001B[0m Trial 6 finished with values: [0.8293854444641511, 0.9027157922960457, 0.8243825583588208, 0.8293854444641511] and parameters: {'max_depth': 29, 'min_samples_leaf': 14, 'max_features': None, 'class_weight': 'balanced'}. \u001B[0m\n",
      "\u001B[32m[I 2022-05-26 20:18:11,966]\u001B[0m Trial 7 finished with values: [0.8263079533208145, 0.9044301558843959, 0.8171299887745402, 0.8263079533208145] and parameters: {'max_depth': 23, 'min_samples_leaf': 50, 'max_features': None, 'class_weight': 'balanced'}. \u001B[0m\n",
      "\u001B[32m[I 2022-05-26 20:18:12,759]\u001B[0m Trial 8 finished with values: [0.8303602487564973, 0.9056436724822554, 0.8228067050835131, 0.8303602487564973] and parameters: {'max_depth': 39, 'min_samples_leaf': 33, 'max_features': None, 'class_weight': 'balanced'}. \u001B[0m\n",
      "\u001B[32m[I 2022-05-26 20:18:13,674]\u001B[0m Trial 9 finished with values: [0.8274916218090931, 0.8991691614508627, 0.8251380736216373, 0.8274916218090931] and parameters: {'max_depth': 24, 'min_samples_leaf': 8, 'max_features': None, 'class_weight': 'balanced'}. \u001B[0m\n",
      "\u001B[32m[I 2022-05-26 20:18:14,420]\u001B[0m Trial 10 finished with values: [0.8294550726496406, 0.9026319522003305, 0.8245984198624827, 0.8294550726496406] and parameters: {'max_depth': 34, 'min_samples_leaf': 14, 'max_features': None, 'class_weight': 'balanced'}. \u001B[0m\n",
      "\u001B[32m[I 2022-05-26 20:18:15,231]\u001B[0m Trial 11 finished with values: [0.8305691333129657, 0.9049924996161792, 0.8238860755026035, 0.8305691333129657] and parameters: {'max_depth': 27, 'min_samples_leaf': 29, 'max_features': None, 'class_weight': 'balanced'}. \u001B[0m\n",
      "\u001B[32m[I 2022-05-26 20:18:16,049]\u001B[0m Trial 12 finished with values: [0.8293993885226862, 0.904476582742066, 0.8224399119901585, 0.8293993885226862] and parameters: {'max_depth': 35, 'min_samples_leaf': 41, 'max_features': None, 'class_weight': 'balanced'}. \u001B[0m\n",
      "\u001B[32m[I 2022-05-26 20:18:16,736]\u001B[0m Trial 13 finished with values: [0.8297754573187269, 0.9062708758196377, 0.821080150854711, 0.8297754573187269] and parameters: {'max_depth': 14, 'min_samples_leaf': 13, 'max_features': None, 'class_weight': 'balanced'}. \u001B[0m\n",
      "\u001B[32m[I 2022-05-26 20:18:17,636]\u001B[0m Trial 14 finished with values: [0.830471652883731, 0.9055764194733573, 0.8230657934019178, 0.830471652883731] and parameters: {'max_depth': 37, 'min_samples_leaf': 30, 'max_features': None, 'class_weight': 'balanced'}. \u001B[0m\n",
      "\u001B[32m[I 2022-05-26 20:18:18,552]\u001B[0m Trial 15 finished with values: [0.8263218789579125, 0.9044324999016791, 0.8171515730611795, 0.8263218789579125] and parameters: {'max_depth': 33, 'min_samples_leaf': 50, 'max_features': None, 'class_weight': 'balanced'}. \u001B[0m\n",
      "\u001B[32m[I 2022-05-26 20:18:19,442]\u001B[0m Trial 16 finished with values: [0.8304298565814507, 0.9046461561632029, 0.8240372097725917, 0.8304298565814507] and parameters: {'max_depth': 22, 'min_samples_leaf': 36, 'max_features': None, 'class_weight': 'balanced'}. \u001B[0m\n",
      "\u001B[32m[I 2022-05-26 20:18:20,361]\u001B[0m Trial 17 finished with values: [0.8293854619160392, 0.9044378117740669, 0.8224614822988465, 0.8293854619160392] and parameters: {'max_depth': 21, 'min_samples_leaf': 37, 'max_features': None, 'class_weight': 'balanced'}. \u001B[0m\n",
      "\u001B[32m[I 2022-05-26 20:18:21,191]\u001B[0m Trial 18 finished with values: [0.827533407446331, 0.9021094534595322, 0.8218786809333405, 0.827533407446331] and parameters: {'max_depth': 32, 'min_samples_leaf': 11, 'max_features': None, 'class_weight': 'balanced'}. \u001B[0m\n",
      "\u001B[32m[I 2022-05-26 20:18:22,200]\u001B[0m Trial 19 finished with values: [0.8281182454224691, 0.8898076885080582, 0.8372905278761703, 0.8281182454224691] and parameters: {'max_depth': 18, 'min_samples_leaf': 3, 'max_features': None, 'class_weight': 'balanced'}. \u001B[0m\n",
      "\u001B[32m[I 2022-05-26 20:18:23,026]\u001B[0m Trial 20 finished with values: [0.829552544352931, 0.9046440430526207, 0.8225477588742811, 0.829552544352931] and parameters: {'max_depth': 17, 'min_samples_leaf': 40, 'max_features': None, 'class_weight': 'balanced'}. \u001B[0m\n",
      "\u001B[32m[I 2022-05-26 20:18:23,770]\u001B[0m Trial 21 finished with values: [0.8286474332058799, 0.903962314382305, 0.8217060276071528, 0.8286474332058799] and parameters: {'max_depth': 20, 'min_samples_leaf': 46, 'max_features': None, 'class_weight': 'balanced'}. \u001B[0m\n",
      "\u001B[32m[I 2022-05-26 20:18:24,551]\u001B[0m Trial 22 finished with values: [0.8289816484962295, 0.904500182805221, 0.8216844549688064, 0.8289816484962295] and parameters: {'max_depth': 32, 'min_samples_leaf': 43, 'max_features': None, 'class_weight': 'balanced'}. \u001B[0m\n",
      "\u001B[32m[I 2022-05-26 20:18:25,506]\u001B[0m Trial 23 finished with values: [0.8275333793294001, 0.8995035117232844, 0.824835837696881, 0.8275333793294001] and parameters: {'max_depth': 21, 'min_samples_leaf': 8, 'max_features': None, 'class_weight': 'balanced'}. \u001B[0m\n",
      "\u001B[32m[I 2022-05-26 20:18:26,389]\u001B[0m Trial 24 finished with values: [0.8281879463241587, 0.9056134685921652, 0.819072621165251, 0.8281879463241587] and parameters: {'max_depth': 13, 'min_samples_leaf': 15, 'max_features': None, 'class_weight': 'balanced'}. \u001B[0m\n",
      "\u001B[32m[I 2022-05-26 20:18:27,180]\u001B[0m Trial 25 finished with values: [0.8290094910444813, 0.9042358306546147, 0.8220298175329871, 0.8290094910444813] and parameters: {'max_depth': 37, 'min_samples_leaf': 42, 'max_features': None, 'class_weight': 'balanced'}. \u001B[0m\n",
      "\u001B[32m[I 2022-05-26 20:18:28,055]\u001B[0m Trial 26 finished with values: [0.8251938819924467, 0.8770596804128037, 0.8479104977793112, 0.8251938819924467] and parameters: {'max_depth': 29, 'min_samples_leaf': 3, 'max_features': None, 'class_weight': 'balanced'}. \u001B[0m\n",
      "\u001B[32m[I 2022-05-26 20:18:28,997]\u001B[0m Trial 27 finished with values: [0.8273941821009305, 0.8979353046527285, 0.8264117142687744, 0.8273941821009305] and parameters: {'max_depth': 15, 'min_samples_leaf': 2, 'max_features': None, 'class_weight': 'balanced'}. \u001B[0m\n",
      "\u001B[32m[I 2022-05-26 20:18:29,879]\u001B[0m Trial 28 finished with values: [0.8286752893278224, 0.9042276378011007, 0.8214685981244617, 0.8286752893278224] and parameters: {'max_depth': 33, 'min_samples_leaf': 44, 'max_features': None, 'class_weight': 'balanced'}. \u001B[0m\n",
      "\u001B[32m[I 2022-05-26 20:18:30,794]\u001B[0m Trial 29 finished with values: [0.8294689982867384, 0.9042519849722483, 0.8228068495223443, 0.8294689982867384] and parameters: {'max_depth': 38, 'min_samples_leaf': 38, 'max_features': None, 'class_weight': 'balanced'}. \u001B[0m\n",
      "\u001B[32m[I 2022-05-26 20:18:31,675]\u001B[0m Trial 30 finished with values: [0.8266978886114437, 0.8996865971246294, 0.8231738126807742, 0.8266978886114437] and parameters: {'max_depth': 40, 'min_samples_leaf': 10, 'max_features': None, 'class_weight': 'balanced'}. \u001B[0m\n",
      "\u001B[32m[I 2022-05-26 20:18:32,604]\u001B[0m Trial 31 finished with values: [0.8293854628855882, 0.9044742738117195, 0.8224183277035193, 0.8293854628855882] and parameters: {'max_depth': 21, 'min_samples_leaf': 41, 'max_features': None, 'class_weight': 'balanced'}. \u001B[0m\n",
      "\u001B[32m[I 2022-05-26 20:18:33,448]\u001B[0m Trial 32 finished with values: [0.83115396256316, 0.9056774617191131, 0.8241234444141717, 0.83115396256316] and parameters: {'max_depth': 35, 'min_samples_leaf': 24, 'max_features': None, 'class_weight': 'balanced'}. \u001B[0m\n",
      "\u001B[32m[I 2022-05-26 20:18:34,136]\u001B[0m Trial 33 finished with values: [0.8240660052510986, 0.9054271787425797, 0.812143736672169, 0.8240660052510986] and parameters: {'max_depth': 13, 'min_samples_leaf': 50, 'max_features': None, 'class_weight': 'balanced'}. \u001B[0m\n",
      "\u001B[32m[I 2022-05-26 20:18:35,064]\u001B[0m Trial 34 finished with values: [0.8277701675157285, 0.8981295749765892, 0.8268434093201952, 0.8277701675157285] and parameters: {'max_depth': 15, 'min_samples_leaf': 2, 'max_features': None, 'class_weight': 'balanced'}. \u001B[0m\n",
      "\u001B[32m[I 2022-05-26 20:18:35,749]\u001B[0m Trial 35 finished with values: [0.8314603236706658, 0.9053277041941697, 0.8250516362997613, 0.8314603236706658] and parameters: {'max_depth': 30, 'min_samples_leaf': 23, 'max_features': None, 'class_weight': 'balanced'}. \u001B[0m\n",
      "\u001B[32m[I 2022-05-26 20:18:36,575]\u001B[0m Trial 36 finished with values: [0.8305691391302616, 0.9049782007625831, 0.8239076271740228, 0.8305691391302616] and parameters: {'max_depth': 27, 'min_samples_leaf': 31, 'max_features': None, 'class_weight': 'balanced'}. \u001B[0m\n",
      "\u001B[32m[I 2022-05-26 20:18:37,510]\u001B[0m Trial 37 finished with values: [0.831376812508249, 0.9051374744537914, 0.8251163239292396, 0.831376812508249] and parameters: {'max_depth': 25, 'min_samples_leaf': 20, 'max_features': None, 'class_weight': 'balanced'}. \u001B[0m\n",
      "\u001B[32m[I 2022-05-26 20:18:38,148]\u001B[0m Trial 38 finished with values: [0.8214340966824707, 0.8982280335122926, 0.8156838438993639, 0.8214340966824707] and parameters: {'max_depth': 10, 'min_samples_leaf': 24, 'max_features': None, 'class_weight': 'balanced'}. \u001B[0m\n",
      "\u001B[32m[I 2022-05-26 20:18:38,983]\u001B[0m Trial 39 finished with values: [0.8297892704881022, 0.903382201682607, 0.8243393385330535, 0.8297892704881022] and parameters: {'max_depth': 37, 'min_samples_leaf': 16, 'max_features': None, 'class_weight': 'balanced'}. \u001B[0m\n",
      "\u001B[32m[I 2022-05-26 20:18:39,899]\u001B[0m Trial 40 finished with values: [0.8318224231998883, 0.9058173640237845, 0.8251163355775322, 0.8318224231998883] and parameters: {'max_depth': 30, 'min_samples_leaf': 19, 'max_features': None, 'class_weight': 'balanced'}. \u001B[0m\n",
      "\u001B[32m[I 2022-05-26 20:18:40,871]\u001B[0m Trial 41 finished with values: [0.8289398715849357, 0.9044934444109464, 0.8216196951199128, 0.8289398715849357] and parameters: {'max_depth': 34, 'min_samples_leaf': 43, 'max_features': None, 'class_weight': 'balanced'}. \u001B[0m\n",
      "\u001B[32m[I 2022-05-26 20:18:41,786]\u001B[0m Trial 42 finished with values: [0.8309451119409182, 0.9049198145872508, 0.8246198899958521, 0.8309451119409182] and parameters: {'max_depth': 34, 'min_samples_leaf': 34, 'max_features': None, 'class_weight': 'balanced'}. \u001B[0m\n",
      "\u001B[32m[I 2022-05-26 20:18:42,658]\u001B[0m Trial 43 finished with values: [0.8246647843771241, 0.8885088111657404, 0.8327145752409246, 0.8246647843771241] and parameters: {'max_depth': 25, 'min_samples_leaf': 4, 'max_features': None, 'class_weight': 'balanced'}. \u001B[0m\n",
      "\u001B[32m[I 2022-05-26 20:18:43,587]\u001B[0m Trial 44 finished with values: [0.8287309850893687, 0.8996053097129606, 0.8268001755164764, 0.8287309850893687] and parameters: {'max_depth': 18, 'min_samples_leaf': 9, 'max_features': None, 'class_weight': 'balanced'}. \u001B[0m\n",
      "\u001B[32m[I 2022-05-26 20:18:44,568]\u001B[0m Trial 45 finished with values: [0.8244419606098671, 0.8941906184698422, 0.8255698548704249, 0.8244419606098671] and parameters: {'max_depth': 34, 'min_samples_leaf': 5, 'max_features': None, 'class_weight': 'balanced'}. \u001B[0m\n",
      "\u001B[32m[I 2022-05-26 20:18:45,488]\u001B[0m Trial 46 finished with values: [0.8302070677179696, 0.905959201820701, 0.8221808096938025, 0.8302070677179696] and parameters: {'max_depth': 32, 'min_samples_leaf': 28, 'max_features': None, 'class_weight': 'balanced'}. \u001B[0m\n",
      "\u001B[32m[I 2022-05-26 20:18:46,408]\u001B[0m Trial 47 finished with values: [0.8292601059738753, 0.9028663061064682, 0.8239940109137516, 0.8292601059738753] and parameters: {'max_depth': 24, 'min_samples_leaf': 14, 'max_features': None, 'class_weight': 'balanced'}. \u001B[0m\n",
      "\u001B[32m[I 2022-05-26 20:18:47,224]\u001B[0m Trial 48 finished with values: [0.8293714965274184, 0.9036223549528017, 0.8233464170841318, 0.8293714965274184] and parameters: {'max_depth': 20, 'min_samples_leaf': 16, 'max_features': None, 'class_weight': 'balanced'}. \u001B[0m\n",
      "\u001B[32m[I 2022-05-26 20:18:48,252]\u001B[0m Trial 49 finished with values: [0.831335040444702, 0.9049583355571686, 0.8252458529456611, 0.831335040444702] and parameters: {'max_depth': 37, 'min_samples_leaf': 20, 'max_features': None, 'class_weight': 'balanced'}. \u001B[0m\n"
     ]
    }
   ],
   "source": [
    "study = optuna.create_study(study_name=\"dt\", directions=[\"maximize\", \"maximize\", \"maximize\", \"maximize\"])\n",
    "study.optimize(objective, n_trials=50, callbacks=[mlflow_callback])"
   ],
   "metadata": {
    "collapsed": false,
    "pycharm": {
     "name": "#%%\n"
    }
   }
  },
  {
   "cell_type": "markdown",
   "source": [
    "Testowo"
   ],
   "metadata": {
    "collapsed": false,
    "pycharm": {
     "name": "#%% md\n"
    }
   }
  },
  {
   "cell_type": "code",
   "execution_count": 13,
   "outputs": [],
   "source": [
    "pipeline = make_pipeline(SimpleImputer(missing_values=np.nan, strategy=\"constant\", fill_value=-9),\n",
    "                         StandardScaler())"
   ],
   "metadata": {
    "collapsed": false,
    "pycharm": {
     "name": "#%%\n"
    }
   }
  },
  {
   "cell_type": "code",
   "execution_count": 14,
   "outputs": [
    {
     "data": {
      "text/plain": "array([[-0.20454128,  0.2512775 ,  1.11346144, ...,  0.84629142,\n        -0.78830057, -0.50202743],\n       [-0.20454128, -1.52336728, -2.05252351, ..., -1.08281702,\n        -0.414869  , -0.52463359],\n       [-0.20454128, -0.45858041,  0.01885846, ..., -1.08281702,\n        -0.87121762, -0.44268628],\n       ...,\n       [-0.20454128,  1.67099332, -3.10661319, ..., -1.08281702,\n        -1.05656162, -0.52463359],\n       [-0.20454128, -1.52336728, -1.18432961, ...,  0.84629142,\n        -0.24141385, -0.46585759],\n       [-0.20454128, -0.45858041,  0.45137931, ..., -1.08281702,\n         0.49813307, -0.44268628]])"
     },
     "execution_count": 14,
     "metadata": {},
     "output_type": "execute_result"
    }
   ],
   "source": [
    "pipeline.fit_transform(X_train)\n",
    "pipeline.transform(X_test)"
   ],
   "metadata": {
    "collapsed": false,
    "pycharm": {
     "name": "#%%\n"
    }
   }
  },
  {
   "cell_type": "code",
   "execution_count": 37,
   "outputs": [],
   "source": [
    "def objective(trial):\n",
    "    params = {\n",
    "        \"C\": trial.suggest_float(\"C\", 50, 200, log=True),\n",
    "        \"class_weight\": trial.suggest_categorical(\"class_weight\", [\"balanced\"]),\n",
    "        \"max_iter\": trial.suggest_categorical(\"max_iter\", [250])\n",
    "    }\n",
    "\n",
    "    model = LogisticRegression(**params)\n",
    "    # model.fit(X_train, y_train)\n",
    "\n",
    "    scoring = [\"accuracy\", \"precision\", \"recall\", \"f1\"]\n",
    "\n",
    "    preds = cross_validate(model, X_train, y_train, cv=5, n_jobs=-1, scoring=scoring)\n",
    "    # accuracy = accuracy_score(y_val, preds)\n",
    "    # precision = precision_score(y_val, preds)\n",
    "    # recall = recall_score(y_val, preds)\n",
    "    # f1 = f1_score(y_val, preds)\n",
    "\n",
    "    accuracy = np.mean(preds[\"test_accuracy\"])\n",
    "    precision = np.mean(preds[\"test_precision\"])\n",
    "    recall = np.mean(preds[\"test_recall\"])\n",
    "    f1 = np.mean(preds[\"test_accuracy\"])\n",
    "\n",
    "    return accuracy, precision, recall, f1"
   ],
   "metadata": {
    "collapsed": false,
    "pycharm": {
     "name": "#%%\n"
    }
   }
  },
  {
   "cell_type": "code",
   "execution_count": null,
   "outputs": [],
   "source": [
    "mlflow_callback = MLflowCallback(\n",
    "    tracking_uri=mlflow.get_tracking_uri(), metric_name=[\"accuracy\", \"precision\", \"recall\", \"f1\"])"
   ],
   "metadata": {
    "collapsed": false,
    "pycharm": {
     "name": "#%%\n"
    }
   }
  },
  {
   "cell_type": "code",
   "execution_count": 38,
   "outputs": [
    {
     "name": "stderr",
     "output_type": "stream",
     "text": [
      "\u001B[32m[I 2022-05-26 19:02:16,922]\u001B[0m A new study created in memory with name: test_lr\u001B[0m\n",
      "\u001B[32m[I 2022-05-26 19:02:20,958]\u001B[0m Trial 0 finished with values: [0.6905136617922907, 0.8106852254488347, 0.6788622916555699, 0.6905136617922907] and parameters: {'C': 108.73463114655324, 'class_weight': 'balanced', 'max_iter': 250}. \u001B[0m\n",
      "\u001B[32m[I 2022-05-26 19:02:25,286]\u001B[0m Trial 1 finished with values: [0.7039551506687899, 0.8168858042826542, 0.6975117036758666, 0.7039551506687899] and parameters: {'C': 171.54036997853433, 'class_weight': 'balanced', 'max_iter': 250}. \u001B[0m\n",
      "\u001B[32m[I 2022-05-26 19:02:29,217]\u001B[0m Trial 2 finished with values: [0.6968741779970103, 0.8100456699119688, 0.693221641070414, 0.6968741779970103] and parameters: {'C': 177.17063855981704, 'class_weight': 'balanced', 'max_iter': 250}. \u001B[0m\n",
      "\u001B[32m[I 2022-05-26 19:02:32,877]\u001B[0m Trial 3 finished with values: [0.6945974619539199, 0.8090807907742367, 0.6891094776139498, 0.6945974619539199] and parameters: {'C': 170.4886598205659, 'class_weight': 'balanced', 'max_iter': 250}. \u001B[0m\n",
      "\u001B[32m[I 2022-05-26 19:02:36,663]\u001B[0m Trial 4 finished with values: [0.6948898634277543, 0.8065245991621246, 0.6935291040305851, 0.6948898634277543] and parameters: {'C': 171.12694426538786, 'class_weight': 'balanced', 'max_iter': 250}. \u001B[0m\n",
      "\u001B[32m[I 2022-05-26 19:02:40,640]\u001B[0m Trial 5 finished with values: [0.70176191790994, 0.8193099152366136, 0.6898864424867724, 0.70176191790994] and parameters: {'C': 80.1808459544882, 'class_weight': 'balanced', 'max_iter': 250}. \u001B[0m\n",
      "\u001B[32m[I 2022-05-26 19:02:44,399]\u001B[0m Trial 6 finished with values: [0.698482678710189, 0.8164005056468631, 0.6871184450979919, 0.698482678710189] and parameters: {'C': 58.68393407216041, 'class_weight': 'balanced', 'max_iter': 250}. \u001B[0m\n",
      "\u001B[32m[I 2022-05-26 19:02:48,157]\u001B[0m Trial 7 finished with values: [0.6951092063925786, 0.8107015060595757, 0.6878955580377515, 0.6951092063925786] and parameters: {'C': 97.0453603836751, 'class_weight': 'balanced', 'max_iter': 250}. \u001B[0m\n",
      "\u001B[32m[I 2022-05-26 19:02:52,095]\u001B[0m Trial 8 finished with values: [0.696707136708732, 0.8147332783686082, 0.6861311976577645, 0.696707136708732] and parameters: {'C': 136.12777713006724, 'class_weight': 'balanced', 'max_iter': 250}. \u001B[0m\n",
      "\u001B[32m[I 2022-05-26 19:02:55,772]\u001B[0m Trial 9 finished with values: [0.7002997818263728, 0.8168537867365459, 0.690275393365042, 0.7002997818263728] and parameters: {'C': 138.58412662545345, 'class_weight': 'balanced', 'max_iter': 250}. \u001B[0m\n"
     ]
    }
   ],
   "source": [
    "study = optuna.create_study(study_name=\"test_lr\", directions=[\"maximize\", \"maximize\", \"maximize\", \"maximize\"])\n",
    "study.optimize(objective, n_trials=10)"
   ],
   "metadata": {
    "collapsed": false,
    "pycharm": {
     "name": "#%%\n"
    }
   }
  }
 ],
 "metadata": {
  "kernelspec": {
   "display_name": "Python 3",
   "language": "python",
   "name": "python3"
  },
  "language_info": {
   "codemirror_mode": {
    "name": "ipython",
    "version": 2
   },
   "file_extension": ".py",
   "mimetype": "text/x-python",
   "name": "python",
   "nbconvert_exporter": "python",
   "pygments_lexer": "ipython2",
   "version": "2.7.6"
  }
 },
 "nbformat": 4,
 "nbformat_minor": 0
}