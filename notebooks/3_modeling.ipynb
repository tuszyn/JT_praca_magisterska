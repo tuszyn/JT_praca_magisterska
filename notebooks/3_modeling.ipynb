{
 "cells": [
  {
   "cell_type": "code",
   "execution_count": 1,
   "metadata": {
    "collapsed": true,
    "pycharm": {
     "name": "#%%\n"
    }
   },
   "outputs": [],
   "source": [
    "from pathlib import Path\n",
    "\n",
    "import optuna\n",
    "import pandas as pd\n",
    "import numpy as np\n",
    "from sklearn.model_selection import train_test_split\n",
    "from sklearn.pipeline import make_pipeline\n",
    "from sklearn.preprocessing import StandardScaler\n",
    "from sklearn.impute import SimpleImputer\n",
    "\n",
    "from sklearn.model_selection import cross_validate\n",
    "\n",
    "from sklearn.metrics import accuracy_score, precision_score, f1_score, recall_score\n",
    "import mlflow\n",
    "from optuna.integration import MLflowCallback\n",
    "\n",
    "from sklearn.tree import DecisionTreeClassifier\n",
    "from sklearn.linear_model import LogisticRegression"
   ]
  },
  {
   "cell_type": "code",
   "execution_count": 2,
   "outputs": [],
   "source": [
    "# Set tracking URI\n",
    "MODEL_REGISTRY = Path(\"experiments\")\n",
    "#Path(MODEL_REGISTRY).mkdir(exist_ok=True)  # create experiments dir\n",
    "mlflow.set_tracking_uri(\"file:///\" + str(MODEL_REGISTRY.absolute()))"
   ],
   "metadata": {
    "collapsed": false,
    "pycharm": {
     "name": "#%%\n"
    }
   }
  },
  {
   "cell_type": "code",
   "execution_count": 3,
   "outputs": [],
   "source": [
    "df = pd.read_csv(\"../data/proccessed/globalterrordb_proccesed.csv\", index_col=0)"
   ],
   "metadata": {
    "collapsed": false,
    "pycharm": {
     "name": "#%%\n"
    }
   }
  },
  {
   "cell_type": "code",
   "execution_count": 4,
   "outputs": [],
   "source": [
    "df.fillna(value=-9, inplace=True)"
   ],
   "metadata": {
    "collapsed": false,
    "pycharm": {
     "name": "#%%\n"
    }
   }
  },
  {
   "cell_type": "markdown",
   "source": [
    "Podział danych"
   ],
   "metadata": {
    "collapsed": false,
    "pycharm": {
     "name": "#%% md\n"
    }
   }
  },
  {
   "cell_type": "code",
   "execution_count": 5,
   "outputs": [],
   "source": [
    "df.drop([\"countries_count\", \"group_count\"], axis=1, inplace=True)"
   ],
   "metadata": {
    "collapsed": false,
    "pycharm": {
     "name": "#%%\n"
    }
   }
  },
  {
   "cell_type": "code",
   "execution_count": 6,
   "outputs": [],
   "source": [
    "y = df[\"cas_class\"]\n",
    "X = df.drop(\"cas_class\", axis=1)"
   ],
   "metadata": {
    "collapsed": false,
    "pycharm": {
     "name": "#%%\n"
    }
   }
  },
  {
   "cell_type": "code",
   "execution_count": 7,
   "outputs": [],
   "source": [
    "X_train, X_test, y_train, y_test = train_test_split(X, y, random_state=42, test_size=0.2, stratify=y)"
   ],
   "metadata": {
    "collapsed": false,
    "pycharm": {
     "name": "#%%\n"
    }
   }
  },
  {
   "cell_type": "code",
   "execution_count": 45,
   "outputs": [],
   "source": [
    "# X_train, X_val, y_train, y_val = train_test_split(X, y, random_state=42, test_size=0.2, stratify=y)\n",
    "# X_train, X_test, y_train, y_test = train_test_split(X_train, y_train, random_state=42, test_size=0.25, stratify=y_train)"
   ],
   "metadata": {
    "collapsed": false,
    "pycharm": {
     "name": "#%%\n"
    }
   }
  },
  {
   "cell_type": "markdown",
   "source": [
    "Transformacje danych"
   ],
   "metadata": {
    "collapsed": false,
    "pycharm": {
     "name": "#%% md\n"
    }
   }
  },
  {
   "cell_type": "code",
   "execution_count": 8,
   "outputs": [],
   "source": [
    "impute_value = -9"
   ],
   "metadata": {
    "collapsed": false,
    "pycharm": {
     "name": "#%%\n"
    }
   }
  },
  {
   "cell_type": "code",
   "execution_count": 9,
   "outputs": [],
   "source": [
    "pipeline = make_pipeline(SimpleImputer(missing_values=np.nan, strategy=\"constant\", fill_value=impute_value),\n",
    "                         StandardScaler())"
   ],
   "metadata": {
    "collapsed": false,
    "pycharm": {
     "name": "#%%\n"
    }
   }
  },
  {
   "cell_type": "code",
   "execution_count": 10,
   "outputs": [
    {
     "data": {
      "text/plain": "array([[-0.20454128,  0.96113541,  0.55877667, ...,  0.92544313,\n        -0.14801657,  0.84629142],\n       [-0.20454128, -0.45858041,  0.37822996, ..., -1.01618403,\n        -0.14801657, -1.08281702],\n       [-0.20454128, -1.52336728, -3.19162718, ..., -1.01618403,\n        -0.14801657, -1.08281702],\n       ...,\n       [-0.20454128, -2.2332252 ,  0.96673904, ...,  1.14117949,\n         1.97519523,  1.0606368 ],\n       [-0.20454128, -1.87829624, -0.53769926, ...,  0.92544313,\n        -0.14801657,  0.84629142],\n       [-0.20454128,  0.60620645,  1.48783997, ..., -1.01618403,\n        -0.14801657, -1.08281702]])"
     },
     "execution_count": 10,
     "metadata": {},
     "output_type": "execute_result"
    }
   ],
   "source": [
    "pipeline.fit_transform(X_train)"
   ],
   "metadata": {
    "collapsed": false,
    "pycharm": {
     "name": "#%%\n"
    }
   }
  },
  {
   "cell_type": "code",
   "execution_count": 11,
   "outputs": [
    {
     "data": {
      "text/plain": "array([[-0.20454128,  0.2512775 ,  1.11346144, ...,  0.92544313,\n        -0.14801657,  0.84629142],\n       [-0.20454128, -1.52336728, -2.05252351, ..., -1.01618403,\n        -0.14801657, -1.08281702],\n       [-0.20454128, -0.45858041,  0.01885846, ..., -1.01618403,\n        -0.14801657, -1.08281702],\n       ...,\n       [-0.20454128,  1.67099332, -3.10661319, ..., -1.01618403,\n        -0.14801657, -1.08281702],\n       [-0.20454128, -1.52336728, -1.18432961, ...,  0.92544313,\n        -0.14801657,  0.84629142],\n       [-0.20454128, -0.45858041,  0.45137931, ..., -1.01618403,\n        -0.14801657, -1.08281702]])"
     },
     "execution_count": 11,
     "metadata": {},
     "output_type": "execute_result"
    }
   ],
   "source": [
    "# pipeline.transform(X_val)\n",
    "pipeline.transform(X_test)"
   ],
   "metadata": {
    "collapsed": false,
    "pycharm": {
     "name": "#%%\n"
    }
   }
  },
  {
   "cell_type": "markdown",
   "source": [
    "Wyszukiwanie hiperparametrów w regresji logistycznej"
   ],
   "metadata": {
    "collapsed": false,
    "pycharm": {
     "name": "#%% md\n"
    }
   }
  },
  {
   "cell_type": "code",
   "execution_count": 78,
   "outputs": [],
   "source": [
    "def objective(trial):\n",
    "    params = {\n",
    "        \"C\": trial.suggest_float(\"C\", 0.1, 15, log=True),\n",
    "        \"class_weight\": trial.suggest_categorical(\"class_weight\", [\"balanced\"]),\n",
    "        \"max_iter\": trial.suggest_categorical(\"max_iter\", [150])\n",
    "    }\n",
    "\n",
    "    model = LogisticRegression(**params)\n",
    "    # model.fit(X_train, y_train)\n",
    "    # preds = model.predict(X_val)\n",
    "    #\n",
    "    # accuracy = accuracy_score(y_val, preds)\n",
    "    # precision = precision_score(y_val, preds)\n",
    "    # recall = recall_score(y_val, preds)\n",
    "    # f1 = f1_score(y_val, preds)\n",
    "    scoring = [\"accuracy\", \"precision\", \"recall\", \"f1\"]\n",
    "\n",
    "    preds = cross_validate(model, X_train, y_train, cv=5, n_jobs=-1, scoring=scoring)\n",
    "\n",
    "    accuracy = np.mean(preds[\"test_accuracy\"])\n",
    "    precision = np.mean(preds[\"test_precision\"])\n",
    "    recall = np.mean(preds[\"test_recall\"])\n",
    "    f1 = np.mean(preds[\"test_accuracy\"])\n",
    "\n",
    "    return accuracy, precision, recall, f1\n"
   ],
   "metadata": {
    "collapsed": false,
    "pycharm": {
     "name": "#%%\n"
    }
   }
  },
  {
   "cell_type": "code",
   "execution_count": 13,
   "outputs": [
    {
     "name": "stderr",
     "output_type": "stream",
     "text": [
      "C:\\Users\\Tuszyn\\AppData\\Local\\Temp\\ipykernel_12476\\3644345758.py:1: ExperimentalWarning: MLflowCallback is experimental (supported from v1.4.0). The interface can change in the future.\n",
      "  mlflow_callback = MLflowCallback(\n"
     ]
    }
   ],
   "source": [
    "mlflow_callback = MLflowCallback(\n",
    "    tracking_uri=mlflow.get_tracking_uri(), metric_name=[\"accuracy\", \"precision\", \"recall\", \"f1\"])"
   ],
   "metadata": {
    "collapsed": false,
    "pycharm": {
     "name": "#%%\n"
    }
   }
  },
  {
   "cell_type": "code",
   "execution_count": 79,
   "outputs": [
    {
     "name": "stderr",
     "output_type": "stream",
     "text": [
      "\u001B[32m[I 2022-05-26 20:38:19,856]\u001B[0m A new study created in memory with name: lr\u001B[0m\n",
      "\u001B[32m[I 2022-05-26 20:38:22,681]\u001B[0m Trial 0 finished with values: [0.696063450333473, 0.8102013762212927, 0.6908995498983164, 0.696063450333473] and parameters: {'C': 1.3875906799756415, 'class_weight': 'balanced', 'n_jobs': -1, 'max_iter': 250}. \u001B[0m\n",
      "\u001B[32m[I 2022-05-26 20:38:24,642]\u001B[0m Trial 1 finished with values: [0.6623915283959233, 0.782608887216441, 0.6602267945913249, 0.6623915283959233] and parameters: {'C': 0.9907432952862475, 'class_weight': 'balanced', 'n_jobs': -1, 'max_iter': 150}. \u001B[0m\n",
      "\u001B[32m[I 2022-05-26 20:38:26,303]\u001B[0m Trial 2 finished with values: [0.6773889344151552, 0.7946412624502279, 0.6739769869337605, 0.6773889344151552] and parameters: {'C': 0.2654276307838985, 'class_weight': 'balanced', 'n_jobs': -1, 'max_iter': 150}. \u001B[0m\n",
      "\u001B[32m[I 2022-05-26 20:38:29,093]\u001B[0m Trial 3 finished with values: [0.7015917033258926, 0.8170815188033259, 0.6924969967788976, 0.7015917033258926] and parameters: {'C': 10.498741440451264, 'class_weight': 'balanced', 'n_jobs': -1, 'max_iter': 250}. \u001B[0m\n",
      "\u001B[32m[I 2022-05-26 20:38:31,991]\u001B[0m Trial 4 finished with values: [0.7014105992665185, 0.8169979739665754, 0.692410261260725, 0.7014105992665185] and parameters: {'C': 3.596509742772226, 'class_weight': 'balanced', 'n_jobs': -1, 'max_iter': 250}. \u001B[0m\n",
      "\u001B[32m[I 2022-05-26 20:38:33,985]\u001B[0m Trial 5 finished with values: [0.6593000990113476, 0.7852710058543839, 0.6494985491468849, 0.6593000990113476] and parameters: {'C': 1.3643333215813325, 'class_weight': 'balanced', 'n_jobs': -1, 'max_iter': 150}. \u001B[0m\n",
      "\u001B[32m[I 2022-05-26 20:38:36,776]\u001B[0m Trial 6 finished with values: [0.6998788334805125, 0.811018269198656, 0.697504774926444, 0.6998788334805125] and parameters: {'C': 0.44637827651149553, 'class_weight': 'balanced', 'n_jobs': -1, 'max_iter': 250}. \u001B[0m\n",
      "\u001B[32m[I 2022-05-26 20:38:39,671]\u001B[0m Trial 7 finished with values: [0.6989599421287636, 0.813706333088337, 0.6918493190815693, 0.6989599421287636] and parameters: {'C': 0.3934549190235042, 'class_weight': 'balanced', 'n_jobs': -1, 'max_iter': 250}. \u001B[0m\n",
      "\u001B[32m[I 2022-05-26 20:38:41,449]\u001B[0m Trial 8 finished with values: [0.6632410620664472, 0.78319085957015, 0.6606358709877018, 0.6632410620664472] and parameters: {'C': 0.2142044226814403, 'class_weight': 'balanced', 'n_jobs': -1, 'max_iter': 150}. \u001B[0m\n",
      "\u001B[32m[I 2022-05-26 20:38:44,198]\u001B[0m Trial 9 finished with values: [0.6977203306438584, 0.8138578118831574, 0.6888915682550939, 0.6977203306438584] and parameters: {'C': 0.24951214670083124, 'class_weight': 'balanced', 'n_jobs': -1, 'max_iter': 250}. \u001B[0m\n",
      "\u001B[32m[I 2022-05-26 20:38:46,908]\u001B[0m Trial 10 finished with values: [0.6965227287620872, 0.8116554029975213, 0.6896257065708836, 0.6965227287620872] and parameters: {'C': 0.14933629390414904, 'class_weight': 'balanced', 'n_jobs': -1, 'max_iter': 250}. \u001B[0m\n",
      "\u001B[32m[I 2022-05-26 20:38:49,888]\u001B[0m Trial 11 finished with values: [0.6966063349403387, 0.8172569643031977, 0.6823736588301224, 0.6966063349403387] and parameters: {'C': 0.19292535825835258, 'class_weight': 'balanced', 'n_jobs': -1, 'max_iter': 250}. \u001B[0m\n",
      "\u001B[32m[I 2022-05-26 20:38:52,673]\u001B[0m Trial 12 finished with values: [0.6974417529420951, 0.8172266386050693, 0.6840562850169524, 0.6974417529420951] and parameters: {'C': 6.097229896318311, 'class_weight': 'balanced', 'n_jobs': -1, 'max_iter': 250}. \u001B[0m\n",
      "\u001B[32m[I 2022-05-26 20:38:55,343]\u001B[0m Trial 13 finished with values: [0.6940439973537896, 0.8132800621075944, 0.6826104616346584, 0.6940439973537896] and parameters: {'C': 0.8046065835106312, 'class_weight': 'balanced', 'n_jobs': -1, 'max_iter': 250}. \u001B[0m\n",
      "\u001B[32m[I 2022-05-26 20:38:57,127]\u001B[0m Trial 14 finished with values: [0.6533120886329425, 0.7811793084830021, 0.6426783199294486, 0.6533120886329425] and parameters: {'C': 11.34180730167258, 'class_weight': 'balanced', 'n_jobs': -1, 'max_iter': 150}. \u001B[0m\n",
      "\u001B[32m[I 2022-05-26 20:38:58,884]\u001B[0m Trial 15 finished with values: [0.6627815557937393, 0.781270534446587, 0.6629254314731514, 0.6627815557937393] and parameters: {'C': 0.15013993213288881, 'class_weight': 'balanced', 'n_jobs': -1, 'max_iter': 150}. \u001B[0m\n",
      "\u001B[32m[I 2022-05-26 20:39:00,779]\u001B[0m Trial 16 finished with values: [0.6672934263401327, 0.788596450289424, 0.6614351232604877, 0.6672934263401327] and parameters: {'C': 3.470113936384147, 'class_weight': 'balanced', 'n_jobs': -1, 'max_iter': 150}. \u001B[0m\n",
      "\u001B[32m[I 2022-05-26 20:39:03,741]\u001B[0m Trial 17 finished with values: [0.7013271656680486, 0.8158413861387459, 0.694116489218515, 0.7013271656680486] and parameters: {'C': 3.4503541704232092, 'class_weight': 'balanced', 'n_jobs': -1, 'max_iter': 250}. \u001B[0m\n",
      "\u001B[32m[I 2022-05-26 20:39:05,805]\u001B[0m Trial 18 finished with values: [0.6671814812043699, 0.7867647917958236, 0.6638956923331751, 0.6671814812043699] and parameters: {'C': 0.19206845129552663, 'class_weight': 'balanced', 'n_jobs': -1, 'max_iter': 150}. \u001B[0m\n",
      "\u001B[32m[I 2022-05-26 20:39:07,750]\u001B[0m Trial 19 finished with values: [0.6598849728608113, 0.7830892549146726, 0.6538585750480289, 0.6598849728608113] and parameters: {'C': 1.0603534367691336, 'class_weight': 'balanced', 'n_jobs': -1, 'max_iter': 150}. \u001B[0m\n",
      "\u001B[32m[I 2022-05-26 20:39:10,756]\u001B[0m Trial 20 finished with values: [0.7029842437664982, 0.8160457628917804, 0.6966626406283835, 0.7029842437664982] and parameters: {'C': 0.3342971093486584, 'class_weight': 'balanced', 'n_jobs': -1, 'max_iter': 250}. \u001B[0m\n",
      "\u001B[32m[I 2022-05-26 20:39:12,752]\u001B[0m Trial 21 finished with values: [0.6690617078691038, 0.7876033154296093, 0.6667665608729884, 0.6690617078691038] and parameters: {'C': 1.0551035264513036, 'class_weight': 'balanced', 'n_jobs': -1, 'max_iter': 150}. \u001B[0m\n",
      "\u001B[32m[I 2022-05-26 20:39:14,417]\u001B[0m Trial 22 finished with values: [0.6640349028840729, 0.7855318686751502, 0.6592558674489505, 0.6640349028840729] and parameters: {'C': 0.12312857321124898, 'class_weight': 'balanced', 'n_jobs': -1, 'max_iter': 150}. \u001B[0m\n",
      "\u001B[32m[I 2022-05-26 20:39:17,198]\u001B[0m Trial 23 finished with values: [0.7018841533395406, 0.8190915698306009, 0.6904461284510833, 0.7018841533395406] and parameters: {'C': 0.8817840023281053, 'class_weight': 'balanced', 'n_jobs': -1, 'max_iter': 250}. \u001B[0m\n",
      "\u001B[32m[I 2022-05-26 20:39:20,168]\u001B[0m Trial 24 finished with values: [0.699140797983508, 0.8138029668505041, 0.692237670835319, 0.699140797983508] and parameters: {'C': 2.0589538840332833, 'class_weight': 'balanced', 'n_jobs': -1, 'max_iter': 250}. \u001B[0m\n",
      "\u001B[32m[I 2022-05-26 20:39:22,826]\u001B[0m Trial 25 finished with values: [0.701605627023892, 0.8167586337440372, 0.6929929997254497, 0.701605627023892] and parameters: {'C': 13.854151742782209, 'class_weight': 'balanced', 'n_jobs': -1, 'max_iter': 250}. \u001B[0m\n",
      "\u001B[32m[I 2022-05-26 20:39:24,655]\u001B[0m Trial 26 finished with values: [0.6625029237972131, 0.7857661289628031, 0.655823898313199, 0.6625029237972131] and parameters: {'C': 0.45358497177624973, 'class_weight': 'balanced', 'n_jobs': -1, 'max_iter': 150}. \u001B[0m\n",
      "\u001B[32m[I 2022-05-26 20:39:26,541]\u001B[0m Trial 27 finished with values: [0.6605811538825753, 0.7830081460791505, 0.6555641413827852, 0.6605811538825753] and parameters: {'C': 1.758148987275439, 'class_weight': 'balanced', 'n_jobs': -1, 'max_iter': 150}. \u001B[0m\n",
      "\u001B[32m[I 2022-05-26 20:39:28,343]\u001B[0m Trial 28 finished with values: [0.6664021671444298, 0.7841636059817059, 0.6664875097103081, 0.6664021671444298] and parameters: {'C': 3.842497714829949, 'class_weight': 'balanced', 'n_jobs': -1, 'max_iter': 150}. \u001B[0m\n",
      "\u001B[32m[I 2022-05-26 20:39:30,291]\u001B[0m Trial 29 finished with values: [0.6671540623491774, 0.7890491373150581, 0.6607013623493861, 0.6671540623491774] and parameters: {'C': 0.8998032453206188, 'class_weight': 'balanced', 'n_jobs': -1, 'max_iter': 150}. \u001B[0m\n"
     ]
    }
   ],
   "source": [
    "study = optuna.create_study(study_name=\"lr\", directions=[\"maximize\", \"maximize\", \"maximize\", \"maximize\"])\n",
    "study.optimize(objective, n_trials=30, callbacks=[mlflow_callback])"
   ],
   "metadata": {
    "collapsed": false,
    "pycharm": {
     "name": "#%%\n"
    }
   }
  },
  {
   "cell_type": "markdown",
   "source": [
    "Wyszukiwanie hiperparametrów drzewo decyzyjne"
   ],
   "metadata": {
    "collapsed": false,
    "pycharm": {
     "name": "#%% md\n"
    }
   }
  },
  {
   "cell_type": "code",
   "execution_count": 14,
   "outputs": [],
   "source": [
    "def objective(trial):\n",
    "    params = {\n",
    "        \"max_depth\": trial.suggest_int(\"max_depth\", 10, 40),\n",
    "        \"min_samples_leaf\": trial.suggest_int(\"min_samples_leaf\", 2, 50),\n",
    "        \"max_features\": trial.suggest_categorical(\"max_features\", [None]),\n",
    "        \"class_weight\": trial.suggest_categorical(\"class_weight\", [\"balanced\"]),\n",
    "    }\n",
    "\n",
    "    model = DecisionTreeClassifier(**params)\n",
    "    # model.fit(X_train, y_train)\n",
    "    # preds = model.predict(X_val)\n",
    "\n",
    "    scoring = [\"accuracy\", \"precision\", \"recall\", \"f1\"]\n",
    "\n",
    "    preds = cross_validate(model, X_train, y_train, cv=5, n_jobs=-1, scoring=scoring)\n",
    "\n",
    "    accuracy = np.mean(preds[\"test_accuracy\"])\n",
    "    precision = np.mean(preds[\"test_precision\"])\n",
    "    recall = np.mean(preds[\"test_recall\"])\n",
    "    f1 = np.mean(preds[\"test_accuracy\"])\n",
    "\n",
    "    # accuracy = accuracy_score(y_val, preds)\n",
    "    # precision = precision_score(y_val, preds)\n",
    "    # recall = recall_score(y_val, preds)\n",
    "    # f1 = f1_score(y_val, preds)\n",
    "\n",
    "    return accuracy, precision, recall, f1"
   ],
   "metadata": {
    "collapsed": false,
    "pycharm": {
     "name": "#%%\n"
    }
   }
  },
  {
   "cell_type": "code",
   "execution_count": 15,
   "outputs": [
    {
     "name": "stderr",
     "output_type": "stream",
     "text": [
      "\u001B[32m[I 2022-05-27 09:03:37,416]\u001B[0m A new study created in memory with name: dt\u001B[0m\n",
      "\u001B[32m[I 2022-05-27 09:03:40,194]\u001B[0m Trial 0 finished with values: [0.8301496831157937, 0.9042296874665794, 0.8240113744234806, 0.8301496831157937] and parameters: {'max_depth': 23, 'min_samples_leaf': 25, 'max_features': None, 'class_weight': 'balanced'}. \u001B[0m\n",
      "\u001B[32m[I 2022-05-27 09:03:42,301]\u001B[0m Trial 1 finished with values: [0.8262540634002933, 0.8988739305422978, 0.8233314209112577, 0.8262540634002933] and parameters: {'max_depth': 15, 'min_samples_leaf': 49, 'max_features': None, 'class_weight': 'balanced'}. \u001B[0m\n",
      "\u001B[32m[I 2022-05-27 09:03:43,909]\u001B[0m Trial 2 finished with values: [0.8301288073861338, 0.9035376328146653, 0.824739734031161, 0.8301288073861338] and parameters: {'max_depth': 31, 'min_samples_leaf': 13, 'max_features': None, 'class_weight': 'balanced'}. \u001B[0m\n",
      "\u001B[32m[I 2022-05-27 09:03:44,927]\u001B[0m Trial 3 finished with values: [0.8304316761763971, 0.8952530853785969, 0.8348577781036124, 0.8304316761763971] and parameters: {'max_depth': 14, 'min_samples_leaf': 24, 'max_features': None, 'class_weight': 'balanced'}. \u001B[0m\n",
      "\u001B[32m[I 2022-05-27 09:03:45,914]\u001B[0m Trial 4 finished with values: [0.8260347580680678, 0.8953958397526833, 0.8269577125414072, 0.8260347580680678] and parameters: {'max_depth': 28, 'min_samples_leaf': 5, 'max_features': None, 'class_weight': 'balanced'}. \u001B[0m\n",
      "\u001B[32m[I 2022-05-27 09:03:46,987]\u001B[0m Trial 5 finished with values: [0.8304212743079658, 0.8990968021494046, 0.8303249499274964, 0.8304212743079658] and parameters: {'max_depth': 32, 'min_samples_leaf': 9, 'max_features': None, 'class_weight': 'balanced'}. \u001B[0m\n",
      "\u001B[32m[I 2022-05-27 09:03:47,805]\u001B[0m Trial 6 finished with values: [0.8270269175342957, 0.8973996433026519, 0.8263911245795242, 0.8270269175342957] and parameters: {'max_depth': 15, 'min_samples_leaf': 42, 'max_features': None, 'class_weight': 'balanced'}. \u001B[0m\n",
      "\u001B[32m[I 2022-05-27 09:03:48,613]\u001B[0m Trial 7 finished with values: [0.8264733872761184, 0.9037412097627184, 0.8181996016999395, 0.8264733872761184] and parameters: {'max_depth': 21, 'min_samples_leaf': 49, 'max_features': None, 'class_weight': 'balanced'}. \u001B[0m\n",
      "\u001B[32m[I 2022-05-27 09:03:49,554]\u001B[0m Trial 8 finished with values: [0.8318416452972137, 0.9026647405529287, 0.8287060450030456, 0.8318416452972137] and parameters: {'max_depth': 32, 'min_samples_leaf': 15, 'max_features': None, 'class_weight': 'balanced'}. \u001B[0m\n",
      "\u001B[32m[I 2022-05-27 09:03:50,483]\u001B[0m Trial 9 finished with values: [0.8305361142732949, 0.8954723673795348, 0.8347768680396663, 0.8305361142732949] and parameters: {'max_depth': 14, 'min_samples_leaf': 29, 'max_features': None, 'class_weight': 'balanced'}. \u001B[0m\n",
      "\u001B[32m[I 2022-05-27 09:03:51,210]\u001B[0m Trial 10 finished with values: [0.826609168419105, 0.9029869019269349, 0.8192680854755048, 0.826609168419105] and parameters: {'max_depth': 33, 'min_samples_leaf': 46, 'max_features': None, 'class_weight': 'balanced'}. \u001B[0m\n",
      "\u001B[32m[I 2022-05-27 09:03:52,048]\u001B[0m Trial 11 finished with values: [0.8331053397794157, 0.8981745015807057, 0.8361043890250427, 0.8331053397794157] and parameters: {'max_depth': 15, 'min_samples_leaf': 17, 'max_features': None, 'class_weight': 'balanced'}. \u001B[0m\n",
      "\u001B[32m[I 2022-05-27 09:03:52,988]\u001B[0m Trial 12 finished with values: [0.827664004160311, 0.900524461629663, 0.8239627848822609, 0.827664004160311] and parameters: {'max_depth': 16, 'min_samples_leaf': 37, 'max_features': None, 'class_weight': 'balanced'}. \u001B[0m\n",
      "\u001B[32m[I 2022-05-27 09:03:53,683]\u001B[0m Trial 13 finished with values: [0.8295230447172081, 0.8966031799059051, 0.8317495412381817, 0.8295230447172081] and parameters: {'max_depth': 13, 'min_samples_leaf': 21, 'max_features': None, 'class_weight': 'balanced'}. \u001B[0m\n",
      "\u001B[32m[I 2022-05-27 09:03:54,803]\u001B[0m Trial 14 finished with values: [0.829533507125037, 0.9010213307585339, 0.8265690446937428, 0.829533507125037] and parameters: {'max_depth': 33, 'min_samples_leaf': 12, 'max_features': None, 'class_weight': 'balanced'}. \u001B[0m\n",
      "\u001B[32m[I 2022-05-27 09:03:55,736]\u001B[0m Trial 15 finished with values: [0.8305779050014133, 0.9043461884927406, 0.8246103235282229, 0.8305779050014133] and parameters: {'max_depth': 23, 'min_samples_leaf': 21, 'max_features': None, 'class_weight': 'balanced'}. \u001B[0m\n",
      "\u001B[32m[I 2022-05-27 09:03:56,686]\u001B[0m Trial 16 finished with values: [0.8240608939078413, 0.890111225683151, 0.8297584641711098, 0.8240608939078413] and parameters: {'max_depth': 11, 'min_samples_leaf': 9, 'max_features': None, 'class_weight': 'balanced'}. \u001B[0m\n",
      "\u001B[32m[I 2022-05-27 09:03:57,576]\u001B[0m Trial 17 finished with values: [0.8257423309604344, 0.8780207668401075, 0.8476470309598139, 0.8257423309604344] and parameters: {'max_depth': 36, 'min_samples_leaf': 3, 'max_features': None, 'class_weight': 'balanced'}. \u001B[0m\n",
      "\u001B[32m[I 2022-05-27 09:03:58,552]\u001B[0m Trial 18 finished with values: [0.8297006084073134, 0.9010224618884017, 0.8268604469773937, 0.8297006084073134] and parameters: {'max_depth': 36, 'min_samples_leaf': 12, 'max_features': None, 'class_weight': 'balanced'}. \u001B[0m\n",
      "\u001B[32m[I 2022-05-27 09:03:59,595]\u001B[0m Trial 19 finished with values: [0.8301079136582745, 0.9033936556581518, 0.8248692401879613, 0.8301079136582745] and parameters: {'max_depth': 35, 'min_samples_leaf': 13, 'max_features': None, 'class_weight': 'balanced'}. \u001B[0m\n",
      "\u001B[32m[I 2022-05-27 09:04:00,379]\u001B[0m Trial 20 finished with values: [0.8274029037367671, 0.9019581818800193, 0.8218097147241495, 0.8274029037367671] and parameters: {'max_depth': 19, 'min_samples_leaf': 42, 'max_features': None, 'class_weight': 'balanced'}. \u001B[0m\n",
      "\u001B[32m[I 2022-05-27 09:04:01,296]\u001B[0m Trial 21 finished with values: [0.8326667067535652, 0.9045571355970189, 0.8279937722784233, 0.8326667067535652] and parameters: {'max_depth': 35, 'min_samples_leaf': 18, 'max_features': None, 'class_weight': 'balanced'}. \u001B[0m\n",
      "\u001B[32m[I 2022-05-27 09:04:02,131]\u001B[0m Trial 22 finished with values: [0.8288650507283339, 0.902053378677409, 0.824254226475718, 0.8288650507283339] and parameters: {'max_depth': 38, 'min_samples_leaf': 38, 'max_features': None, 'class_weight': 'balanced'}. \u001B[0m\n",
      "\u001B[32m[I 2022-05-27 09:04:03,074]\u001B[0m Trial 23 finished with values: [0.8315596604176101, 0.8970772698496974, 0.8347122217529069, 0.8315596604176101] and parameters: {'max_depth': 17, 'min_samples_leaf': 6, 'max_features': None, 'class_weight': 'balanced'}. \u001B[0m\n",
      "\u001B[32m[I 2022-05-27 09:04:03,941]\u001B[0m Trial 24 finished with values: [0.8265569496433562, 0.8996149294033202, 0.8230885819622891, 0.8265569496433562] and parameters: {'max_depth': 16, 'min_samples_leaf': 40, 'max_features': None, 'class_weight': 'balanced'}. \u001B[0m\n",
      "\u001B[32m[I 2022-05-27 09:04:04,806]\u001B[0m Trial 25 finished with values: [0.830818138421697, 0.899458973004313, 0.8306001591916121, 0.830818138421697] and parameters: {'max_depth': 27, 'min_samples_leaf': 9, 'max_features': None, 'class_weight': 'balanced'}. \u001B[0m\n",
      "\u001B[32m[I 2022-05-27 09:04:05,645]\u001B[0m Trial 26 finished with values: [0.823476023875975, 0.8907687356305953, 0.827929184956373, 0.823476023875975] and parameters: {'max_depth': 11, 'min_samples_leaf': 23, 'max_features': None, 'class_weight': 'balanced'}. \u001B[0m\n",
      "\u001B[32m[I 2022-05-27 09:04:06,435]\u001B[0m Trial 27 finished with values: [0.8326875895734249, 0.9046311371573823, 0.8279451905991646, 0.8326875895734249] and parameters: {'max_depth': 21, 'min_samples_leaf': 18, 'max_features': None, 'class_weight': 'balanced'}. \u001B[0m\n",
      "\u001B[32m[I 2022-05-27 09:04:07,304]\u001B[0m Trial 28 finished with values: [0.8276848777083711, 0.892815548447159, 0.8329637661205421, 0.8276848777083711] and parameters: {'max_depth': 14, 'min_samples_leaf': 41, 'max_features': None, 'class_weight': 'balanced'}. \u001B[0m\n",
      "\u001B[32m[I 2022-05-27 09:04:08,096]\u001B[0m Trial 29 finished with values: [0.8282070807370591, 0.9020860369845106, 0.8230724046666766, 0.8282070807370591] and parameters: {'max_depth': 30, 'min_samples_leaf': 40, 'max_features': None, 'class_weight': 'balanced'}. \u001B[0m\n",
      "\u001B[32m[I 2022-05-27 09:04:08,972]\u001B[0m Trial 30 finished with values: [0.8331680313255934, 0.9036942242329331, 0.8298392785811938, 0.8331680313255934] and parameters: {'max_depth': 32, 'min_samples_leaf': 17, 'max_features': None, 'class_weight': 'balanced'}. \u001B[0m\n",
      "\u001B[32m[I 2022-05-27 09:04:09,874]\u001B[0m Trial 31 finished with values: [0.8304212224949676, 0.9031255960046604, 0.8257274060172962, 0.8304212224949676] and parameters: {'max_depth': 35, 'min_samples_leaf': 29, 'max_features': None, 'class_weight': 'balanced'}. \u001B[0m\n",
      "\u001B[32m[I 2022-05-27 09:04:10,905]\u001B[0m Trial 32 finished with values: [0.8317685240672059, 0.9040441397678608, 0.8270224374477794, 0.8317685240672059] and parameters: {'max_depth': 28, 'min_samples_leaf': 16, 'max_features': None, 'class_weight': 'balanced'}. \u001B[0m\n",
      "\u001B[32m[I 2022-05-27 09:04:11,816]\u001B[0m Trial 33 finished with values: [0.8299825791065174, 0.9042528090013805, 0.8236875795491256, 0.8299825791065174] and parameters: {'max_depth': 40, 'min_samples_leaf': 24, 'max_features': None, 'class_weight': 'balanced'}. \u001B[0m\n",
      "\u001B[32m[I 2022-05-27 09:04:12,669]\u001B[0m Trial 34 finished with values: [0.8262122830347746, 0.9041932346234978, 0.8172444677507918, 0.8262122830347746] and parameters: {'max_depth': 39, 'min_samples_leaf': 50, 'max_features': None, 'class_weight': 'balanced'}. \u001B[0m\n",
      "\u001B[32m[I 2022-05-27 09:04:13,460]\u001B[0m Trial 35 finished with values: [0.8300661142037562, 0.9032437106638941, 0.8249827538052384, 0.8300661142037562] and parameters: {'max_depth': 21, 'min_samples_leaf': 30, 'max_features': None, 'class_weight': 'balanced'}. \u001B[0m\n",
      "\u001B[32m[I 2022-05-27 09:04:14,300]\u001B[0m Trial 36 finished with values: [0.8300556976095255, 0.903270110007998, 0.8249178140052583, 0.8300556976095255] and parameters: {'max_depth': 37, 'min_samples_leaf': 13, 'max_features': None, 'class_weight': 'balanced'}. \u001B[0m\n",
      "\u001B[32m[I 2022-05-27 09:04:15,167]\u001B[0m Trial 37 finished with values: [0.8296588814909928, 0.8984277323792991, 0.8298392851328282, 0.8296588814909928] and parameters: {'max_depth': 16, 'min_samples_leaf': 10, 'max_features': None, 'class_weight': 'balanced'}. \u001B[0m\n",
      "\u001B[32m[I 2022-05-27 09:04:15,989]\u001B[0m Trial 38 finished with values: [0.8262958574008119, 0.9031989981259325, 0.8184910301901278, 0.8262958574008119] and parameters: {'max_depth': 24, 'min_samples_leaf': 47, 'max_features': None, 'class_weight': 'balanced'}. \u001B[0m\n",
      "\u001B[32m[I 2022-05-27 09:04:16,971]\u001B[0m Trial 39 finished with values: [0.8292097724223136, 0.9012725246549218, 0.825711131757495, 0.8292097724223136] and parameters: {'max_depth': 33, 'min_samples_leaf': 10, 'max_features': None, 'class_weight': 'balanced'}. \u001B[0m\n",
      "\u001B[32m[I 2022-05-27 09:04:17,801]\u001B[0m Trial 40 finished with values: [0.8290635195996983, 0.9006483943186172, 0.8262454293341698, 0.8290635195996983] and parameters: {'max_depth': 16, 'min_samples_leaf': 25, 'max_features': None, 'class_weight': 'balanced'}. \u001B[0m\n",
      "\u001B[32m[I 2022-05-27 09:04:18,761]\u001B[0m Trial 41 finished with values: [0.8278729038063055, 0.8963635044560185, 0.8290622809501992, 0.8278729038063055] and parameters: {'max_depth': 19, 'min_samples_leaf': 5, 'max_features': None, 'class_weight': 'balanced'}. \u001B[0m\n",
      "\u001B[32m[I 2022-05-27 09:04:19,566]\u001B[0m Trial 42 finished with values: [0.8299199066493393, 0.9027389846239308, 0.8252902888333878, 0.8299199066493393] and parameters: {'max_depth': 18, 'min_samples_leaf': 32, 'max_features': None, 'class_weight': 'balanced'}. \u001B[0m\n",
      "\u001B[32m[I 2022-05-27 09:04:20,373]\u001B[0m Trial 43 finished with values: [0.830201893710543, 0.903996555977978, 0.8243675710608283, 0.830201893710543] and parameters: {'max_depth': 34, 'min_samples_leaf': 26, 'max_features': None, 'class_weight': 'balanced'}. \u001B[0m\n",
      "\u001B[32m[I 2022-05-27 09:04:21,145]\u001B[0m Trial 44 finished with values: [0.8292514862490348, 0.9020575022157548, 0.8249179214520623, 0.8292514862490348] and parameters: {'max_depth': 18, 'min_samples_leaf': 35, 'max_features': None, 'class_weight': 'balanced'}. \u001B[0m\n",
      "\u001B[32m[I 2022-05-27 09:04:21,999]\u001B[0m Trial 45 finished with values: [0.8262332029418328, 0.8957745881896972, 0.8268605806307349, 0.8262332029418328] and parameters: {'max_depth': 31, 'min_samples_leaf': 5, 'max_features': None, 'class_weight': 'balanced'}. \u001B[0m\n",
      "\u001B[32m[I 2022-05-27 09:04:22,739]\u001B[0m Trial 46 finished with values: [0.827350686597218, 0.8997879445316009, 0.8242703828061003, 0.827350686597218] and parameters: {'max_depth': 16, 'min_samples_leaf': 38, 'max_features': None, 'class_weight': 'balanced'}. \u001B[0m\n",
      "\u001B[32m[I 2022-05-27 09:04:23,564]\u001B[0m Trial 47 finished with values: [0.8225777877404173, 0.8846005043023496, 0.8339835738733138, 0.8225777877404173] and parameters: {'max_depth': 10, 'min_samples_leaf': 11, 'max_features': None, 'class_weight': 'balanced'}. \u001B[0m\n",
      "\u001B[32m[I 2022-05-27 09:04:24,354]\u001B[0m Trial 48 finished with values: [0.8304316663591974, 0.9030271996438746, 0.8258569187257307, 0.8304316663591974] and parameters: {'max_depth': 31, 'min_samples_leaf': 29, 'max_features': None, 'class_weight': 'balanced'}. \u001B[0m\n",
      "\u001B[32m[I 2022-05-27 09:04:25,256]\u001B[0m Trial 49 finished with values: [0.8300974496142455, 0.9043226402350306, 0.823817148601616, 0.8300974496142455] and parameters: {'max_depth': 31, 'min_samples_leaf': 27, 'max_features': None, 'class_weight': 'balanced'}. \u001B[0m\n"
     ]
    }
   ],
   "source": [
    "study = optuna.create_study(study_name=\"dt\", directions=[\"maximize\", \"maximize\", \"maximize\", \"maximize\"])\n",
    "study.optimize(objective, n_trials=50, callbacks=[mlflow_callback])"
   ],
   "metadata": {
    "collapsed": false,
    "pycharm": {
     "name": "#%%\n"
    }
   }
  },
  {
   "cell_type": "code",
   "execution_count": 16,
   "outputs": [
    {
     "name": "stdout",
     "output_type": "stream",
     "text": [
      "file:///C:\\Users\\Tuszyn\\Desktop\\JT_praca_magisterska\\notebooks\\experiments\n"
     ]
    }
   ],
   "source": [
    "print(mlflow.get_tracking_uri())"
   ],
   "metadata": {
    "collapsed": false,
    "pycharm": {
     "name": "#%%\n"
    }
   }
  }
 ],
 "metadata": {
  "kernelspec": {
   "display_name": "Python 3",
   "language": "python",
   "name": "python3"
  },
  "language_info": {
   "codemirror_mode": {
    "name": "ipython",
    "version": 2
   },
   "file_extension": ".py",
   "mimetype": "text/x-python",
   "name": "python",
   "nbconvert_exporter": "python",
   "pygments_lexer": "ipython2",
   "version": "2.7.6"
  }
 },
 "nbformat": 4,
 "nbformat_minor": 0
}