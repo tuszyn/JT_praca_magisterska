{
 "cells": [
  {
   "cell_type": "code",
   "execution_count": 1,
   "metadata": {
    "collapsed": true,
    "pycharm": {
     "name": "#%%\n"
    }
   },
   "outputs": [],
   "source": [
    "from pathlib import Path\n",
    "\n",
    "import optuna\n",
    "import pandas as pd\n",
    "import numpy as np\n",
    "import xgboost as xgb\n",
    "\n",
    "from sklearn.model_selection import cross_validate\n",
    "import mlflow\n",
    "from optuna.integration import MLflowCallback\n",
    "\n",
    "from sklearn.tree import DecisionTreeClassifier\n",
    "from sklearn.ensemble import RandomForestClassifier\n",
    "from sklearn.linear_model import LogisticRegression\n",
    "from sklearn.svm import LinearSVC"
   ]
  },
  {
   "cell_type": "code",
   "execution_count": 2,
   "outputs": [],
   "source": [
    "# Set tracking URI\n",
    "MODEL_REGISTRY = Path(\"experiments\")\n",
    "#Path(MODEL_REGISTRY).mkdir(exist_ok=True)  # create experiments dir\n",
    "mlflow.set_tracking_uri(\"file:///\" + str(MODEL_REGISTRY.absolute()))"
   ],
   "metadata": {
    "collapsed": false,
    "pycharm": {
     "name": "#%%\n"
    }
   }
  },
  {
   "cell_type": "code",
   "execution_count": 3,
   "outputs": [],
   "source": [
    "df = pd.read_csv(\"../data/proccessed/globalterrordb_proccesed.csv\", index_col=0)"
   ],
   "metadata": {
    "collapsed": false,
    "pycharm": {
     "name": "#%%\n"
    }
   }
  },
  {
   "cell_type": "markdown",
   "source": [
    "Podział danych"
   ],
   "metadata": {
    "collapsed": false,
    "pycharm": {
     "name": "#%% md\n"
    }
   }
  },
  {
   "cell_type": "code",
   "execution_count": 3,
   "outputs": [],
   "source": [
    "train = pd.read_csv(\"../data/modeling/train.csv\")\n",
    "test = pd.read_csv(\"../data/modeling/test.csv\")"
   ],
   "metadata": {
    "collapsed": false,
    "pycharm": {
     "name": "#%%\n"
    }
   }
  },
  {
   "cell_type": "code",
   "execution_count": 4,
   "outputs": [],
   "source": [
    "X_train = train.drop(\"cas_class\", axis=1)\n",
    "y_train = train[\"cas_class\"]\n",
    "X_test = test.drop(\"cas_class\", axis=1)\n",
    "y_test = test[\"cas_class\"]"
   ],
   "metadata": {
    "collapsed": false,
    "pycharm": {
     "name": "#%%\n"
    }
   }
  },
  {
   "cell_type": "code",
   "execution_count": 8,
   "outputs": [
    {
     "data": {
      "text/plain": "1    65006\n0    45804\nName: cas_class, dtype: int64"
     },
     "execution_count": 8,
     "metadata": {},
     "output_type": "execute_result"
    }
   ],
   "source": [
    "y_train.value_counts()"
   ],
   "metadata": {
    "collapsed": false,
    "pycharm": {
     "name": "#%%\n"
    }
   }
  },
  {
   "cell_type": "code",
   "execution_count": 9,
   "outputs": [
    {
     "data": {
      "text/plain": "0.7046118819801249"
     },
     "execution_count": 9,
     "metadata": {},
     "output_type": "execute_result"
    }
   ],
   "source": [
    "45804 / 65006"
   ],
   "metadata": {
    "collapsed": false,
    "pycharm": {
     "name": "#%%\n"
    }
   }
  },
  {
   "cell_type": "code",
   "execution_count": 4,
   "outputs": [],
   "source": [
    "# df.fillna(value=-9, inplace=True)"
   ],
   "metadata": {
    "collapsed": false,
    "pycharm": {
     "name": "#%%\n"
    }
   }
  },
  {
   "cell_type": "code",
   "execution_count": 5,
   "outputs": [],
   "source": [
    "# df.drop([\"countries_count\", \"group_count\"], axis=1, inplace=True)"
   ],
   "metadata": {
    "collapsed": false,
    "pycharm": {
     "name": "#%%\n"
    }
   }
  },
  {
   "cell_type": "code",
   "execution_count": 6,
   "outputs": [],
   "source": [
    "# y = df[\"cas_class\"]\n",
    "# X = df.drop(\"cas_class\", axis=1)"
   ],
   "metadata": {
    "collapsed": false,
    "pycharm": {
     "name": "#%%\n"
    }
   }
  },
  {
   "cell_type": "code",
   "execution_count": 7,
   "outputs": [],
   "source": [
    "# X_train, X_test, y_train, y_test = train_test_split(X, y, random_state=42, test_size=0.2, stratify=y)"
   ],
   "metadata": {
    "collapsed": false,
    "pycharm": {
     "name": "#%%\n"
    }
   }
  },
  {
   "cell_type": "code",
   "execution_count": 45,
   "outputs": [],
   "source": [
    "# X_train, X_val, y_train, y_val = train_test_split(X, y, random_state=42, test_size=0.2, stratify=y)\n",
    "# X_train, X_test, y_train, y_test = train_test_split(X_train, y_train, random_state=42, test_size=0.25, stratify=y_train)"
   ],
   "metadata": {
    "collapsed": false,
    "pycharm": {
     "name": "#%%\n"
    }
   }
  },
  {
   "cell_type": "markdown",
   "source": [
    "Transformacje danych"
   ],
   "metadata": {
    "collapsed": false,
    "pycharm": {
     "name": "#%% md\n"
    }
   }
  },
  {
   "cell_type": "code",
   "execution_count": 8,
   "outputs": [],
   "source": [
    "# impute_value = -9"
   ],
   "metadata": {
    "collapsed": false,
    "pycharm": {
     "name": "#%%\n"
    }
   }
  },
  {
   "cell_type": "code",
   "execution_count": 9,
   "outputs": [],
   "source": [
    "# pipeline = make_pipeline(SimpleImputer(missing_values=np.nan, strategy=\"constant\", fill_value=impute_value),\n",
    "#                          StandardScaler())"
   ],
   "metadata": {
    "collapsed": false,
    "pycharm": {
     "name": "#%%\n"
    }
   }
  },
  {
   "cell_type": "code",
   "execution_count": 10,
   "outputs": [
    {
     "data": {
      "text/plain": "array([[-0.20454128,  0.96113541,  0.55877667, ...,  0.92544313,\n        -0.14801657,  0.84629142],\n       [-0.20454128, -0.45858041,  0.37822996, ..., -1.01618403,\n        -0.14801657, -1.08281702],\n       [-0.20454128, -1.52336728, -3.19162718, ..., -1.01618403,\n        -0.14801657, -1.08281702],\n       ...,\n       [-0.20454128, -2.2332252 ,  0.96673904, ...,  1.14117949,\n         1.97519523,  1.0606368 ],\n       [-0.20454128, -1.87829624, -0.53769926, ...,  0.92544313,\n        -0.14801657,  0.84629142],\n       [-0.20454128,  0.60620645,  1.48783997, ..., -1.01618403,\n        -0.14801657, -1.08281702]])"
     },
     "execution_count": 10,
     "metadata": {},
     "output_type": "execute_result"
    }
   ],
   "source": [
    "# pipeline.fit_transform(X_train)"
   ],
   "metadata": {
    "collapsed": false,
    "pycharm": {
     "name": "#%%\n"
    }
   }
  },
  {
   "cell_type": "code",
   "execution_count": 11,
   "outputs": [
    {
     "data": {
      "text/plain": "array([[-0.20454128,  0.2512775 ,  1.11346144, ...,  0.92544313,\n        -0.14801657,  0.84629142],\n       [-0.20454128, -1.52336728, -2.05252351, ..., -1.01618403,\n        -0.14801657, -1.08281702],\n       [-0.20454128, -0.45858041,  0.01885846, ..., -1.01618403,\n        -0.14801657, -1.08281702],\n       ...,\n       [-0.20454128,  1.67099332, -3.10661319, ..., -1.01618403,\n        -0.14801657, -1.08281702],\n       [-0.20454128, -1.52336728, -1.18432961, ...,  0.92544313,\n        -0.14801657,  0.84629142],\n       [-0.20454128, -0.45858041,  0.45137931, ..., -1.01618403,\n        -0.14801657, -1.08281702]])"
     },
     "execution_count": 11,
     "metadata": {},
     "output_type": "execute_result"
    }
   ],
   "source": [
    "# pipeline.transform(X_val)\n",
    "# pipeline.transform(X_test)"
   ],
   "metadata": {
    "collapsed": false,
    "pycharm": {
     "name": "#%%\n"
    }
   }
  },
  {
   "cell_type": "markdown",
   "source": [
    "Wyszukiwanie hiperparametrów w regresji logistycznej"
   ],
   "metadata": {
    "collapsed": false,
    "pycharm": {
     "name": "#%% md\n"
    }
   }
  },
  {
   "cell_type": "code",
   "execution_count": 5,
   "outputs": [
    {
     "name": "stderr",
     "output_type": "stream",
     "text": [
      "C:\\Users\\Tuszyn\\AppData\\Local\\Temp\\ipykernel_7272\\3644345758.py:1: ExperimentalWarning: MLflowCallback is experimental (supported from v1.4.0). The interface can change in the future.\n",
      "  mlflow_callback = MLflowCallback(\n"
     ]
    }
   ],
   "source": [
    "mlflow_callback = MLflowCallback(\n",
    "    tracking_uri=mlflow.get_tracking_uri(), metric_name=[\"accuracy\", \"precision\", \"recall\", \"f1\"])"
   ],
   "metadata": {
    "collapsed": false,
    "pycharm": {
     "name": "#%%\n"
    }
   }
  },
  {
   "cell_type": "markdown",
   "source": [
    "Wyszukiwanie hiperparametrów dla maszyn wektorów nośnych"
   ],
   "metadata": {
    "collapsed": false,
    "pycharm": {
     "name": "#%% md\n"
    }
   }
  },
  {
   "cell_type": "code",
   "execution_count": 14,
   "outputs": [],
   "source": [
    "def objective(trial):\n",
    "    params = {\n",
    "        \"C\": trial.suggest_float(\"C\", 0.0001, 0.1),\n",
    "        \"class_weight\": trial.suggest_categorical(\"class_weight\", [\"balanced\"]),\n",
    "        \"dual\": trial.suggest_categorical(\"dual\", [False]),\n",
    "        \"penalty\": trial.suggest_categorical(\"penalty\", [\"l1\"])\n",
    "    }\n",
    "\n",
    "    model = LinearSVC(**params)\n",
    "\n",
    "    scoring = [\"accuracy\", \"precision\", \"recall\", \"f1\"]\n",
    "\n",
    "    preds = cross_validate(model, X_train, y_train, cv=5, n_jobs=-1, scoring=scoring)\n",
    "\n",
    "    accuracy = np.mean(preds[\"test_accuracy\"])\n",
    "    precision = np.mean(preds[\"test_precision\"])\n",
    "    recall = np.mean(preds[\"test_recall\"])\n",
    "    f1 = np.mean(preds[\"test_f1\"])\n",
    "\n",
    "    return accuracy, precision, recall, f1"
   ],
   "metadata": {
    "collapsed": false,
    "pycharm": {
     "name": "#%%\n"
    }
   }
  },
  {
   "cell_type": "code",
   "execution_count": 15,
   "outputs": [
    {
     "name": "stderr",
     "output_type": "stream",
     "text": [
      "\u001B[32m[I 2022-05-31 11:42:38,671]\u001B[0m Trial 92 finished with values: [0.7640555906506632, 0.8230386717771919, 0.7615450095948864, 0.7910969697893417] and parameters: {'C': 0.40202876055721787, 'class_weight': 'balanced', 'dual': False, 'penalty': 'l1'}. \u001B[0m\n",
      "\u001B[32m[I 2022-05-31 11:42:40,708]\u001B[0m Trial 93 finished with values: [0.7640646151069397, 0.8230525019674216, 0.7615450107780452, 0.7911033429851506] and parameters: {'C': 0.30421067375306216, 'class_weight': 'balanced', 'dual': False, 'penalty': 'l2'}. \u001B[0m\n",
      "\u001B[32m[I 2022-05-31 11:42:42,621]\u001B[0m Trial 94 finished with values: [0.7640555906506632, 0.8230495433002503, 0.7615296273460015, 0.7910936824189908] and parameters: {'C': 0.6124182299946374, 'class_weight': 'balanced', 'dual': False, 'penalty': 'l2'}. \u001B[0m\n",
      "\u001B[32m[I 2022-05-31 11:42:49,405]\u001B[0m Trial 95 finished with values: [0.7640916884757694, 0.8230719357298424, 0.7615757776421325, 0.7911289568482511] and parameters: {'C': 0.6675357020811684, 'class_weight': 'balanced', 'dual': False, 'penalty': 'l1'}. \u001B[0m\n",
      "\u001B[32m[I 2022-05-31 11:42:55,851]\u001B[0m Trial 96 finished with values: [0.7640826640194929, 0.8230797899247726, 0.7615450107780453, 0.7911159726267422] and parameters: {'C': 0.08991503290535112, 'class_weight': 'balanced', 'dual': False, 'penalty': 'l1'}. \u001B[0m\n",
      "\u001B[32m[I 2022-05-31 11:43:03,126]\u001B[0m Trial 97 finished with values: [0.7640285172818337, 0.8230408038402028, 0.7614834770498704, 0.7910647170315229] and parameters: {'C': 0.20658609759903937, 'class_weight': 'balanced', 'dual': False, 'penalty': 'l1'}. \u001B[0m\n",
      "\u001B[32m[I 2022-05-31 11:43:08,194]\u001B[0m Trial 98 finished with values: [0.7640826640194929, 0.8231010877705038, 0.7615142439139577, 0.7911092839886106] and parameters: {'C': 0.6081542576659213, 'class_weight': 'balanced', 'dual': False, 'penalty': 'l1'}. \u001B[0m\n",
      "\u001B[32m[I 2022-05-31 11:43:10,094]\u001B[0m Trial 99 finished with values: [0.7640555906506632, 0.8230495433002503, 0.7615296273460015, 0.7910936824189908] and parameters: {'C': 0.6380477154577562, 'class_weight': 'balanced', 'dual': False, 'penalty': 'l2'}. \u001B[0m\n",
      "\u001B[32m[I 2022-05-31 11:43:10,206]\u001B[0m A new study created in memory with name: support_vector_classifier\u001B[0m\n",
      "\u001B[32m[I 2022-05-31 11:43:15,830]\u001B[0m Trial 0 finished with values: [0.7640104683692808, 0.8230241335758635, 0.7614680936178267, 0.7910487032569755] and parameters: {'C': 0.05633914266254885, 'class_weight': 'balanced', 'dual': False, 'penalty': 'l1'}. \u001B[0m\n",
      "\u001B[32m[I 2022-05-31 11:43:20,868]\u001B[0m Trial 1 finished with values: [0.7640375417381102, 0.8230436629992821, 0.7614988604819141, 0.7910742970942908] and parameters: {'C': 0.0527931004663175, 'class_weight': 'balanced', 'dual': False, 'penalty': 'l1'}. \u001B[0m\n",
      "\u001B[32m[I 2022-05-31 11:43:27,768]\u001B[0m Trial 2 finished with values: [0.7640646151069397, 0.8230524067412643, 0.7615450107780452, 0.7911033425170808] and parameters: {'C': 0.08912052220208991, 'class_weight': 'balanced', 'dual': False, 'penalty': 'l1'}. \u001B[0m\n",
      "\u001B[32m[I 2022-05-31 11:43:33,590]\u001B[0m Trial 3 finished with values: [0.7640646151069398, 0.8230630779510468, 0.7615296285291604, 0.7910999493059745] and parameters: {'C': 0.06173938613268743, 'class_weight': 'balanced', 'dual': False, 'penalty': 'l1'}. \u001B[0m\n",
      "\u001B[32m[I 2022-05-31 11:43:40,183]\u001B[0m Trial 4 finished with values: [0.7641007129320458, 0.8231069999756647, 0.7615450095948862, 0.791128415918592] and parameters: {'C': 0.024137902111833816, 'class_weight': 'balanced', 'dual': False, 'penalty': 'l1'}. \u001B[0m\n",
      "\u001B[32m[I 2022-05-31 11:43:46,550]\u001B[0m Trial 5 finished with values: [0.7640194928255573, 0.8230269591544536, 0.7614834770498704, 0.7910582576152934] and parameters: {'C': 0.09057335311049379, 'class_weight': 'balanced', 'dual': False, 'penalty': 'l1'}. \u001B[0m\n",
      "\u001B[32m[I 2022-05-31 11:43:52,094]\u001B[0m Trial 6 finished with values: [0.7640194928255573, 0.8230375290075752, 0.7614680924346678, 0.7910548858196685] and parameters: {'C': 0.04203185039426886, 'class_weight': 'balanced', 'dual': False, 'penalty': 'l1'}. \u001B[0m\n",
      "\u001B[32m[I 2022-05-31 11:43:58,007]\u001B[0m Trial 7 finished with values: [0.7641187618445989, 0.8231127730756734, 0.7615757764589736, 0.791147814576999] and parameters: {'C': 0.03169581078323603, 'class_weight': 'balanced', 'dual': False, 'penalty': 'l1'}. \u001B[0m\n",
      "\u001B[32m[I 2022-05-31 11:44:04,028]\u001B[0m Trial 8 finished with values: [0.7640285172818337, 0.8230407934415173, 0.7614834770498704, 0.7910646436320035] and parameters: {'C': 0.07177337275363631, 'class_weight': 'balanced', 'dual': False, 'penalty': 'l1'}. \u001B[0m\n",
      "\u001B[32m[I 2022-05-31 11:44:10,518]\u001B[0m Trial 9 finished with values: [0.7640375417381102, 0.8230327043534349, 0.7615142427307988, 0.7910775097223757] and parameters: {'C': 0.04374642473674364, 'class_weight': 'balanced', 'dual': False, 'penalty': 'l1'}. \u001B[0m\n",
      "\u001B[32m[I 2022-05-31 11:44:17,050]\u001B[0m Trial 10 finished with values: [0.7640736395632162, 0.8230873775596965, 0.7615142427307988, 0.7911028511054844] and parameters: {'C': 0.03506671956587743, 'class_weight': 'balanced', 'dual': False, 'penalty': 'l1'}. \u001B[0m\n",
      "\u001B[32m[I 2022-05-31 11:44:24,803]\u001B[0m Trial 11 finished with values: [0.7640646151069397, 0.8230416809691672, 0.7615603942100889, 0.7911066735017023] and parameters: {'C': 0.09848203506805069, 'class_weight': 'balanced', 'dual': False, 'penalty': 'l1'}. \u001B[0m\n",
      "\u001B[32m[I 2022-05-31 11:44:32,118]\u001B[0m Trial 12 finished with values: [0.7641458352134284, 0.8231750062034952, 0.7615450119612042, 0.7911598640868392] and parameters: {'C': 0.009401452569283762, 'class_weight': 'balanced', 'dual': False, 'penalty': 'l1'}. \u001B[0m\n",
      "\u001B[32m[I 2022-05-31 11:44:38,510]\u001B[0m Trial 13 finished with values: [0.7640375417381102, 0.8230434649544476, 0.7614988604819142, 0.7910742708934719] and parameters: {'C': 0.08329507038973914, 'class_weight': 'balanced', 'dual': False, 'penalty': 'l1'}. \u001B[0m\n",
      "\u001B[32m[I 2022-05-31 11:44:45,117]\u001B[0m Trial 14 finished with values: [0.7640555906506633, 0.8230599243643562, 0.7615142427307989, 0.7910901844677684] and parameters: {'C': 0.041624635926733614, 'class_weight': 'balanced', 'dual': False, 'penalty': 'l1'}. \u001B[0m\n",
      "\u001B[32m[I 2022-05-31 11:44:50,722]\u001B[0m Trial 15 finished with values: [0.7640646151069397, 0.8230525338247421, 0.7615450107780452, 0.7911032949224425] and parameters: {'C': 0.0512806326791617, 'class_weight': 'balanced', 'dual': False, 'penalty': 'l1'}. \u001B[0m\n",
      "\u001B[32m[I 2022-05-31 11:44:57,520]\u001B[0m Trial 16 finished with values: [0.764172908582258, 0.8231727653890255, 0.7616065397735844, 0.7911919544210138] and parameters: {'C': 0.010508160980748972, 'class_weight': 'balanced', 'dual': False, 'penalty': 'l1'}. \u001B[0m\n",
      "\u001B[32m[I 2022-05-31 11:45:03,726]\u001B[0m Trial 17 finished with values: [0.7640465661943868, 0.8230464226848154, 0.7615142439139577, 0.7910839544940524] and parameters: {'C': 0.06202945909522295, 'class_weight': 'balanced', 'dual': False, 'penalty': 'l1'}. \u001B[0m\n",
      "\u001B[32m[I 2022-05-31 11:45:09,355]\u001B[0m Trial 18 finished with values: [0.7640736395632162, 0.8230444702548052, 0.7615757776421326, 0.7911162708559732] and parameters: {'C': 0.025102340607182465, 'class_weight': 'balanced', 'dual': False, 'penalty': 'l1'}. \u001B[0m\n",
      "\u001B[32m[I 2022-05-31 11:45:13,299]\u001B[0m Trial 19 finished with values: [0.764209006407364, 0.8232710541863948, 0.7615450036790918, 0.7912038929102446] and parameters: {'C': 0.002179356674822228, 'class_weight': 'balanced', 'dual': False, 'penalty': 'l1'}. \u001B[0m\n",
      "\u001B[32m[I 2022-05-31 11:45:20,004]\u001B[0m Trial 20 finished with values: [0.7641097373883224, 0.8230556439592531, 0.7616373101871484, 0.7911545834583402] and parameters: {'C': 0.017640004818823267, 'class_weight': 'balanced', 'dual': False, 'penalty': 'l1'}. \u001B[0m\n",
      "\u001B[32m[I 2022-05-31 11:45:26,150]\u001B[0m Trial 21 finished with values: [0.7640375417381102, 0.8230436222683691, 0.7614988604819141, 0.7910742489022182] and parameters: {'C': 0.04794565829033089, 'class_weight': 'balanced', 'dual': False, 'penalty': 'l1'}. \u001B[0m\n",
      "\u001B[32m[I 2022-05-31 11:45:29,877]\u001B[0m Trial 22 finished with values: [0.764227055319917, 0.823352350777402, 0.7614680936178267, 0.7912001594414322] and parameters: {'C': 0.0018978788916987786, 'class_weight': 'balanced', 'dual': False, 'penalty': 'l1'}. \u001B[0m\n",
      "\u001B[32m[I 2022-05-31 11:45:35,896]\u001B[0m Trial 23 finished with values: [0.7640375417381102, 0.8230435979545409, 0.7614988604819141, 0.7910742670683354] and parameters: {'C': 0.054156854662663144, 'class_weight': 'balanced', 'dual': False, 'penalty': 'l1'}. \u001B[0m\n",
      "\u001B[32m[I 2022-05-31 11:45:42,941]\u001B[0m Trial 24 finished with values: [0.7640465661943867, 0.8230464088408326, 0.7615142439139578, 0.7910839284601365] and parameters: {'C': 0.0673387974435333, 'class_weight': 'balanced', 'dual': False, 'penalty': 'l1'}. \u001B[0m\n",
      "\u001B[32m[I 2022-05-31 11:45:49,742]\u001B[0m Trial 25 finished with values: [0.7643714466203411, 0.8234416495496963, 0.761652681787603, 0.791340879420755] and parameters: {'C': 0.0036775852394361204, 'class_weight': 'balanced', 'dual': False, 'penalty': 'l1'}. \u001B[0m\n",
      "\u001B[32m[I 2022-05-31 11:45:55,774]\u001B[0m Trial 26 finished with values: [0.7640555906506633, 0.8230493213075905, 0.7615296261628426, 0.7910936020293597] and parameters: {'C': 0.06753476701162242, 'class_weight': 'balanced', 'dual': False, 'penalty': 'l1'}. \u001B[0m\n",
      "\u001B[32m[I 2022-05-31 11:46:01,710]\u001B[0m Trial 27 finished with values: [0.7640375417381102, 0.8230541733735789, 0.7614834770498704, 0.7910708968587168] and parameters: {'C': 0.06953615365636341, 'class_weight': 'balanced', 'dual': False, 'penalty': 'l1'}. \u001B[0m\n",
      "\u001B[32m[I 2022-05-31 11:46:08,153]\u001B[0m Trial 28 finished with values: [0.7641187618445989, 0.8231014223880866, 0.7615911587078585, 0.7911506736417095] and parameters: {'C': 0.013690916191703763, 'class_weight': 'balanced', 'dual': False, 'penalty': 'l1'}. \u001B[0m\n",
      "\u001B[32m[I 2022-05-31 11:46:12,890]\u001B[0m Trial 29 finished with values: [0.7640194928255573, 0.8230376821377524, 0.7614680948009857, 0.7910549791955006] and parameters: {'C': 0.041327929641226537, 'class_weight': 'balanced', 'dual': False, 'penalty': 'l1'}. \u001B[0m\n",
      "\u001B[32m[I 2022-05-31 11:46:20,236]\u001B[0m Trial 30 finished with values: [0.7641187618445989, 0.8231021964674665, 0.7615911598910172, 0.7911511377628468] and parameters: {'C': 0.02508028393258097, 'class_weight': 'balanced', 'dual': False, 'penalty': 'l1'}. \u001B[0m\n",
      "\u001B[32m[I 2022-05-31 11:46:26,515]\u001B[0m Trial 31 finished with values: [0.7641277863008754, 0.8231262755920883, 0.7615757752758148, 0.791153921004604] and parameters: {'C': 0.020757727686070985, 'class_weight': 'balanced', 'dual': False, 'penalty': 'l1'}. \u001B[0m\n",
      "\u001B[32m[I 2022-05-31 11:46:32,242]\u001B[0m Trial 32 finished with values: [0.7640194928255573, 0.8230267854765705, 0.7614834782330293, 0.7910582736740859] and parameters: {'C': 0.04291203765552512, 'class_weight': 'balanced', 'dual': False, 'penalty': 'l1'}. \u001B[0m\n",
      "\u001B[32m[I 2022-05-31 11:46:38,310]\u001B[0m Trial 33 finished with values: [0.7640194928255573, 0.8230378983545217, 0.7614680936178267, 0.7910549778666437] and parameters: {'C': 0.07255143249613873, 'class_weight': 'balanced', 'dual': False, 'penalty': 'l1'}. \u001B[0m\n",
      "\u001B[32m[I 2022-05-31 11:46:44,526]\u001B[0m Trial 34 finished with values: [0.7640555906506632, 0.8230710450483624, 0.7614988604819141, 0.791086926608169] and parameters: {'C': 0.05843793164614789, 'class_weight': 'balanced', 'dual': False, 'penalty': 'l1'}. \u001B[0m\n",
      "\u001B[32m[I 2022-05-31 11:46:51,305]\u001B[0m Trial 35 finished with values: [0.7642812020575761, 0.8232732630972738, 0.7616988439153232, 0.7912882152314145] and parameters: {'C': 0.006846613850879597, 'class_weight': 'balanced', 'dual': False, 'penalty': 'l1'}. \u001B[0m\n",
      "\u001B[32m[I 2022-05-31 11:46:57,623]\u001B[0m Trial 36 finished with values: [0.7642270553199169, 0.8232225078232451, 0.7616526900697155, 0.7912399410399074] and parameters: {'C': 0.01086514326975494, 'class_weight': 'balanced', 'dual': False, 'penalty': 'l1'}. \u001B[0m\n",
      "\u001B[32m[I 2022-05-31 11:47:03,882]\u001B[0m Trial 37 finished with values: [0.7641638841259815, 0.8232238544505662, 0.7615142450971167, 0.7911658745031396] and parameters: {'C': 0.009564716663872555, 'class_weight': 'balanced', 'dual': False, 'penalty': 'l1'}. \u001B[0m\n",
      "\u001B[32m[I 2022-05-31 11:47:09,459]\u001B[0m Trial 38 finished with values: [0.7640194928255573, 0.8230270852537229, 0.7614834770498704, 0.7910583057893318] and parameters: {'C': 0.0996129881240078, 'class_weight': 'balanced', 'dual': False, 'penalty': 'l1'}. \u001B[0m\n",
      "\u001B[32m[I 2022-05-31 11:47:15,132]\u001B[0m Trial 39 finished with values: [0.7640465661943867, 0.8230571555277264, 0.7614988604819142, 0.7910806027883354] and parameters: {'C': 0.05571975238470493, 'class_weight': 'balanced', 'dual': False, 'penalty': 'l1'}. \u001B[0m\n",
      "\u001B[32m[I 2022-05-31 11:47:21,661]\u001B[0m Trial 40 finished with values: [0.7641097373883224, 0.8230776346029026, 0.761606543323061, 0.7911482099569822] and parameters: {'C': 0.025034472830364984, 'class_weight': 'balanced', 'dual': False, 'penalty': 'l1'}. \u001B[0m\n",
      "\u001B[32m[I 2022-05-31 11:47:28,126]\u001B[0m Trial 41 finished with values: [0.7640646151069399, 0.8230631827670877, 0.7615296273460015, 0.7911000007372676] and parameters: {'C': 0.08955878832790654, 'class_weight': 'balanced', 'dual': False, 'penalty': 'l1'}. \u001B[0m\n",
      "\u001B[32m[I 2022-05-31 11:47:35,013]\u001B[0m Trial 42 finished with values: [0.7640465661943867, 0.8230679723505065, 0.7614834770498704, 0.7910772441692631] and parameters: {'C': 0.08793651802299451, 'class_weight': 'balanced', 'dual': False, 'penalty': 'l1'}. \u001B[0m\n",
      "\u001B[32m[I 2022-05-31 11:47:41,121]\u001B[0m Trial 43 finished with values: [0.7640555906506633, 0.8230493756102144, 0.7615296273460015, 0.7910936692574023] and parameters: {'C': 0.08030155216874314, 'class_weight': 'balanced', 'dual': False, 'penalty': 'l1'}. \u001B[0m\n",
      "\u001B[32m[I 2022-05-31 11:47:48,537]\u001B[0m Trial 44 finished with values: [0.7641187618445988, 0.8230693122726173, 0.7616373101871484, 0.7911609284387734] and parameters: {'C': 0.02006971505077363, 'class_weight': 'balanced', 'dual': False, 'penalty': 'l1'}. \u001B[0m\n",
      "\u001B[32m[I 2022-05-31 11:47:54,025]\u001B[0m Trial 45 finished with values: [0.7640646151069397, 0.8230736860059913, 0.7615142427307988, 0.7910965225904646] and parameters: {'C': 0.03712280833527694, 'class_weight': 'balanced', 'dual': False, 'penalty': 'l1'}. \u001B[0m\n",
      "\u001B[32m[I 2022-05-31 11:48:00,982]\u001B[0m Trial 46 finished with values: [0.7640194928255573, 0.8230269770798149, 0.7614834770498704, 0.7910582659057531] and parameters: {'C': 0.07788178840189935, 'class_weight': 'balanced', 'dual': False, 'penalty': 'l1'}. \u001B[0m\n",
      "\u001B[32m[I 2022-05-31 11:48:07,733]\u001B[0m Trial 47 finished with values: [0.7640555906506632, 0.8230386754934568, 0.7615450107780453, 0.791096991931528] and parameters: {'C': 0.07282403335031472, 'class_weight': 'balanced', 'dual': False, 'penalty': 'l1'}. \u001B[0m\n",
      "\u001B[32m[I 2022-05-31 11:48:15,068]\u001B[0m Trial 48 finished with values: [0.7640285172818337, 0.8230511800250868, 0.7614680924346678, 0.7910611737972039] and parameters: {'C': 0.040078639043299905, 'class_weight': 'balanced', 'dual': False, 'penalty': 'l1'}. \u001B[0m\n",
      "\u001B[32m[I 2022-05-31 11:48:20,836]\u001B[0m Trial 49 finished with values: [0.7640646151069397, 0.8230736860059913, 0.7615142427307988, 0.7910965225904646] and parameters: {'C': 0.03583406502294442, 'class_weight': 'balanced', 'dual': False, 'penalty': 'l1'}. \u001B[0m\n",
      "\u001B[32m[I 2022-05-31 11:48:27,709]\u001B[0m Trial 50 finished with values: [0.7640465661943867, 0.8230680773637294, 0.7614834770498704, 0.7910772836810642] and parameters: {'C': 0.06202945909522295, 'class_weight': 'balanced', 'dual': False, 'penalty': 'l1'}. \u001B[0m\n",
      "\u001B[32m[I 2022-05-31 11:48:34,800]\u001B[0m Trial 51 finished with values: [0.7640285172818337, 0.8230407700892866, 0.7614834770498704, 0.7910646344657153] and parameters: {'C': 0.07255143249613873, 'class_weight': 'balanced', 'dual': False, 'penalty': 'l1'}. \u001B[0m\n",
      "\u001B[32m[I 2022-05-31 11:48:41,363]\u001B[0m Trial 52 finished with values: [0.7641097373883224, 0.8231098780450937, 0.7615603930269299, 0.7911381504920115] and parameters: {'C': 0.03169581078323603, 'class_weight': 'balanced', 'dual': False, 'penalty': 'l1'}. \u001B[0m\n",
      "\u001B[32m[I 2022-05-31 11:48:47,100]\u001B[0m Trial 53 finished with values: [0.7640375417381102, 0.8230329962909423, 0.7615142439139577, 0.7910776654255655] and parameters: {'C': 0.08793651802299451, 'class_weight': 'balanced', 'dual': False, 'penalty': 'l1'}. \u001B[0m\n",
      "\u001B[32m[I 2022-05-31 11:48:54,165]\u001B[0m Trial 54 finished with values: [0.7643624221640646, 0.8234495075397827, 0.7616219149235157, 0.7913278565146029] and parameters: {'C': 0.0036775852394361204, 'class_weight': 'balanced', 'dual': False, 'penalty': 'l1'}. \u001B[0m\n",
      "\u001B[32m[I 2022-05-31 11:49:00,748]\u001B[0m Trial 55 finished with values: [0.7640916884757692, 0.8231040016026755, 0.7615296261628426, 0.7911188477237621] and parameters: {'C': 0.03169581078323603, 'class_weight': 'balanced', 'dual': False, 'penalty': 'l1'}. \u001B[0m\n",
      "\u001B[32m[I 2022-05-31 11:49:06,753]\u001B[0m Trial 56 finished with values: [0.7640916884757692, 0.8230496163556538, 0.761606543323061, 0.7911352044025437] and parameters: {'C': 0.017640004818823267, 'class_weight': 'balanced', 'dual': False, 'penalty': 'l1'}. \u001B[0m\n",
      "\u001B[32m[I 2022-05-31 11:49:13,881]\u001B[0m Trial 57 finished with values: [0.7640375417381102, 0.823054418183505, 0.7614834770498704, 0.7910709466941849] and parameters: {'C': 0.06953615365636341, 'class_weight': 'balanced', 'dual': False, 'penalty': 'l1'}. \u001B[0m\n",
      "\u001B[32m[I 2022-05-31 11:49:20,378]\u001B[0m Trial 58 finished with values: [0.7640375417381102, 0.8230326345910595, 0.7615142439139578, 0.7910775663774836] and parameters: {'C': 0.07369570342649412, 'class_weight': 'balanced', 'dual': False, 'penalty': 'l1'}. \u001B[0m\n",
      "\u001B[32m[I 2022-05-31 11:49:27,057]\u001B[0m Trial 59 finished with values: [0.7640375417381102, 0.8230650132870398, 0.7614680936178267, 0.7910675845082581] and parameters: {'C': 0.09054390680609814, 'class_weight': 'balanced', 'dual': False, 'penalty': 'l1'}. \u001B[0m\n",
      "\u001B[32m[I 2022-05-31 11:49:34,616]\u001B[0m Trial 60 finished with values: [0.7642902265138526, 0.823276230157205, 0.7617142285305258, 0.7912979049142846] and parameters: {'C': 0.006846613850879597, 'class_weight': 'balanced', 'dual': False, 'penalty': 'l1'}. \u001B[0m\n",
      "\u001B[32m[I 2022-05-31 11:49:41,157]\u001B[0m Trial 61 finished with values: [0.7640285172818337, 0.8230514802060848, 0.7614680936178267, 0.7910612956954172] and parameters: {'C': 0.08912052220208991, 'class_weight': 'balanced', 'dual': False, 'penalty': 'l1'}. \u001B[0m\n",
      "\u001B[32m[I 2022-05-31 11:49:47,565]\u001B[0m Trial 62 finished with values: [0.7640555906506633, 0.8230491922699865, 0.7615296261628426, 0.7910935147087648] and parameters: {'C': 0.0402653048451272, 'class_weight': 'balanced', 'dual': False, 'penalty': 'l1'}. \u001B[0m\n",
      "\u001B[32m[I 2022-05-31 11:49:53,715]\u001B[0m Trial 63 finished with values: [0.7640104683692808, 0.8230241418794394, 0.7614680936178267, 0.7910486117818888] and parameters: {'C': 0.08329507038973914, 'class_weight': 'balanced', 'dual': False, 'penalty': 'l1'}. \u001B[0m\n",
      "\u001B[32m[I 2022-05-31 11:50:00,262]\u001B[0m Trial 64 finished with values: [0.7640555906506632, 0.8230493244742689, 0.7615296273460015, 0.7910936004337393] and parameters: {'C': 0.05571975238470493, 'class_weight': 'balanced', 'dual': False, 'penalty': 'l1'}. \u001B[0m\n",
      "\u001B[32m[I 2022-05-31 11:50:06,149]\u001B[0m Trial 65 finished with values: [0.7640465661943867, 0.8230356552940041, 0.7615296273460015, 0.7910872795430325] and parameters: {'C': 0.07177337275363631, 'class_weight': 'balanced', 'dual': False, 'penalty': 'l1'}. \u001B[0m\n",
      "\u001B[32m[I 2022-05-31 11:50:12,137]\u001B[0m Trial 66 finished with values: [0.7640194928255573, 0.8230377493863419, 0.7614680936178267, 0.7910549213001665] and parameters: {'C': 0.06965010646677204, 'class_weight': 'balanced', 'dual': False, 'penalty': 'l1'}. \u001B[0m\n",
      "\u001B[32m[I 2022-05-31 11:50:18,807]\u001B[0m Trial 67 finished with values: [0.7640646151069397, 0.82306314171123, 0.7615296273460015, 0.7910998893189519] and parameters: {'C': 0.05843793164614789, 'class_weight': 'balanced', 'dual': False, 'penalty': 'l1'}. \u001B[0m\n",
      "\u001B[32m[I 2022-05-31 11:50:25,173]\u001B[0m Trial 68 finished with values: [0.7640375417381102, 0.823032760746614, 0.7615142439139578, 0.791077616231667] and parameters: {'C': 0.06953615365636341, 'class_weight': 'balanced', 'dual': False, 'penalty': 'l1'}. \u001B[0m\n",
      "\u001B[32m[I 2022-05-31 11:50:31,880]\u001B[0m Trial 69 finished with values: [0.7641007129320458, 0.8231068322126285, 0.7615450095948864, 0.7911285171353187] and parameters: {'C': 0.03169581078323603, 'class_weight': 'balanced', 'dual': False, 'penalty': 'l1'}. \u001B[0m\n",
      "\u001B[32m[I 2022-05-31 11:50:38,349]\u001B[0m Trial 70 finished with values: [0.7640104683692808, 0.8230133124391091, 0.7614834770498704, 0.7910519460245515] and parameters: {'C': 0.08293710832205799, 'class_weight': 'balanced', 'dual': False, 'penalty': 'l1'}. \u001B[0m\n",
      "\u001B[32m[I 2022-05-31 11:50:45,510]\u001B[0m Trial 71 finished with values: [0.7640736395632164, 0.8230873565655881, 0.7615142427307988, 0.7911028441190009] and parameters: {'C': 0.035461774316026644, 'class_weight': 'balanced', 'dual': False, 'penalty': 'l1'}. \u001B[0m\n",
      "\u001B[32m[I 2022-05-31 11:50:52,092]\u001B[0m Trial 72 finished with values: [0.7641277863008753, 0.8231156114535929, 0.7615911598910172, 0.7911572762672874] and parameters: {'C': 0.02006971505077363, 'class_weight': 'balanced', 'dual': False, 'penalty': 'l1'}. \u001B[0m\n",
      "\u001B[32m[I 2022-05-31 11:50:58,344]\u001B[0m Trial 73 finished with values: [0.7639924194567278, 0.8229966305040939, 0.7614680948009858, 0.791036053590571] and parameters: {'C': 0.06433188323278885, 'class_weight': 'balanced', 'dual': False, 'penalty': 'l1'}. \u001B[0m\n",
      "\u001B[32m[I 2022-05-31 11:51:04,533]\u001B[0m Trial 74 finished with values: [0.7641007129320458, 0.8230849523739261, 0.7615757764589737, 0.7911348777884365] and parameters: {'C': 0.01995905388842679, 'class_weight': 'balanced', 'dual': False, 'penalty': 'l1'}. \u001B[0m\n",
      "\u001B[32m[I 2022-05-31 11:51:10,679]\u001B[0m Trial 75 finished with values: [0.7641097373883224, 0.8230776346029026, 0.761606543323061, 0.7911482099569822] and parameters: {'C': 0.025102340607182465, 'class_weight': 'balanced', 'dual': False, 'penalty': 'l1'}. \u001B[0m\n",
      "\u001B[32m[I 2022-05-31 11:51:18,446]\u001B[0m Trial 76 finished with values: [0.7640646151069398, 0.8230523346736811, 0.7615450107780453, 0.7911033289184074] and parameters: {'C': 0.07282403335031472, 'class_weight': 'balanced', 'dual': False, 'penalty': 'l1'}. \u001B[0m\n",
      "\u001B[32m[I 2022-05-31 11:51:24,800]\u001B[0m Trial 77 finished with values: [0.7640465661943867, 0.8230680873637699, 0.7614834770498704, 0.7910772675848917] and parameters: {'C': 0.08912052220208991, 'class_weight': 'balanced', 'dual': False, 'penalty': 'l1'}. \u001B[0m\n",
      "\u001B[32m[I 2022-05-31 11:51:31,002]\u001B[0m Trial 78 finished with values: [0.7640646151069397, 0.8230736503184077, 0.7615142427307988, 0.7910965183064071] and parameters: {'C': 0.03799587505610338, 'class_weight': 'balanced', 'dual': False, 'penalty': 'l1'}. \u001B[0m\n",
      "\u001B[32m[I 2022-05-31 11:51:37,341]\u001B[0m Trial 79 finished with values: [0.7640375417381102, 0.8230435830423282, 0.7614988604819141, 0.7910742362053652] and parameters: {'C': 0.05596951497791372, 'class_weight': 'balanced', 'dual': False, 'penalty': 'l1'}. \u001B[0m\n",
      "\u001B[32m[I 2022-05-31 11:51:44,977]\u001B[0m Trial 80 finished with values: [0.7640375417381102, 0.8230544292695111, 0.7614834770498704, 0.7910709714525946] and parameters: {'C': 0.06753476701162242, 'class_weight': 'balanced', 'dual': False, 'penalty': 'l1'}. \u001B[0m\n",
      "\u001B[32m[I 2022-05-31 11:51:50,317]\u001B[0m Trial 81 finished with values: [0.7641007129320458, 0.8231063703448755, 0.7615450095948864, 0.7911280960123611] and parameters: {'C': 0.013690916191703763, 'class_weight': 'balanced', 'dual': False, 'penalty': 'l1'}. \u001B[0m\n",
      "\u001B[32m[I 2022-05-31 11:51:57,979]\u001B[0m Trial 82 finished with values: [0.7641187618445988, 0.8231021012656216, 0.7615911598910172, 0.7911511121356223] and parameters: {'C': 0.020757727686070985, 'class_weight': 'balanced', 'dual': False, 'penalty': 'l1'}. \u001B[0m\n",
      "\u001B[32m[I 2022-05-31 11:52:04,761]\u001B[0m Trial 83 finished with values: [0.7640916884757694, 0.8230827281602057, 0.7615603942100888, 0.7911255658236953] and parameters: {'C': 0.02508028393258097, 'class_weight': 'balanced', 'dual': False, 'penalty': 'l1'}. \u001B[0m\n",
      "\u001B[32m[I 2022-05-31 11:52:09,117]\u001B[0m Trial 84 finished with values: [0.7641999819510874, 0.8232681706569107, 0.761529621430207, 0.7911942852391503] and parameters: {'C': 0.002179356674822228, 'class_weight': 'balanced', 'dual': False, 'penalty': 'l1'}. \u001B[0m\n",
      "\u001B[32m[I 2022-05-31 11:52:15,739]\u001B[0m Trial 85 finished with values: [0.7641187618445989, 0.8231229280069335, 0.7615603918437712, 0.7911440443397803] and parameters: {'C': 0.013690916191703763, 'class_weight': 'balanced', 'dual': False, 'penalty': 'l1'}. \u001B[0m\n",
      "\u001B[32m[I 2022-05-31 11:52:22,743]\u001B[0m Trial 86 finished with values: [0.7640194928255573, 0.8230268683653202, 0.7614834770498704, 0.7910582481474188] and parameters: {'C': 0.041624635926733614, 'class_weight': 'balanced', 'dual': False, 'penalty': 'l1'}. \u001B[0m\n",
      "\u001B[32m[I 2022-05-31 11:52:29,023]\u001B[0m Trial 87 finished with values: [0.7642721776012996, 0.8232702473310732, 0.7616834604832794, 0.7912785021581283] and parameters: {'C': 0.006846613850879597, 'class_weight': 'balanced', 'dual': False, 'penalty': 'l1'}. \u001B[0m\n",
      "\u001B[32m[I 2022-05-31 11:52:35,535]\u001B[0m Trial 88 finished with values: [0.7641007129320458, 0.8230852945750214, 0.7615757764589736, 0.7911351046019387] and parameters: {'C': 0.02508028393258097, 'class_weight': 'balanced', 'dual': False, 'penalty': 'l1'}. \u001B[0m\n",
      "\u001B[32m[I 2022-05-31 11:52:42,785]\u001B[0m Trial 89 finished with values: [0.7641097373883224, 0.8230990297397435, 0.7615757764589737, 0.791141484268951] and parameters: {'C': 0.026372854878448062, 'class_weight': 'balanced', 'dual': False, 'penalty': 'l1'}. \u001B[0m\n",
      "\u001B[32m[I 2022-05-31 11:52:49,967]\u001B[0m Trial 90 finished with values: [0.7640555906506632, 0.8230710975631819, 0.7614988604819141, 0.7910869960695598] and parameters: {'C': 0.08793651802299451, 'class_weight': 'balanced', 'dual': False, 'penalty': 'l1'}. \u001B[0m\n",
      "\u001B[32m[I 2022-05-31 11:52:56,095]\u001B[0m Trial 91 finished with values: [0.7640465661943867, 0.8230466592370751, 0.7615142439139577, 0.791084020156217] and parameters: {'C': 0.09661667733891235, 'class_weight': 'balanced', 'dual': False, 'penalty': 'l1'}. \u001B[0m\n",
      "\u001B[32m[I 2022-05-31 11:53:03,042]\u001B[0m Trial 92 finished with values: [0.7640375417381102, 0.8230437209314404, 0.7614988604819141, 0.7910743099563222] and parameters: {'C': 0.07282403335031472, 'class_weight': 'balanced', 'dual': False, 'penalty': 'l1'}. \u001B[0m\n",
      "\u001B[32m[I 2022-05-31 11:53:09,355]\u001B[0m Trial 93 finished with values: [0.7640104683692808, 0.8230347903228752, 0.7614527101857831, 0.7910452616391616] and parameters: {'C': 0.08912052220208991, 'class_weight': 'balanced', 'dual': False, 'penalty': 'l1'}. \u001B[0m\n",
      "\u001B[32m[I 2022-05-31 11:53:14,663]\u001B[0m Trial 94 finished with values: [0.7640465661943867, 0.8230571529639501, 0.761498861665073, 0.7910806553950086] and parameters: {'C': 0.05633914266254885, 'class_weight': 'balanced', 'dual': False, 'penalty': 'l1'}. \u001B[0m\n",
      "\u001B[32m[I 2022-05-31 11:53:20,082]\u001B[0m Trial 95 finished with values: [0.7641097373883224, 0.8230771702383686, 0.761606543323061, 0.7911479350146807] and parameters: {'C': 0.017640004818823267, 'class_weight': 'balanced', 'dual': False, 'penalty': 'l1'}. \u001B[0m\n",
      "\u001B[32m[I 2022-05-31 11:53:24,846]\u001B[0m Trial 96 finished with values: [0.7640555906506632, 0.823038618002758, 0.7615450107780453, 0.7910969403458669] and parameters: {'C': 0.055691819471418505, 'class_weight': 'balanced', 'dual': False, 'penalty': 'l1'}. \u001B[0m\n",
      "\u001B[32m[I 2022-05-31 11:53:31,769]\u001B[0m Trial 97 finished with values: [0.7641909574948109, 0.8231785679290615, 0.7616373066376718, 0.7912112866784157] and parameters: {'C': 0.01086514326975494, 'class_weight': 'balanced', 'dual': False, 'penalty': 'l1'}. \u001B[0m\n",
      "\u001B[32m[I 2022-05-31 11:53:37,888]\u001B[0m Trial 98 finished with values: [0.7641097373883223, 0.8230993098544328, 0.7615757764589736, 0.7911415198289684] and parameters: {'C': 0.024137902111833816, 'class_weight': 'balanced', 'dual': False, 'penalty': 'l1'}. \u001B[0m\n",
      "\u001B[32m[I 2022-05-31 11:53:45,849]\u001B[0m Trial 99 finished with values: [0.7641187618445989, 0.823069441800909, 0.7616373101871484, 0.7911609777432947] and parameters: {'C': 0.017640004818823267, 'class_weight': 'balanced', 'dual': False, 'penalty': 'l1'}. \u001B[0m\n"
     ]
    }
   ],
   "source": [
    "study = optuna.create_study(study_name=\"support_vector_classifier\",\n",
    "                            directions=[\"maximize\", \"maximize\", \"maximize\", \"maximize\"])\n",
    "study.optimize(objective, n_trials=100, callbacks=[mlflow_callback])"
   ],
   "metadata": {
    "collapsed": false,
    "pycharm": {
     "name": "#%%\n"
    }
   }
  },
  {
   "cell_type": "markdown",
   "source": [
    "Wyszukwianie hiperparametrów dla regresji logistycznej"
   ],
   "metadata": {
    "collapsed": false,
    "pycharm": {
     "name": "#%% md\n"
    }
   }
  },
  {
   "cell_type": "code",
   "execution_count": 10,
   "outputs": [],
   "source": [
    "def objective(trial):\n",
    "    params = {\n",
    "        \"C\": trial.suggest_loguniform(\"C\", 0.1, 10),\n",
    "        \"class_weight\": trial.suggest_categorical(\"class_weight\", [\"balanced\"]),\n",
    "        \"max_iter\": trial.suggest_categorical(\"max_iter\", [500])\n",
    "    }\n",
    "\n",
    "    model = LogisticRegression(**params)\n",
    "\n",
    "    scoring = [\"accuracy\", \"precision\", \"recall\", \"f1\"]\n",
    "\n",
    "    preds = cross_validate(model, X_train, y_train, cv=5, n_jobs=-1, scoring=scoring)\n",
    "\n",
    "    accuracy = np.mean(preds[\"test_accuracy\"])\n",
    "    precision = np.mean(preds[\"test_precision\"])\n",
    "    recall = np.mean(preds[\"test_recall\"])\n",
    "    f1 = np.mean(preds[\"test_f1\"])\n",
    "\n",
    "    return accuracy, precision, recall, f1\n"
   ],
   "metadata": {
    "collapsed": false,
    "pycharm": {
     "name": "#%%\n"
    }
   }
  },
  {
   "cell_type": "code",
   "execution_count": 11,
   "outputs": [
    {
     "name": "stderr",
     "output_type": "stream",
     "text": [
      "\u001B[32m[I 2022-05-31 11:21:34,961]\u001B[0m A new study created in memory with name: logistic_regression\u001B[0m\n",
      "\u001B[32m[I 2022-05-31 11:21:38,228]\u001B[0m Trial 0 finished with values: [0.7640736395632163, 0.8232505310795475, 0.7612834924333025, 0.7910523205943465] and parameters: {'C': 4.127485834816929, 'class_weight': 'balanced', 'max_iter': 500}. \u001B[0m\n",
      "\u001B[32m[I 2022-05-31 11:21:40,722]\u001B[0m Trial 1 finished with values: [0.7640375417381103, 0.8231959627757112, 0.7612834924333025, 0.7910270764201621] and parameters: {'C': 9.035317495964168, 'class_weight': 'balanced', 'max_iter': 500}. \u001B[0m\n",
      "\u001B[32m[I 2022-05-31 11:21:42,449]\u001B[0m Trial 2 finished with values: [0.7640465661943867, 0.823209507391752, 0.7612834924333025, 0.7910333391047828] and parameters: {'C': 0.2758855819905255, 'class_weight': 'balanced', 'max_iter': 500}. \u001B[0m\n",
      "\u001B[32m[I 2022-05-31 11:21:44,069]\u001B[0m Trial 3 finished with values: [0.7640465661943867, 0.8231989133138761, 0.7612988746821873, 0.7910366775184539] and parameters: {'C': 0.14006943293003563, 'class_weight': 'balanced', 'max_iter': 500}. \u001B[0m\n",
      "\u001B[32m[I 2022-05-31 11:21:45,559]\u001B[0m Trial 4 finished with values: [0.7640736395632164, 0.8232398212695662, 0.7612988758653461, 0.7910556856817076] and parameters: {'C': 2.0135047461103786, 'class_weight': 'balanced', 'max_iter': 500}. \u001B[0m\n",
      "\u001B[32m[I 2022-05-31 11:21:47,041]\u001B[0m Trial 5 finished with values: [0.7640555906506633, 0.8232232359879234, 0.7612834924333025, 0.7910396917479192] and parameters: {'C': 1.5225358558323463, 'class_weight': 'balanced', 'max_iter': 500}. \u001B[0m\n",
      "\u001B[32m[I 2022-05-31 11:21:48,483]\u001B[0m Trial 6 finished with values: [0.7640465661943867, 0.8232204366584849, 0.7612681090012587, 0.7910300956514605] and parameters: {'C': 2.684919728485834, 'class_weight': 'balanced', 'max_iter': 500}. \u001B[0m\n",
      "\u001B[32m[I 2022-05-31 11:21:50,132]\u001B[0m Trial 7 finished with values: [0.7640465661943868, 0.8231989161380019, 0.7612988758653461, 0.7910367301795868] and parameters: {'C': 0.3161782666554692, 'class_weight': 'balanced', 'max_iter': 500}. \u001B[0m\n",
      "\u001B[32m[I 2022-05-31 11:21:52,043]\u001B[0m Trial 8 finished with values: [0.7640555906506632, 0.8232339515957314, 0.7612681090012587, 0.7910363717985411] and parameters: {'C': 0.16306075084353952, 'class_weight': 'balanced', 'max_iter': 500}. \u001B[0m\n",
      "\u001B[32m[I 2022-05-31 11:21:53,704]\u001B[0m Trial 9 finished with values: [0.7640465661943868, 0.8232202163140944, 0.7612681090012587, 0.7910299741468447] and parameters: {'C': 3.0089686289953965, 'class_weight': 'balanced', 'max_iter': 500}. \u001B[0m\n",
      "\u001B[32m[I 2022-05-31 11:21:55,472]\u001B[0m Trial 10 finished with values: [0.7640465661943867, 0.8232202708061032, 0.7612681090012587, 0.7910299819716474] and parameters: {'C': 0.12179977238860683, 'class_weight': 'balanced', 'max_iter': 500}. \u001B[0m\n",
      "\u001B[32m[I 2022-05-31 11:21:57,233]\u001B[0m Trial 11 finished with values: [0.7640555906506633, 0.8232340322342215, 0.7612681090012587, 0.7910363215192885] and parameters: {'C': 3.022086961367269, 'class_weight': 'balanced', 'max_iter': 500}. \u001B[0m\n",
      "\u001B[32m[I 2022-05-31 11:21:58,957]\u001B[0m Trial 12 finished with values: [0.7640465661943867, 0.8232203699495887, 0.7612681090012587, 0.791030032717802] and parameters: {'C': 1.1465151332934245, 'class_weight': 'balanced', 'max_iter': 500}. \u001B[0m\n",
      "\u001B[32m[I 2022-05-31 11:22:00,422]\u001B[0m Trial 13 finished with values: [0.7640375417381103, 0.8231959627757112, 0.7612834924333025, 0.7910270764201621] and parameters: {'C': 4.505128974254962, 'class_weight': 'balanced', 'max_iter': 500}. \u001B[0m\n",
      "\u001B[32m[I 2022-05-31 11:22:01,986]\u001B[0m Trial 14 finished with values: [0.7640375417381103, 0.8231959627757112, 0.7612834924333025, 0.7910270764201621] and parameters: {'C': 4.306082834240913, 'class_weight': 'balanced', 'max_iter': 500}. \u001B[0m\n",
      "\u001B[32m[I 2022-05-31 11:22:03,557]\u001B[0m Trial 15 finished with values: [0.7640194928255573, 0.8231900908363476, 0.7612527255692151, 0.79100776203283] and parameters: {'C': 0.2494159799276846, 'class_weight': 'balanced', 'max_iter': 500}. \u001B[0m\n",
      "\u001B[32m[I 2022-05-31 11:22:04,991]\u001B[0m Trial 16 finished with values: [0.7640465661943868, 0.8231989161380019, 0.7612988758653461, 0.7910367301795868] and parameters: {'C': 4.762633526809781, 'class_weight': 'balanced', 'max_iter': 500}. \u001B[0m\n",
      "\u001B[32m[I 2022-05-31 11:22:06,520]\u001B[0m Trial 17 finished with values: [0.7640555906506633, 0.8232340322342215, 0.7612681090012587, 0.7910363215192885] and parameters: {'C': 1.4571240385453819, 'class_weight': 'balanced', 'max_iter': 500}. \u001B[0m\n",
      "\u001B[32m[I 2022-05-31 11:22:08,085]\u001B[0m Trial 18 finished with values: [0.7640375417381102, 0.8232065540294613, 0.7612681090012587, 0.7910236853453583] and parameters: {'C': 1.1191310978038678, 'class_weight': 'balanced', 'max_iter': 500}. \u001B[0m\n",
      "\u001B[32m[I 2022-05-31 11:22:09,660]\u001B[0m Trial 19 finished with values: [0.7640285172818337, 0.8231929422142583, 0.7612681090012587, 0.791017358956289] and parameters: {'C': 8.63990130509848, 'class_weight': 'balanced', 'max_iter': 500}. \u001B[0m\n"
     ]
    }
   ],
   "source": [
    "study = optuna.create_study(study_name=\"logistic_regression\",\n",
    "                            directions=[\"maximize\", \"maximize\", \"maximize\", \"maximize\"])\n",
    "study.optimize(objective, n_trials=20, callbacks=[mlflow_callback])"
   ],
   "metadata": {
    "collapsed": false,
    "pycharm": {
     "name": "#%%\n"
    }
   }
  },
  {
   "cell_type": "markdown",
   "source": [
    "Wyszukiwanie hiperparametrów drzewo decyzyjne"
   ],
   "metadata": {
    "collapsed": false,
    "pycharm": {
     "name": "#%% md\n"
    }
   }
  },
  {
   "cell_type": "code",
   "execution_count": 83,
   "outputs": [],
   "source": [
    "def objective(trial):\n",
    "    params = {\n",
    "        \"max_depth\": trial.suggest_int(\"max_depth\", 15, 50),\n",
    "        \"min_samples_leaf\": trial.suggest_int(\"min_samples_leaf\", 1, 40),\n",
    "        \"class_weight\": trial.suggest_categorical(\"class_weight\", [\"balanced\"]),\n",
    "        \"criterion\": trial.suggest_categorical(\"criterion\", [\"gini\", \"entropy\"])\n",
    "    }\n",
    "\n",
    "    model = DecisionTreeClassifier(**params)\n",
    "\n",
    "    scoring = [\"accuracy\", \"precision\", \"recall\", \"f1\"]\n",
    "\n",
    "    preds = cross_validate(model, X_train, y_train, cv=5, n_jobs=-1, scoring=scoring)\n",
    "\n",
    "    accuracy = np.mean(preds[\"test_accuracy\"])\n",
    "    precision = np.mean(preds[\"test_precision\"])\n",
    "    recall = np.mean(preds[\"test_recall\"])\n",
    "    f1 = np.mean(preds[\"test_f1\"])\n",
    "\n",
    "    return accuracy, precision, recall, f1"
   ],
   "metadata": {
    "collapsed": false,
    "pycharm": {
     "name": "#%%\n"
    }
   }
  },
  {
   "cell_type": "code",
   "execution_count": 84,
   "outputs": [
    {
     "name": "stderr",
     "output_type": "stream",
     "text": [
      "\u001B[32m[I 2022-05-30 22:17:49,184]\u001B[0m A new study created in memory with name: decision_tree\u001B[0m\n",
      "\u001B[32m[I 2022-05-30 22:17:53,309]\u001B[0m Trial 0 finished with values: [0.8379929609241044, 0.8664138853143701, 0.8558132240010412, 0.8610735043123647] and parameters: {'max_depth': 47, 'min_samples_leaf': 3, 'class_weight': 'balanced', 'criterion': 'gini'}. \u001B[0m\n",
      "\u001B[32m[I 2022-05-30 22:17:55,657]\u001B[0m Trial 1 finished with values: [0.8463135096110459, 0.8880286157415048, 0.8445219268041602, 0.8657194570056808] and parameters: {'max_depth': 15, 'min_samples_leaf': 13, 'class_weight': 'balanced', 'criterion': 'gini'}. \u001B[0m\n",
      "\u001B[32m[I 2022-05-30 22:17:57,140]\u001B[0m Trial 2 finished with values: [0.846512047649129, 0.8915249644477559, 0.8406607622495947, 0.8653344094614086] and parameters: {'max_depth': 16, 'min_samples_leaf': 20, 'class_weight': 'balanced', 'criterion': 'gini'}. \u001B[0m\n",
      "\u001B[32m[I 2022-05-30 22:17:59,144]\u001B[0m Trial 3 finished with values: [0.8481003519537949, 0.8872340326220195, 0.848983074793227, 0.8676797324217764] and parameters: {'max_depth': 37, 'min_samples_leaf': 15, 'class_weight': 'balanced', 'criterion': 'entropy'}. \u001B[0m\n",
      "\u001B[32m[I 2022-05-30 22:18:01,091]\u001B[0m Trial 4 finished with values: [0.8383629636314411, 0.8780826548940974, 0.8412915243808646, 0.8592881623014538] and parameters: {'max_depth': 35, 'min_samples_leaf': 4, 'class_weight': 'balanced', 'criterion': 'gini'}. \u001B[0m\n",
      "\u001B[32m[I 2022-05-30 22:18:03,041]\u001B[0m Trial 5 finished with values: [0.8369100261709231, 0.876285105929162, 0.8407070249547406, 0.8581122382080715] and parameters: {'max_depth': 32, 'min_samples_leaf': 4, 'class_weight': 'balanced', 'criterion': 'entropy'}. \u001B[0m\n",
      "\u001B[32m[I 2022-05-30 22:18:05,701]\u001B[0m Trial 6 finished with values: [0.8457810666907319, 0.8874828989134722, 0.844152854590418, 0.8652670943810714] and parameters: {'max_depth': 50, 'min_samples_leaf': 12, 'class_weight': 'balanced', 'criterion': 'entropy'}. \u001B[0m\n",
      "\u001B[32m[I 2022-05-30 22:18:07,844]\u001B[0m Trial 7 finished with values: [0.8310802274162981, 0.8716246239216826, 0.8350613278430539, 0.8529457267145457] and parameters: {'max_depth': 45, 'min_samples_leaf': 2, 'class_weight': 'balanced', 'criterion': 'entropy'}. \u001B[0m\n",
      "\u001B[32m[I 2022-05-30 22:18:09,506]\u001B[0m Trial 8 finished with values: [0.8468820503564661, 0.8912756311867976, 0.8416914912498669, 0.865757561027635] and parameters: {'max_depth': 16, 'min_samples_leaf': 32, 'class_weight': 'balanced', 'criterion': 'gini'}. \u001B[0m\n",
      "\u001B[32m[I 2022-05-30 22:18:11,252]\u001B[0m Trial 9 finished with values: [0.8484342568360257, 0.89090838883281, 0.8451372948540461, 0.8674072753676121] and parameters: {'max_depth': 46, 'min_samples_leaf': 29, 'class_weight': 'balanced', 'criterion': 'entropy'}. \u001B[0m\n",
      "\u001B[32m[I 2022-05-30 22:18:12,894]\u001B[0m Trial 10 finished with values: [0.8479559606533706, 0.8895091373970947, 0.8459064498952824, 0.8671499560696814] and parameters: {'max_depth': 50, 'min_samples_leaf': 27, 'class_weight': 'balanced', 'criterion': 'gini'}. \u001B[0m\n",
      "\u001B[32m[I 2022-05-30 22:18:14,615]\u001B[0m Trial 11 finished with values: [0.8489306019312336, 0.8915312934751587, 0.845352606107936, 0.8678161630863999] and parameters: {'max_depth': 21, 'min_samples_leaf': 38, 'class_weight': 'balanced', 'criterion': 'entropy'}. \u001B[0m\n",
      "\u001B[32m[I 2022-05-30 22:18:16,249]\u001B[0m Trial 12 finished with values: [0.8473332731702914, 0.8892805896819178, 0.8449987859855881, 0.8665528944292472] and parameters: {'max_depth': 15, 'min_samples_leaf': 34, 'class_weight': 'balanced', 'criterion': 'entropy'}. \u001B[0m\n",
      "\u001B[32m[I 2022-05-30 22:18:17,917]\u001B[0m Trial 13 finished with values: [0.8482898655356015, 0.889814134641331, 0.846198703158094, 0.8674398639419566] and parameters: {'max_depth': 18, 'min_samples_leaf': 26, 'class_weight': 'balanced', 'criterion': 'entropy'}. \u001B[0m\n",
      "\u001B[32m[I 2022-05-30 22:18:19,618]\u001B[0m Trial 14 finished with values: [0.8480371807598592, 0.8905050488824505, 0.8448603386461254, 0.867066947852706] and parameters: {'max_depth': 39, 'min_samples_leaf': 28, 'class_weight': 'balanced', 'criterion': 'entropy'}. \u001B[0m\n",
      "\u001B[32m[I 2022-05-30 22:18:21,489]\u001B[0m Trial 15 finished with values: [0.8458713112534969, 0.8842544333185236, 0.8483215789286855, 0.8659083743453888] and parameters: {'max_depth': 24, 'min_samples_leaf': 10, 'class_weight': 'balanced', 'criterion': 'gini'}. \u001B[0m\n",
      "\u001B[32m[I 2022-05-30 22:18:23,171]\u001B[0m Trial 16 finished with values: [0.8416388412598141, 0.8765057860430984, 0.8497983126856223, 0.8629345045024003] and parameters: {'max_depth': 20, 'min_samples_leaf': 3, 'class_weight': 'balanced', 'criterion': 'gini'}. \u001B[0m\n",
      "\u001B[32m[I 2022-05-30 22:18:24,817]\u001B[0m Trial 17 finished with values: [0.8465481454742351, 0.8913380080869298, 0.8409529965804078, 0.8654011943821255] and parameters: {'max_depth': 16, 'min_samples_leaf': 25, 'class_weight': 'balanced', 'criterion': 'gini'}. \u001B[0m\n",
      "\u001B[32m[I 2022-05-30 22:18:26,481]\u001B[0m Trial 18 finished with values: [0.848019131847306, 0.8880726804074003, 0.8477985848331026, 0.8674565083948318] and parameters: {'max_depth': 25, 'min_samples_leaf': 17, 'class_weight': 'balanced', 'criterion': 'entropy'}. \u001B[0m\n",
      "\u001B[32m[I 2022-05-30 22:18:28,263]\u001B[0m Trial 19 finished with values: [0.8471076617633788, 0.886747734497952, 0.8476447647107547, 0.8667480193368979] and parameters: {'max_depth': 22, 'min_samples_leaf': 14, 'class_weight': 'balanced', 'criterion': 'entropy'}. \u001B[0m\n"
     ]
    }
   ],
   "source": [
    "study = optuna.create_study(study_name=\"decision_tree\", directions=[\"maximize\", \"maximize\", \"maximize\", \"maximize\"])\n",
    "study.optimize(objective, n_trials=20, callbacks=[mlflow_callback])"
   ],
   "metadata": {
    "collapsed": false,
    "pycharm": {
     "name": "#%%\n"
    }
   }
  },
  {
   "cell_type": "markdown",
   "source": [
    "Wyszukiwanie hiperparametrów lasu losowego"
   ],
   "metadata": {
    "collapsed": false,
    "pycharm": {
     "name": "#%% md\n"
    }
   }
  },
  {
   "cell_type": "code",
   "execution_count": 17,
   "outputs": [],
   "source": [
    "def objective(trial):\n",
    "    params = {\n",
    "        \"max_depth\": trial.suggest_int(\"max_depth\", 30, 60),\n",
    "        #\"max_depth\": trial.suggest_categorical(\"max_depth\", [None]),\n",
    "        \"min_samples_split\": trial.suggest_int(\"min_samples_split\", 2, 30),\n",
    "        \"class_weight\": trial.suggest_categorical(\"class_weight\", [\"balanced\"]),\n",
    "        \"criterion\": trial.suggest_categorical(\"criterion\", [\"gini\", \"entropy\"]),\n",
    "        \"max_features\": trial.suggest_categorical(\"max_features\", [None, \"sqrt\"]),\n",
    "        \"n_estimators\": trial.suggest_int(\"n_estimators\", 250, 1000)\n",
    "    }\n",
    "\n",
    "    model = RandomForestClassifier(**params)\n",
    "\n",
    "    scoring = [\"accuracy\", \"precision\", \"recall\", \"f1\"]\n",
    "\n",
    "    preds = cross_validate(model, X_train, y_train, cv=5, n_jobs=-2, scoring=scoring)\n",
    "\n",
    "    accuracy = np.mean(preds[\"test_accuracy\"])\n",
    "    precision = np.mean(preds[\"test_precision\"])\n",
    "    recall = np.mean(preds[\"test_recall\"])\n",
    "    f1 = np.mean(preds[\"test_f1\"])\n",
    "\n",
    "    return accuracy, precision, recall, f1"
   ],
   "metadata": {
    "collapsed": false,
    "pycharm": {
     "name": "#%%\n"
    }
   }
  },
  {
   "cell_type": "code",
   "execution_count": null,
   "outputs": [
    {
     "name": "stderr",
     "output_type": "stream",
     "text": [
      "\u001B[32m[I 2022-05-31 10:54:40,987]\u001B[0m A new study created in memory with name: random_forest\u001B[0m\n",
      "\u001B[32m[I 2022-05-31 10:56:18,639]\u001B[0m Trial 0 finished with values: [0.8754534789278946, 0.8934953523811018, 0.8943020179449472, 0.8938958740893144] and parameters: {'max_depth': 51, 'min_samples_split': 8, 'class_weight': 'balanced', 'criterion': 'gini', 'max_features': 'sqrt', 'n_estimators': 821}. \u001B[0m\n",
      "\u001B[32m[I 2022-05-31 11:01:57,781]\u001B[0m Trial 1 finished with values: [0.8697229491923112, 0.8968365132649458, 0.8790573384951716, 0.8878540178450292] and parameters: {'max_depth': 53, 'min_samples_split': 29, 'class_weight': 'balanced', 'criterion': 'entropy', 'max_features': None, 'n_estimators': 710}. \u001B[0m\n",
      "\u001B[32m[I 2022-05-31 11:03:47,059]\u001B[0m Trial 2 finished with values: [0.8732605360527028, 0.8965590105190341, 0.8862104782185118, 0.8913525787491737] and parameters: {'max_depth': 33, 'min_samples_split': 17, 'class_weight': 'balanced', 'criterion': 'gini', 'max_features': 'sqrt', 'n_estimators': 996}. \u001B[0m\n"
     ]
    }
   ],
   "source": [
    "study = optuna.create_study(study_name=\"random_forest\", directions=[\"maximize\", \"maximize\", \"maximize\", \"maximize\"])\n",
    "study.optimize(objective, n_trials=10, callbacks=[mlflow_callback])"
   ],
   "metadata": {
    "collapsed": false,
    "pycharm": {
     "name": "#%%\n",
     "is_executing": true
    }
   }
  },
  {
   "cell_type": "markdown",
   "source": [
    "Wyszukwianie hiperparametrów dla XGBoost"
   ],
   "metadata": {
    "collapsed": false,
    "pycharm": {
     "name": "#%% md\n"
    }
   }
  },
  {
   "cell_type": "code",
   "execution_count": 9,
   "outputs": [],
   "source": [
    "def objective(trial):\n",
    "    params = {\n",
    "        \"tree_method\": \"hist\",\n",
    "        \"max_depth\": trial.suggest_int(\"max_depth\", 10, 30),\n",
    "        \"learning_rate\": trial.suggest_float(\"learning_rate\", 0.001, 0.15),\n",
    "        \"min_child_weight\": trial.suggest_int(\"min_child_weight\", 0.1, 10),\n",
    "        \"max_delta_step\": trial.suggest_int(\"max_delta_step\", 0, 7),\n",
    "        \"subsample\": trial.suggest_float(\"subsample\", 0.7, 1.0),\n",
    "        \"colsample_bytree\": trial.suggest_float(\"colsample_bytree\", 0.1, 0.6),\n",
    "        \"colsample_bylevel\": trial.suggest_float(\"colsample_bylevel\", 0.25, 0.85),\n",
    "        \"reg_lambda\": trial.suggest_float(\"reg_lambda\", 0.4, 3.0),\n",
    "        \"reg_alpha\": trial.suggest_float(\"reg_alpha\", 0.1, 3.0),\n",
    "        \"gamma\": trial.suggest_float(\"gamma\", 0.1, 0.5),\n",
    "        \"scale_pos_weight\": trial.suggest_float(\"scale_pos_weight\", 0.704, 1),\n",
    "        \"n_estimators\": trial.suggest_int(\"n_estimators\", 500, 3000),\n",
    "        \"objective\": \"binary:logistic\"\n",
    "    }\n",
    "\n",
    "    model = xgb.XGBClassifier(**params)\n",
    "\n",
    "    scoring = [\"accuracy\", \"precision\", \"recall\", \"f1\"]\n",
    "\n",
    "    preds = cross_validate(model, X_train, y_train, cv=5, n_jobs=-2, scoring=scoring)\n",
    "\n",
    "    accuracy = np.mean(preds[\"test_accuracy\"])\n",
    "    precision = np.mean(preds[\"test_precision\"])\n",
    "    recall = np.mean(preds[\"test_recall\"])\n",
    "    f1 = np.mean(preds[\"test_f1\"])\n",
    "\n",
    "    return accuracy, precision, recall, f1"
   ],
   "metadata": {
    "collapsed": false,
    "pycharm": {
     "name": "#%%\n"
    }
   }
  },
  {
   "cell_type": "code",
   "execution_count": 10,
   "outputs": [
    {
     "name": "stderr",
     "output_type": "stream",
     "text": [
      "\u001B[32m[I 2022-05-31 13:56:01,717]\u001B[0m A new study created in memory with name: XGBoost\u001B[0m\n",
      "C:\\Users\\Tuszyn\\.virtualenvs\\JT_praca_magisterska\\lib\\site-packages\\optuna\\distributions.py:560: UserWarning: The distribution is specified by [0.1, 10] and step=1, but the range is not divisible by `step`. It will be replaced by [0.1, 9.1].\n",
      "  warnings.warn(\n",
      "\u001B[32m[I 2022-05-31 13:56:16,884]\u001B[0m Trial 0 finished with values: [0.86807147369371, 0.8969961077170442, 0.8756729917276724, 0.8862032195841776] and parameters: {'max_depth': 13, 'learning_rate': 0.11615520591716848, 'min_child_weight': 1, 'max_delta_step': 1, 'subsample': 0.9018574998386311, 'colsample_bytree': 0.15843730447771195, 'colsample_bylevel': 0.36872742422719335, 'reg_lambda': 1.9977820656346417, 'reg_alpha': 0.46343199831319737, 'gamma': 0.21011901004779127, 'scale_pos_weight': 0.7116917684127338, 'n_estimators': 955}. \u001B[0m\n",
      "C:\\Users\\Tuszyn\\.virtualenvs\\JT_praca_magisterska\\lib\\site-packages\\optuna\\distributions.py:560: UserWarning: The distribution is specified by [0.1, 10] and step=1, but the range is not divisible by `step`. It will be replaced by [0.1, 9.1].\n",
      "  warnings.warn(\n",
      "\u001B[32m[I 2022-05-31 13:56:47,077]\u001B[0m Trial 1 finished with values: [0.8759498240231027, 0.8981328349542996, 0.8894255800208759, 0.8937562155019195] and parameters: {'max_depth': 18, 'learning_rate': 0.09365964125703466, 'min_child_weight': 2, 'max_delta_step': 1, 'subsample': 0.7054331667785732, 'colsample_bytree': 0.5722640759072696, 'colsample_bylevel': 0.7838338276373186, 'reg_lambda': 2.619771669117413, 'reg_alpha': 2.2811487520021236, 'gamma': 0.33636074054467113, 'scale_pos_weight': 0.7616870439982979, 'n_estimators': 1041}. \u001B[0m\n",
      "C:\\Users\\Tuszyn\\.virtualenvs\\JT_praca_magisterska\\lib\\site-packages\\optuna\\distributions.py:560: UserWarning: The distribution is specified by [0.1, 10] and step=1, but the range is not divisible by `step`. It will be replaced by [0.1, 9.1].\n",
      "  warnings.warn(\n",
      "\u001B[32m[I 2022-05-31 13:57:30,728]\u001B[0m Trial 2 finished with values: [0.8768883674758596, 0.8918236443904487, 0.8992246807041608, 0.8955065305651546] and parameters: {'max_depth': 21, 'learning_rate': 0.08543111924464437, 'min_child_weight': 9, 'max_delta_step': 4, 'subsample': 0.8718078487550721, 'colsample_bytree': 0.5426419527074137, 'colsample_bylevel': 0.5934044182536542, 'reg_lambda': 2.093112678189295, 'reg_alpha': 1.2922443592665518, 'gamma': 0.3996109473054056, 'scale_pos_weight': 0.9393623904243066, 'n_estimators': 2842}. \u001B[0m\n",
      "C:\\Users\\Tuszyn\\.virtualenvs\\JT_praca_magisterska\\lib\\site-packages\\optuna\\distributions.py:560: UserWarning: The distribution is specified by [0.1, 10] and step=1, but the range is not divisible by `step`. It will be replaced by [0.1, 9.1].\n",
      "  warnings.warn(\n",
      "\u001B[32m[I 2022-05-31 13:58:01,353]\u001B[0m Trial 3 finished with values: [0.8801552206479559, 0.8986110855160113, 0.8969171824618322, 0.8977601760348184] and parameters: {'max_depth': 22, 'learning_rate': 0.027376369022929968, 'min_child_weight': 3, 'max_delta_step': 0, 'subsample': 0.9931316691487022, 'colsample_bytree': 0.34394633035350586, 'colsample_bylevel': 0.8164488712502128, 'reg_lambda': 0.5963892651966148, 'reg_alpha': 0.8969911948801549, 'gamma': 0.22334875498560428, 'scale_pos_weight': 0.8374445258337466, 'n_estimators': 1358}. \u001B[0m\n",
      "C:\\Users\\Tuszyn\\.virtualenvs\\JT_praca_magisterska\\lib\\site-packages\\optuna\\distributions.py:560: UserWarning: The distribution is specified by [0.1, 10] and step=1, but the range is not divisible by `step`. It will be replaced by [0.1, 9.1].\n",
      "  warnings.warn(\n",
      "\u001B[32m[I 2022-05-31 13:58:23,996]\u001B[0m Trial 4 finished with values: [0.8794332641458352, 0.8918818218373381, 0.9040857683246379, 0.8979393751533061] and parameters: {'max_depth': 22, 'learning_rate': 0.0675784773135259, 'min_child_weight': 3, 'max_delta_step': 5, 'subsample': 0.9767066554757128, 'colsample_bytree': 0.28026058263708475, 'colsample_bylevel': 0.6455553579689247, 'reg_lambda': 1.9559489540115411, 'reg_alpha': 0.12263684424466229, 'gamma': 0.23230361478629408, 'scale_pos_weight': 0.9676022078596858, 'n_estimators': 1475}. \u001B[0m\n",
      "C:\\Users\\Tuszyn\\.virtualenvs\\JT_praca_magisterska\\lib\\site-packages\\optuna\\distributions.py:560: UserWarning: The distribution is specified by [0.1, 10] and step=1, but the range is not divisible by `step`. It will be replaced by [0.1, 9.1].\n",
      "  warnings.warn(\n",
      "\u001B[32m[I 2022-05-31 13:59:07,734]\u001B[0m Trial 5 finished with values: [0.8791805793700931, 0.8935671627663229, 0.9014244759916412, 0.8974764508125042] and parameters: {'max_depth': 23, 'learning_rate': 0.03883560018665986, 'min_child_weight': 1, 'max_delta_step': 4, 'subsample': 0.8025981318201865, 'colsample_bytree': 0.5891440590776753, 'colsample_bylevel': 0.45882239521873913, 'reg_lambda': 1.7546810263768036, 'reg_alpha': 0.9625569916200871, 'gamma': 0.42109161461995714, 'scale_pos_weight': 0.9233271203479925, 'n_estimators': 2207}. \u001B[0m\n",
      "C:\\Users\\Tuszyn\\.virtualenvs\\JT_praca_magisterska\\lib\\site-packages\\optuna\\distributions.py:560: UserWarning: The distribution is specified by [0.1, 10] and step=1, but the range is not divisible by `step`. It will be replaced by [0.1, 9.1].\n",
      "  warnings.warn(\n",
      "\u001B[32m[I 2022-05-31 13:59:44,302]\u001B[0m Trial 6 finished with values: [0.8719519898926091, 0.8893440134899759, 0.8928252404140435, 0.8910768822275941] and parameters: {'max_depth': 26, 'learning_rate': 0.05962626682572417, 'min_child_weight': 1, 'max_delta_step': 6, 'subsample': 0.8884064885441074, 'colsample_bytree': 0.1359911250809898, 'colsample_bylevel': 0.524225652061538, 'reg_lambda': 0.5645049176971542, 'reg_alpha': 1.042888741907714, 'gamma': 0.19426518717433838, 'scale_pos_weight': 0.8395621795237777, 'n_estimators': 2935}. \u001B[0m\n",
      "C:\\Users\\Tuszyn\\.virtualenvs\\JT_praca_magisterska\\lib\\site-packages\\optuna\\distributions.py:560: UserWarning: The distribution is specified by [0.1, 10] and step=1, but the range is not divisible by `step`. It will be replaced by [0.1, 9.1].\n",
      "  warnings.warn(\n",
      "\u001B[32m[I 2022-05-31 13:59:57,889]\u001B[0m Trial 7 finished with values: [0.877321541377132, 0.9062070466549905, 0.8821954829099145, 0.8940360636260264] and parameters: {'max_depth': 22, 'learning_rate': 0.0751961456263875, 'min_child_weight': 1, 'max_delta_step': 7, 'subsample': 0.9932526593730193, 'colsample_bytree': 0.3793809240726841, 'colsample_bylevel': 0.4069903083683086, 'reg_lambda': 1.9065049918008499, 'reg_alpha': 1.8914810940269469, 'gamma': 0.43718698351644203, 'scale_pos_weight': 0.7063236994984206, 'n_estimators': 942}. \u001B[0m\n",
      "C:\\Users\\Tuszyn\\.virtualenvs\\JT_praca_magisterska\\lib\\site-packages\\optuna\\distributions.py:560: UserWarning: The distribution is specified by [0.1, 10] and step=1, but the range is not divisible by `step`. It will be replaced by [0.1, 9.1].\n",
      "  warnings.warn(\n",
      "\u001B[32m[I 2022-05-31 14:00:43,151]\u001B[0m Trial 8 finished with values: [0.8765905604187347, 0.901853539354919, 0.8860720344290721, 0.893890044862313] and parameters: {'max_depth': 15, 'learning_rate': 0.06316867976761066, 'min_child_weight': 8, 'max_delta_step': 3, 'subsample': 0.7442542061864853, 'colsample_bytree': 0.30374372508818637, 'colsample_bylevel': 0.7156597094002639, 'reg_lambda': 0.6300660655849994, 'reg_alpha': 2.835848301552087, 'gamma': 0.404934336448342, 'scale_pos_weight': 0.7501104836229505, 'n_estimators': 2533}. \u001B[0m\n",
      "C:\\Users\\Tuszyn\\.virtualenvs\\JT_praca_magisterska\\lib\\site-packages\\optuna\\distributions.py:560: UserWarning: The distribution is specified by [0.1, 10] and step=1, but the range is not divisible by `step`. It will be replaced by [0.1, 9.1].\n",
      "  warnings.warn(\n",
      "\u001B[32m[I 2022-05-31 14:01:13,015]\u001B[0m Trial 9 finished with values: [0.8759678729356557, 0.8981421993432377, 0.8894563433354866, 0.8937747139840377] and parameters: {'max_depth': 15, 'learning_rate': 0.133796160072143, 'min_child_weight': 3, 'max_delta_step': 4, 'subsample': 0.8617574168544411, 'colsample_bytree': 0.48173850921832884, 'colsample_bylevel': 0.3504450017689225, 'reg_lambda': 1.9678522825181908, 'reg_alpha': 0.3362651022592238, 'gamma': 0.3502525086396113, 'scale_pos_weight': 0.7753914721927778, 'n_estimators': 2338}. \u001B[0m\n",
      "C:\\Users\\Tuszyn\\.virtualenvs\\JT_praca_magisterska\\lib\\site-packages\\optuna\\distributions.py:560: UserWarning: The distribution is specified by [0.1, 10] and step=1, but the range is not divisible by `step`. It will be replaced by [0.1, 9.1].\n",
      "  warnings.warn(\n",
      "\u001B[32m[I 2022-05-31 14:01:49,894]\u001B[0m Trial 10 finished with values: [0.8739824925548236, 0.8919007338663849, 0.8934867244424456, 0.8926908100723787] and parameters: {'max_depth': 27, 'learning_rate': 0.10335323708133831, 'min_child_weight': 8, 'max_delta_step': 0, 'subsample': 0.8210348103174553, 'colsample_bytree': 0.41906367804546096, 'colsample_bylevel': 0.8172874618195439, 'reg_lambda': 2.180730076413925, 'reg_alpha': 0.6141038525691189, 'gamma': 0.15385295575562027, 'scale_pos_weight': 0.871550480369295, 'n_estimators': 1470}. \u001B[0m\n",
      "C:\\Users\\Tuszyn\\.virtualenvs\\JT_praca_magisterska\\lib\\site-packages\\optuna\\distributions.py:560: UserWarning: The distribution is specified by [0.1, 10] and step=1, but the range is not divisible by `step`. It will be replaced by [0.1, 9.1].\n",
      "  warnings.warn(\n",
      "\u001B[32m[I 2022-05-31 14:02:14,055]\u001B[0m Trial 11 finished with values: [0.8754534789278946, 0.8888961521399198, 0.9002245801238227, 0.8945201618818661] and parameters: {'max_depth': 19, 'learning_rate': 0.11136608679024468, 'min_child_weight': 3, 'max_delta_step': 7, 'subsample': 0.8305810479932936, 'colsample_bytree': 0.18944499237494858, 'colsample_bylevel': 0.4314505910851652, 'reg_lambda': 0.8752298552004072, 'reg_alpha': 2.602849230375513, 'gamma': 0.4703917410334224, 'scale_pos_weight': 0.9337366802218872, 'n_estimators': 1729}. \u001B[0m\n",
      "C:\\Users\\Tuszyn\\.virtualenvs\\JT_praca_magisterska\\lib\\site-packages\\optuna\\distributions.py:560: UserWarning: The distribution is specified by [0.1, 10] and step=1, but the range is not divisible by `step`. It will be replaced by [0.1, 9.1].\n",
      "  warnings.warn(\n",
      "\u001B[32m[I 2022-05-31 14:02:49,620]\u001B[0m Trial 12 finished with values: [0.8790181391571157, 0.8974665202667224, 0.8961634286032995, 0.8968124255743227] and parameters: {'max_depth': 19, 'learning_rate': 0.06380756278286898, 'min_child_weight': 3, 'max_delta_step': 0, 'subsample': 0.8671351791075546, 'colsample_bytree': 0.4060361118275323, 'colsample_bylevel': 0.6980559166467303, 'reg_lambda': 2.226195859993048, 'reg_alpha': 1.3523389307523288, 'gamma': 0.4423457848818375, 'scale_pos_weight': 0.8548314399132887, 'n_estimators': 2536}. \u001B[0m\n",
      "C:\\Users\\Tuszyn\\.virtualenvs\\JT_praca_magisterska\\lib\\site-packages\\optuna\\distributions.py:560: UserWarning: The distribution is specified by [0.1, 10] and step=1, but the range is not divisible by `step`. It will be replaced by [0.1, 9.1].\n",
      "  warnings.warn(\n",
      "\u001B[32m[I 2022-05-31 14:03:11,739]\u001B[0m Trial 13 finished with values: [0.877213247901814, 0.890381881789566, 0.9017167470025645, 0.8960109216530061] and parameters: {'max_depth': 12, 'learning_rate': 0.1428043886992677, 'min_child_weight': 6, 'max_delta_step': 1, 'subsample': 0.911586414875188, 'colsample_bytree': 0.20852472470867886, 'colsample_bylevel': 0.8337493806213905, 'reg_lambda': 2.563000854059526, 'reg_alpha': 1.687841055835968, 'gamma': 0.3912104214825607, 'scale_pos_weight': 0.9547567532782684, 'n_estimators': 1680}. \u001B[0m\n",
      "C:\\Users\\Tuszyn\\.virtualenvs\\JT_praca_magisterska\\lib\\site-packages\\optuna\\distributions.py:560: UserWarning: The distribution is specified by [0.1, 10] and step=1, but the range is not divisible by `step`. It will be replaced by [0.1, 9.1].\n",
      "  warnings.warn(\n",
      "\u001B[32m[I 2022-05-31 14:03:40,520]\u001B[0m Trial 14 finished with values: [0.8699034383178412, 0.8881101207055918, 0.8904254687921075, 0.8892615582378118] and parameters: {'max_depth': 15, 'learning_rate': 0.12286137468776277, 'min_child_weight': 1, 'max_delta_step': 6, 'subsample': 0.782830459084553, 'colsample_bytree': 0.10012628813307858, 'colsample_bylevel': 0.531878203298731, 'reg_lambda': 2.1840337567789585, 'reg_alpha': 1.6436392320721966, 'gamma': 0.1784496671859763, 'scale_pos_weight': 0.8390743823272091, 'n_estimators': 2244}. \u001B[0m\n",
      "C:\\Users\\Tuszyn\\.virtualenvs\\JT_praca_magisterska\\lib\\site-packages\\optuna\\distributions.py:560: UserWarning: The distribution is specified by [0.1, 10] and step=1, but the range is not divisible by `step`. It will be replaced by [0.1, 9.1].\n",
      "  warnings.warn(\n",
      "\u001B[32m[I 2022-05-31 14:04:06,660]\u001B[0m Trial 15 finished with values: [0.877393737027344, 0.9064045304060141, 0.8821031622039509, 0.8940836873509965] and parameters: {'max_depth': 30, 'learning_rate': 0.027561776096761748, 'min_child_weight': 0, 'max_delta_step': 0, 'subsample': 0.7160848498153942, 'colsample_bytree': 0.5370507343744068, 'colsample_bylevel': 0.4064589588910748, 'reg_lambda': 2.8138973835472822, 'reg_alpha': 1.6256531963874987, 'gamma': 0.3270301407918339, 'scale_pos_weight': 0.7041005222589121, 'n_estimators': 959}. \u001B[0m\n",
      "C:\\Users\\Tuszyn\\.virtualenvs\\JT_praca_magisterska\\lib\\site-packages\\optuna\\distributions.py:560: UserWarning: The distribution is specified by [0.1, 10] and step=1, but the range is not divisible by `step`. It will be replaced by [0.1, 9.1].\n",
      "  warnings.warn(\n",
      "\u001B[32m[I 2022-05-31 14:04:40,852]\u001B[0m Trial 16 finished with values: [0.8746683512318384, 0.8892567928821989, 0.8982247398739375, 0.8937150588422161] and parameters: {'max_depth': 12, 'learning_rate': 0.10450605614877573, 'min_child_weight': 6, 'max_delta_step': 1, 'subsample': 0.74085661523454, 'colsample_bytree': 0.48637550423142406, 'colsample_bylevel': 0.6671161511252051, 'reg_lambda': 2.4276321972219463, 'reg_alpha': 0.4625125518704424, 'gamma': 0.2291633578508647, 'scale_pos_weight': 0.9626789905754134, 'n_estimators': 1492}. \u001B[0m\n",
      "C:\\Users\\Tuszyn\\.virtualenvs\\JT_praca_magisterska\\lib\\site-packages\\optuna\\distributions.py:560: UserWarning: The distribution is specified by [0.1, 10] and step=1, but the range is not divisible by `step`. It will be replaced by [0.1, 9.1].\n",
      "  warnings.warn(\n",
      "\u001B[32m[I 2022-05-31 14:04:55,345]\u001B[0m Trial 17 finished with values: [0.8736485876725928, 0.8909013986279376, 0.8941174652699381, 0.8925044390575007] and parameters: {'max_depth': 14, 'learning_rate': 0.1363682558032946, 'min_child_weight': 9, 'max_delta_step': 0, 'subsample': 0.8474732719414535, 'colsample_bytree': 0.3467654538445214, 'colsample_bylevel': 0.3308986985672146, 'reg_lambda': 0.42795248926236373, 'reg_alpha': 2.667185773935397, 'gamma': 0.4700695387297852, 'scale_pos_weight': 0.873843980734559, 'n_estimators': 1045}. \u001B[0m\n",
      "C:\\Users\\Tuszyn\\.virtualenvs\\JT_praca_magisterska\\lib\\site-packages\\optuna\\distributions.py:560: UserWarning: The distribution is specified by [0.1, 10] and step=1, but the range is not divisible by `step`. It will be replaced by [0.1, 9.1].\n",
      "  warnings.warn(\n",
      "\u001B[32m[I 2022-05-31 14:05:15,494]\u001B[0m Trial 18 finished with values: [0.877231296814367, 0.893708376473025, 0.8974709789164516, 0.8955833656841217] and parameters: {'max_depth': 17, 'learning_rate': 0.13170770218474848, 'min_child_weight': 0, 'max_delta_step': 3, 'subsample': 0.8714489454243406, 'colsample_bytree': 0.22051981493385367, 'colsample_bylevel': 0.6156354712091364, 'reg_lambda': 0.888370912203666, 'reg_alpha': 0.7671548988032159, 'gamma': 0.21386387818800265, 'scale_pos_weight': 0.8705058482826409, 'n_estimators': 1059}. \u001B[0m\n",
      "C:\\Users\\Tuszyn\\.virtualenvs\\JT_praca_magisterska\\lib\\site-packages\\optuna\\distributions.py:560: UserWarning: The distribution is specified by [0.1, 10] and step=1, but the range is not divisible by `step`. It will be replaced by [0.1, 9.1].\n",
      "  warnings.warn(\n",
      "\u001B[32m[I 2022-05-31 14:05:42,380]\u001B[0m Trial 19 finished with values: [0.877213247901814, 0.8958546958360719, 0.8947174084712118, 0.8952826618289086] and parameters: {'max_depth': 18, 'learning_rate': 0.017749417034221632, 'min_child_weight': 9, 'max_delta_step': 3, 'subsample': 0.7795776061657456, 'colsample_bytree': 0.4412559874027274, 'colsample_bylevel': 0.45030960190664904, 'reg_lambda': 2.7402864581553406, 'reg_alpha': 0.3952330806379718, 'gamma': 0.1283160523000559, 'scale_pos_weight': 0.8533079422641602, 'n_estimators': 985}. \u001B[0m\n",
      "C:\\Users\\Tuszyn\\.virtualenvs\\JT_praca_magisterska\\lib\\site-packages\\optuna\\distributions.py:560: UserWarning: The distribution is specified by [0.1, 10] and step=1, but the range is not divisible by `step`. It will be replaced by [0.1, 9.1].\n",
      "  warnings.warn(\n",
      "\u001B[32m[I 2022-05-31 14:06:15,354]\u001B[0m Trial 20 finished with values: [0.877853984297446, 0.8930551042362284, 0.8995169422498129, 0.8962703564151413] and parameters: {'max_depth': 17, 'learning_rate': 0.1211283388892032, 'min_child_weight': 1, 'max_delta_step': 3, 'subsample': 0.9401818510192935, 'colsample_bytree': 0.48343556306532764, 'colsample_bylevel': 0.25049319746711174, 'reg_lambda': 1.171474504360217, 'reg_alpha': 1.4352630794375876, 'gamma': 0.4637433888952187, 'scale_pos_weight': 0.8927401417258339, 'n_estimators': 2710}. \u001B[0m\n",
      "C:\\Users\\Tuszyn\\.virtualenvs\\JT_praca_magisterska\\lib\\site-packages\\optuna\\distributions.py:560: UserWarning: The distribution is specified by [0.1, 10] and step=1, but the range is not divisible by `step`. It will be replaced by [0.1, 9.1].\n",
      "  warnings.warn(\n",
      "\u001B[32m[I 2022-05-31 14:06:37,928]\u001B[0m Trial 21 finished with values: [0.8761393376049093, 0.8981306455924875, 0.8897947812067656, 0.8939399327648052] and parameters: {'max_depth': 21, 'learning_rate': 0.123292465683954, 'min_child_weight': 7, 'max_delta_step': 0, 'subsample': 0.9367455896842121, 'colsample_bytree': 0.51742631485423, 'colsample_bylevel': 0.3361682735415404, 'reg_lambda': 1.5163053352905802, 'reg_alpha': 2.517895778678279, 'gamma': 0.3516555337486448, 'scale_pos_weight': 0.8216584203140667, 'n_estimators': 1896}. \u001B[0m\n",
      "C:\\Users\\Tuszyn\\.virtualenvs\\JT_praca_magisterska\\lib\\site-packages\\optuna\\distributions.py:560: UserWarning: The distribution is specified by [0.1, 10] and step=1, but the range is not divisible by `step`. It will be replaced by [0.1, 9.1].\n",
      "  warnings.warn(\n",
      "\u001B[32m[I 2022-05-31 14:07:06,778]\u001B[0m Trial 22 finished with values: [0.8699756339680533, 0.8801714438155047, 0.9010398866410725, 0.8904784228491774] and parameters: {'max_depth': 16, 'learning_rate': 0.07263629274583279, 'min_child_weight': 7, 'max_delta_step': 5, 'subsample': 0.8423630575619576, 'colsample_bytree': 0.1406229871650043, 'colsample_bylevel': 0.25207153642246605, 'reg_lambda': 1.166485219670912, 'reg_alpha': 1.3741478405195593, 'gamma': 0.26651355284813755, 'scale_pos_weight': 0.9623179664245944, 'n_estimators': 2183}. \u001B[0m\n",
      "C:\\Users\\Tuszyn\\.virtualenvs\\JT_praca_magisterska\\lib\\site-packages\\optuna\\distributions.py:560: UserWarning: The distribution is specified by [0.1, 10] and step=1, but the range is not divisible by `step`. It will be replaced by [0.1, 9.1].\n",
      "  warnings.warn(\n",
      "\u001B[32m[I 2022-05-31 14:07:34,627]\u001B[0m Trial 23 finished with values: [0.8761664109737388, 0.8978160998385892, 0.8902408770728545, 0.8940089498538917] and parameters: {'max_depth': 19, 'learning_rate': 0.10850969240805719, 'min_child_weight': 4, 'max_delta_step': 5, 'subsample': 0.9548926343824454, 'colsample_bytree': 0.5345997990497363, 'colsample_bylevel': 0.5222362529304163, 'reg_lambda': 1.0623743903311686, 'reg_alpha': 0.5303587812540848, 'gamma': 0.16897446377048286, 'scale_pos_weight': 0.7603227864035765, 'n_estimators': 1913}. \u001B[0m\n",
      "C:\\Users\\Tuszyn\\.virtualenvs\\JT_praca_magisterska\\lib\\site-packages\\optuna\\distributions.py:560: UserWarning: The distribution is specified by [0.1, 10] and step=1, but the range is not divisible by `step`. It will be replaced by [0.1, 9.1].\n",
      "  warnings.warn(\n",
      "\u001B[32m[I 2022-05-31 14:08:07,036]\u001B[0m Trial 24 finished with values: [0.8767981229130946, 0.8905935037593109, 0.900639911492142, 0.8955843296656939] and parameters: {'max_depth': 13, 'learning_rate': 0.06257683851779865, 'min_child_weight': 9, 'max_delta_step': 4, 'subsample': 0.8626705264529795, 'colsample_bytree': 0.17339802263281132, 'colsample_bylevel': 0.784520919586032, 'reg_lambda': 0.4268851032267896, 'reg_alpha': 2.074917460603813, 'gamma': 0.1635880467466802, 'scale_pos_weight': 0.9364003537715814, 'n_estimators': 1784}. \u001B[0m\n",
      "C:\\Users\\Tuszyn\\.virtualenvs\\JT_praca_magisterska\\lib\\site-packages\\optuna\\distributions.py:560: UserWarning: The distribution is specified by [0.1, 10] and step=1, but the range is not divisible by `step`. It will be replaced by [0.1, 9.1].\n",
      "  warnings.warn(\n",
      "\u001B[32m[I 2022-05-31 14:09:00,262]\u001B[0m Trial 25 finished with values: [0.8788827723129682, 0.8996244847347793, 0.8932098321309304, 0.8964011526536048] and parameters: {'max_depth': 12, 'learning_rate': 0.024137455038379548, 'min_child_weight': 2, 'max_delta_step': 2, 'subsample': 0.7594310832247947, 'colsample_bytree': 0.3544392637896515, 'colsample_bylevel': 0.849346099822165, 'reg_lambda': 2.18994681479066, 'reg_alpha': 2.488821051701669, 'gamma': 0.4725769560817018, 'scale_pos_weight': 0.8154486130320984, 'n_estimators': 2717}. \u001B[0m\n",
      "C:\\Users\\Tuszyn\\.virtualenvs\\JT_praca_magisterska\\lib\\site-packages\\optuna\\distributions.py:560: UserWarning: The distribution is specified by [0.1, 10] and step=1, but the range is not divisible by `step`. It will be replaced by [0.1, 9.1].\n",
      "  warnings.warn(\n",
      "\u001B[32m[I 2022-05-31 14:10:01,414]\u001B[0m Trial 26 finished with values: [0.8789278945943506, 0.9013242047447518, 0.891194627379544, 0.8962276038601387] and parameters: {'max_depth': 16, 'learning_rate': 0.01566039383074026, 'min_child_weight': 4, 'max_delta_step': 5, 'subsample': 0.8430445360740062, 'colsample_bytree': 0.5885255904077241, 'colsample_bylevel': 0.80560466127602, 'reg_lambda': 1.124219689857299, 'reg_alpha': 1.9240861782947432, 'gamma': 0.29710390739981196, 'scale_pos_weight': 0.7732681663635211, 'n_estimators': 2030}. \u001B[0m\n",
      "C:\\Users\\Tuszyn\\.virtualenvs\\JT_praca_magisterska\\lib\\site-packages\\optuna\\distributions.py:560: UserWarning: The distribution is specified by [0.1, 10] and step=1, but the range is not divisible by `step`. It will be replaced by [0.1, 9.1].\n",
      "  warnings.warn(\n",
      "\u001B[32m[I 2022-05-31 14:10:54,956]\u001B[0m Trial 27 finished with values: [0.8771049544264958, 0.9043454375948926, 0.8840260687293929, 0.8940655207814497] and parameters: {'max_depth': 29, 'learning_rate': 0.011580926150398678, 'min_child_weight': 3, 'max_delta_step': 7, 'subsample': 0.8794040046159162, 'colsample_bytree': 0.2888556127191588, 'colsample_bylevel': 0.4457231780162437, 'reg_lambda': 1.6374877038932674, 'reg_alpha': 0.5584520584786662, 'gamma': 0.4610423699532492, 'scale_pos_weight': 0.7182413623189781, 'n_estimators': 2986}. \u001B[0m\n",
      "C:\\Users\\Tuszyn\\.virtualenvs\\JT_praca_magisterska\\lib\\site-packages\\optuna\\distributions.py:560: UserWarning: The distribution is specified by [0.1, 10] and step=1, but the range is not divisible by `step`. It will be replaced by [0.1, 9.1].\n",
      "  warnings.warn(\n",
      "\u001B[32m[I 2022-05-31 14:11:27,039]\u001B[0m Trial 28 finished with values: [0.8757242126161898, 0.8941389376029415, 0.8940097528498188, 0.894071660771408] and parameters: {'max_depth': 16, 'learning_rate': 0.12639572503202448, 'min_child_weight': 2, 'max_delta_step': 4, 'subsample': 0.7740428383003982, 'colsample_bytree': 0.38984996924167237, 'colsample_bylevel': 0.3882025937218473, 'reg_lambda': 2.6035513786205593, 'reg_alpha': 0.8720252482718627, 'gamma': 0.13640387984491756, 'scale_pos_weight': 0.8463092139935036, 'n_estimators': 1533}. \u001B[0m\n",
      "C:\\Users\\Tuszyn\\.virtualenvs\\JT_praca_magisterska\\lib\\site-packages\\optuna\\distributions.py:560: UserWarning: The distribution is specified by [0.1, 10] and step=1, but the range is not divisible by `step`. It will be replaced by [0.1, 9.1].\n",
      "  warnings.warn(\n",
      "\u001B[32m[I 2022-05-31 14:12:02,726]\u001B[0m Trial 29 finished with values: [0.878828625575309, 0.9043179476644229, 0.8873488368086793, 0.8957479130531528] and parameters: {'max_depth': 23, 'learning_rate': 0.03823433521322163, 'min_child_weight': 4, 'max_delta_step': 7, 'subsample': 0.950319961260151, 'colsample_bytree': 0.3157045808003953, 'colsample_bylevel': 0.6763408287373589, 'reg_lambda': 1.415385478402969, 'reg_alpha': 2.2785531002984887, 'gamma': 0.2995809302762509, 'scale_pos_weight': 0.7376613128562212, 'n_estimators': 2352}. \u001B[0m\n",
      "C:\\Users\\Tuszyn\\.virtualenvs\\JT_praca_magisterska\\lib\\site-packages\\optuna\\distributions.py:560: UserWarning: The distribution is specified by [0.1, 10] and step=1, but the range is not divisible by `step`. It will be replaced by [0.1, 9.1].\n",
      "  warnings.warn(\n",
      "\u001B[32m[I 2022-05-31 14:12:13,822]\u001B[0m Trial 30 finished with values: [0.873477123003339, 0.8838098674624562, 0.9030550890261407, 0.89332585607695] and parameters: {'max_depth': 11, 'learning_rate': 0.08626588993477764, 'min_child_weight': 8, 'max_delta_step': 1, 'subsample': 0.7890088478250985, 'colsample_bytree': 0.17148127117937786, 'colsample_bylevel': 0.6982772287537564, 'reg_lambda': 2.9806462379593257, 'reg_alpha': 2.123014399482294, 'gamma': 0.15257793030092912, 'scale_pos_weight': 0.9736271845672493, 'n_estimators': 659}. \u001B[0m\n",
      "C:\\Users\\Tuszyn\\.virtualenvs\\JT_praca_magisterska\\lib\\site-packages\\optuna\\distributions.py:560: UserWarning: The distribution is specified by [0.1, 10] and step=1, but the range is not divisible by `step`. It will be replaced by [0.1, 9.1].\n",
      "  warnings.warn(\n",
      "\u001B[32m[I 2022-05-31 14:12:40,982]\u001B[0m Trial 31 finished with values: [0.8778991065788284, 0.8937594483751893, 0.8987016369157219, 0.896219773145944] and parameters: {'max_depth': 11, 'learning_rate': 0.05648452346711478, 'min_child_weight': 1, 'max_delta_step': 2, 'subsample': 0.9910797235570812, 'colsample_bytree': 0.23127225599162296, 'colsample_bylevel': 0.6783261477402747, 'reg_lambda': 2.151191042953938, 'reg_alpha': 2.670183000506743, 'gamma': 0.2598566947572488, 'scale_pos_weight': 0.8905652216383564, 'n_estimators': 2076}. \u001B[0m\n",
      "C:\\Users\\Tuszyn\\.virtualenvs\\JT_praca_magisterska\\lib\\site-packages\\optuna\\distributions.py:560: UserWarning: The distribution is specified by [0.1, 10] and step=1, but the range is not divisible by `step`. It will be replaced by [0.1, 9.1].\n",
      "  warnings.warn(\n",
      "\u001B[32m[I 2022-05-31 14:12:50,590]\u001B[0m Trial 32 finished with values: [0.8595794603375146, 0.8705087574450043, 0.8935636628995243, 0.8818839074823908] and parameters: {'max_depth': 28, 'learning_rate': 0.050198762739075295, 'min_child_weight': 2, 'max_delta_step': 4, 'subsample': 0.7680492821793281, 'colsample_bytree': 0.2785350440441393, 'colsample_bylevel': 0.25703063377037005, 'reg_lambda': 1.3604643160431658, 'reg_alpha': 2.8874561424867466, 'gamma': 0.23675599129968658, 'scale_pos_weight': 0.9141908992908667, 'n_estimators': 559}. \u001B[0m\n",
      "C:\\Users\\Tuszyn\\.virtualenvs\\JT_praca_magisterska\\lib\\site-packages\\optuna\\distributions.py:560: UserWarning: The distribution is specified by [0.1, 10] and step=1, but the range is not divisible by `step`. It will be replaced by [0.1, 9.1].\n",
      "  warnings.warn(\n",
      "\u001B[32m[I 2022-05-31 14:13:19,568]\u001B[0m Trial 33 finished with values: [0.8675570796859489, 0.8837853181115161, 0.8914715244236948, 0.887606903641468] and parameters: {'max_depth': 15, 'learning_rate': 0.12348528751216782, 'min_child_weight': 9, 'max_delta_step': 5, 'subsample': 0.9009079591944107, 'colsample_bytree': 0.10896587162227536, 'colsample_bylevel': 0.2983547742455672, 'reg_lambda': 2.7354913298091104, 'reg_alpha': 1.1293757215272995, 'gamma': 0.43925751862730855, 'scale_pos_weight': 0.87905786840397, 'n_estimators': 2320}. \u001B[0m\n",
      "C:\\Users\\Tuszyn\\.virtualenvs\\JT_praca_magisterska\\lib\\site-packages\\optuna\\distributions.py:560: UserWarning: The distribution is specified by [0.1, 10] and step=1, but the range is not divisible by `step`. It will be replaced by [0.1, 9.1].\n",
      "  warnings.warn(\n",
      "\u001B[32m[I 2022-05-31 14:13:50,483]\u001B[0m Trial 34 finished with values: [0.8793430195830702, 0.8898644009230724, 0.9065316677626859, 0.8981181052436036] and parameters: {'max_depth': 16, 'learning_rate': 0.042867559245046094, 'min_child_weight': 6, 'max_delta_step': 7, 'subsample': 0.9929283001130129, 'colsample_bytree': 0.5931889391329449, 'colsample_bylevel': 0.3653271162931995, 'reg_lambda': 0.4533646859124274, 'reg_alpha': 1.6086529342762763, 'gamma': 0.21225002492074263, 'scale_pos_weight': 0.9979341278158543, 'n_estimators': 2239}. \u001B[0m\n",
      "C:\\Users\\Tuszyn\\.virtualenvs\\JT_praca_magisterska\\lib\\site-packages\\optuna\\distributions.py:560: UserWarning: The distribution is specified by [0.1, 10] and step=1, but the range is not divisible by `step`. It will be replaced by [0.1, 9.1].\n",
      "  warnings.warn(\n",
      "\u001B[32m[I 2022-05-31 14:14:37,334]\u001B[0m Trial 35 finished with values: [0.8794783864272178, 0.9026556042338354, 0.8906100865408563, 0.8965894531804018] and parameters: {'max_depth': 20, 'learning_rate': 0.018771676358808387, 'min_child_weight': 5, 'max_delta_step': 7, 'subsample': 0.9687513990343687, 'colsample_bytree': 0.43262868939593935, 'colsample_bylevel': 0.8183044770779057, 'reg_lambda': 1.2086163490395243, 'reg_alpha': 2.496075577017516, 'gamma': 0.24112694023972736, 'scale_pos_weight': 0.771609264564205, 'n_estimators': 1895}. \u001B[0m\n",
      "C:\\Users\\Tuszyn\\.virtualenvs\\JT_praca_magisterska\\lib\\site-packages\\optuna\\distributions.py:560: UserWarning: The distribution is specified by [0.1, 10] and step=1, but the range is not divisible by `step`. It will be replaced by [0.1, 9.1].\n",
      "  warnings.warn(\n",
      "\u001B[32m[I 2022-05-31 14:15:09,634]\u001B[0m Trial 36 finished with values: [0.8776283728905334, 0.898286186915859, 0.8924714427738991, 0.8953653349557129] and parameters: {'max_depth': 17, 'learning_rate': 0.05688572379354318, 'min_child_weight': 6, 'max_delta_step': 5, 'subsample': 0.8280288936662491, 'colsample_bytree': 0.36666826313944456, 'colsample_bylevel': 0.5310703284772396, 'reg_lambda': 2.649247504646592, 'reg_alpha': 1.6361728436074896, 'gamma': 0.11833080371854982, 'scale_pos_weight': 0.8156390552764792, 'n_estimators': 1384}. \u001B[0m\n",
      "C:\\Users\\Tuszyn\\.virtualenvs\\JT_praca_magisterska\\lib\\site-packages\\optuna\\distributions.py:560: UserWarning: The distribution is specified by [0.1, 10] and step=1, but the range is not divisible by `step`. It will be replaced by [0.1, 9.1].\n",
      "  warnings.warn(\n",
      "\u001B[32m[I 2022-05-31 14:15:47,381]\u001B[0m Trial 37 finished with values: [0.8747585957946035, 0.8967872914208627, 0.8888102510212408, 0.8927796142653636] and parameters: {'max_depth': 14, 'learning_rate': 0.13922259616105898, 'min_child_weight': 0, 'max_delta_step': 2, 'subsample': 0.7608594005432499, 'colsample_bytree': 0.513142747514066, 'colsample_bylevel': 0.6346111768681846, 'reg_lambda': 0.4787208439298376, 'reg_alpha': 2.113736178821181, 'gamma': 0.30745671337220415, 'scale_pos_weight': 0.7462212459685406, 'n_estimators': 1831}. \u001B[0m\n",
      "C:\\Users\\Tuszyn\\.virtualenvs\\JT_praca_magisterska\\lib\\site-packages\\optuna\\distributions.py:560: UserWarning: The distribution is specified by [0.1, 10] and step=1, but the range is not divisible by `step`. It will be replaced by [0.1, 9.1].\n",
      "  warnings.warn(\n",
      "\u001B[32m[I 2022-05-31 14:16:39,747]\u001B[0m Trial 38 finished with values: [0.8769334897572421, 0.8992643804930402, 0.889917836831526, 0.8945626998575964] and parameters: {'max_depth': 26, 'learning_rate': 0.012558915802116273, 'min_child_weight': 9, 'max_delta_step': 4, 'subsample': 0.848264878206884, 'colsample_bytree': 0.27214382660275105, 'colsample_bylevel': 0.6613313033187125, 'reg_lambda': 1.12147241932697, 'reg_alpha': 2.2697452487537393, 'gamma': 0.41735118450769937, 'scale_pos_weight': 0.7946613491780329, 'n_estimators': 2152}. \u001B[0m\n",
      "C:\\Users\\Tuszyn\\.virtualenvs\\JT_praca_magisterska\\lib\\site-packages\\optuna\\distributions.py:560: UserWarning: The distribution is specified by [0.1, 10] and step=1, but the range is not divisible by `step`. It will be replaced by [0.1, 9.1].\n",
      "  warnings.warn(\n",
      "\u001B[32m[I 2022-05-31 14:17:00,841]\u001B[0m Trial 39 finished with values: [0.8774208103961737, 0.8960480670195684, 0.8948712475242845, 0.8954579399483196] and parameters: {'max_depth': 21, 'learning_rate': 0.07782373675328827, 'min_child_weight': 5, 'max_delta_step': 5, 'subsample': 0.7097597242252371, 'colsample_bytree': 0.5185896185391172, 'colsample_bylevel': 0.3650753522012621, 'reg_lambda': 1.4327018597167922, 'reg_alpha': 2.77502527435426, 'gamma': 0.4008031433576478, 'scale_pos_weight': 0.8645605600277302, 'n_estimators': 916}. \u001B[0m\n",
      "C:\\Users\\Tuszyn\\.virtualenvs\\JT_praca_magisterska\\lib\\site-packages\\optuna\\distributions.py:560: UserWarning: The distribution is specified by [0.1, 10] and step=1, but the range is not divisible by `step`. It will be replaced by [0.1, 9.1].\n",
      "  warnings.warn(\n",
      "\u001B[32m[I 2022-05-31 14:17:27,916]\u001B[0m Trial 40 finished with values: [0.877375688114791, 0.8993970782146533, 0.8906100474966125, 0.8949738330821677] and parameters: {'max_depth': 13, 'learning_rate': 0.1312340823215087, 'min_child_weight': 1, 'max_delta_step': 6, 'subsample': 0.8465108469843661, 'colsample_bytree': 0.44628990948400116, 'colsample_bylevel': 0.2843610346711486, 'reg_lambda': 2.8417940685330114, 'reg_alpha': 0.9587622609126585, 'gamma': 0.48221635179538225, 'scale_pos_weight': 0.8001273430294485, 'n_estimators': 2088}. \u001B[0m\n",
      "C:\\Users\\Tuszyn\\.virtualenvs\\JT_praca_magisterska\\lib\\site-packages\\optuna\\distributions.py:560: UserWarning: The distribution is specified by [0.1, 10] and step=1, but the range is not divisible by `step`. It will be replaced by [0.1, 9.1].\n",
      "  warnings.warn(\n",
      "\u001B[32m[I 2022-05-31 14:17:52,158]\u001B[0m Trial 41 finished with values: [0.8614926450681347, 0.8770227322914768, 0.888487200131482, 0.8827150424848386] and parameters: {'max_depth': 26, 'learning_rate': 0.02579611469130821, 'min_child_weight': 7, 'max_delta_step': 6, 'subsample': 0.932363282425037, 'colsample_bytree': 0.12468955677048418, 'colsample_bylevel': 0.5528567547342752, 'reg_lambda': 0.8085522566774979, 'reg_alpha': 1.1185214893481157, 'gamma': 0.12220608918796545, 'scale_pos_weight': 0.8544005416797782, 'n_estimators': 1547}. \u001B[0m\n",
      "C:\\Users\\Tuszyn\\.virtualenvs\\JT_praca_magisterska\\lib\\site-packages\\optuna\\distributions.py:560: UserWarning: The distribution is specified by [0.1, 10] and step=1, but the range is not divisible by `step`. It will be replaced by [0.1, 9.1].\n",
      "  warnings.warn(\n",
      "\u001B[32m[I 2022-05-31 14:18:10,965]\u001B[0m Trial 42 finished with values: [0.8789008212255212, 0.8960694703181838, 0.8977017055507698, 0.8968812202088816] and parameters: {'max_depth': 15, 'learning_rate': 0.08010284335621769, 'min_child_weight': 9, 'max_delta_step': 3, 'subsample': 0.9888999333040704, 'colsample_bytree': 0.5986264961089529, 'colsample_bylevel': 0.7182727446731036, 'reg_lambda': 2.3183547969921143, 'reg_alpha': 2.6077111713996874, 'gamma': 0.17344553847722122, 'scale_pos_weight': 0.8856176479605595, 'n_estimators': 921}. \u001B[0m\n",
      "C:\\Users\\Tuszyn\\.virtualenvs\\JT_praca_magisterska\\lib\\site-packages\\optuna\\distributions.py:560: UserWarning: The distribution is specified by [0.1, 10] and step=1, but the range is not divisible by `step`. It will be replaced by [0.1, 9.1].\n",
      "  warnings.warn(\n",
      "\u001B[32m[I 2022-05-31 14:18:26,802]\u001B[0m Trial 43 finished with values: [0.8770778810576662, 0.8923495702669154, 0.8989169966822214, 0.8956178098873308] and parameters: {'max_depth': 16, 'learning_rate': 0.13741593496023108, 'min_child_weight': 6, 'max_delta_step': 3, 'subsample': 0.8405315724275264, 'colsample_bytree': 0.4590211470974809, 'colsample_bylevel': 0.7881911872979969, 'reg_lambda': 1.1954000586644127, 'reg_alpha': 0.5795607152106588, 'gamma': 0.394665944214336, 'scale_pos_weight': 0.9271661482935337, 'n_estimators': 638}. \u001B[0m\n",
      "C:\\Users\\Tuszyn\\.virtualenvs\\JT_praca_magisterska\\lib\\site-packages\\optuna\\distributions.py:560: UserWarning: The distribution is specified by [0.1, 10] and step=1, but the range is not divisible by `step`. It will be replaced by [0.1, 9.1].\n",
      "  warnings.warn(\n",
      "\u001B[32m[I 2022-05-31 14:19:42,032]\u001B[0m Trial 44 finished with values: [0.8779171554913818, 0.8958943170435381, 0.8960249859970186, 0.8959567144868282] and parameters: {'max_depth': 18, 'learning_rate': 0.011491616633685107, 'min_child_weight': 0, 'max_delta_step': 5, 'subsample': 0.8418419767272455, 'colsample_bytree': 0.49092651647944474, 'colsample_bylevel': 0.2632165340580492, 'reg_lambda': 2.189388065561883, 'reg_alpha': 2.51039451564237, 'gamma': 0.2676039066347856, 'scale_pos_weight': 0.8544291342918582, 'n_estimators': 2719}. \u001B[0m\n",
      "C:\\Users\\Tuszyn\\.virtualenvs\\JT_praca_magisterska\\lib\\site-packages\\optuna\\distributions.py:560: UserWarning: The distribution is specified by [0.1, 10] and step=1, but the range is not divisible by `step`. It will be replaced by [0.1, 9.1].\n",
      "  warnings.warn(\n",
      "\u001B[32m[I 2022-05-31 14:20:03,766]\u001B[0m Trial 45 finished with values: [0.8788105766627561, 0.9002451370706408, 0.8923022297540542, 0.8962524243735835] and parameters: {'max_depth': 14, 'learning_rate': 0.04425448774154095, 'min_child_weight': 2, 'max_delta_step': 5, 'subsample': 0.9022639747618699, 'colsample_bytree': 0.5305828867575214, 'colsample_bylevel': 0.4961601532184889, 'reg_lambda': 1.7118443048067986, 'reg_alpha': 2.308270069916699, 'gamma': 0.12358923730012045, 'scale_pos_weight': 0.801868144389298, 'n_estimators': 580}. \u001B[0m\n",
      "C:\\Users\\Tuszyn\\.virtualenvs\\JT_praca_magisterska\\lib\\site-packages\\optuna\\distributions.py:560: UserWarning: The distribution is specified by [0.1, 10] and step=1, but the range is not divisible by `step`. It will be replaced by [0.1, 9.1].\n",
      "  warnings.warn(\n",
      "\u001B[32m[I 2022-05-31 14:20:31,878]\u001B[0m Trial 46 finished with values: [0.878684234274885, 0.8942230933383867, 0.8996246286404365, 0.8969135138507749] and parameters: {'max_depth': 27, 'learning_rate': 0.028914983809069317, 'min_child_weight': 3, 'max_delta_step': 6, 'subsample': 0.981881368771399, 'colsample_bytree': 0.37369466227533565, 'colsample_bylevel': 0.41887567408974946, 'reg_lambda': 2.5190943962140167, 'reg_alpha': 1.7684073542768184, 'gamma': 0.3802525580453324, 'scale_pos_weight': 0.8901099602222, 'n_estimators': 1248}. \u001B[0m\n",
      "C:\\Users\\Tuszyn\\.virtualenvs\\JT_praca_magisterska\\lib\\site-packages\\optuna\\distributions.py:560: UserWarning: The distribution is specified by [0.1, 10] and step=1, but the range is not divisible by `step`. It will be replaced by [0.1, 9.1].\n",
      "  warnings.warn(\n",
      "\u001B[32m[I 2022-05-31 14:20:59,818]\u001B[0m Trial 47 finished with values: [0.876789098456818, 0.9067903242955868, 0.880487934967813, 0.8934412041780433] and parameters: {'max_depth': 19, 'learning_rate': 0.013596387389824664, 'min_child_weight': 8, 'max_delta_step': 7, 'subsample': 0.9673965323109452, 'colsample_bytree': 0.4232498558693917, 'colsample_bylevel': 0.7068089395491203, 'reg_lambda': 2.94393063993131, 'reg_alpha': 0.565308959122312, 'gamma': 0.41329777829833925, 'scale_pos_weight': 0.7050741519125637, 'n_estimators': 734}. \u001B[0m\n",
      "C:\\Users\\Tuszyn\\.virtualenvs\\JT_praca_magisterska\\lib\\site-packages\\optuna\\distributions.py:560: UserWarning: The distribution is specified by [0.1, 10] and step=1, but the range is not divisible by `step`. It will be replaced by [0.1, 9.1].\n",
      "  warnings.warn(\n",
      "\u001B[32m[I 2022-05-31 14:21:27,784]\u001B[0m Trial 48 finished with values: [0.8760129952170381, 0.9004865105116746, 0.8866412107662587, 0.8935076545960431] and parameters: {'max_depth': 23, 'learning_rate': 0.08952386659043576, 'min_child_weight': 5, 'max_delta_step': 4, 'subsample': 0.7311184883453493, 'colsample_bytree': 0.5746052195295941, 'colsample_bylevel': 0.6824659806548348, 'reg_lambda': 1.4697121863944447, 'reg_alpha': 2.8748494646337193, 'gamma': 0.3237748632638245, 'scale_pos_weight': 0.7467015876245643, 'n_estimators': 834}. \u001B[0m\n",
      "C:\\Users\\Tuszyn\\.virtualenvs\\JT_praca_magisterska\\lib\\site-packages\\optuna\\distributions.py:560: UserWarning: The distribution is specified by [0.1, 10] and step=1, but the range is not divisible by `step`. It will be replaced by [0.1, 9.1].\n",
      "  warnings.warn(\n",
      "\u001B[32m[I 2022-05-31 14:22:13,707]\u001B[0m Trial 49 finished with values: [0.8769064163884126, 0.9016441309333242, 0.8869334900592941, 0.8942243295791586] and parameters: {'max_depth': 10, 'learning_rate': 0.03474677705510554, 'min_child_weight': 6, 'max_delta_step': 6, 'subsample': 0.7248484794610637, 'colsample_bytree': 0.46249536380571266, 'colsample_bylevel': 0.5867667602957014, 'reg_lambda': 1.0760567783664063, 'reg_alpha': 0.4946008895467435, 'gamma': 0.1414901322725382, 'scale_pos_weight': 0.7447068904175833, 'n_estimators': 1812}. \u001B[0m\n",
      "C:\\Users\\Tuszyn\\.virtualenvs\\JT_praca_magisterska\\lib\\site-packages\\optuna\\distributions.py:560: UserWarning: The distribution is specified by [0.1, 10] and step=1, but the range is not divisible by `step`. It will be replaced by [0.1, 9.1].\n",
      "  warnings.warn(\n",
      "\u001B[32m[I 2022-05-31 14:22:53,792]\u001B[0m Trial 50 finished with values: [0.8763378756429925, 0.8903964716227041, 0.8999938274600083, 0.8951676930259929] and parameters: {'max_depth': 12, 'learning_rate': 0.10450605614877573, 'min_child_weight': 4, 'max_delta_step': 5, 'subsample': 0.74085661523454, 'colsample_bytree': 0.3606461690857805, 'colsample_bylevel': 0.80560466127602, 'reg_lambda': 1.124219689857299, 'reg_alpha': 1.9240861782947432, 'gamma': 0.2291633578508647, 'scale_pos_weight': 0.9626789905754134, 'n_estimators': 1492}. \u001B[0m\n",
      "C:\\Users\\Tuszyn\\.virtualenvs\\JT_praca_magisterska\\lib\\site-packages\\optuna\\distributions.py:560: UserWarning: The distribution is specified by [0.1, 10] and step=1, but the range is not divisible by `step`. It will be replaced by [0.1, 9.1].\n",
      "  warnings.warn(\n",
      "\u001B[32m[I 2022-05-31 14:23:08,112]\u001B[0m Trial 51 finished with values: [0.87686129410703, 0.8998114871393943, 0.8891025267647995, 0.8944211217755974] and parameters: {'max_depth': 19, 'learning_rate': 0.04425448774154095, 'min_child_weight': 3, 'max_delta_step': 0, 'subsample': 0.8671351791075546, 'colsample_bytree': 0.4951446975225484, 'colsample_bylevel': 0.4961601532184889, 'reg_lambda': 1.7118443048067986, 'reg_alpha': 2.764229433362449, 'gamma': 0.4423457848818375, 'scale_pos_weight': 0.801868144389298, 'n_estimators': 580}. \u001B[0m\n",
      "C:\\Users\\Tuszyn\\.virtualenvs\\JT_praca_magisterska\\lib\\site-packages\\optuna\\distributions.py:560: UserWarning: The distribution is specified by [0.1, 10] and step=1, but the range is not divisible by `step`. It will be replaced by [0.1, 9.1].\n",
      "  warnings.warn(\n",
      "\u001B[32m[I 2022-05-31 14:23:24,491]\u001B[0m Trial 52 finished with values: [0.8790271636133923, 0.8905255769396418, 0.9050549103454835, 0.8977295379596872] and parameters: {'max_depth': 24, 'learning_rate': 0.06578915043598535, 'min_child_weight': 3, 'max_delta_step': 5, 'subsample': 0.9932526593730193, 'colsample_bytree': 0.3793809240726841, 'colsample_bylevel': 0.4069903083683086, 'reg_lambda': 1.9559489540115411, 'reg_alpha': 0.12263684424466229, 'gamma': 0.43718698351644203, 'scale_pos_weight': 0.9676022078596858, 'n_estimators': 942}. \u001B[0m\n",
      "C:\\Users\\Tuszyn\\.virtualenvs\\JT_praca_magisterska\\lib\\site-packages\\optuna\\distributions.py:560: UserWarning: The distribution is specified by [0.1, 10] and step=1, but the range is not divisible by `step`. It will be replaced by [0.1, 9.1].\n",
      "  warnings.warn(\n",
      "\u001B[32m[I 2022-05-31 14:24:21,000]\u001B[0m Trial 53 finished with values: [0.8773847125710678, 0.9021378785164094, 0.8872411504180556, 0.8946243703551897] and parameters: {'max_depth': 23, 'learning_rate': 0.03823433521322163, 'min_child_weight': 4, 'max_delta_step': 4, 'subsample': 0.7311184883453493, 'colsample_bytree': 0.3157045808003953, 'colsample_bylevel': 0.6763408287373589, 'reg_lambda': 1.4697121863944447, 'reg_alpha': 2.2785531002984887, 'gamma': 0.3237748632638245, 'scale_pos_weight': 0.7467015876245643, 'n_estimators': 2352}. \u001B[0m\n",
      "C:\\Users\\Tuszyn\\.virtualenvs\\JT_praca_magisterska\\lib\\site-packages\\optuna\\distributions.py:560: UserWarning: The distribution is specified by [0.1, 10] and step=1, but the range is not divisible by `step`. It will be replaced by [0.1, 9.1].\n",
      "  warnings.warn(\n",
      "\u001B[32m[I 2022-05-31 14:25:05,593]\u001B[0m Trial 54 finished with values: [0.8771139788827723, 0.902687463962821, 0.886056633249645, 0.8942901322480923] and parameters: {'max_depth': 15, 'learning_rate': 0.06316867976761066, 'min_child_weight': 8, 'max_delta_step': 4, 'subsample': 0.8718078487550721, 'colsample_bytree': 0.5426419527074137, 'colsample_bylevel': 0.5934044182536542, 'reg_lambda': 1.0700612236440774, 'reg_alpha': 2.835848301552087, 'gamma': 0.3996109473054056, 'scale_pos_weight': 0.7501104836229505, 'n_estimators': 2533}. \u001B[0m\n",
      "C:\\Users\\Tuszyn\\.virtualenvs\\JT_praca_magisterska\\lib\\site-packages\\optuna\\distributions.py:560: UserWarning: The distribution is specified by [0.1, 10] and step=1, but the range is not divisible by `step`. It will be replaced by [0.1, 9.1].\n",
      "  warnings.warn(\n",
      "\u001B[32m[I 2022-05-31 14:25:42,112]\u001B[0m Trial 55 finished with values: [0.8691092861655086, 0.8871726802755182, 0.8900870451187354, 0.8886236441490748] and parameters: {'max_depth': 22, 'learning_rate': 0.0751961456263875, 'min_child_weight': 1, 'max_delta_step': 5, 'subsample': 0.8884064885441074, 'colsample_bytree': 0.1359911250809898, 'colsample_bylevel': 0.524225652061538, 'reg_lambda': 1.9065049918008499, 'reg_alpha': 1.8914810940269469, 'gamma': 0.43718698351644203, 'scale_pos_weight': 0.8395621795237777, 'n_estimators': 2935}. \u001B[0m\n",
      "C:\\Users\\Tuszyn\\.virtualenvs\\JT_praca_magisterska\\lib\\site-packages\\optuna\\distributions.py:560: UserWarning: The distribution is specified by [0.1, 10] and step=1, but the range is not divisible by `step`. It will be replaced by [0.1, 9.1].\n",
      "  warnings.warn(\n",
      "\u001B[32m[I 2022-05-31 14:26:18,314]\u001B[0m Trial 56 finished with values: [0.873477123003339, 0.8908959156180553, 0.8937943930833194, 0.892339351228111] and parameters: {'max_depth': 17, 'learning_rate': 0.12840724098854348, 'min_child_weight': 0, 'max_delta_step': 3, 'subsample': 0.8714489454243406, 'colsample_bytree': 0.36666826313944456, 'colsample_bylevel': 0.6156354712091364, 'reg_lambda': 0.888370912203666, 'reg_alpha': 0.17469516131818202, 'gamma': 0.11833080371854982, 'scale_pos_weight': 0.8156390552764792, 'n_estimators': 1384}. \u001B[0m\n",
      "C:\\Users\\Tuszyn\\.virtualenvs\\JT_praca_magisterska\\lib\\site-packages\\optuna\\distributions.py:560: UserWarning: The distribution is specified by [0.1, 10] and step=1, but the range is not divisible by `step`. It will be replaced by [0.1, 9.1].\n",
      "  warnings.warn(\n",
      "\u001B[32m[I 2022-05-31 14:26:45,119]\u001B[0m Trial 57 finished with values: [0.8760942153235268, 0.8987077947912647, 0.8889948249931102, 0.8938207254952015] and parameters: {'max_depth': 26, 'learning_rate': 0.11136608679024468, 'min_child_weight': 9, 'max_delta_step': 4, 'subsample': 0.848264878206884, 'colsample_bytree': 0.18944499237494858, 'colsample_bylevel': 0.6613313033187125, 'reg_lambda': 0.8752298552004072, 'reg_alpha': 2.2697452487537393, 'gamma': 0.41735118450769937, 'scale_pos_weight': 0.7946613491780329, 'n_estimators': 1729}. \u001B[0m\n",
      "C:\\Users\\Tuszyn\\.virtualenvs\\JT_praca_magisterska\\lib\\site-packages\\optuna\\distributions.py:560: UserWarning: The distribution is specified by [0.1, 10] and step=1, but the range is not divisible by `step`. It will be replaced by [0.1, 9.1].\n",
      "  warnings.warn(\n",
      "\u001B[32m[I 2022-05-31 14:27:19,893]\u001B[0m Trial 58 finished with values: [0.8764461691183106, 0.898915049747116, 0.8894101812077665, 0.8941356347992373] and parameters: {'max_depth': 16, 'learning_rate': 0.10850969240805719, 'min_child_weight': 4, 'max_delta_step': 5, 'subsample': 0.8430445360740062, 'colsample_bytree': 0.5885255904077241, 'colsample_bylevel': 0.5222362529304163, 'reg_lambda': 1.2250245664283441, 'reg_alpha': 1.9240861782947432, 'gamma': 0.29710390739981196, 'scale_pos_weight': 0.7732681663635211, 'n_estimators': 1913}. \u001B[0m\n",
      "C:\\Users\\Tuszyn\\.virtualenvs\\JT_praca_magisterska\\lib\\site-packages\\optuna\\distributions.py:560: UserWarning: The distribution is specified by [0.1, 10] and step=1, but the range is not divisible by `step`. It will be replaced by [0.1, 9.1].\n",
      "  warnings.warn(\n",
      "\u001B[32m[I 2022-05-31 14:27:58,732]\u001B[0m Trial 59 finished with values: [0.8795505820774299, 0.8907312631693168, 0.9058086890503529, 0.8982037856794387] and parameters: {'max_depth': 16, 'learning_rate': 0.042867559245046094, 'min_child_weight': 6, 'max_delta_step': 6, 'subsample': 0.981881368771399, 'colsample_bytree': 0.5931889391329449, 'colsample_bylevel': 0.41887567408974946, 'reg_lambda': 2.5190943962140167, 'reg_alpha': 1.7684073542768184, 'gamma': 0.21225002492074263, 'scale_pos_weight': 0.9979341278158543, 'n_estimators': 2239}. \u001B[0m\n",
      "C:\\Users\\Tuszyn\\.virtualenvs\\JT_praca_magisterska\\lib\\site-packages\\optuna\\distributions.py:560: UserWarning: The distribution is specified by [0.1, 10] and step=1, but the range is not divisible by `step`. It will be replaced by [0.1, 9.1].\n",
      "  warnings.warn(\n",
      "\u001B[32m[I 2022-05-31 14:28:40,078]\u001B[0m Trial 60 finished with values: [0.8768793430195831, 0.8942032198090335, 0.8961634132222338, 0.8951789416327426] and parameters: {'max_depth': 15, 'learning_rate': 0.050198762739075295, 'min_child_weight': 9, 'max_delta_step': 4, 'subsample': 0.7680492821793281, 'colsample_bytree': 0.2785350440441393, 'colsample_bylevel': 0.51071569647758, 'reg_lambda': 2.7354913298091104, 'reg_alpha': 2.8874561424867466, 'gamma': 0.43925751862730855, 'scale_pos_weight': 0.87905786840397, 'n_estimators': 2320}. \u001B[0m\n",
      "C:\\Users\\Tuszyn\\.virtualenvs\\JT_praca_magisterska\\lib\\site-packages\\optuna\\distributions.py:560: UserWarning: The distribution is specified by [0.1, 10] and step=1, but the range is not divisible by `step`. It will be replaced by [0.1, 9.1].\n",
      "  warnings.warn(\n",
      "\u001B[32m[I 2022-05-31 14:29:37,296]\u001B[0m Trial 61 finished with values: [0.8772403212706432, 0.8954210928872607, 0.8953173658703925, 0.8953657705132247] and parameters: {'max_depth': 18, 'learning_rate': 0.011491616633685107, 'min_child_weight': 9, 'max_delta_step': 4, 'subsample': 0.8418419767272455, 'colsample_bytree': 0.27214382660275105, 'colsample_bylevel': 0.6613313033187125, 'reg_lambda': 2.189388065561883, 'reg_alpha': 2.2697452487537393, 'gamma': 0.2676039066347856, 'scale_pos_weight': 0.8544291342918582, 'n_estimators': 2152}. \u001B[0m\n",
      "C:\\Users\\Tuszyn\\.virtualenvs\\JT_praca_magisterska\\lib\\site-packages\\optuna\\distributions.py:560: UserWarning: The distribution is specified by [0.1, 10] and step=1, but the range is not divisible by `step`. It will be replaced by [0.1, 9.1].\n",
      "  warnings.warn(\n",
      "\u001B[32m[I 2022-05-31 14:30:40,691]\u001B[0m Trial 62 finished with values: [0.8784676473242488, 0.8966162929895681, 0.8961787860058473, 0.8963934180876125] and parameters: {'max_depth': 18, 'learning_rate': 0.03842540913853448, 'min_child_weight': 2, 'max_delta_step': 5, 'subsample': 0.8418419767272455, 'colsample_bytree': 0.49092651647944474, 'colsample_bylevel': 0.2632165340580492, 'reg_lambda': 1.7118443048067986, 'reg_alpha': 2.51039451564237, 'gamma': 0.12358923730012045, 'scale_pos_weight': 0.8544291342918582, 'n_estimators': 2719}. \u001B[0m\n",
      "C:\\Users\\Tuszyn\\.virtualenvs\\JT_praca_magisterska\\lib\\site-packages\\optuna\\distributions.py:560: UserWarning: The distribution is specified by [0.1, 10] and step=1, but the range is not divisible by `step`. It will be replaced by [0.1, 9.1].\n",
      "  warnings.warn(\n",
      "\u001B[32m[I 2022-05-31 14:31:01,602]\u001B[0m Trial 63 finished with values: [0.8766537316126705, 0.8952149727226703, 0.8944404865807242, 0.8948262498145436] and parameters: {'max_depth': 21, 'learning_rate': 0.12639572503202448, 'min_child_weight': 4, 'max_delta_step': 4, 'subsample': 0.955249339395416, 'colsample_bytree': 0.5185896185391172, 'colsample_bylevel': 0.3882025937218473, 'reg_lambda': 2.6035513786205593, 'reg_alpha': 0.8720252482718627, 'gamma': 0.13640387984491756, 'scale_pos_weight': 0.8463092139935036, 'n_estimators': 916}. \u001B[0m\n",
      "C:\\Users\\Tuszyn\\.virtualenvs\\JT_praca_magisterska\\lib\\site-packages\\optuna\\distributions.py:560: UserWarning: The distribution is specified by [0.1, 10] and step=1, but the range is not divisible by `step`. It will be replaced by [0.1, 9.1].\n",
      "  warnings.warn(\n",
      "\u001B[32m[I 2022-05-31 14:31:10,745]\u001B[0m Trial 64 finished with values: [0.8668621965526576, 0.8809695626779039, 0.8938251883432203, 0.8873476656801749] and parameters: {'max_depth': 28, 'learning_rate': 0.1211283388892032, 'min_child_weight': 1, 'max_delta_step': 4, 'subsample': 0.7680492821793281, 'colsample_bytree': 0.2785350440441393, 'colsample_bylevel': 0.25703063377037005, 'reg_lambda': 1.171474504360217, 'reg_alpha': 1.4352630794375876, 'gamma': 0.23675599129968658, 'scale_pos_weight': 0.8927401417258339, 'n_estimators': 559}. \u001B[0m\n",
      "C:\\Users\\Tuszyn\\.virtualenvs\\JT_praca_magisterska\\lib\\site-packages\\optuna\\distributions.py:560: UserWarning: The distribution is specified by [0.1, 10] and step=1, but the range is not divisible by `step`. It will be replaced by [0.1, 9.1].\n",
      "  warnings.warn(\n",
      "\u001B[32m[I 2022-05-31 14:32:12,132]\u001B[0m Trial 65 finished with values: [0.8789549679631801, 0.8932182063857177, 0.9014398464089372, 0.8973063304781844] and parameters: {'max_depth': 22, 'learning_rate': 0.027376369022929968, 'min_child_weight': 9, 'max_delta_step': 4, 'subsample': 0.8718078487550721, 'colsample_bytree': 0.34394633035350586, 'colsample_bylevel': 0.8164488712502128, 'reg_lambda': 2.093112678189295, 'reg_alpha': 0.8969911948801549, 'gamma': 0.3996109473054056, 'scale_pos_weight': 0.9393623904243066, 'n_estimators': 2842}. \u001B[0m\n",
      "C:\\Users\\Tuszyn\\.virtualenvs\\JT_praca_magisterska\\lib\\site-packages\\optuna\\distributions.py:560: UserWarning: The distribution is specified by [0.1, 10] and step=1, but the range is not divisible by `step`. It will be replaced by [0.1, 9.1].\n",
      "  warnings.warn(\n",
      "\u001B[32m[I 2022-05-31 14:33:08,957]\u001B[0m Trial 66 finished with values: [0.8781608158108474, 0.8905470861190763, 0.9033473635865409, 0.8968968539409363] and parameters: {'max_depth': 12, 'learning_rate': 0.024137455038379548, 'min_child_weight': 2, 'max_delta_step': 2, 'subsample': 0.7594310832247947, 'colsample_bytree': 0.20852472470867886, 'colsample_bylevel': 0.8337493806213905, 'reg_lambda': 2.563000854059526, 'reg_alpha': 1.3529584699371937, 'gamma': 0.4725769560817018, 'scale_pos_weight': 0.9547567532782684, 'n_estimators': 2717}. \u001B[0m\n",
      "C:\\Users\\Tuszyn\\.virtualenvs\\JT_praca_magisterska\\lib\\site-packages\\optuna\\distributions.py:560: UserWarning: The distribution is specified by [0.1, 10] and step=1, but the range is not divisible by `step`. It will be replaced by [0.1, 9.1].\n",
      "  warnings.warn(\n",
      "\u001B[32m[I 2022-05-31 14:33:26,417]\u001B[0m Trial 67 finished with values: [0.8772673946394729, 0.905764287258355, 0.8826262012597542, 0.8940403627642409] and parameters: {'max_depth': 17, 'learning_rate': 0.05688572379354318, 'min_child_weight': 6, 'max_delta_step': 5, 'subsample': 0.8280288936662491, 'colsample_bytree': 0.36666826313944456, 'colsample_bylevel': 0.7068089395491203, 'reg_lambda': 2.649247504646592, 'reg_alpha': 1.6361728436074896, 'gamma': 0.43095929611687844, 'scale_pos_weight': 0.7050741519125637, 'n_estimators': 734}. \u001B[0m\n",
      "C:\\Users\\Tuszyn\\.virtualenvs\\JT_praca_magisterska\\lib\\site-packages\\optuna\\distributions.py:560: UserWarning: The distribution is specified by [0.1, 10] and step=1, but the range is not divisible by `step`. It will be replaced by [0.1, 9.1].\n",
      "  warnings.warn(\n",
      "\u001B[32m[I 2022-05-31 14:34:14,048]\u001B[0m Trial 68 finished with values: [0.8755617724032128, 0.8945945310596572, 0.8931175445534162, 0.8938532724696786] and parameters: {'max_depth': 15, 'learning_rate': 0.12286137468776277, 'min_child_weight': 1, 'max_delta_step': 4, 'subsample': 0.782830459084553, 'colsample_bytree': 0.27214382660275105, 'colsample_bylevel': 0.6613313033187125, 'reg_lambda': 1.12147241932697, 'reg_alpha': 1.6436392320721966, 'gamma': 0.1784496671859763, 'scale_pos_weight': 0.8390743823272091, 'n_estimators': 2152}. \u001B[0m\n",
      "C:\\Users\\Tuszyn\\.virtualenvs\\JT_praca_magisterska\\lib\\site-packages\\optuna\\distributions.py:560: UserWarning: The distribution is specified by [0.1, 10] and step=1, but the range is not divisible by `step`. It will be replaced by [0.1, 9.1].\n",
      "  warnings.warn(\n",
      "\u001B[32m[I 2022-05-31 14:34:39,769]\u001B[0m Trial 69 finished with values: [0.8760129952170381, 0.9004865105116746, 0.8866412107662587, 0.8935076545960431] and parameters: {'max_depth': 23, 'learning_rate': 0.08952386659043576, 'min_child_weight': 5, 'max_delta_step': 4, 'subsample': 0.7311184883453493, 'colsample_bytree': 0.5746052195295941, 'colsample_bylevel': 0.6824659806548348, 'reg_lambda': 1.4697121863944447, 'reg_alpha': 2.8748494646337193, 'gamma': 0.3237748632638245, 'scale_pos_weight': 0.7467015876245643, 'n_estimators': 834}. \u001B[0m\n",
      "C:\\Users\\Tuszyn\\.virtualenvs\\JT_praca_magisterska\\lib\\site-packages\\optuna\\distributions.py:560: UserWarning: The distribution is specified by [0.1, 10] and step=1, but the range is not divisible by `step`. It will be replaced by [0.1, 9.1].\n",
      "  warnings.warn(\n",
      "\u001B[32m[I 2022-05-31 14:35:18,420]\u001B[0m Trial 70 finished with values: [0.8769966609511777, 0.900144163784341, 0.8889486912612037, 0.8945086851281558] and parameters: {'max_depth': 16, 'learning_rate': 0.07782373675328827, 'min_child_weight': 4, 'max_delta_step': 5, 'subsample': 0.8430445360740062, 'colsample_bytree': 0.5885255904077241, 'colsample_bylevel': 0.3650753522012621, 'reg_lambda': 1.124219689857299, 'reg_alpha': 2.77502527435426, 'gamma': 0.29710390739981196, 'scale_pos_weight': 0.7732681663635211, 'n_estimators': 2030}. \u001B[0m\n",
      "C:\\Users\\Tuszyn\\.virtualenvs\\JT_praca_magisterska\\lib\\site-packages\\optuna\\distributions.py:560: UserWarning: The distribution is specified by [0.1, 10] and step=1, but the range is not divisible by `step`. It will be replaced by [0.1, 9.1].\n",
      "  warnings.warn(\n",
      "\u001B[32m[I 2022-05-31 14:36:04,822]\u001B[0m Trial 71 finished with values: [0.8772042234455373, 0.9028773790694664, 0.8859951231846482, 0.8943524159691053] and parameters: {'max_depth': 20, 'learning_rate': 0.018771676358808387, 'min_child_weight': 5, 'max_delta_step': 7, 'subsample': 0.7248484794610637, 'colsample_bytree': 0.43262868939593935, 'colsample_bylevel': 0.2940289337584593, 'reg_lambda': 1.0760567783664063, 'reg_alpha': 0.4946008895467435, 'gamma': 0.24112694023972736, 'scale_pos_weight': 0.7447068904175833, 'n_estimators': 1812}. \u001B[0m\n",
      "C:\\Users\\Tuszyn\\.virtualenvs\\JT_praca_magisterska\\lib\\site-packages\\optuna\\distributions.py:560: UserWarning: The distribution is specified by [0.1, 10] and step=1, but the range is not divisible by `step`. It will be replaced by [0.1, 9.1].\n",
      "  warnings.warn(\n",
      "\u001B[32m[I 2022-05-31 14:37:05,064]\u001B[0m Trial 72 finished with values: [0.8781427668982943, 0.8935867390727574, 0.8993938771597811, 0.8964782227166367] and parameters: {'max_depth': 11, 'learning_rate': 0.03474677705510554, 'min_child_weight': 1, 'max_delta_step': 2, 'subsample': 0.7248484794610637, 'colsample_bytree': 0.34844407403699573, 'colsample_bylevel': 0.6783261477402747, 'reg_lambda': 2.151191042953938, 'reg_alpha': 0.4946008895467435, 'gamma': 0.1414901322725382, 'scale_pos_weight': 0.8905652216383564, 'n_estimators': 2076}. \u001B[0m\n",
      "C:\\Users\\Tuszyn\\.virtualenvs\\JT_praca_magisterska\\lib\\site-packages\\optuna\\distributions.py:560: UserWarning: The distribution is specified by [0.1, 10] and step=1, but the range is not divisible by `step`. It will be replaced by [0.1, 9.1].\n",
      "  warnings.warn(\n",
      "\u001B[32m[I 2022-05-31 14:38:25,175]\u001B[0m Trial 73 finished with values: [0.878242035917336, 0.9055924028128949, 0.8846875456588414, 0.8950142902048374] and parameters: {'max_depth': 30, 'learning_rate': 0.01566039383074026, 'min_child_weight': 0, 'max_delta_step': 5, 'subsample': 0.7160848498153942, 'colsample_bytree': 0.5370507343744068, 'colsample_bylevel': 0.4064589588910748, 'reg_lambda': 2.8138973835472822, 'reg_alpha': 1.9240861782947432, 'gamma': 0.29710390739981196, 'scale_pos_weight': 0.7041005222589121, 'n_estimators': 2030}. \u001B[0m\n",
      "C:\\Users\\Tuszyn\\.virtualenvs\\JT_praca_magisterska\\lib\\site-packages\\optuna\\distributions.py:560: UserWarning: The distribution is specified by [0.1, 10] and step=1, but the range is not divisible by `step`. It will be replaced by [0.1, 9.1].\n",
      "  warnings.warn(\n",
      "\u001B[32m[I 2022-05-31 14:39:03,019]\u001B[0m Trial 74 finished with values: [0.8779532533164878, 0.8945472356673525, 0.8978094203372071, 0.896169685504313] and parameters: {'max_depth': 15, 'learning_rate': 0.08010284335621769, 'min_child_weight': 0, 'max_delta_step': 3, 'subsample': 0.9888999333040704, 'colsample_bytree': 0.22051981493385367, 'colsample_bylevel': 0.6156354712091364, 'reg_lambda': 2.3183547969921143, 'reg_alpha': 2.6077111713996874, 'gamma': 0.21386387818800265, 'scale_pos_weight': 0.8705058482826409, 'n_estimators': 2609}. \u001B[0m\n",
      "C:\\Users\\Tuszyn\\.virtualenvs\\JT_praca_magisterska\\lib\\site-packages\\optuna\\distributions.py:560: UserWarning: The distribution is specified by [0.1, 10] and step=1, but the range is not divisible by `step`. It will be replaced by [0.1, 9.1].\n",
      "  warnings.warn(\n",
      "\u001B[32m[I 2022-05-31 14:39:34,706]\u001B[0m Trial 75 finished with values: [0.8767620250879885, 0.890434023671309, 0.9007783540984228, 0.8955709462715081] and parameters: {'max_depth': 12, 'learning_rate': 0.08952386659043576, 'min_child_weight': 6, 'max_delta_step': 4, 'subsample': 0.7311184883453493, 'colsample_bytree': 0.20852472470867886, 'colsample_bylevel': 0.6824659806548348, 'reg_lambda': 1.4697121863944447, 'reg_alpha': 2.8748494646337193, 'gamma': 0.3237748632638245, 'scale_pos_weight': 0.9547567532782684, 'n_estimators': 1680}. \u001B[0m\n",
      "C:\\Users\\Tuszyn\\.virtualenvs\\JT_praca_magisterska\\lib\\site-packages\\optuna\\distributions.py:560: UserWarning: The distribution is specified by [0.1, 10] and step=1, but the range is not divisible by `step`. It will be replaced by [0.1, 9.1].\n",
      "  warnings.warn(\n",
      "\u001B[32m[I 2022-05-31 14:40:02,332]\u001B[0m Trial 76 finished with values: [0.8771230033390489, 0.9009779040671029, 0.8881641516080412, 0.8945208232043734] and parameters: {'max_depth': 15, 'learning_rate': 0.027561776096761748, 'min_child_weight': 3, 'max_delta_step': 4, 'subsample': 0.7160848498153942, 'colsample_bytree': 0.48173850921832884, 'colsample_bylevel': 0.3504450017689225, 'reg_lambda': 1.9678522825181908, 'reg_alpha': 1.6256531963874987, 'gamma': 0.3502525086396113, 'scale_pos_weight': 0.7753914721927778, 'n_estimators': 959}. \u001B[0m\n",
      "C:\\Users\\Tuszyn\\.virtualenvs\\JT_praca_magisterska\\lib\\site-packages\\optuna\\distributions.py:560: UserWarning: The distribution is specified by [0.1, 10] and step=1, but the range is not divisible by `step`. It will be replaced by [0.1, 9.1].\n",
      "  warnings.warn(\n",
      "\u001B[32m[I 2022-05-31 14:40:30,346]\u001B[0m Trial 77 finished with values: [0.8758595794603374, 0.8897537128646432, 0.8999015316003819, 0.8947952055372521] and parameters: {'max_depth': 16, 'learning_rate': 0.017749417034221632, 'min_child_weight': 9, 'max_delta_step': 1, 'subsample': 0.7795776061657456, 'colsample_bytree': 0.4590211470974809, 'colsample_bylevel': 0.262390894076051, 'reg_lambda': 2.7402864581553406, 'reg_alpha': 0.3952330806379718, 'gamma': 0.1283160523000559, 'scale_pos_weight': 0.9271661482935337, 'n_estimators': 985}. \u001B[0m\n",
      "C:\\Users\\Tuszyn\\.virtualenvs\\JT_praca_magisterska\\lib\\site-packages\\optuna\\distributions.py:560: UserWarning: The distribution is specified by [0.1, 10] and step=1, but the range is not divisible by `step`. It will be replaced by [0.1, 9.1].\n",
      "  warnings.warn(\n",
      "\u001B[32m[I 2022-05-31 14:40:53,970]\u001B[0m Trial 78 finished with values: [0.8777095929970219, 0.8916863401641315, 0.900993729245988, 0.8963133176464195] and parameters: {'max_depth': 18, 'learning_rate': 0.09365964125703466, 'min_child_weight': 2, 'max_delta_step': 1, 'subsample': 0.7054331667785732, 'colsample_bytree': 0.5722640759072696, 'colsample_bylevel': 0.7838338276373186, 'reg_lambda': 2.619771669117413, 'reg_alpha': 2.123014399482294, 'gamma': 0.33636074054467113, 'scale_pos_weight': 0.9736271845672493, 'n_estimators': 659}. \u001B[0m\n",
      "C:\\Users\\Tuszyn\\.virtualenvs\\JT_praca_magisterska\\lib\\site-packages\\optuna\\distributions.py:560: UserWarning: The distribution is specified by [0.1, 10] and step=1, but the range is not divisible by `step`. It will be replaced by [0.1, 9.1].\n",
      "  warnings.warn(\n",
      "\u001B[32m[I 2022-05-31 14:41:38,530]\u001B[0m Trial 79 finished with values: [0.8790452125259453, 0.8997432763469394, 0.8933790475170932, 0.8965449319638257] and parameters: {'max_depth': 21, 'learning_rate': 0.01566039383074026, 'min_child_weight': 4, 'max_delta_step': 0, 'subsample': 0.9367455896842121, 'colsample_bytree': 0.5885255904077241, 'colsample_bylevel': 0.80560466127602, 'reg_lambda': 1.124219689857299, 'reg_alpha': 1.9240861782947432, 'gamma': 0.4391561511726946, 'scale_pos_weight': 0.8216584203140667, 'n_estimators': 2030}. \u001B[0m\n",
      "C:\\Users\\Tuszyn\\.virtualenvs\\JT_praca_magisterska\\lib\\site-packages\\optuna\\distributions.py:560: UserWarning: The distribution is specified by [0.1, 10] and step=1, but the range is not divisible by `step`. It will be replaced by [0.1, 9.1].\n",
      "  warnings.warn(\n",
      "\u001B[32m[I 2022-05-31 14:42:47,484]\u001B[0m Trial 80 finished with values: [0.8785127696056312, 0.8972547422369079, 0.8954557824471776, 0.8963527803001348] and parameters: {'max_depth': 23, 'learning_rate': 0.03883560018665986, 'min_child_weight': 1, 'max_delta_step': 4, 'subsample': 0.8280288936662491, 'colsample_bytree': 0.36666826313944456, 'colsample_bylevel': 0.45882239521873913, 'reg_lambda': 1.7546810263768036, 'reg_alpha': 1.6361728436074896, 'gamma': 0.11833080371854982, 'scale_pos_weight': 0.8156390552764792, 'n_estimators': 2207}. \u001B[0m\n",
      "C:\\Users\\Tuszyn\\.virtualenvs\\JT_praca_magisterska\\lib\\site-packages\\optuna\\distributions.py:560: UserWarning: The distribution is specified by [0.1, 10] and step=1, but the range is not divisible by `step`. It will be replaced by [0.1, 9.1].\n",
      "  warnings.warn(\n",
      "\u001B[32m[I 2022-05-31 14:43:17,390]\u001B[0m Trial 81 finished with values: [0.8778991065788284, 0.8937594483751893, 0.8987016369157219, 0.896219773145944] and parameters: {'max_depth': 11, 'learning_rate': 0.05648452346711478, 'min_child_weight': 1, 'max_delta_step': 2, 'subsample': 0.9910797235570812, 'colsample_bytree': 0.23127225599162296, 'colsample_bylevel': 0.6783261477402747, 'reg_lambda': 2.151191042953938, 'reg_alpha': 2.670183000506743, 'gamma': 0.2598566947572488, 'scale_pos_weight': 0.8905652216383564, 'n_estimators': 2076}. \u001B[0m\n",
      "C:\\Users\\Tuszyn\\.virtualenvs\\JT_praca_magisterska\\lib\\site-packages\\optuna\\distributions.py:560: UserWarning: The distribution is specified by [0.1, 10] and step=1, but the range is not divisible by `step`. It will be replaced by [0.1, 9.1].\n",
      "  warnings.warn(\n",
      "\u001B[32m[I 2022-05-31 14:43:33,827]\u001B[0m Trial 82 finished with values: [0.8771861745329843, 0.8892054756309911, 0.9031935375482162, 0.8961425769755405] and parameters: {'max_depth': 10, 'learning_rate': 0.03474677705510554, 'min_child_weight': 8, 'max_delta_step': 7, 'subsample': 0.9673965323109452, 'colsample_bytree': 0.4232498558693917, 'colsample_bylevel': 0.7068089395491203, 'reg_lambda': 1.0760567783664063, 'reg_alpha': 0.4946008895467435, 'gamma': 0.41329777829833925, 'scale_pos_weight': 0.9671323653761632, 'n_estimators': 734}. \u001B[0m\n",
      "C:\\Users\\Tuszyn\\.virtualenvs\\JT_praca_magisterska\\lib\\site-packages\\optuna\\distributions.py:560: UserWarning: The distribution is specified by [0.1, 10] and step=1, but the range is not divisible by `step`. It will be replaced by [0.1, 9.1].\n",
      "  warnings.warn(\n",
      "\u001B[32m[I 2022-05-31 14:43:56,746]\u001B[0m Trial 83 finished with values: [0.8797220467466834, 0.8910096545123858, 0.9057779352010135, 0.898330052775058] and parameters: {'max_depth': 22, 'learning_rate': 0.0675784773135259, 'min_child_weight': 1, 'max_delta_step': 5, 'subsample': 0.9767066554757128, 'colsample_bytree': 0.23127225599162296, 'colsample_bylevel': 0.6783261477402747, 'reg_lambda': 1.9559489540115411, 'reg_alpha': 0.12263684424466229, 'gamma': 0.4906870500968865, 'scale_pos_weight': 0.9676022078596858, 'n_estimators': 1475}. \u001B[0m\n",
      "C:\\Users\\Tuszyn\\.virtualenvs\\JT_praca_magisterska\\lib\\site-packages\\optuna\\distributions.py:560: UserWarning: The distribution is specified by [0.1, 10] and step=1, but the range is not divisible by `step`. It will be replaced by [0.1, 9.1].\n",
      "  warnings.warn(\n",
      "\u001B[32m[I 2022-05-31 14:44:41,834]\u001B[0m Trial 84 finished with values: [0.8741088349426945, 0.890459574327792, 0.8955788652845929, 0.893010142004187] and parameters: {'max_depth': 16, 'learning_rate': 0.123292465683954, 'min_child_weight': 6, 'max_delta_step': 3, 'subsample': 0.7224649068061977, 'colsample_bytree': 0.51742631485423, 'colsample_bylevel': 0.7881911872979969, 'reg_lambda': 1.1954000586644127, 'reg_alpha': 2.0825661751957014, 'gamma': 0.394665944214336, 'scale_pos_weight': 0.9271661482935337, 'n_estimators': 1896}. \u001B[0m\n",
      "C:\\Users\\Tuszyn\\.virtualenvs\\JT_praca_magisterska\\lib\\site-packages\\optuna\\distributions.py:560: UserWarning: The distribution is specified by [0.1, 10] and step=1, but the range is not divisible by `step`. It will be replaced by [0.1, 9.1].\n",
      "  warnings.warn(\n",
      "\u001B[32m[I 2022-05-31 14:45:14,408]\u001B[0m Trial 85 finished with values: [0.8785037451493547, 0.8966080392315137, 0.8962557031660658, 0.8964277729600824] and parameters: {'max_depth': 27, 'learning_rate': 0.038658513019827895, 'min_child_weight': 8, 'max_delta_step': 0, 'subsample': 0.7054331667785732, 'colsample_bytree': 0.41906367804546096, 'colsample_bylevel': 0.8172874618195439, 'reg_lambda': 2.180730076413925, 'reg_alpha': 2.2811487520021236, 'gamma': 0.15385295575562027, 'scale_pos_weight': 0.871550480369295, 'n_estimators': 1041}. \u001B[0m\n",
      "C:\\Users\\Tuszyn\\.virtualenvs\\JT_praca_magisterska\\lib\\site-packages\\optuna\\distributions.py:560: UserWarning: The distribution is specified by [0.1, 10] and step=1, but the range is not divisible by `step`. It will be replaced by [0.1, 9.1].\n",
      "  warnings.warn(\n",
      "\u001B[32m[I 2022-05-31 14:45:48,998]\u001B[0m Trial 86 finished with values: [0.8760310441295912, 0.9011905733865069, 0.8858105208169651, 0.893431871860409] and parameters: {'max_depth': 12, 'learning_rate': 0.07196001403358268, 'min_child_weight': 1, 'max_delta_step': 7, 'subsample': 0.74085661523454, 'colsample_bytree': 0.3793809240726841, 'colsample_bylevel': 0.4069903083683086, 'reg_lambda': 1.9065049918008499, 'reg_alpha': 0.4625125518704424, 'gamma': 0.2291633578508647, 'scale_pos_weight': 0.7063236994984206, 'n_estimators': 1492}. \u001B[0m\n",
      "C:\\Users\\Tuszyn\\.virtualenvs\\JT_praca_magisterska\\lib\\site-packages\\optuna\\distributions.py:560: UserWarning: The distribution is specified by [0.1, 10] and step=1, but the range is not divisible by `step`. It will be replaced by [0.1, 9.1].\n",
      "  warnings.warn(\n",
      "\u001B[32m[I 2022-05-31 14:46:19,426]\u001B[0m Trial 87 finished with values: [0.8702644165689017, 0.8880257188947314, 0.8912407930567408, 0.8896258494771676] and parameters: {'max_depth': 15, 'learning_rate': 0.12348528751216782, 'min_child_weight': 1, 'max_delta_step': 5, 'subsample': 0.9001505409683299, 'colsample_bytree': 0.10896587162227536, 'colsample_bylevel': 0.3143054239564782, 'reg_lambda': 2.7354913298091104, 'reg_alpha': 1.1293757215272995, 'gamma': 0.19426518717433838, 'scale_pos_weight': 0.8418748479773496, 'n_estimators': 2320}. \u001B[0m\n",
      "C:\\Users\\Tuszyn\\.virtualenvs\\JT_praca_magisterska\\lib\\site-packages\\optuna\\distributions.py:560: UserWarning: The distribution is specified by [0.1, 10] and step=1, but the range is not divisible by `step`. It will be replaced by [0.1, 9.1].\n",
      "  warnings.warn(\n",
      "\u001B[32m[I 2022-05-31 14:47:00,740]\u001B[0m Trial 88 finished with values: [0.8767620250879885, 0.8980660568220985, 0.8910715741211014, 0.8945531250869369] and parameters: {'max_depth': 15, 'learning_rate': 0.133796160072143, 'min_child_weight': 3, 'max_delta_step': 4, 'subsample': 0.8718078487550721, 'colsample_bytree': 0.48173850921832884, 'colsample_bylevel': 0.5934044182536542, 'reg_lambda': 2.093112678189295, 'reg_alpha': 0.3362651022592238, 'gamma': 0.3996109473054056, 'scale_pos_weight': 0.7753914721927778, 'n_estimators': 2842}. \u001B[0m\n",
      "C:\\Users\\Tuszyn\\.virtualenvs\\JT_praca_magisterska\\lib\\site-packages\\optuna\\distributions.py:560: UserWarning: The distribution is specified by [0.1, 10] and step=1, but the range is not divisible by `step`. It will be replaced by [0.1, 9.1].\n",
      "  warnings.warn(\n",
      "\u001B[32m[I 2022-05-31 14:47:22,004]\u001B[0m Trial 89 finished with values: [0.8739373702734412, 0.8925444663859562, 0.8925791019518678, 0.8925579301032609] and parameters: {'max_depth': 11, 'learning_rate': 0.011491616633685107, 'min_child_weight': 3, 'max_delta_step': 5, 'subsample': 0.7890088478250985, 'colsample_bytree': 0.49092651647944474, 'colsample_bylevel': 0.6982772287537564, 'reg_lambda': 2.189388065561883, 'reg_alpha': 2.51039451564237, 'gamma': 0.2676039066347856, 'scale_pos_weight': 0.8544291342918582, 'n_estimators': 659}. \u001B[0m\n",
      "C:\\Users\\Tuszyn\\.virtualenvs\\JT_praca_magisterska\\lib\\site-packages\\optuna\\distributions.py:560: UserWarning: The distribution is specified by [0.1, 10] and step=1, but the range is not divisible by `step`. It will be replaced by [0.1, 9.1].\n",
      "  warnings.warn(\n",
      "\u001B[32m[I 2022-05-31 14:47:44,285]\u001B[0m Trial 90 finished with values: [0.877195198989261, 0.9015049030649827, 0.8876565231969366, 0.8945227527315879] and parameters: {'max_depth': 29, 'learning_rate': 0.05688572379354318, 'min_child_weight': 3, 'max_delta_step': 5, 'subsample': 0.8794040046159162, 'colsample_bytree': 0.2888556127191588, 'colsample_bylevel': 0.5310703284772396, 'reg_lambda': 2.649247504646592, 'reg_alpha': 0.5584520584786662, 'gamma': 0.4610423699532492, 'scale_pos_weight': 0.7551533314821041, 'n_estimators': 1384}. \u001B[0m\n",
      "C:\\Users\\Tuszyn\\.virtualenvs\\JT_praca_magisterska\\lib\\site-packages\\optuna\\distributions.py:560: UserWarning: The distribution is specified by [0.1, 10] and step=1, but the range is not divisible by `step`. It will be replaced by [0.1, 9.1].\n",
      "  warnings.warn(\n",
      "\u001B[32m[I 2022-05-31 14:48:40,859]\u001B[0m Trial 91 finished with values: [0.876753000631712, 0.8926030124337052, 0.8979632475586905, 0.8952713413445024] and parameters: {'max_depth': 18, 'learning_rate': 0.017749417034221632, 'min_child_weight': 9, 'max_delta_step': 3, 'subsample': 0.7809660062295214, 'colsample_bytree': 0.3642687271074372, 'colsample_bylevel': 0.25049319746711174, 'reg_lambda': 1.171474504360217, 'reg_alpha': 0.3952330806379718, 'gamma': 0.1283160523000559, 'scale_pos_weight': 0.8927401417258339, 'n_estimators': 2710}. \u001B[0m\n",
      "C:\\Users\\Tuszyn\\.virtualenvs\\JT_praca_magisterska\\lib\\site-packages\\optuna\\distributions.py:560: UserWarning: The distribution is specified by [0.1, 10] and step=1, but the range is not divisible by `step`. It will be replaced by [0.1, 9.1].\n",
      "  warnings.warn(\n",
      "\u001B[32m[I 2022-05-31 14:49:11,797]\u001B[0m Trial 92 finished with values: [0.8646963270462955, 0.8885502802426674, 0.8797034154283517, 0.8841022905200842] and parameters: {'max_depth': 27, 'learning_rate': 0.028914983809069317, 'min_child_weight': 3, 'max_delta_step': 5, 'subsample': 0.981881368771399, 'colsample_bytree': 0.1406229871650043, 'colsample_bylevel': 0.25207153642246605, 'reg_lambda': 2.5190943962140167, 'reg_alpha': 1.7684073542768184, 'gamma': 0.3802525580453324, 'scale_pos_weight': 0.765181721170234, 'n_estimators': 2183}. \u001B[0m\n",
      "C:\\Users\\Tuszyn\\.virtualenvs\\JT_praca_magisterska\\lib\\site-packages\\optuna\\distributions.py:560: UserWarning: The distribution is specified by [0.1, 10] and step=1, but the range is not divisible by `step`. It will be replaced by [0.1, 9.1].\n",
      "  warnings.warn(\n",
      "\u001B[32m[I 2022-05-31 14:49:39,061]\u001B[0m Trial 93 finished with values: [0.8782961826549951, 0.8893910553250421, 0.9051164393410225, 0.8971810061244628] and parameters: {'max_depth': 18, 'learning_rate': 0.042867559245046094, 'min_child_weight': 9, 'max_delta_step': 7, 'subsample': 0.7795776061657456, 'colsample_bytree': 0.4412559874027274, 'colsample_bylevel': 0.45030960190664904, 'reg_lambda': 2.7402864581553406, 'reg_alpha': 2.5022408001130563, 'gamma': 0.1283160523000559, 'scale_pos_weight': 0.9979341278158543, 'n_estimators': 985}. \u001B[0m\n",
      "C:\\Users\\Tuszyn\\.virtualenvs\\JT_praca_magisterska\\lib\\site-packages\\optuna\\distributions.py:560: UserWarning: The distribution is specified by [0.1, 10] and step=1, but the range is not divisible by `step`. It will be replaced by [0.1, 9.1].\n",
      "  warnings.warn(\n",
      "\u001B[32m[I 2022-05-31 14:50:20,238]\u001B[0m Trial 94 finished with values: [0.877835935384893, 0.8958902194391959, 0.8958711339291983, 0.8958784802434913] and parameters: {'max_depth': 11, 'learning_rate': 0.06380756278286898, 'min_child_weight': 3, 'max_delta_step': 2, 'subsample': 0.8671351791075546, 'colsample_bytree': 0.4060361118275323, 'colsample_bylevel': 0.6783261477402747, 'reg_lambda': 2.151191042953938, 'reg_alpha': 1.3523389307523288, 'gamma': 0.2598566947572488, 'scale_pos_weight': 0.8548314399132887, 'n_estimators': 2076}. \u001B[0m\n",
      "C:\\Users\\Tuszyn\\.virtualenvs\\JT_praca_magisterska\\lib\\site-packages\\optuna\\distributions.py:560: UserWarning: The distribution is specified by [0.1, 10] and step=1, but the range is not divisible by `step`. It will be replaced by [0.1, 9.1].\n",
      "  warnings.warn(\n",
      "\u001B[32m[I 2022-05-31 14:50:54,333]\u001B[0m Trial 95 finished with values: [0.8780705712480824, 0.9033032210738703, 0.8871334592947964, 0.8951403620251515] and parameters: {'max_depth': 15, 'learning_rate': 0.06316867976761066, 'min_child_weight': 8, 'max_delta_step': 5, 'subsample': 0.9767066554757128, 'colsample_bytree': 0.30374372508818637, 'colsample_bylevel': 0.7156597094002639, 'reg_lambda': 1.9559489540115411, 'reg_alpha': 0.12263684424466229, 'gamma': 0.23230361478629408, 'scale_pos_weight': 0.7501104836229505, 'n_estimators': 2356}. \u001B[0m\n",
      "C:\\Users\\Tuszyn\\.virtualenvs\\JT_praca_magisterska\\lib\\site-packages\\optuna\\distributions.py:560: UserWarning: The distribution is specified by [0.1, 10] and step=1, but the range is not divisible by `step`. It will be replaced by [0.1, 9.1].\n",
      "  warnings.warn(\n",
      "\u001B[32m[I 2022-05-31 14:51:49,727]\u001B[0m Trial 96 finished with values: [0.8769244653009658, 0.9047726887304531, 0.8831645977181053, 0.8938339386844106] and parameters: {'max_depth': 29, 'learning_rate': 0.012558915802116273, 'min_child_weight': 3, 'max_delta_step': 7, 'subsample': 0.8794040046159162, 'colsample_bytree': 0.2888556127191588, 'colsample_bylevel': 0.6613313033187125, 'reg_lambda': 1.12147241932697, 'reg_alpha': 2.2697452487537393, 'gamma': 0.4610423699532492, 'scale_pos_weight': 0.7182413623189781, 'n_estimators': 2152}. \u001B[0m\n",
      "C:\\Users\\Tuszyn\\.virtualenvs\\JT_praca_magisterska\\lib\\site-packages\\optuna\\distributions.py:560: UserWarning: The distribution is specified by [0.1, 10] and step=1, but the range is not divisible by `step`. It will be replaced by [0.1, 9.1].\n",
      "  warnings.warn(\n",
      "\u001B[32m[I 2022-05-31 14:52:25,733]\u001B[0m Trial 97 finished with values: [0.8765364136810756, 0.9030191587726462, 0.8845491219831031, 0.893684255028606] and parameters: {'max_depth': 19, 'learning_rate': 0.06380756278286898, 'min_child_weight': 3, 'max_delta_step': 7, 'subsample': 0.8671351791075546, 'colsample_bytree': 0.4060361118275323, 'colsample_bylevel': 0.38784950564459625, 'reg_lambda': 1.5977500483059774, 'reg_alpha': 2.2785531002984887, 'gamma': 0.4423457848818375, 'scale_pos_weight': 0.7376613128562212, 'n_estimators': 2352}. \u001B[0m\n",
      "C:\\Users\\Tuszyn\\.virtualenvs\\JT_praca_magisterska\\lib\\site-packages\\optuna\\distributions.py:560: UserWarning: The distribution is specified by [0.1, 10] and step=1, but the range is not divisible by `step`. It will be replaced by [0.1, 9.1].\n",
      "  warnings.warn(\n",
      "\u001B[32m[I 2022-05-31 14:53:20,627]\u001B[0m Trial 98 finished with values: [0.8769334897572421, 0.8992643804930402, 0.889917836831526, 0.8945626998575964] and parameters: {'max_depth': 26, 'learning_rate': 0.012558915802116273, 'min_child_weight': 9, 'max_delta_step': 4, 'subsample': 0.848264878206884, 'colsample_bytree': 0.27214382660275105, 'colsample_bylevel': 0.6613313033187125, 'reg_lambda': 1.12147241932697, 'reg_alpha': 2.2697452487537393, 'gamma': 0.41735118450769937, 'scale_pos_weight': 0.7946613491780329, 'n_estimators': 2152}. \u001B[0m\n",
      "C:\\Users\\Tuszyn\\.virtualenvs\\JT_praca_magisterska\\lib\\site-packages\\optuna\\distributions.py:560: UserWarning: The distribution is specified by [0.1, 10] and step=1, but the range is not divisible by `step`. It will be replaced by [0.1, 9.1].\n",
      "  warnings.warn(\n",
      "\u001B[32m[I 2022-05-31 14:53:42,027]\u001B[0m Trial 99 finished with values: [0.8764371446620342, 0.8885127868713308, 0.9026397481925501, 0.8955171564711554] and parameters: {'max_depth': 12, 'learning_rate': 0.10450605614877573, 'min_child_weight': 6, 'max_delta_step': 4, 'subsample': 0.992521727797464, 'colsample_bytree': 0.48637550423142406, 'colsample_bylevel': 0.25703063377037005, 'reg_lambda': 2.4276321972219463, 'reg_alpha': 2.8874561424867466, 'gamma': 0.2291633578508647, 'scale_pos_weight': 0.9626789905754134, 'n_estimators': 1492}. \u001B[0m\n"
     ]
    }
   ],
   "source": [
    "study = optuna.create_study(study_name=\"XGBoost\", directions=[\"maximize\", \"maximize\", \"maximize\", \"maximize\"])\n",
    "study.optimize(objective, n_trials=100, callbacks=[mlflow_callback])"
   ],
   "metadata": {
    "collapsed": false,
    "pycharm": {
     "name": "#%%\n"
    }
   }
  }
 ],
 "metadata": {
  "kernelspec": {
   "display_name": "Python 3",
   "language": "python",
   "name": "python3"
  },
  "language_info": {
   "codemirror_mode": {
    "name": "ipython",
    "version": 2
   },
   "file_extension": ".py",
   "mimetype": "text/x-python",
   "name": "python",
   "nbconvert_exporter": "python",
   "pygments_lexer": "ipython2",
   "version": "2.7.6"
  }
 },
 "nbformat": 4,
 "nbformat_minor": 0
}