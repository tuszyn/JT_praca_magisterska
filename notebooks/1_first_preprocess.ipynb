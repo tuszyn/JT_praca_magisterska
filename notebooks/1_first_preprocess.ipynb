{
 "cells": [
  {
   "cell_type": "code",
   "execution_count": 1,
   "metadata": {
    "collapsed": true,
    "pycharm": {
     "name": "#%%\n"
    }
   },
   "outputs": [],
   "source": [
    "import warnings\n",
    "\n",
    "import pandas as pd\n",
    "\n",
    "warnings.filterwarnings('ignore')"
   ]
  },
  {
   "cell_type": "code",
   "execution_count": 2,
   "outputs": [],
   "source": [
    "\n",
    "change_dtype = {5: str, 32: \"category\", 34: \"category\", 55: str, 62: str, 63: str, 64: str, 77: \"category\",\n",
    "                80: \"category\", 91: \"category\", 93: \"category\", 95: \"category\", 97: str, 115: str, 116: \"category\",\n",
    "                122: \"category\"}\n",
    "\n",
    "df: pd.DataFrame = pd.read_csv(\"../data/raw/globalterrorismdb_0221dist.csv\", index_col=0, dtype=change_dtype)"
   ],
   "metadata": {
    "collapsed": false,
    "pycharm": {
     "name": "#%%\n"
    }
   }
  },
  {
   "cell_type": "code",
   "execution_count": 3,
   "outputs": [
    {
     "data": {
      "text/plain": "(201183, 135)"
     },
     "execution_count": 3,
     "metadata": {},
     "output_type": "execute_result"
    }
   ],
   "source": [
    "df.shape"
   ],
   "metadata": {
    "collapsed": false,
    "pycharm": {
     "name": "#%%\n"
    }
   }
  },
  {
   "cell_type": "code",
   "execution_count": 4,
   "outputs": [
    {
     "name": "stdout",
     "output_type": "stream",
     "text": [
      "<class 'pandas.core.frame.DataFrame'>\n",
      "Int64Index: 201183 entries, 0 to 201182\n",
      "Columns: 135 entries, eventid to related\n",
      "dtypes: category(9), float64(53), int64(24), object(49)\n",
      "memory usage: 197.1+ MB\n"
     ]
    }
   ],
   "source": [
    "df.info()"
   ],
   "metadata": {
    "collapsed": false,
    "pycharm": {
     "name": "#%%\n"
    }
   }
  },
  {
   "cell_type": "code",
   "execution_count": 9,
   "outputs": [],
   "source": [
    "df = df[(df.crit1 == 1) & (df.crit2 == 1) & (df.crit3 == 1) & (df.doubtterr == 0)]\n",
    "df.dropna(axis=1, thresh=int(0.5 * df.shape[0]), inplace=True)"
   ],
   "metadata": {
    "collapsed": false,
    "pycharm": {
     "name": "#%%\n"
    }
   }
  },
  {
   "cell_type": "code",
   "execution_count": 13,
   "outputs": [
    {
     "data": {
      "text/plain": "                 count          mean           std           min  \\\neventid       154260.0  2.005463e+11  1.294940e+09  1.970000e+11   \niyear         154260.0  2.005397e+03  1.294946e+01  1.970000e+03   \nimonth        154260.0  6.443965e+00  3.392222e+00  0.000000e+00   \niday          154260.0  1.553523e+01  8.803117e+00  0.000000e+00   \nextended      154260.0  5.527032e-02  2.285079e-01  0.000000e+00   \ncountry       154260.0  1.297654e+02  1.116024e+02  4.000000e+00   \nregion        154260.0  7.321360e+00  2.838782e+00  1.000000e+00   \nlatitude      151329.0  2.369732e+01  1.798608e+01 -5.315461e+01   \nlongitude     151329.0  3.227138e+01  5.485520e+01 -1.578583e+02   \nspecificity   154259.0  1.447591e+00  9.567426e-01  1.000000e+00   \nvicinity      154260.0  6.333463e-02  2.803160e-01 -9.000000e+00   \ncrit1         154260.0  1.000000e+00  0.000000e+00  1.000000e+00   \ncrit2         154260.0  1.000000e+00  0.000000e+00  1.000000e+00   \ncrit3         154260.0  1.000000e+00  0.000000e+00  1.000000e+00   \ndoubtterr     154260.0  0.000000e+00  0.000000e+00  0.000000e+00   \nmultiple      154260.0  1.591663e-01  3.658323e-01  0.000000e+00   \nsuccess       154260.0  8.796188e-01  3.254078e-01  0.000000e+00   \nsuicide       154260.0  3.783223e-02  1.907910e-01  0.000000e+00   \nattacktype1   154260.0  3.297135e+00  1.883847e+00  1.000000e+00   \ntargtype1     154260.0  9.208868e+00  6.863902e+00  1.000000e+00   \ntargsubtype1  144441.0  4.971954e+01  3.226108e+01  1.000000e+00   \nnatlty1       152648.0  1.245101e+02  8.833998e+01  4.000000e+00   \nguncertain1   154007.0  8.788562e-02  2.831294e-01  0.000000e+00   \nindividual    154260.0  3.571892e-03  5.965866e-02  0.000000e+00   \nnperps        106566.0 -7.168482e+01  1.173729e+02 -9.900000e+01   \nnperpcap      109400.0 -1.418537e+00  1.246157e+01 -9.900000e+01   \nclaimed       112225.0  6.696369e-02  1.017086e+00 -9.000000e+00   \nweaptype1     154260.0  6.433586e+00  2.115272e+00  1.000000e+00   \nweapsubtype1  139077.0  1.166391e+01  6.388181e+00  1.000000e+00   \nnkill         146375.0  2.240724e+00  1.061385e+01  0.000000e+00   \nnkillus       113304.0  3.890419e-02  5.734873e+00  0.000000e+00   \nnkillter      111401.0  3.831384e-01  3.575579e+00  0.000000e+00   \nnwound        141493.0  3.460419e+00  4.711556e+01  0.000000e+00   \nnwoundus      113114.0  3.012890e-02  3.028813e+00  0.000000e+00   \nnwoundte      109804.0  9.158136e-02  1.327624e+00  0.000000e+00   \nproperty      154260.0 -7.592830e-01  3.344702e+00 -9.000000e+00   \nishostkid     154099.0  6.099326e-02  5.311594e-01 -9.000000e+00   \nINT_LOG       154260.0 -4.337346e+00  4.543532e+00 -9.000000e+00   \nINT_IDEO      154260.0 -4.256016e+00  4.636218e+00 -9.000000e+00   \nINT_MISC      154260.0  8.191365e-02  4.890290e-01 -9.000000e+00   \nINT_ANY       154260.0 -3.853708e+00  4.669238e+00 -9.000000e+00   \n\n                       25%           50%           75%           max  \neventid       1.995042e+11  2.012022e+11  2.015091e+11  2.019123e+11  \niyear         1.995000e+03  2.012000e+03  2.015000e+03  2.019000e+03  \nimonth        4.000000e+00  6.000000e+00  9.000000e+00  1.200000e+01  \niday          8.000000e+00  1.500000e+01  2.300000e+01  3.100000e+01  \nextended      0.000000e+00  0.000000e+00  0.000000e+00  1.000000e+00  \ncountry       7.800000e+01  9.700000e+01  1.600000e+02  1.004000e+03  \nregion        6.000000e+00  8.000000e+00  1.000000e+01  1.200000e+01  \nlatitude      1.184079e+01  3.153024e+01  3.451689e+01  7.463355e+01  \nlongitude     9.735686e+00  4.414823e+01  6.914701e+01  1.793667e+02  \nspecificity   1.000000e+00  1.000000e+00  1.000000e+00  5.000000e+00  \nvicinity      0.000000e+00  0.000000e+00  0.000000e+00  1.000000e+00  \ncrit1         1.000000e+00  1.000000e+00  1.000000e+00  1.000000e+00  \ncrit2         1.000000e+00  1.000000e+00  1.000000e+00  1.000000e+00  \ncrit3         1.000000e+00  1.000000e+00  1.000000e+00  1.000000e+00  \ndoubtterr     0.000000e+00  0.000000e+00  0.000000e+00  0.000000e+00  \nmultiple      0.000000e+00  0.000000e+00  0.000000e+00  1.000000e+00  \nsuccess       1.000000e+00  1.000000e+00  1.000000e+00  1.000000e+00  \nsuicide       0.000000e+00  0.000000e+00  0.000000e+00  1.000000e+00  \nattacktype1   2.000000e+00  3.000000e+00  3.000000e+00  9.000000e+00  \ntargtype1     2.000000e+00  8.000000e+00  1.400000e+01  2.200000e+01  \ntargsubtype1  2.100000e+01  4.900000e+01  7.500000e+01  1.130000e+02  \nnatlty1       8.800000e+01  9.700000e+01  1.620000e+02  1.004000e+03  \nguncertain1   0.000000e+00  0.000000e+00  0.000000e+00  1.000000e+00  \nindividual    0.000000e+00  0.000000e+00  0.000000e+00  1.000000e+00  \nnperps       -9.900000e+01 -9.900000e+01 -9.900000e+01  2.500000e+04  \nnperpcap      0.000000e+00  0.000000e+00  0.000000e+00  4.060000e+02  \nclaimed       0.000000e+00  0.000000e+00  0.000000e+00  1.000000e+00  \nweaptype1     5.000000e+00  6.000000e+00  6.000000e+00  1.300000e+01  \nweapsubtype1  5.000000e+00  1.400000e+01  1.600000e+01  3.100000e+01  \nnkill         0.000000e+00  0.000000e+00  2.000000e+00  1.385000e+03  \nnkillus       0.000000e+00  0.000000e+00  0.000000e+00  1.361000e+03  \nnkillter      0.000000e+00  0.000000e+00  0.000000e+00  5.000000e+02  \nnwound        0.000000e+00  0.000000e+00  2.000000e+00  1.087800e+04  \nnwoundus      0.000000e+00  0.000000e+00  0.000000e+00  7.510000e+02  \nnwoundte      0.000000e+00  0.000000e+00  0.000000e+00  2.000000e+02  \nproperty      0.000000e+00  0.000000e+00  1.000000e+00  1.000000e+00  \nishostkid     0.000000e+00  0.000000e+00  0.000000e+00  1.000000e+00  \nINT_LOG      -9.000000e+00  0.000000e+00  0.000000e+00  1.000000e+00  \nINT_IDEO     -9.000000e+00  0.000000e+00  0.000000e+00  1.000000e+00  \nINT_MISC      0.000000e+00  0.000000e+00  0.000000e+00  1.000000e+00  \nINT_ANY      -9.000000e+00  0.000000e+00  0.000000e+00  1.000000e+00  ",
      "text/html": "<div>\n<style scoped>\n    .dataframe tbody tr th:only-of-type {\n        vertical-align: middle;\n    }\n\n    .dataframe tbody tr th {\n        vertical-align: top;\n    }\n\n    .dataframe thead th {\n        text-align: right;\n    }\n</style>\n<table border=\"1\" class=\"dataframe\">\n  <thead>\n    <tr style=\"text-align: right;\">\n      <th></th>\n      <th>count</th>\n      <th>mean</th>\n      <th>std</th>\n      <th>min</th>\n      <th>25%</th>\n      <th>50%</th>\n      <th>75%</th>\n      <th>max</th>\n    </tr>\n  </thead>\n  <tbody>\n    <tr>\n      <th>eventid</th>\n      <td>154260.0</td>\n      <td>2.005463e+11</td>\n      <td>1.294940e+09</td>\n      <td>1.970000e+11</td>\n      <td>1.995042e+11</td>\n      <td>2.012022e+11</td>\n      <td>2.015091e+11</td>\n      <td>2.019123e+11</td>\n    </tr>\n    <tr>\n      <th>iyear</th>\n      <td>154260.0</td>\n      <td>2.005397e+03</td>\n      <td>1.294946e+01</td>\n      <td>1.970000e+03</td>\n      <td>1.995000e+03</td>\n      <td>2.012000e+03</td>\n      <td>2.015000e+03</td>\n      <td>2.019000e+03</td>\n    </tr>\n    <tr>\n      <th>imonth</th>\n      <td>154260.0</td>\n      <td>6.443965e+00</td>\n      <td>3.392222e+00</td>\n      <td>0.000000e+00</td>\n      <td>4.000000e+00</td>\n      <td>6.000000e+00</td>\n      <td>9.000000e+00</td>\n      <td>1.200000e+01</td>\n    </tr>\n    <tr>\n      <th>iday</th>\n      <td>154260.0</td>\n      <td>1.553523e+01</td>\n      <td>8.803117e+00</td>\n      <td>0.000000e+00</td>\n      <td>8.000000e+00</td>\n      <td>1.500000e+01</td>\n      <td>2.300000e+01</td>\n      <td>3.100000e+01</td>\n    </tr>\n    <tr>\n      <th>extended</th>\n      <td>154260.0</td>\n      <td>5.527032e-02</td>\n      <td>2.285079e-01</td>\n      <td>0.000000e+00</td>\n      <td>0.000000e+00</td>\n      <td>0.000000e+00</td>\n      <td>0.000000e+00</td>\n      <td>1.000000e+00</td>\n    </tr>\n    <tr>\n      <th>country</th>\n      <td>154260.0</td>\n      <td>1.297654e+02</td>\n      <td>1.116024e+02</td>\n      <td>4.000000e+00</td>\n      <td>7.800000e+01</td>\n      <td>9.700000e+01</td>\n      <td>1.600000e+02</td>\n      <td>1.004000e+03</td>\n    </tr>\n    <tr>\n      <th>region</th>\n      <td>154260.0</td>\n      <td>7.321360e+00</td>\n      <td>2.838782e+00</td>\n      <td>1.000000e+00</td>\n      <td>6.000000e+00</td>\n      <td>8.000000e+00</td>\n      <td>1.000000e+01</td>\n      <td>1.200000e+01</td>\n    </tr>\n    <tr>\n      <th>latitude</th>\n      <td>151329.0</td>\n      <td>2.369732e+01</td>\n      <td>1.798608e+01</td>\n      <td>-5.315461e+01</td>\n      <td>1.184079e+01</td>\n      <td>3.153024e+01</td>\n      <td>3.451689e+01</td>\n      <td>7.463355e+01</td>\n    </tr>\n    <tr>\n      <th>longitude</th>\n      <td>151329.0</td>\n      <td>3.227138e+01</td>\n      <td>5.485520e+01</td>\n      <td>-1.578583e+02</td>\n      <td>9.735686e+00</td>\n      <td>4.414823e+01</td>\n      <td>6.914701e+01</td>\n      <td>1.793667e+02</td>\n    </tr>\n    <tr>\n      <th>specificity</th>\n      <td>154259.0</td>\n      <td>1.447591e+00</td>\n      <td>9.567426e-01</td>\n      <td>1.000000e+00</td>\n      <td>1.000000e+00</td>\n      <td>1.000000e+00</td>\n      <td>1.000000e+00</td>\n      <td>5.000000e+00</td>\n    </tr>\n    <tr>\n      <th>vicinity</th>\n      <td>154260.0</td>\n      <td>6.333463e-02</td>\n      <td>2.803160e-01</td>\n      <td>-9.000000e+00</td>\n      <td>0.000000e+00</td>\n      <td>0.000000e+00</td>\n      <td>0.000000e+00</td>\n      <td>1.000000e+00</td>\n    </tr>\n    <tr>\n      <th>crit1</th>\n      <td>154260.0</td>\n      <td>1.000000e+00</td>\n      <td>0.000000e+00</td>\n      <td>1.000000e+00</td>\n      <td>1.000000e+00</td>\n      <td>1.000000e+00</td>\n      <td>1.000000e+00</td>\n      <td>1.000000e+00</td>\n    </tr>\n    <tr>\n      <th>crit2</th>\n      <td>154260.0</td>\n      <td>1.000000e+00</td>\n      <td>0.000000e+00</td>\n      <td>1.000000e+00</td>\n      <td>1.000000e+00</td>\n      <td>1.000000e+00</td>\n      <td>1.000000e+00</td>\n      <td>1.000000e+00</td>\n    </tr>\n    <tr>\n      <th>crit3</th>\n      <td>154260.0</td>\n      <td>1.000000e+00</td>\n      <td>0.000000e+00</td>\n      <td>1.000000e+00</td>\n      <td>1.000000e+00</td>\n      <td>1.000000e+00</td>\n      <td>1.000000e+00</td>\n      <td>1.000000e+00</td>\n    </tr>\n    <tr>\n      <th>doubtterr</th>\n      <td>154260.0</td>\n      <td>0.000000e+00</td>\n      <td>0.000000e+00</td>\n      <td>0.000000e+00</td>\n      <td>0.000000e+00</td>\n      <td>0.000000e+00</td>\n      <td>0.000000e+00</td>\n      <td>0.000000e+00</td>\n    </tr>\n    <tr>\n      <th>multiple</th>\n      <td>154260.0</td>\n      <td>1.591663e-01</td>\n      <td>3.658323e-01</td>\n      <td>0.000000e+00</td>\n      <td>0.000000e+00</td>\n      <td>0.000000e+00</td>\n      <td>0.000000e+00</td>\n      <td>1.000000e+00</td>\n    </tr>\n    <tr>\n      <th>success</th>\n      <td>154260.0</td>\n      <td>8.796188e-01</td>\n      <td>3.254078e-01</td>\n      <td>0.000000e+00</td>\n      <td>1.000000e+00</td>\n      <td>1.000000e+00</td>\n      <td>1.000000e+00</td>\n      <td>1.000000e+00</td>\n    </tr>\n    <tr>\n      <th>suicide</th>\n      <td>154260.0</td>\n      <td>3.783223e-02</td>\n      <td>1.907910e-01</td>\n      <td>0.000000e+00</td>\n      <td>0.000000e+00</td>\n      <td>0.000000e+00</td>\n      <td>0.000000e+00</td>\n      <td>1.000000e+00</td>\n    </tr>\n    <tr>\n      <th>attacktype1</th>\n      <td>154260.0</td>\n      <td>3.297135e+00</td>\n      <td>1.883847e+00</td>\n      <td>1.000000e+00</td>\n      <td>2.000000e+00</td>\n      <td>3.000000e+00</td>\n      <td>3.000000e+00</td>\n      <td>9.000000e+00</td>\n    </tr>\n    <tr>\n      <th>targtype1</th>\n      <td>154260.0</td>\n      <td>9.208868e+00</td>\n      <td>6.863902e+00</td>\n      <td>1.000000e+00</td>\n      <td>2.000000e+00</td>\n      <td>8.000000e+00</td>\n      <td>1.400000e+01</td>\n      <td>2.200000e+01</td>\n    </tr>\n    <tr>\n      <th>targsubtype1</th>\n      <td>144441.0</td>\n      <td>4.971954e+01</td>\n      <td>3.226108e+01</td>\n      <td>1.000000e+00</td>\n      <td>2.100000e+01</td>\n      <td>4.900000e+01</td>\n      <td>7.500000e+01</td>\n      <td>1.130000e+02</td>\n    </tr>\n    <tr>\n      <th>natlty1</th>\n      <td>152648.0</td>\n      <td>1.245101e+02</td>\n      <td>8.833998e+01</td>\n      <td>4.000000e+00</td>\n      <td>8.800000e+01</td>\n      <td>9.700000e+01</td>\n      <td>1.620000e+02</td>\n      <td>1.004000e+03</td>\n    </tr>\n    <tr>\n      <th>guncertain1</th>\n      <td>154007.0</td>\n      <td>8.788562e-02</td>\n      <td>2.831294e-01</td>\n      <td>0.000000e+00</td>\n      <td>0.000000e+00</td>\n      <td>0.000000e+00</td>\n      <td>0.000000e+00</td>\n      <td>1.000000e+00</td>\n    </tr>\n    <tr>\n      <th>individual</th>\n      <td>154260.0</td>\n      <td>3.571892e-03</td>\n      <td>5.965866e-02</td>\n      <td>0.000000e+00</td>\n      <td>0.000000e+00</td>\n      <td>0.000000e+00</td>\n      <td>0.000000e+00</td>\n      <td>1.000000e+00</td>\n    </tr>\n    <tr>\n      <th>nperps</th>\n      <td>106566.0</td>\n      <td>-7.168482e+01</td>\n      <td>1.173729e+02</td>\n      <td>-9.900000e+01</td>\n      <td>-9.900000e+01</td>\n      <td>-9.900000e+01</td>\n      <td>-9.900000e+01</td>\n      <td>2.500000e+04</td>\n    </tr>\n    <tr>\n      <th>nperpcap</th>\n      <td>109400.0</td>\n      <td>-1.418537e+00</td>\n      <td>1.246157e+01</td>\n      <td>-9.900000e+01</td>\n      <td>0.000000e+00</td>\n      <td>0.000000e+00</td>\n      <td>0.000000e+00</td>\n      <td>4.060000e+02</td>\n    </tr>\n    <tr>\n      <th>claimed</th>\n      <td>112225.0</td>\n      <td>6.696369e-02</td>\n      <td>1.017086e+00</td>\n      <td>-9.000000e+00</td>\n      <td>0.000000e+00</td>\n      <td>0.000000e+00</td>\n      <td>0.000000e+00</td>\n      <td>1.000000e+00</td>\n    </tr>\n    <tr>\n      <th>weaptype1</th>\n      <td>154260.0</td>\n      <td>6.433586e+00</td>\n      <td>2.115272e+00</td>\n      <td>1.000000e+00</td>\n      <td>5.000000e+00</td>\n      <td>6.000000e+00</td>\n      <td>6.000000e+00</td>\n      <td>1.300000e+01</td>\n    </tr>\n    <tr>\n      <th>weapsubtype1</th>\n      <td>139077.0</td>\n      <td>1.166391e+01</td>\n      <td>6.388181e+00</td>\n      <td>1.000000e+00</td>\n      <td>5.000000e+00</td>\n      <td>1.400000e+01</td>\n      <td>1.600000e+01</td>\n      <td>3.100000e+01</td>\n    </tr>\n    <tr>\n      <th>nkill</th>\n      <td>146375.0</td>\n      <td>2.240724e+00</td>\n      <td>1.061385e+01</td>\n      <td>0.000000e+00</td>\n      <td>0.000000e+00</td>\n      <td>0.000000e+00</td>\n      <td>2.000000e+00</td>\n      <td>1.385000e+03</td>\n    </tr>\n    <tr>\n      <th>nkillus</th>\n      <td>113304.0</td>\n      <td>3.890419e-02</td>\n      <td>5.734873e+00</td>\n      <td>0.000000e+00</td>\n      <td>0.000000e+00</td>\n      <td>0.000000e+00</td>\n      <td>0.000000e+00</td>\n      <td>1.361000e+03</td>\n    </tr>\n    <tr>\n      <th>nkillter</th>\n      <td>111401.0</td>\n      <td>3.831384e-01</td>\n      <td>3.575579e+00</td>\n      <td>0.000000e+00</td>\n      <td>0.000000e+00</td>\n      <td>0.000000e+00</td>\n      <td>0.000000e+00</td>\n      <td>5.000000e+02</td>\n    </tr>\n    <tr>\n      <th>nwound</th>\n      <td>141493.0</td>\n      <td>3.460419e+00</td>\n      <td>4.711556e+01</td>\n      <td>0.000000e+00</td>\n      <td>0.000000e+00</td>\n      <td>0.000000e+00</td>\n      <td>2.000000e+00</td>\n      <td>1.087800e+04</td>\n    </tr>\n    <tr>\n      <th>nwoundus</th>\n      <td>113114.0</td>\n      <td>3.012890e-02</td>\n      <td>3.028813e+00</td>\n      <td>0.000000e+00</td>\n      <td>0.000000e+00</td>\n      <td>0.000000e+00</td>\n      <td>0.000000e+00</td>\n      <td>7.510000e+02</td>\n    </tr>\n    <tr>\n      <th>nwoundte</th>\n      <td>109804.0</td>\n      <td>9.158136e-02</td>\n      <td>1.327624e+00</td>\n      <td>0.000000e+00</td>\n      <td>0.000000e+00</td>\n      <td>0.000000e+00</td>\n      <td>0.000000e+00</td>\n      <td>2.000000e+02</td>\n    </tr>\n    <tr>\n      <th>property</th>\n      <td>154260.0</td>\n      <td>-7.592830e-01</td>\n      <td>3.344702e+00</td>\n      <td>-9.000000e+00</td>\n      <td>0.000000e+00</td>\n      <td>0.000000e+00</td>\n      <td>1.000000e+00</td>\n      <td>1.000000e+00</td>\n    </tr>\n    <tr>\n      <th>ishostkid</th>\n      <td>154099.0</td>\n      <td>6.099326e-02</td>\n      <td>5.311594e-01</td>\n      <td>-9.000000e+00</td>\n      <td>0.000000e+00</td>\n      <td>0.000000e+00</td>\n      <td>0.000000e+00</td>\n      <td>1.000000e+00</td>\n    </tr>\n    <tr>\n      <th>INT_LOG</th>\n      <td>154260.0</td>\n      <td>-4.337346e+00</td>\n      <td>4.543532e+00</td>\n      <td>-9.000000e+00</td>\n      <td>-9.000000e+00</td>\n      <td>0.000000e+00</td>\n      <td>0.000000e+00</td>\n      <td>1.000000e+00</td>\n    </tr>\n    <tr>\n      <th>INT_IDEO</th>\n      <td>154260.0</td>\n      <td>-4.256016e+00</td>\n      <td>4.636218e+00</td>\n      <td>-9.000000e+00</td>\n      <td>-9.000000e+00</td>\n      <td>0.000000e+00</td>\n      <td>0.000000e+00</td>\n      <td>1.000000e+00</td>\n    </tr>\n    <tr>\n      <th>INT_MISC</th>\n      <td>154260.0</td>\n      <td>8.191365e-02</td>\n      <td>4.890290e-01</td>\n      <td>-9.000000e+00</td>\n      <td>0.000000e+00</td>\n      <td>0.000000e+00</td>\n      <td>0.000000e+00</td>\n      <td>1.000000e+00</td>\n    </tr>\n    <tr>\n      <th>INT_ANY</th>\n      <td>154260.0</td>\n      <td>-3.853708e+00</td>\n      <td>4.669238e+00</td>\n      <td>-9.000000e+00</td>\n      <td>-9.000000e+00</td>\n      <td>0.000000e+00</td>\n      <td>0.000000e+00</td>\n      <td>1.000000e+00</td>\n    </tr>\n  </tbody>\n</table>\n</div>"
     },
     "execution_count": 13,
     "metadata": {},
     "output_type": "execute_result"
    }
   ],
   "source": [
    "df.describe(include=\"number\").T"
   ],
   "metadata": {
    "collapsed": false,
    "pycharm": {
     "name": "#%%\n"
    }
   }
  },
  {
   "cell_type": "code",
   "execution_count": 15,
   "outputs": [
    {
     "name": "stdout",
     "output_type": "stream",
     "text": [
      "<class 'pandas.core.frame.DataFrame'>\n",
      "Int64Index: 154260 entries, 0 to 201182\n",
      "Data columns (total 58 columns):\n",
      " #   Column            Non-Null Count   Dtype  \n",
      "---  ------            --------------   -----  \n",
      " 0   eventid           154260 non-null  int64  \n",
      " 1   iyear             154260 non-null  int64  \n",
      " 2   imonth            154260 non-null  int64  \n",
      " 3   iday              154260 non-null  int64  \n",
      " 4   extended          154260 non-null  int64  \n",
      " 5   country           154260 non-null  int64  \n",
      " 6   country_txt       154260 non-null  object \n",
      " 7   region            154260 non-null  int64  \n",
      " 8   region_txt        154260 non-null  object \n",
      " 9   provstate         154260 non-null  object \n",
      " 10  city              153874 non-null  object \n",
      " 11  latitude          151329 non-null  float64\n",
      " 12  longitude         151329 non-null  float64\n",
      " 13  specificity       154259 non-null  float64\n",
      " 14  vicinity          154260 non-null  int64  \n",
      " 15  summary           112205 non-null  object \n",
      " 16  crit1             154260 non-null  int64  \n",
      " 17  crit2             154260 non-null  int64  \n",
      " 18  crit3             154260 non-null  int64  \n",
      " 19  doubtterr         154260 non-null  int64  \n",
      " 20  multiple          154260 non-null  int64  \n",
      " 21  success           154260 non-null  int64  \n",
      " 22  suicide           154260 non-null  int64  \n",
      " 23  attacktype1       154260 non-null  int64  \n",
      " 24  attacktype1_txt   154260 non-null  object \n",
      " 25  targtype1         154260 non-null  int64  \n",
      " 26  targtype1_txt     154260 non-null  object \n",
      " 27  targsubtype1      144441 non-null  float64\n",
      " 28  targsubtype1_txt  144441 non-null  object \n",
      " 29  corp1             123010 non-null  object \n",
      " 30  target1           153807 non-null  object \n",
      " 31  natlty1           152648 non-null  float64\n",
      " 32  natlty1_txt       152648 non-null  object \n",
      " 33  gname             154260 non-null  object \n",
      " 34  guncertain1       154007 non-null  float64\n",
      " 35  individual        154260 non-null  int64  \n",
      " 36  nperps            106566 non-null  float64\n",
      " 37  nperpcap          109400 non-null  float64\n",
      " 38  claimed           112225 non-null  float64\n",
      " 39  weaptype1         154260 non-null  int64  \n",
      " 40  weaptype1_txt     154260 non-null  object \n",
      " 41  weapsubtype1      139077 non-null  float64\n",
      " 42  weapsubtype1_txt  139077 non-null  object \n",
      " 43  weapdetail        90443 non-null   object \n",
      " 44  nkill             146375 non-null  float64\n",
      " 45  nkillus           113304 non-null  float64\n",
      " 46  nkillter          111401 non-null  float64\n",
      " 47  nwound            141493 non-null  float64\n",
      " 48  nwoundus          113114 non-null  float64\n",
      " 49  nwoundte          109804 non-null  float64\n",
      " 50  property          154260 non-null  int64  \n",
      " 51  ishostkid         154099 non-null  float64\n",
      " 52  scite1            112146 non-null  object \n",
      " 53  dbsource          154260 non-null  object \n",
      " 54  INT_LOG           154260 non-null  int64  \n",
      " 55  INT_IDEO          154260 non-null  int64  \n",
      " 56  INT_MISC          154260 non-null  int64  \n",
      " 57  INT_ANY           154260 non-null  int64  \n",
      "dtypes: float64(17), int64(24), object(17)\n",
      "memory usage: 69.4+ MB\n"
     ]
    }
   ],
   "source": [
    "df.info()"
   ],
   "metadata": {
    "collapsed": false,
    "pycharm": {
     "name": "#%%\n"
    }
   }
  },
  {
   "cell_type": "code",
   "execution_count": 14,
   "outputs": [
    {
     "data": {
      "text/plain": "                   count  unique  \\\ncountry_txt       154260     202   \nregion_txt        154260      12   \nprovstate         154260    2380   \ncity              153874   34443   \nsummary           112205  109189   \nattacktype1_txt   154260       9   \ntargtype1_txt     154260      22   \ntargsubtype1_txt  144441     112   \ncorp1             123010   32224   \ntarget1           153807   73022   \nnatlty1_txt       152648     209   \ngname             154260    3247   \nweaptype1_txt     154260      12   \nweapsubtype1_txt  139077      30   \nweapdetail         90443   17695   \nscite1            112146   82381   \ndbsource          154260      26   \n\n                                                                top   freq  \ncountry_txt                                                    Iraq  23407  \nregion_txt                               Middle East & North Africa  43858  \nprovstate                                                   Baghdad   7563  \ncity                                                        Unknown   7594  \nsummary           09/00/2016: Sometime between September 18, 201...    100  \nattacktype1_txt                                   Bombing/Explosion  79879  \ntargtype1_txt                           Private Citizens & Property  43145  \ntargsubtype1_txt                       Unnamed Civilian/Unspecified  11599  \ncorp1                                                       Unknown  18458  \ntarget1                                                   Civilians   7489  \nnatlty1_txt                                                    Iraq  23077  \ngname                                                       Unknown  67028  \nweaptype1_txt                                            Explosives  83719  \nweapsubtype1_txt                             Unknown Explosive Type  40012  \nweapdetail                                                Explosive  16854  \nscite1            Committee on Government Operations United Stat...    155  \ndbsource                                   START Primary Collection  78840  ",
      "text/html": "<div>\n<style scoped>\n    .dataframe tbody tr th:only-of-type {\n        vertical-align: middle;\n    }\n\n    .dataframe tbody tr th {\n        vertical-align: top;\n    }\n\n    .dataframe thead th {\n        text-align: right;\n    }\n</style>\n<table border=\"1\" class=\"dataframe\">\n  <thead>\n    <tr style=\"text-align: right;\">\n      <th></th>\n      <th>count</th>\n      <th>unique</th>\n      <th>top</th>\n      <th>freq</th>\n    </tr>\n  </thead>\n  <tbody>\n    <tr>\n      <th>country_txt</th>\n      <td>154260</td>\n      <td>202</td>\n      <td>Iraq</td>\n      <td>23407</td>\n    </tr>\n    <tr>\n      <th>region_txt</th>\n      <td>154260</td>\n      <td>12</td>\n      <td>Middle East &amp; North Africa</td>\n      <td>43858</td>\n    </tr>\n    <tr>\n      <th>provstate</th>\n      <td>154260</td>\n      <td>2380</td>\n      <td>Baghdad</td>\n      <td>7563</td>\n    </tr>\n    <tr>\n      <th>city</th>\n      <td>153874</td>\n      <td>34443</td>\n      <td>Unknown</td>\n      <td>7594</td>\n    </tr>\n    <tr>\n      <th>summary</th>\n      <td>112205</td>\n      <td>109189</td>\n      <td>09/00/2016: Sometime between September 18, 201...</td>\n      <td>100</td>\n    </tr>\n    <tr>\n      <th>attacktype1_txt</th>\n      <td>154260</td>\n      <td>9</td>\n      <td>Bombing/Explosion</td>\n      <td>79879</td>\n    </tr>\n    <tr>\n      <th>targtype1_txt</th>\n      <td>154260</td>\n      <td>22</td>\n      <td>Private Citizens &amp; Property</td>\n      <td>43145</td>\n    </tr>\n    <tr>\n      <th>targsubtype1_txt</th>\n      <td>144441</td>\n      <td>112</td>\n      <td>Unnamed Civilian/Unspecified</td>\n      <td>11599</td>\n    </tr>\n    <tr>\n      <th>corp1</th>\n      <td>123010</td>\n      <td>32224</td>\n      <td>Unknown</td>\n      <td>18458</td>\n    </tr>\n    <tr>\n      <th>target1</th>\n      <td>153807</td>\n      <td>73022</td>\n      <td>Civilians</td>\n      <td>7489</td>\n    </tr>\n    <tr>\n      <th>natlty1_txt</th>\n      <td>152648</td>\n      <td>209</td>\n      <td>Iraq</td>\n      <td>23077</td>\n    </tr>\n    <tr>\n      <th>gname</th>\n      <td>154260</td>\n      <td>3247</td>\n      <td>Unknown</td>\n      <td>67028</td>\n    </tr>\n    <tr>\n      <th>weaptype1_txt</th>\n      <td>154260</td>\n      <td>12</td>\n      <td>Explosives</td>\n      <td>83719</td>\n    </tr>\n    <tr>\n      <th>weapsubtype1_txt</th>\n      <td>139077</td>\n      <td>30</td>\n      <td>Unknown Explosive Type</td>\n      <td>40012</td>\n    </tr>\n    <tr>\n      <th>weapdetail</th>\n      <td>90443</td>\n      <td>17695</td>\n      <td>Explosive</td>\n      <td>16854</td>\n    </tr>\n    <tr>\n      <th>scite1</th>\n      <td>112146</td>\n      <td>82381</td>\n      <td>Committee on Government Operations United Stat...</td>\n      <td>155</td>\n    </tr>\n    <tr>\n      <th>dbsource</th>\n      <td>154260</td>\n      <td>26</td>\n      <td>START Primary Collection</td>\n      <td>78840</td>\n    </tr>\n  </tbody>\n</table>\n</div>"
     },
     "execution_count": 14,
     "metadata": {},
     "output_type": "execute_result"
    }
   ],
   "source": [
    "df.describe(exclude=\"number\").T"
   ],
   "metadata": {
    "collapsed": false,
    "pycharm": {
     "name": "#%%\n"
    }
   }
  },
  {
   "cell_type": "code",
   "execution_count": 30,
   "outputs": [
    {
     "data": {
      "text/plain": "Index(['eventid', 'iyear', 'imonth', 'iday', 'extended', 'country',\n       'country_txt', 'region', 'region_txt', 'provstate', 'city', 'latitude',\n       'longitude', 'specificity', 'vicinity', 'summary', 'crit1', 'crit2',\n       'crit3', 'doubtterr', 'multiple', 'success', 'suicide', 'attacktype1',\n       'attacktype1_txt', 'targtype1', 'targtype1_txt', 'targsubtype1',\n       'targsubtype1_txt', 'corp1', 'target1', 'natlty1', 'natlty1_txt',\n       'gname', 'guncertain1', 'individual', 'nperps', 'nperpcap', 'claimed',\n       'weaptype1', 'weaptype1_txt', 'weapsubtype1', 'weapsubtype1_txt',\n       'weapdetail', 'nkill', 'nkillus', 'nkillter', 'nwound', 'nwoundus',\n       'nwoundte', 'property', 'ishostkid', 'scite1', 'dbsource', 'INT_LOG',\n       'INT_IDEO', 'INT_MISC', 'INT_ANY'],\n      dtype='object')"
     },
     "execution_count": 30,
     "metadata": {},
     "output_type": "execute_result"
    }
   ],
   "source": [
    "df.columns"
   ],
   "metadata": {
    "collapsed": false,
    "pycharm": {
     "name": "#%%\n"
    }
   }
  },
  {
   "cell_type": "code",
   "execution_count": 16,
   "outputs": [],
   "source": [
    "# Usunięcie i zamiana niespójnie wprowadzonych danych\n",
    "df.nperps = df.nperps.apply(lambda x: -99 if x == -9 else x)\n",
    "df.nperpcap = df.nperpcap.apply(lambda x: -99 if x == -9 else x)\n",
    "\n",
    "# usuniecie wartości pustych\n",
    "df.dropna(subset=[\"nkill\", \"nwound\"], inplace=True)\n",
    "df.dropna(subset=[\"latitude\", \"longitude\"], inplace=True)\n",
    "# wypełnienie wartosci pustych zerami\n",
    "df[\"nkillter\"].fillna(0, inplace=True)\n",
    "df[\"nwoundte\"].fillna(0, inplace=True)\n",
    "# usunięcie z ogólnej liczby zgonów/rannych terrorystów\n",
    "df[\"nkill\"] = df[\"nkill\"] - df[\"nkillter\"]\n",
    "df[\"nwound\"] = df[\"nwound\"] - df[\"nwoundte\"]\n",
    "# Utworzenie kolumn z sumaryczną liczba zgonów i ofiar oraz klasy zerojedynkowej.\n",
    "df[\"ncasualties\"] = df[\"nkill\"] + df[\"nwound\"]\n",
    "df[\"cas_class\"] = df[\"ncasualties\"].apply(lambda x: 0 if x == 0 else 1)"
   ],
   "metadata": {
    "collapsed": false,
    "pycharm": {
     "name": "#%%\n"
    }
   }
  },
  {
   "cell_type": "markdown",
   "source": [],
   "metadata": {
    "collapsed": false,
    "pycharm": {
     "name": "#%% md\n"
    }
   }
  },
  {
   "cell_type": "code",
   "execution_count": 17,
   "outputs": [
    {
     "data": {
      "text/plain": "(138513, 60)"
     },
     "execution_count": 17,
     "metadata": {},
     "output_type": "execute_result"
    }
   ],
   "source": [
    "df.shape"
   ],
   "metadata": {
    "collapsed": false,
    "pycharm": {
     "name": "#%%\n"
    }
   }
  },
  {
   "cell_type": "code",
   "execution_count": 33,
   "outputs": [],
   "source": [
    "df.to_csv(\"../data/interm/globalterrordb.csv\")"
   ],
   "metadata": {
    "collapsed": false,
    "pycharm": {
     "name": "#%%\n"
    }
   }
  }
 ],
 "metadata": {
  "kernelspec": {
   "display_name": "Python 3",
   "language": "python",
   "name": "python3"
  },
  "language_info": {
   "codemirror_mode": {
    "name": "ipython",
    "version": 2
   },
   "file_extension": ".py",
   "mimetype": "text/x-python",
   "name": "python",
   "nbconvert_exporter": "python",
   "pygments_lexer": "ipython2",
   "version": "2.7.6"
  }
 },
 "nbformat": 4,
 "nbformat_minor": 0
}