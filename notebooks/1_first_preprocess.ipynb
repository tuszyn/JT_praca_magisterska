{
 "cells": [
  {
   "cell_type": "code",
   "execution_count": 2,
   "metadata": {
    "collapsed": true,
    "pycharm": {
     "name": "#%%\n"
    }
   },
   "outputs": [],
   "source": [
    "import warnings\n",
    "\n",
    "import pandas as pd\n",
    "\n",
    "warnings.filterwarnings('ignore')"
   ]
  },
  {
   "cell_type": "code",
   "execution_count": 16,
   "outputs": [],
   "source": [
    "\n",
    "change_dtype = {5: str, 32: \"category\", 34: \"category\", 55: str, 62: str, 63: str, 64: str, 77: \"category\",\n",
    "                80: \"category\", 91: \"category\", 93: \"category\", 95: \"category\", 97: str, 115: str, 116: \"category\",\n",
    "                122: \"category\"}\n",
    "\n",
    "df: pd.DataFrame = pd.read_csv(\"../data/raw/globalterrorismdb_0221dist.csv\", index_col=0, dtype=change_dtype)"
   ],
   "metadata": {
    "collapsed": false,
    "pycharm": {
     "name": "#%%\n"
    }
   }
  },
  {
   "cell_type": "code",
   "execution_count": 17,
   "outputs": [
    {
     "data": {
      "text/plain": "(201183, 135)"
     },
     "execution_count": 17,
     "metadata": {},
     "output_type": "execute_result"
    }
   ],
   "source": [
    "df.shape"
   ],
   "metadata": {
    "collapsed": false,
    "pycharm": {
     "name": "#%%\n"
    }
   }
  },
  {
   "cell_type": "code",
   "execution_count": 5,
   "outputs": [
    {
     "data": {
      "text/plain": "               count unique  \\\neventid     201183.0    NaN   \niyear       201183.0    NaN   \nimonth      201183.0    NaN   \niday        201183.0    NaN   \napproxdate     11754   2946   \n...              ...    ...   \nINT_LOG     201183.0    NaN   \nINT_IDEO    201183.0    NaN   \nINT_MISC    201183.0    NaN   \nINT_ANY     201183.0    NaN   \nrelated        28914   8771   \n\n                                                          top freq  \\\neventid                                                   NaN  NaN   \niyear                                                     NaN  NaN   \nimonth                                                    NaN  NaN   \niday                                                      NaN  NaN   \napproxdate                              September 18-24, 2016  101   \n...                                                       ...  ...   \nINT_LOG                                                   NaN  NaN   \nINT_IDEO                                                  NaN  NaN   \nINT_MISC                                                  NaN  NaN   \nINT_ANY                                                   NaN  NaN   \nrelated     201612010023, 201612010024, 201612010025, 2016...   80   \n\n                           mean                std             min  \\\neventid     200422456548.324463  1342944201.424622  197000000001.0   \niyear               2004.158478          13.429481          1970.0   \nimonth                 6.451678           3.387376             0.0   \niday                  15.520983           8.808477             0.0   \napproxdate                  NaN                NaN             NaN   \n...                         ...                ...             ...   \nINT_LOG                -4.45893           4.543925            -9.0   \nINT_IDEO              -4.374699            4.64054            -9.0   \nINT_MISC               0.087746           0.545811            -9.0   \nINT_ANY               -3.878002           4.682635            -9.0   \nrelated                     NaN                NaN             NaN   \n\n                       25%             50%             75%             max  \neventid     199202240012.5  201103080007.0  201507170012.5  201912310033.0  \niyear               1992.0          2011.0          2015.0          2019.0  \nimonth                 4.0             6.0             9.0            12.0  \niday                   8.0            15.0            23.0            31.0  \napproxdate             NaN             NaN             NaN             NaN  \n...                    ...             ...             ...             ...  \nINT_LOG               -9.0             0.0             0.0             1.0  \nINT_IDEO              -9.0            -9.0             0.0             1.0  \nINT_MISC               0.0             0.0             0.0             1.0  \nINT_ANY               -9.0             0.0             0.0             1.0  \nrelated                NaN             NaN             NaN             NaN  \n\n[135 rows x 11 columns]",
      "text/html": "<div>\n<style scoped>\n    .dataframe tbody tr th:only-of-type {\n        vertical-align: middle;\n    }\n\n    .dataframe tbody tr th {\n        vertical-align: top;\n    }\n\n    .dataframe thead th {\n        text-align: right;\n    }\n</style>\n<table border=\"1\" class=\"dataframe\">\n  <thead>\n    <tr style=\"text-align: right;\">\n      <th></th>\n      <th>count</th>\n      <th>unique</th>\n      <th>top</th>\n      <th>freq</th>\n      <th>mean</th>\n      <th>std</th>\n      <th>min</th>\n      <th>25%</th>\n      <th>50%</th>\n      <th>75%</th>\n      <th>max</th>\n    </tr>\n  </thead>\n  <tbody>\n    <tr>\n      <th>eventid</th>\n      <td>201183.0</td>\n      <td>NaN</td>\n      <td>NaN</td>\n      <td>NaN</td>\n      <td>200422456548.324463</td>\n      <td>1342944201.424622</td>\n      <td>197000000001.0</td>\n      <td>199202240012.5</td>\n      <td>201103080007.0</td>\n      <td>201507170012.5</td>\n      <td>201912310033.0</td>\n    </tr>\n    <tr>\n      <th>iyear</th>\n      <td>201183.0</td>\n      <td>NaN</td>\n      <td>NaN</td>\n      <td>NaN</td>\n      <td>2004.158478</td>\n      <td>13.429481</td>\n      <td>1970.0</td>\n      <td>1992.0</td>\n      <td>2011.0</td>\n      <td>2015.0</td>\n      <td>2019.0</td>\n    </tr>\n    <tr>\n      <th>imonth</th>\n      <td>201183.0</td>\n      <td>NaN</td>\n      <td>NaN</td>\n      <td>NaN</td>\n      <td>6.451678</td>\n      <td>3.387376</td>\n      <td>0.0</td>\n      <td>4.0</td>\n      <td>6.0</td>\n      <td>9.0</td>\n      <td>12.0</td>\n    </tr>\n    <tr>\n      <th>iday</th>\n      <td>201183.0</td>\n      <td>NaN</td>\n      <td>NaN</td>\n      <td>NaN</td>\n      <td>15.520983</td>\n      <td>8.808477</td>\n      <td>0.0</td>\n      <td>8.0</td>\n      <td>15.0</td>\n      <td>23.0</td>\n      <td>31.0</td>\n    </tr>\n    <tr>\n      <th>approxdate</th>\n      <td>11754</td>\n      <td>2946</td>\n      <td>September 18-24, 2016</td>\n      <td>101</td>\n      <td>NaN</td>\n      <td>NaN</td>\n      <td>NaN</td>\n      <td>NaN</td>\n      <td>NaN</td>\n      <td>NaN</td>\n      <td>NaN</td>\n    </tr>\n    <tr>\n      <th>...</th>\n      <td>...</td>\n      <td>...</td>\n      <td>...</td>\n      <td>...</td>\n      <td>...</td>\n      <td>...</td>\n      <td>...</td>\n      <td>...</td>\n      <td>...</td>\n      <td>...</td>\n      <td>...</td>\n    </tr>\n    <tr>\n      <th>INT_LOG</th>\n      <td>201183.0</td>\n      <td>NaN</td>\n      <td>NaN</td>\n      <td>NaN</td>\n      <td>-4.45893</td>\n      <td>4.543925</td>\n      <td>-9.0</td>\n      <td>-9.0</td>\n      <td>0.0</td>\n      <td>0.0</td>\n      <td>1.0</td>\n    </tr>\n    <tr>\n      <th>INT_IDEO</th>\n      <td>201183.0</td>\n      <td>NaN</td>\n      <td>NaN</td>\n      <td>NaN</td>\n      <td>-4.374699</td>\n      <td>4.64054</td>\n      <td>-9.0</td>\n      <td>-9.0</td>\n      <td>-9.0</td>\n      <td>0.0</td>\n      <td>1.0</td>\n    </tr>\n    <tr>\n      <th>INT_MISC</th>\n      <td>201183.0</td>\n      <td>NaN</td>\n      <td>NaN</td>\n      <td>NaN</td>\n      <td>0.087746</td>\n      <td>0.545811</td>\n      <td>-9.0</td>\n      <td>0.0</td>\n      <td>0.0</td>\n      <td>0.0</td>\n      <td>1.0</td>\n    </tr>\n    <tr>\n      <th>INT_ANY</th>\n      <td>201183.0</td>\n      <td>NaN</td>\n      <td>NaN</td>\n      <td>NaN</td>\n      <td>-3.878002</td>\n      <td>4.682635</td>\n      <td>-9.0</td>\n      <td>-9.0</td>\n      <td>0.0</td>\n      <td>0.0</td>\n      <td>1.0</td>\n    </tr>\n    <tr>\n      <th>related</th>\n      <td>28914</td>\n      <td>8771</td>\n      <td>201612010023, 201612010024, 201612010025, 2016...</td>\n      <td>80</td>\n      <td>NaN</td>\n      <td>NaN</td>\n      <td>NaN</td>\n      <td>NaN</td>\n      <td>NaN</td>\n      <td>NaN</td>\n      <td>NaN</td>\n    </tr>\n  </tbody>\n</table>\n<p>135 rows × 11 columns</p>\n</div>"
     },
     "execution_count": 5,
     "metadata": {},
     "output_type": "execute_result"
    }
   ],
   "source": [
    "df.describe(include=\"all\").T"
   ],
   "metadata": {
    "collapsed": false,
    "pycharm": {
     "name": "#%%\n"
    }
   }
  },
  {
   "cell_type": "code",
   "execution_count": 18,
   "outputs": [],
   "source": [
    "# filtrowanie kolumn i wyrzucenie tych w których większość wierszy jest pusta\n",
    "df = df[(df.crit1 == 1) & (df.crit2 == 1) & (df.crit3 == 1) & (df.doubtterr == 0)]\n",
    "df.dropna(axis=1, thresh=int(0.5 * df.shape[0]), inplace=True)"
   ],
   "metadata": {
    "collapsed": false,
    "pycharm": {
     "name": "#%%\n"
    }
   }
  },
  {
   "cell_type": "code",
   "execution_count": 9,
   "outputs": [
    {
     "data": {
      "text/plain": "Index(['eventid', 'iyear', 'imonth', 'iday', 'extended', 'country',\n       'country_txt', 'region', 'region_txt', 'provstate', 'city', 'latitude',\n       'longitude', 'specificity', 'vicinity', 'summary', 'crit1', 'crit2',\n       'crit3', 'doubtterr', 'multiple', 'success', 'suicide', 'attacktype1',\n       'attacktype1_txt', 'targtype1', 'targtype1_txt', 'targsubtype1',\n       'targsubtype1_txt', 'corp1', 'target1', 'natlty1', 'natlty1_txt',\n       'gname', 'guncertain1', 'individual', 'nperps', 'nperpcap', 'claimed',\n       'weaptype1', 'weaptype1_txt', 'weapsubtype1', 'weapsubtype1_txt',\n       'weapdetail', 'nkill', 'nkillus', 'nkillter', 'nwound', 'nwoundus',\n       'nwoundte', 'property', 'ishostkid', 'scite1', 'dbsource', 'INT_LOG',\n       'INT_IDEO', 'INT_MISC', 'INT_ANY'],\n      dtype='object')"
     },
     "execution_count": 9,
     "metadata": {},
     "output_type": "execute_result"
    }
   ],
   "source": [
    "df.columns"
   ],
   "metadata": {
    "collapsed": false,
    "pycharm": {
     "name": "#%%\n"
    }
   }
  },
  {
   "cell_type": "code",
   "execution_count": 19,
   "outputs": [],
   "source": [
    "# Usunięcie i zamiana niespójnie wprowadzonych danych\n",
    "df.nperps = df.nperps.apply(lambda x: -99 if x == -9 else x)\n",
    "df.nperpcap = df.nperpcap.apply(lambda x: -99 if x == -9 else x)\n",
    "\n",
    "# usuniecie wartości pustych z kolumn docelowych\n",
    "df.dropna(subset=[\"nkill\", \"nwound\"], inplace=True)\n",
    "# wypełnienie wartosci pustych zerami\n",
    "df[\"nkillter\"].fillna(0, inplace=True)\n",
    "df[\"nwoundte\"].fillna(0, inplace=True)\n",
    "# usunięcie z ogólnej liczby zgonów/rannych terrorystów\n",
    "df[\"nkill\"] = df[\"nkill\"] - df[\"nkillter\"]\n",
    "df[\"nwound\"] = df[\"nwound\"] - df[\"nwoundte\"]\n",
    "# Utworzenie kolumn z sumaryczną liczba zgonów i ofiar oraz klasy zerojedynkowej.\n",
    "df[\"ncasualties\"] = df[\"nkill\"] + df[\"nwound\"]\n",
    "df[\"cas_class\"] = df[\"ncasualties\"].apply(lambda x: 0 if x == 0 else 1)"
   ],
   "metadata": {
    "collapsed": false,
    "pycharm": {
     "name": "#%%\n"
    }
   }
  },
  {
   "cell_type": "markdown",
   "source": [],
   "metadata": {
    "collapsed": false,
    "pycharm": {
     "name": "#%% md\n"
    }
   }
  },
  {
   "cell_type": "code",
   "execution_count": 21,
   "outputs": [
    {
     "data": {
      "text/plain": "(141051, 60)"
     },
     "execution_count": 21,
     "metadata": {},
     "output_type": "execute_result"
    }
   ],
   "source": [
    "df.shape"
   ],
   "metadata": {
    "collapsed": false,
    "pycharm": {
     "name": "#%%\n"
    }
   }
  },
  {
   "cell_type": "code",
   "execution_count": 22,
   "outputs": [],
   "source": [
    "df.to_csv(\"../data/interm/globalterrordb.csv\")"
   ],
   "metadata": {
    "collapsed": false,
    "pycharm": {
     "name": "#%%\n"
    }
   }
  }
 ],
 "metadata": {
  "kernelspec": {
   "display_name": "Python 3",
   "language": "python",
   "name": "python3"
  },
  "language_info": {
   "codemirror_mode": {
    "name": "ipython",
    "version": 2
   },
   "file_extension": ".py",
   "mimetype": "text/x-python",
   "name": "python",
   "nbconvert_exporter": "python",
   "pygments_lexer": "ipython2",
   "version": "2.7.6"
  }
 },
 "nbformat": 4,
 "nbformat_minor": 0
}